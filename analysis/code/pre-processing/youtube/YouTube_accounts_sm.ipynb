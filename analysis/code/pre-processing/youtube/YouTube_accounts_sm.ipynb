{
 "cells": [
  {
   "cell_type": "markdown",
   "id": "7791bc4c",
   "metadata": {},
   "source": [
    "# (0) 필요한 모듈"
   ]
  },
  {
   "cell_type": "code",
   "execution_count": 18,
   "id": "c117a8f7",
   "metadata": {
    "scrolled": true
   },
   "outputs": [
    {
     "name": "stdout",
     "output_type": "stream",
     "text": [
      "Requirement already satisfied: google-api-python-client in /Users/yusolcho/opt/anaconda3/lib/python3.9/site-packages (2.94.0)\n",
      "Requirement already satisfied: uritemplate<5,>=3.0.1 in /Users/yusolcho/opt/anaconda3/lib/python3.9/site-packages (from google-api-python-client) (4.1.1)\n",
      "Requirement already satisfied: httplib2<1.dev0,>=0.15.0 in /Users/yusolcho/opt/anaconda3/lib/python3.9/site-packages (from google-api-python-client) (0.22.0)\n",
      "Requirement already satisfied: google-auth-httplib2>=0.1.0 in /Users/yusolcho/opt/anaconda3/lib/python3.9/site-packages (from google-api-python-client) (0.1.0)\n",
      "Requirement already satisfied: google-auth<3.0.0.dev0,>=1.19.0 in /Users/yusolcho/opt/anaconda3/lib/python3.9/site-packages (from google-api-python-client) (2.22.0)\n",
      "Requirement already satisfied: google-api-core!=2.0.*,!=2.1.*,!=2.2.*,!=2.3.0,<3.0.0.dev0,>=1.31.5 in /Users/yusolcho/opt/anaconda3/lib/python3.9/site-packages (from google-api-python-client) (2.11.1)\n",
      "Requirement already satisfied: protobuf!=3.20.0,!=3.20.1,!=4.21.0,!=4.21.1,!=4.21.2,!=4.21.3,!=4.21.4,!=4.21.5,<5.0.0.dev0,>=3.19.5 in /Users/yusolcho/opt/anaconda3/lib/python3.9/site-packages (from google-api-core!=2.0.*,!=2.1.*,!=2.2.*,!=2.3.0,<3.0.0.dev0,>=1.31.5->google-api-python-client) (4.23.4)\n",
      "Requirement already satisfied: googleapis-common-protos<2.0.dev0,>=1.56.2 in /Users/yusolcho/opt/anaconda3/lib/python3.9/site-packages (from google-api-core!=2.0.*,!=2.1.*,!=2.2.*,!=2.3.0,<3.0.0.dev0,>=1.31.5->google-api-python-client) (1.59.1)\n",
      "Requirement already satisfied: requests<3.0.0.dev0,>=2.18.0 in /Users/yusolcho/opt/anaconda3/lib/python3.9/site-packages (from google-api-core!=2.0.*,!=2.1.*,!=2.2.*,!=2.3.0,<3.0.0.dev0,>=1.31.5->google-api-python-client) (2.31.0)\n",
      "Requirement already satisfied: cachetools<6.0,>=2.0.0 in /Users/yusolcho/opt/anaconda3/lib/python3.9/site-packages (from google-auth<3.0.0.dev0,>=1.19.0->google-api-python-client) (4.2.2)\n",
      "Requirement already satisfied: six>=1.9.0 in /Users/yusolcho/opt/anaconda3/lib/python3.9/site-packages (from google-auth<3.0.0.dev0,>=1.19.0->google-api-python-client) (1.16.0)\n",
      "Requirement already satisfied: pyasn1-modules>=0.2.1 in /Users/yusolcho/opt/anaconda3/lib/python3.9/site-packages (from google-auth<3.0.0.dev0,>=1.19.0->google-api-python-client) (0.2.8)\n",
      "Requirement already satisfied: urllib3<2.0 in /Users/yusolcho/opt/anaconda3/lib/python3.9/site-packages (from google-auth<3.0.0.dev0,>=1.19.0->google-api-python-client) (1.26.9)\n",
      "Requirement already satisfied: rsa<5,>=3.1.4 in /Users/yusolcho/opt/anaconda3/lib/python3.9/site-packages (from google-auth<3.0.0.dev0,>=1.19.0->google-api-python-client) (4.7.2)\n",
      "Requirement already satisfied: pyparsing!=3.0.0,!=3.0.1,!=3.0.2,!=3.0.3,<4,>=2.4.2 in /Users/yusolcho/opt/anaconda3/lib/python3.9/site-packages (from httplib2<1.dev0,>=0.15.0->google-api-python-client) (3.0.4)\n",
      "Requirement already satisfied: pyasn1<0.5.0,>=0.4.6 in /Users/yusolcho/opt/anaconda3/lib/python3.9/site-packages (from pyasn1-modules>=0.2.1->google-auth<3.0.0.dev0,>=1.19.0->google-api-python-client) (0.4.8)\n",
      "Requirement already satisfied: charset-normalizer<4,>=2 in /Users/yusolcho/opt/anaconda3/lib/python3.9/site-packages (from requests<3.0.0.dev0,>=2.18.0->google-api-core!=2.0.*,!=2.1.*,!=2.2.*,!=2.3.0,<3.0.0.dev0,>=1.31.5->google-api-python-client) (2.0.4)\n",
      "Requirement already satisfied: idna<4,>=2.5 in /Users/yusolcho/opt/anaconda3/lib/python3.9/site-packages (from requests<3.0.0.dev0,>=2.18.0->google-api-core!=2.0.*,!=2.1.*,!=2.2.*,!=2.3.0,<3.0.0.dev0,>=1.31.5->google-api-python-client) (3.3)\n",
      "Requirement already satisfied: certifi>=2017.4.17 in /Users/yusolcho/opt/anaconda3/lib/python3.9/site-packages (from requests<3.0.0.dev0,>=2.18.0->google-api-core!=2.0.*,!=2.1.*,!=2.2.*,!=2.3.0,<3.0.0.dev0,>=1.31.5->google-api-python-client) (2023.5.7)\n",
      "Requirement already satisfied: oauth2client in /Users/yusolcho/opt/anaconda3/lib/python3.9/site-packages (4.1.3)\n",
      "Requirement already satisfied: pyasn1-modules>=0.0.5 in /Users/yusolcho/opt/anaconda3/lib/python3.9/site-packages (from oauth2client) (0.2.8)\n",
      "Requirement already satisfied: rsa>=3.1.4 in /Users/yusolcho/opt/anaconda3/lib/python3.9/site-packages (from oauth2client) (4.7.2)\n",
      "Requirement already satisfied: six>=1.6.1 in /Users/yusolcho/opt/anaconda3/lib/python3.9/site-packages (from oauth2client) (1.16.0)\n",
      "Requirement already satisfied: httplib2>=0.9.1 in /Users/yusolcho/opt/anaconda3/lib/python3.9/site-packages (from oauth2client) (0.22.0)\n",
      "Requirement already satisfied: pyasn1>=0.1.7 in /Users/yusolcho/opt/anaconda3/lib/python3.9/site-packages (from oauth2client) (0.4.8)\n",
      "Requirement already satisfied: pyparsing!=3.0.0,!=3.0.1,!=3.0.2,!=3.0.3,<4,>=2.4.2 in /Users/yusolcho/opt/anaconda3/lib/python3.9/site-packages (from httplib2>=0.9.1->oauth2client) (3.0.4)\n"
     ]
    }
   ],
   "source": [
    "!pip install google-api-python-client\n",
    "!pip install oauth2client"
   ]
  },
  {
   "cell_type": "code",
   "execution_count": 19,
   "id": "20635f36",
   "metadata": {},
   "outputs": [],
   "source": [
    "#YOUTUBE OPEN API 관련 모듈\n",
    "from apiclient.discovery import build\n",
    "from apiclient.errors import HttpError\n",
    "from oauth2client.tools import argparser\n",
    "\n",
    "#기타 모듈\n",
    "import pandas as pd\n",
    "import numpy as np\n",
    "import re #문자열 패턴 관련 모듈\n",
    "import requests"
   ]
  },
  {
   "cell_type": "markdown",
   "id": "4a399372",
   "metadata": {},
   "source": [
    "**<유튜브 채널>**\n",
    "\n",
    "1. 소속사 공식 채널\n",
    "- SMTOWN\n",
    "2. 소속 아티스트 공식 채널\n",
    "- aespa\n",
    "- NCT\n",
    "- EXO\n",
    "- BoA\n",
    "- SHINee"
   ]
  },
  {
   "cell_type": "markdown",
   "id": "b3f8a379",
   "metadata": {},
   "source": [
    "# (1) 검색결과 가져오기\n",
    "api에서 제공하는 검색기능을 활용하기 위해 search.list.method를 사용함.\n",
    "<br>list에 들어가는 중요 파라미터는 다음과 같음.\n",
    "\n",
    "**<매개변수>**\n",
    "- q: 검색어\n",
    "- order: 정렬방식\n",
    "    - date: 리소스를 만든 날짜를 기준으로 최근 항목부터 시간 순서대로 리소스를 정렬함.\n",
    "    - rating: 높은 평가부터 낮은 평가순으로 리소스를 정렬함.\n",
    "    - relevance: 검색 쿼리에 대한 관련성을 기준으로 리소스를 정렬함. (기본값)\n",
    "    - title: 제목에 따라 문자순으로 리소스를 정렬함.\n",
    "    - videoCount: 업로드한 동영상 수에 따라 채널을 내림차순으로 정렬함.\n",
    "    - viewCount: 리소스를 조회수가 높은 항목부터 정렬함.\n",
    "- part(필수): API 응답이 포함하는 search 리소스 속성을 지정함.\n",
    "    - 가능한 값: 'id', 'snippet'\n",
    "    - 매개변수가 하위 속성을 포함하는 속성을 식별할 경우, 하위 속성이 응답에 포함됨. (ex. search 결과에서 snippet 속성은 결과의 제목, 설명 등을 식별하는 다른 속성을 포함함.)\n",
    "    - \"snippet\"을 설정하는 경우, API 응답은 중첩된 속성도 모두 포함함.\n",
    "- maxResults: 최대 호출 개수\n",
    "    - 값의 범위는 0 ~ 50\n",
    "- pageToken: 반환해야 하는 결과 집합의 특정 페이지를 식별함\n",
    "    - API 응답에서 nextPageToken 및 prevPageToken 속성은 검색할 기타 페이지를 식별함.\n",
    "- publishedAfter: API 응답이 지정된 시간 이후에 만든 리소스만 포함하도록 하는 설정\n",
    "    - 날짜 형식은 RFC 3339로, 날짜-시간 값(1970-01-01T00:00:00Z)\n",
    "- publishedBefore: API 응답이 지정된 시간 전에 만든 리소스만 포함하도록 하는 설정\n",
    "    - 날짜 형식은 RFC 3339로, 날짜-시간 값(1970-01-01T00:00:00Z)\n",
    "- regionCode: API에서 지정된 국가에 대한 검색결과를 반환하도록 하는 설정\n",
    "    - 지정된 형식은 ISO 3166-1 alpha-2 국가 코드임. (대한민국: KR)\n",
    "- type: 특정 리소스 유형만 검색하도록 검색 쿼리를 제한하는 설정\n",
    "    - 가능한 값: channel, playlist, video\n",
    "- videoCategoryId: 카테고리를 기준으로 하는 동영상 검색결과를 필터링함\n",
    "- videoDuration: 동영상 길이를 기준으로 동영상 검색결과를 필터링함\n",
    "    - 가능한 값: \n",
    "        - any: 동영상 길이를 기준으로 동영상 검색결과를 필터링하지 않음. (기본값)\n",
    "        - long: 20분보다 긴 동영상을 포함함.\n",
    "        - medium: 4분 이상 20분 이하인 동영상만 포함함.\n",
    "        - short: 4분 미만인 동영상만 포함함."
   ]
  },
  {
   "cell_type": "code",
   "execution_count": 20,
   "id": "2531fdb2",
   "metadata": {},
   "outputs": [],
   "source": [
    "#기본 정보 설정\n",
    "api_key = \"***" \n",
    "youtube_api_service_name = \"youtube\" #Google API 객체를 생성 (명칭은 'youtube'로 고정됨)\n",
    "youtube_api_version = \"v3\"\n",
    "youtube = build(youtube_api_service_name, youtube_api_version, developerKey=api_key)"
   ]
  },
  {
   "cell_type": "markdown",
   "id": "b284b152",
   "metadata": {},
   "source": [
    "## (1-1) 소속사 채널 ID 추출"
   ]
  },
  {
   "cell_type": "code",
   "execution_count": 21,
   "id": "de3a6d74",
   "metadata": {},
   "outputs": [],
   "source": [
    "#query문 작성\n",
    "search_response = youtube.search().list(\n",
    "    q = \"SMTOWN\",\n",
    "    order = \"relevance\",\n",
    "    part = \"snippet\",\n",
    "    maxResults = 5,\n",
    "    type = \"channel\"\n",
    ").execute()"
   ]
  },
  {
   "cell_type": "code",
   "execution_count": 22,
   "id": "14783e41",
   "metadata": {},
   "outputs": [
    {
     "data": {
      "text/plain": [
       "{'kind': 'youtube#searchListResponse',\n",
       " 'etag': '_eMUJnArIGGJoedBtGDdlL1Bk4w',\n",
       " 'nextPageToken': 'CAUQAA',\n",
       " 'regionCode': 'KR',\n",
       " 'pageInfo': {'totalResults': 15045, 'resultsPerPage': 5},\n",
       " 'items': [{'kind': 'youtube#searchResult',\n",
       "   'etag': 'hVLR8ba4Z-p196x7erAKidBQz6s',\n",
       "   'id': {'kind': 'youtube#channel', 'channelId': 'UCEf_Bc-KVd7onSeifS3py9g'},\n",
       "   'snippet': {'publishedAt': '2006-03-18T15:43:10Z',\n",
       "    'channelId': 'UCEf_Bc-KVd7onSeifS3py9g',\n",
       "    'title': 'SMTOWN',\n",
       "    'description': \"Welcome to SM Entertainment Official YouTube Channel! You can enjoy SM artist's latest videos on SMTOWN Official YouTube ...\",\n",
       "    'thumbnails': {'default': {'url': 'https://yt3.ggpht.com/_1Z4I2qpWaCN9g3BcDd3cVA9MDHOG43lE1YNWDNkKro49haGxkjwuFK-I8faWTKM6Jle9qb4ag=s88-c-k-c0xffffffff-no-rj-mo'},\n",
       "     'medium': {'url': 'https://yt3.ggpht.com/_1Z4I2qpWaCN9g3BcDd3cVA9MDHOG43lE1YNWDNkKro49haGxkjwuFK-I8faWTKM6Jle9qb4ag=s240-c-k-c0xffffffff-no-rj-mo'},\n",
       "     'high': {'url': 'https://yt3.ggpht.com/_1Z4I2qpWaCN9g3BcDd3cVA9MDHOG43lE1YNWDNkKro49haGxkjwuFK-I8faWTKM6Jle9qb4ag=s800-c-k-c0xffffffff-no-rj-mo'}},\n",
       "    'channelTitle': 'SMTOWN',\n",
       "    'liveBroadcastContent': 'none',\n",
       "    'publishTime': '2006-03-18T15:43:10Z'}},\n",
       "  {'kind': 'youtube#searchResult',\n",
       "   'etag': 'ujaQGU6WzByQmOvyVJFXG9Ewths',\n",
       "   'id': {'kind': 'youtube#channel', 'channelId': 'UCsz3hFF1okynl9bzNkxBsYg'},\n",
       "   'snippet': {'publishedAt': '2020-09-23T13:50:53Z',\n",
       "    'channelId': 'UCsz3hFF1okynl9bzNkxBsYg',\n",
       "    'title': 'SMTOWN 노래듣는중',\n",
       "    'description': '내 취향 100% SM노래 격파채널.',\n",
       "    'thumbnails': {'default': {'url': 'https://yt3.ggpht.com/HbcFoqnCn-TAcHUo2B9b8b9V4EfTlyz_K98ZUuw982HZdKXvUZj6KzvL4dkYD3z82CnbsSErtA0=s88-c-k-c0xffffffff-no-rj-mo'},\n",
       "     'medium': {'url': 'https://yt3.ggpht.com/HbcFoqnCn-TAcHUo2B9b8b9V4EfTlyz_K98ZUuw982HZdKXvUZj6KzvL4dkYD3z82CnbsSErtA0=s240-c-k-c0xffffffff-no-rj-mo'},\n",
       "     'high': {'url': 'https://yt3.ggpht.com/HbcFoqnCn-TAcHUo2B9b8b9V4EfTlyz_K98ZUuw982HZdKXvUZj6KzvL4dkYD3z82CnbsSErtA0=s800-c-k-c0xffffffff-no-rj-mo'}},\n",
       "    'channelTitle': 'SMTOWN 노래듣는중',\n",
       "    'liveBroadcastContent': 'none',\n",
       "    'publishTime': '2020-09-23T13:50:53Z'}},\n",
       "  {'kind': 'youtube#searchResult',\n",
       "   'etag': 'qE5-wHvii51mJVKbTAvbPErr5mY',\n",
       "   'id': {'kind': 'youtube#channel', 'channelId': 'UCOcwGi78fdHWhAK-bGnNgCw'},\n",
       "   'snippet': {'publishedAt': '2013-12-20T21:01:25Z',\n",
       "    'channelId': 'UCOcwGi78fdHWhAK-bGnNgCw',\n",
       "    'title': 'SMTOWN - Topic',\n",
       "    'description': '',\n",
       "    'thumbnails': {'default': {'url': 'https://yt3.ggpht.com/lIJCtjNJIAf0TZeT0U65Luv0Q3cOiHpGg6DXa6-2QTn-Jw6ek5cJOH4RXypnr9bjSeCCUFbR5A=s88-c-k-c0xffffffff-no-rj-mo'},\n",
       "     'medium': {'url': 'https://yt3.ggpht.com/lIJCtjNJIAf0TZeT0U65Luv0Q3cOiHpGg6DXa6-2QTn-Jw6ek5cJOH4RXypnr9bjSeCCUFbR5A=s240-c-k-c0xffffffff-no-rj-mo'},\n",
       "     'high': {'url': 'https://yt3.ggpht.com/lIJCtjNJIAf0TZeT0U65Luv0Q3cOiHpGg6DXa6-2QTn-Jw6ek5cJOH4RXypnr9bjSeCCUFbR5A=s800-c-k-c0xffffffff-no-rj-mo'}},\n",
       "    'channelTitle': 'SMTOWN - Topic',\n",
       "    'liveBroadcastContent': 'none',\n",
       "    'publishTime': '2013-12-20T21:01:25Z'}},\n",
       "  {'kind': 'youtube#searchResult',\n",
       "   'etag': '_gAa5gkBxTlEUwRUwFxgGfztI9c',\n",
       "   'id': {'kind': 'youtube#channel', 'channelId': 'UCcdX97nVNsZgAA0NxvHnU9w'},\n",
       "   'snippet': {'publishedAt': '2021-12-14T06:48:54Z',\n",
       "    'channelId': 'UCcdX97nVNsZgAA0NxvHnU9w',\n",
       "    'title': 'Girls On Top',\n",
       "    'description': 'Girls, bring it on.',\n",
       "    'thumbnails': {'default': {'url': 'https://yt3.ggpht.com/BFWi_BJCb2fu5avMhZfTR__-mt9N8Y66XMlJUpxodMtevkOz9z2aCCQjMR-Fr72f2BFyDRK-8w=s88-c-k-c0xffffffff-no-rj-mo'},\n",
       "     'medium': {'url': 'https://yt3.ggpht.com/BFWi_BJCb2fu5avMhZfTR__-mt9N8Y66XMlJUpxodMtevkOz9z2aCCQjMR-Fr72f2BFyDRK-8w=s240-c-k-c0xffffffff-no-rj-mo'},\n",
       "     'high': {'url': 'https://yt3.ggpht.com/BFWi_BJCb2fu5avMhZfTR__-mt9N8Y66XMlJUpxodMtevkOz9z2aCCQjMR-Fr72f2BFyDRK-8w=s800-c-k-c0xffffffff-no-rj-mo'}},\n",
       "    'channelTitle': 'Girls On Top',\n",
       "    'liveBroadcastContent': 'none',\n",
       "    'publishTime': '2021-12-14T06:48:54Z'}},\n",
       "  {'kind': 'youtube#searchResult',\n",
       "   'etag': 'mQRA9qRePwvfXWssuiifyufmicU',\n",
       "   'id': {'kind': 'youtube#channel', 'channelId': 'UC0DCw3l8UnWIGQO7eCGONIQ'},\n",
       "   'snippet': {'publishedAt': '2006-08-23T15:49:19Z',\n",
       "    'channelId': 'UC0DCw3l8UnWIGQO7eCGONIQ',\n",
       "    'title': 'sment',\n",
       "    'description': 'Visit YouTube SMTOWN now! (http://www.youtube.com/smtown)',\n",
       "    'thumbnails': {'default': {'url': 'https://yt3.ggpht.com/ytc/AOPolaQEvKAiLP3X1XUno5hwJlxNQ4o3N8WMBNk-OA9l=s88-c-k-c0xffffffff-no-rj-mo'},\n",
       "     'medium': {'url': 'https://yt3.ggpht.com/ytc/AOPolaQEvKAiLP3X1XUno5hwJlxNQ4o3N8WMBNk-OA9l=s240-c-k-c0xffffffff-no-rj-mo'},\n",
       "     'high': {'url': 'https://yt3.ggpht.com/ytc/AOPolaQEvKAiLP3X1XUno5hwJlxNQ4o3N8WMBNk-OA9l=s800-c-k-c0xffffffff-no-rj-mo'}},\n",
       "    'channelTitle': 'sment',\n",
       "    'liveBroadcastContent': 'none',\n",
       "    'publishTime': '2006-08-23T15:49:19Z'}}]}"
      ]
     },
     "execution_count": 22,
     "metadata": {},
     "output_type": "execute_result"
    }
   ],
   "source": [
    "search_response"
   ]
  },
  {
   "cell_type": "code",
   "execution_count": 23,
   "id": "5ea18cd4",
   "metadata": {
    "scrolled": false
   },
   "outputs": [
    {
     "data": {
      "text/html": [
       "<div>\n",
       "<style scoped>\n",
       "    .dataframe tbody tr th:only-of-type {\n",
       "        vertical-align: middle;\n",
       "    }\n",
       "\n",
       "    .dataframe tbody tr th {\n",
       "        vertical-align: top;\n",
       "    }\n",
       "\n",
       "    .dataframe thead th {\n",
       "        text-align: right;\n",
       "    }\n",
       "</style>\n",
       "<table border=\"1\" class=\"dataframe\">\n",
       "  <thead>\n",
       "    <tr style=\"text-align: right;\">\n",
       "      <th></th>\n",
       "      <th>channelTitle</th>\n",
       "      <th>channelId</th>\n",
       "    </tr>\n",
       "  </thead>\n",
       "  <tbody>\n",
       "    <tr>\n",
       "      <th>0</th>\n",
       "      <td>SMTOWN</td>\n",
       "      <td>UCEf_Bc-KVd7onSeifS3py9g</td>\n",
       "    </tr>\n",
       "    <tr>\n",
       "      <th>1</th>\n",
       "      <td>SMTOWN 노래듣는중</td>\n",
       "      <td>UCsz3hFF1okynl9bzNkxBsYg</td>\n",
       "    </tr>\n",
       "    <tr>\n",
       "      <th>2</th>\n",
       "      <td>SMTOWN - Topic</td>\n",
       "      <td>UCOcwGi78fdHWhAK-bGnNgCw</td>\n",
       "    </tr>\n",
       "    <tr>\n",
       "      <th>3</th>\n",
       "      <td>Girls On Top</td>\n",
       "      <td>UCcdX97nVNsZgAA0NxvHnU9w</td>\n",
       "    </tr>\n",
       "    <tr>\n",
       "      <th>4</th>\n",
       "      <td>sment</td>\n",
       "      <td>UC0DCw3l8UnWIGQO7eCGONIQ</td>\n",
       "    </tr>\n",
       "  </tbody>\n",
       "</table>\n",
       "</div>"
      ],
      "text/plain": [
       "     channelTitle                 channelId\n",
       "0          SMTOWN  UCEf_Bc-KVd7onSeifS3py9g\n",
       "1    SMTOWN 노래듣는중  UCsz3hFF1okynl9bzNkxBsYg\n",
       "2  SMTOWN - Topic  UCOcwGi78fdHWhAK-bGnNgCw\n",
       "3    Girls On Top  UCcdX97nVNsZgAA0NxvHnU9w\n",
       "4           sment  UC0DCw3l8UnWIGQO7eCGONIQ"
      ]
     },
     "execution_count": 23,
     "metadata": {},
     "output_type": "execute_result"
    }
   ],
   "source": [
    "#필요한 변수들로 데이터프레임을 구성\n",
    "channelTitle = []\n",
    "channelId = []\n",
    "\n",
    "for item in search_response[\"items\"]:\n",
    "    channelTitle.append(item[\"snippet\"][\"title\"])\n",
    "    channelId.append(item[\"snippet\"][\"channelId\"])\n",
    "    \n",
    "search_df = pd.DataFrame({\"channelTitle\": channelTitle, \"channelId\": channelId})\n",
    "search_df"
   ]
  },
  {
   "cell_type": "code",
   "execution_count": 24,
   "id": "33a330d8",
   "metadata": {},
   "outputs": [
    {
     "data": {
      "text/plain": [
       "'UCEf_Bc-KVd7onSeifS3py9g'"
      ]
     },
     "execution_count": 24,
     "metadata": {},
     "output_type": "execute_result"
    }
   ],
   "source": [
    "sm = search_df[\"channelId\"][0]\n",
    "sm"
   ]
  },
  {
   "cell_type": "markdown",
   "id": "41e244b5",
   "metadata": {},
   "source": [
    "## (1-2) 소속 아티스트 채널 ID 추출"
   ]
  },
  {
   "cell_type": "code",
   "execution_count": 25,
   "id": "c28a61b2",
   "metadata": {},
   "outputs": [],
   "source": [
    "#query문 작성\n",
    "search_response = youtube.search().list(\n",
    "    q = \"aespa\",\n",
    "    order = \"relevance\",\n",
    "    part = \"snippet\",\n",
    "    maxResults = 5,\n",
    "    type = \"channel\"\n",
    ").execute()"
   ]
  },
  {
   "cell_type": "code",
   "execution_count": 26,
   "id": "4d31beb5",
   "metadata": {},
   "outputs": [
    {
     "data": {
      "text/plain": [
       "{'kind': 'youtube#searchListResponse',\n",
       " 'etag': '64HuFIzbSAG3O5JDxgVf6sEZeOU',\n",
       " 'nextPageToken': 'CAUQAA',\n",
       " 'regionCode': 'KR',\n",
       " 'pageInfo': {'totalResults': 20488, 'resultsPerPage': 5},\n",
       " 'items': [{'kind': 'youtube#searchResult',\n",
       "   'etag': 'CL-JUxw1REOwasEqvShdEs-qH2M',\n",
       "   'id': {'kind': 'youtube#channel', 'channelId': 'UC9GtSLeksfK4yuJ_g1lgQbg'},\n",
       "   'snippet': {'publishedAt': '2020-06-26T03:59:21Z',\n",
       "    'channelId': 'UC9GtSLeksfK4yuJ_g1lgQbg',\n",
       "    'title': 'aespa',\n",
       "    'description': \"aespa 에스파 'Better Things' Welcome to aespa Official YouTube Channel! You can enjoy aespa's latest videos on aespa Official ...\",\n",
       "    'thumbnails': {'default': {'url': 'https://yt3.ggpht.com/dFSmljWYk4M5SVQCQG9cqOpZqQZjxDgVAV8-lD_kaWKV8kBJL_si9fg7C8Ck1aJceljmnqBxbEc=s88-c-k-c0xffffffff-no-rj-mo'},\n",
       "     'medium': {'url': 'https://yt3.ggpht.com/dFSmljWYk4M5SVQCQG9cqOpZqQZjxDgVAV8-lD_kaWKV8kBJL_si9fg7C8Ck1aJceljmnqBxbEc=s240-c-k-c0xffffffff-no-rj-mo'},\n",
       "     'high': {'url': 'https://yt3.ggpht.com/dFSmljWYk4M5SVQCQG9cqOpZqQZjxDgVAV8-lD_kaWKV8kBJL_si9fg7C8Ck1aJceljmnqBxbEc=s800-c-k-c0xffffffff-no-rj-mo'}},\n",
       "    'channelTitle': 'aespa',\n",
       "    'liveBroadcastContent': 'none',\n",
       "    'publishTime': '2020-06-26T03:59:21Z'}},\n",
       "  {'kind': 'youtube#searchResult',\n",
       "   'etag': '787pNUAkm9-jnU81j2N4-tzMYf0',\n",
       "   'id': {'kind': 'youtube#channel', 'channelId': 'UCEdZAdnnKqbaHOlv8nM6OtA'},\n",
       "   'snippet': {'publishedAt': '2020-11-18T04:12:35Z',\n",
       "    'channelId': 'UCEdZAdnnKqbaHOlv8nM6OtA',\n",
       "    'title': 'aespa - Topic',\n",
       "    'description': 'aespa, a combination of “ae”, which stands for “Avatar and Experience” and “aspect” meaning “two-sidedness”, symbolizes ...',\n",
       "    'thumbnails': {'default': {'url': 'https://yt3.ggpht.com/yPLPrmJQ1jbWUn9a2dVCF1wc5a9-DGmfoeYP9UyKu9eKhqZAKGU08qf0a3C2wTW9p8hbK4EpsL8=s88-c-k-c0xffffffff-no-rj-mo'},\n",
       "     'medium': {'url': 'https://yt3.ggpht.com/yPLPrmJQ1jbWUn9a2dVCF1wc5a9-DGmfoeYP9UyKu9eKhqZAKGU08qf0a3C2wTW9p8hbK4EpsL8=s240-c-k-c0xffffffff-no-rj-mo'},\n",
       "     'high': {'url': 'https://yt3.ggpht.com/yPLPrmJQ1jbWUn9a2dVCF1wc5a9-DGmfoeYP9UyKu9eKhqZAKGU08qf0a3C2wTW9p8hbK4EpsL8=s800-c-k-c0xffffffff-no-rj-mo'}},\n",
       "    'channelTitle': 'aespa - Topic',\n",
       "    'liveBroadcastContent': 'none',\n",
       "    'publishTime': '2020-11-18T04:12:35Z'}},\n",
       "  {'kind': 'youtube#searchResult',\n",
       "   'etag': 'wiFYvbU8nMJY-vbg6oWnkVCQO-E',\n",
       "   'id': {'kind': 'youtube#channel', 'channelId': 'UCPZIKwBt8oICvxujb7YbmkA'},\n",
       "   'snippet': {'publishedAt': '2021-10-27T08:04:34Z',\n",
       "    'channelId': 'UCPZIKwBt8oICvxujb7YbmkA',\n",
       "    'title': 'aespa',\n",
       "    'description': \"Welcome to aespa Official YouTube Channel! You can enjoy aespa's latest videos on aespa Official YouTube Channel.\",\n",
       "    'thumbnails': {'default': {'url': 'https://yt3.ggpht.com/TiUnELDKMzL96tMoNJCvt1POW7GSaAgxZr1hD6W9Jgsuj3acBPZW_asDL58igx7S0ybXoQrP=s88-c-k-c0xffffffff-no-rj-mo'},\n",
       "     'medium': {'url': 'https://yt3.ggpht.com/TiUnELDKMzL96tMoNJCvt1POW7GSaAgxZr1hD6W9Jgsuj3acBPZW_asDL58igx7S0ybXoQrP=s240-c-k-c0xffffffff-no-rj-mo'},\n",
       "     'high': {'url': 'https://yt3.ggpht.com/TiUnELDKMzL96tMoNJCvt1POW7GSaAgxZr1hD6W9Jgsuj3acBPZW_asDL58igx7S0ybXoQrP=s800-c-k-c0xffffffff-no-rj-mo'}},\n",
       "    'channelTitle': 'aespa',\n",
       "    'liveBroadcastContent': 'none',\n",
       "    'publishTime': '2021-10-27T08:04:34Z'}},\n",
       "  {'kind': 'youtube#searchResult',\n",
       "   'etag': '_rnykku66Cc8PLvhlUBZCiG2hB8',\n",
       "   'id': {'kind': 'youtube#channel', 'channelId': 'UCDq4ccOjtGacRCj0mTOSHvQ'},\n",
       "   'snippet': {'publishedAt': '2018-05-03T06:32:29Z',\n",
       "    'channelId': 'UCDq4ccOjtGacRCj0mTOSHvQ',\n",
       "    'title': 'AESPA',\n",
       "    'description': '',\n",
       "    'thumbnails': {'default': {'url': 'https://yt3.ggpht.com/ytc/AOPolaRY6B0W21tQqlkf7cdEsMAsFDJtXrIwVXJZAiDIag=s88-c-k-c0xffffffff-no-rj-mo'},\n",
       "     'medium': {'url': 'https://yt3.ggpht.com/ytc/AOPolaRY6B0W21tQqlkf7cdEsMAsFDJtXrIwVXJZAiDIag=s240-c-k-c0xffffffff-no-rj-mo'},\n",
       "     'high': {'url': 'https://yt3.ggpht.com/ytc/AOPolaRY6B0W21tQqlkf7cdEsMAsFDJtXrIwVXJZAiDIag=s800-c-k-c0xffffffff-no-rj-mo'}},\n",
       "    'channelTitle': 'AESPA',\n",
       "    'liveBroadcastContent': 'none',\n",
       "    'publishTime': '2018-05-03T06:32:29Z'}},\n",
       "  {'kind': 'youtube#searchResult',\n",
       "   'etag': 'Zpon5QauPpkHjHlabv2fG8sHDEc',\n",
       "   'id': {'kind': 'youtube#channel', 'channelId': 'UCjVmoYt1scccCOnokBwH_RA'},\n",
       "   'snippet': {'publishedAt': '2020-10-28T09:21:23Z',\n",
       "    'channelId': 'UCjVmoYt1scccCOnokBwH_RA',\n",
       "    'title': 'aespa team',\n",
       "    'description': 'الفريق الخاص بترجمة برامج فرقة إيسبا.',\n",
       "    'thumbnails': {'default': {'url': 'https://yt3.ggpht.com/l0sW4wrLABjg51qCmBrkCFFVm7GK-V3AZeAfhW6dmZnnH1MJ8-m5tYi_Nuz4uzOtDqYtWzMbNw=s88-c-k-c0xffffffff-no-rj-mo'},\n",
       "     'medium': {'url': 'https://yt3.ggpht.com/l0sW4wrLABjg51qCmBrkCFFVm7GK-V3AZeAfhW6dmZnnH1MJ8-m5tYi_Nuz4uzOtDqYtWzMbNw=s240-c-k-c0xffffffff-no-rj-mo'},\n",
       "     'high': {'url': 'https://yt3.ggpht.com/l0sW4wrLABjg51qCmBrkCFFVm7GK-V3AZeAfhW6dmZnnH1MJ8-m5tYi_Nuz4uzOtDqYtWzMbNw=s800-c-k-c0xffffffff-no-rj-mo'}},\n",
       "    'channelTitle': 'aespa team',\n",
       "    'liveBroadcastContent': 'none',\n",
       "    'publishTime': '2020-10-28T09:21:23Z'}}]}"
      ]
     },
     "execution_count": 26,
     "metadata": {},
     "output_type": "execute_result"
    }
   ],
   "source": [
    "search_response"
   ]
  },
  {
   "cell_type": "code",
   "execution_count": 27,
   "id": "0b8acb59",
   "metadata": {},
   "outputs": [
    {
     "data": {
      "text/html": [
       "<div>\n",
       "<style scoped>\n",
       "    .dataframe tbody tr th:only-of-type {\n",
       "        vertical-align: middle;\n",
       "    }\n",
       "\n",
       "    .dataframe tbody tr th {\n",
       "        vertical-align: top;\n",
       "    }\n",
       "\n",
       "    .dataframe thead th {\n",
       "        text-align: right;\n",
       "    }\n",
       "</style>\n",
       "<table border=\"1\" class=\"dataframe\">\n",
       "  <thead>\n",
       "    <tr style=\"text-align: right;\">\n",
       "      <th></th>\n",
       "      <th>channelTitle</th>\n",
       "      <th>channelId</th>\n",
       "    </tr>\n",
       "  </thead>\n",
       "  <tbody>\n",
       "    <tr>\n",
       "      <th>0</th>\n",
       "      <td>aespa</td>\n",
       "      <td>UC9GtSLeksfK4yuJ_g1lgQbg</td>\n",
       "    </tr>\n",
       "    <tr>\n",
       "      <th>1</th>\n",
       "      <td>aespa - Topic</td>\n",
       "      <td>UCEdZAdnnKqbaHOlv8nM6OtA</td>\n",
       "    </tr>\n",
       "    <tr>\n",
       "      <th>2</th>\n",
       "      <td>aespa</td>\n",
       "      <td>UCPZIKwBt8oICvxujb7YbmkA</td>\n",
       "    </tr>\n",
       "    <tr>\n",
       "      <th>3</th>\n",
       "      <td>AESPA</td>\n",
       "      <td>UCDq4ccOjtGacRCj0mTOSHvQ</td>\n",
       "    </tr>\n",
       "    <tr>\n",
       "      <th>4</th>\n",
       "      <td>aespa team</td>\n",
       "      <td>UCjVmoYt1scccCOnokBwH_RA</td>\n",
       "    </tr>\n",
       "  </tbody>\n",
       "</table>\n",
       "</div>"
      ],
      "text/plain": [
       "    channelTitle                 channelId\n",
       "0          aespa  UC9GtSLeksfK4yuJ_g1lgQbg\n",
       "1  aespa - Topic  UCEdZAdnnKqbaHOlv8nM6OtA\n",
       "2          aespa  UCPZIKwBt8oICvxujb7YbmkA\n",
       "3          AESPA  UCDq4ccOjtGacRCj0mTOSHvQ\n",
       "4     aespa team  UCjVmoYt1scccCOnokBwH_RA"
      ]
     },
     "execution_count": 27,
     "metadata": {},
     "output_type": "execute_result"
    }
   ],
   "source": [
    "#필요한 변수들로 데이터프레임을 구성\n",
    "channelTitle = []\n",
    "channelId = []\n",
    "\n",
    "for item in search_response[\"items\"]:\n",
    "    channelTitle.append(item[\"snippet\"][\"title\"])\n",
    "    channelId.append(item[\"snippet\"][\"channelId\"])\n",
    "    \n",
    "search_df = pd.DataFrame({\"channelTitle\": channelTitle, \"channelId\": channelId})\n",
    "search_df"
   ]
  },
  {
   "cell_type": "code",
   "execution_count": 28,
   "id": "b8704095",
   "metadata": {},
   "outputs": [
    {
     "data": {
      "text/plain": [
       "'UC9GtSLeksfK4yuJ_g1lgQbg'"
      ]
     },
     "execution_count": 28,
     "metadata": {},
     "output_type": "execute_result"
    }
   ],
   "source": [
    "nct = search_df[\"channelId\"][0]\n",
    "nct"
   ]
  },
  {
   "cell_type": "code",
   "execution_count": 29,
   "id": "6a0b5bdf",
   "metadata": {},
   "outputs": [
    {
     "data": {
      "text/plain": [
       "'UC9GtSLeksfK4yuJ_g1lgQbg'"
      ]
     },
     "execution_count": 29,
     "metadata": {},
     "output_type": "execute_result"
    }
   ],
   "source": [
    "aespa = search_df[\"channelId\"][0]\n",
    "aespa"
   ]
  },
  {
   "cell_type": "code",
   "execution_count": 30,
   "id": "0709995e",
   "metadata": {},
   "outputs": [
    {
     "data": {
      "text/plain": [
       "'UC9GtSLeksfK4yuJ_g1lgQbg'"
      ]
     },
     "execution_count": 30,
     "metadata": {},
     "output_type": "execute_result"
    }
   ],
   "source": [
    "exo = search_df[\"channelId\"][0]\n",
    "exo"
   ]
  },
  {
   "cell_type": "code",
   "execution_count": 31,
   "id": "66527ea4",
   "metadata": {},
   "outputs": [
    {
     "data": {
      "text/plain": [
       "'UCEdZAdnnKqbaHOlv8nM6OtA'"
      ]
     },
     "execution_count": 31,
     "metadata": {},
     "output_type": "execute_result"
    }
   ],
   "source": [
    "boa = search_df[\"channelId\"][1]\n",
    "boa"
   ]
  },
  {
   "cell_type": "code",
   "execution_count": 32,
   "id": "3072f881",
   "metadata": {},
   "outputs": [
    {
     "data": {
      "text/plain": [
       "'UC9GtSLeksfK4yuJ_g1lgQbg'"
      ]
     },
     "execution_count": 32,
     "metadata": {},
     "output_type": "execute_result"
    }
   ],
   "source": [
    "shinee = search_df[\"channelId\"][0]\n",
    "shinee"
   ]
  },
  {
   "cell_type": "code",
   "execution_count": 33,
   "id": "e5a087d9",
   "metadata": {},
   "outputs": [
    {
     "data": {
      "text/html": [
       "<div>\n",
       "<style scoped>\n",
       "    .dataframe tbody tr th:only-of-type {\n",
       "        vertical-align: middle;\n",
       "    }\n",
       "\n",
       "    .dataframe tbody tr th {\n",
       "        vertical-align: top;\n",
       "    }\n",
       "\n",
       "    .dataframe thead th {\n",
       "        text-align: right;\n",
       "    }\n",
       "</style>\n",
       "<table border=\"1\" class=\"dataframe\">\n",
       "  <thead>\n",
       "    <tr style=\"text-align: right;\">\n",
       "      <th></th>\n",
       "      <th>channel</th>\n",
       "      <th>channel_id</th>\n",
       "    </tr>\n",
       "  </thead>\n",
       "  <tbody>\n",
       "    <tr>\n",
       "      <th>0</th>\n",
       "      <td>SMTOWN</td>\n",
       "      <td>UCEf_Bc-KVd7onSeifS3py9g</td>\n",
       "    </tr>\n",
       "    <tr>\n",
       "      <th>1</th>\n",
       "      <td>NCT</td>\n",
       "      <td>UC9GtSLeksfK4yuJ_g1lgQbg</td>\n",
       "    </tr>\n",
       "    <tr>\n",
       "      <th>2</th>\n",
       "      <td>aespa</td>\n",
       "      <td>UC9GtSLeksfK4yuJ_g1lgQbg</td>\n",
       "    </tr>\n",
       "    <tr>\n",
       "      <th>3</th>\n",
       "      <td>EXO</td>\n",
       "      <td>UC9GtSLeksfK4yuJ_g1lgQbg</td>\n",
       "    </tr>\n",
       "    <tr>\n",
       "      <th>4</th>\n",
       "      <td>BoA</td>\n",
       "      <td>UCEdZAdnnKqbaHOlv8nM6OtA</td>\n",
       "    </tr>\n",
       "    <tr>\n",
       "      <th>5</th>\n",
       "      <td>SHINee</td>\n",
       "      <td>UC9GtSLeksfK4yuJ_g1lgQbg</td>\n",
       "    </tr>\n",
       "  </tbody>\n",
       "</table>\n",
       "</div>"
      ],
      "text/plain": [
       "  channel                channel_id\n",
       "0  SMTOWN  UCEf_Bc-KVd7onSeifS3py9g\n",
       "1     NCT  UC9GtSLeksfK4yuJ_g1lgQbg\n",
       "2   aespa  UC9GtSLeksfK4yuJ_g1lgQbg\n",
       "3     EXO  UC9GtSLeksfK4yuJ_g1lgQbg\n",
       "4     BoA  UCEdZAdnnKqbaHOlv8nM6OtA\n",
       "5  SHINee  UC9GtSLeksfK4yuJ_g1lgQbg"
      ]
     },
     "execution_count": 33,
     "metadata": {},
     "output_type": "execute_result"
    }
   ],
   "source": [
    "#유튜브 채널 데이터프레임 생성\n",
    "channel_sm = pd.DataFrame()\n",
    "channel_sm[\"channel\"] = [\"SMTOWN\",\"NCT\",\"aespa\",\"EXO\",\"BoA\",\"SHINee\"] #채널명\n",
    "channel_sm[\"channel_id\"] = [sm, nct, aespa, exo, boa, shinee] #채널 id\n",
    "channel_sm"
   ]
  },
  {
   "cell_type": "code",
   "execution_count": 34,
   "id": "c084d911",
   "metadata": {},
   "outputs": [],
   "source": [
    "#channel_sm를 csv파일로 저장\n",
    "channel_sm.to_csv(\"../../../data/YouTube/channel_sm.csv\", index=False)"
   ]
  }
 ],
 "metadata": {
  "kernelspec": {
   "display_name": "Python 3 (ipykernel)",
   "language": "python",
   "name": "python3"
  },
  "language_info": {
   "codemirror_mode": {
    "name": "ipython",
    "version": 3
   },
   "file_extension": ".py",
   "mimetype": "text/x-python",
   "name": "python",
   "nbconvert_exporter": "python",
   "pygments_lexer": "ipython3",
   "version": "3.9.12"
  },
  "toc": {
   "base_numbering": 1,
   "nav_menu": {},
   "number_sections": true,
   "sideBar": true,
   "skip_h1_title": false,
   "title_cell": "Table of Contents",
   "title_sidebar": "Contents",
   "toc_cell": false,
   "toc_position": {},
   "toc_section_display": true,
   "toc_window_display": false
  }
 },
 "nbformat": 4,
 "nbformat_minor": 5
}
