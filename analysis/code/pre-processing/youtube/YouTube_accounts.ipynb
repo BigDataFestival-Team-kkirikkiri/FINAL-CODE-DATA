{
 "cells": [
  {
   "cell_type": "markdown",
   "id": "7791bc4c",
   "metadata": {},
   "source": [
    "# (0) 필요한 모듈"
   ]
  },
  {
   "cell_type": "code",
   "execution_count": 2,
   "id": "c117a8f7",
   "metadata": {},
   "outputs": [],
   "source": [
    "#!pip install google-api-python-client\n",
    "#!pip install oauth2client\n",
    "\n",
    "#YOUTUBE OPEN API 관련 모듈\n",
    "from apiclient.discovery import build\n",
    "from apiclient.errors import HttpError\n",
    "from oauth2client.tools import argparser\n",
    "\n",
    "#기타 모듈\n",
    "import pandas as pd\n",
    "import numpy as np\n",
    "import re #문자열 패턴 관련 모듈\n",
    "import requests\n",
    "import os"
   ]
  },
  {
   "cell_type": "code",
   "execution_count": 3,
   "id": "46ce8bdc",
   "metadata": {},
   "outputs": [
    {
     "data": {
      "text/plain": [
       "'C:\\\\Users\\\\lys17\\\\Desktop\\\\코드 정리\\\\ipynb 코드'"
      ]
     },
     "execution_count": 3,
     "metadata": {},
     "output_type": "execute_result"
    }
   ],
   "source": [
    "#현재 working directory 경로 확인\n",
    "#코드 실행자의 파일 위치에 따라 달라짐\n",
    "os.getcwd()"
   ]
  },
  {
   "cell_type": "markdown",
   "id": "4a399372",
   "metadata": {},
   "source": [
    "**<유튜브 채널>**\n",
    "\n",
    "1. 하이브(HYBE)\n",
    "- 소속사 공식 채널: HYBE LABELS\n",
    "- 소속 아티스트 공식 채널 (5개)\n",
    "    - NewJeans\n",
    "    - BANGTANTV\n",
    "    - LE SSERAFIM\n",
    "    - SEVENTEEN\n",
    "    - TOMORROW X TOGETHER OFFICIAL\n",
    "2. 와이지(YG)\n",
    "- 소속사 공식 채널: YG ENTERTAINMENT\n",
    "- 소속 아티스트 공식 채널 (4개)\n",
    "    - BLACKPINK\n",
    "    - OfficialGDRAGON\n",
    "    - TREASURE (트레저)\n",
    "    - WINNER  \n",
    "3. 제이와이피(JYP)\n",
    "- 소속사 공식 채널: JYP Entertainment\n",
    "- 소속 아티스트 공식 채널 (5개)\n",
    "    - Stray Kids\n",
    "    - TWICE\n",
    "    - NMIXX\n",
    "    - DAY6\n",
    "    - ITZY"
   ]
  },
  {
   "cell_type": "markdown",
   "id": "b3f8a379",
   "metadata": {},
   "source": [
    "# (1) 검색결과 가져오기\n",
    "api에서 제공하는 검색기능을 활용하기 위해 search.list.method를 사용함.\n",
    "<br>list에 들어가는 중요 파라미터는 다음과 같음.\n",
    "\n",
    "**<매개변수>**\n",
    "- q: 검색어\n",
    "- order: 정렬방식\n",
    "    - date: 리소스를 만든 날짜를 기준으로 최근 항목부터 시간 순서대로 리소스를 정렬함.\n",
    "    - rating: 높은 평가부터 낮은 평가순으로 리소스를 정렬함.\n",
    "    - relevance: 검색 쿼리에 대한 관련성을 기준으로 리소스를 정렬함. (기본값)\n",
    "    - title: 제목에 따라 문자순으로 리소스를 정렬함.\n",
    "    - videoCount: 업로드한 동영상 수에 따라 채널을 내림차순으로 정렬함.\n",
    "    - viewCount: 리소스를 조회수가 높은 항목부터 정렬함.\n",
    "- part(필수): API 응답이 포함하는 search 리소스 속성을 지정함.\n",
    "    - 가능한 값: 'id', 'snippet'\n",
    "    - 매개변수가 하위 속성을 포함하는 속성을 식별할 경우, 하위 속성이 응답에 포함됨. (ex. search 결과에서 snippet 속성은 결과의 제목, 설명 등을 식별하는 다른 속성을 포함함.)\n",
    "    - \"snippet\"을 설정하는 경우, API 응답은 중첩된 속성도 모두 포함함.\n",
    "- maxResults: 최대 호출 개수\n",
    "    - 값의 범위는 0 ~ 50\n",
    "- pageToken: 반환해야 하는 결과 집합의 특정 페이지를 식별함\n",
    "    - API 응답에서 nextPageToken 및 prevPageToken 속성은 검색할 기타 페이지를 식별함.\n",
    "- publishedAfter: API 응답이 지정된 시간 이후에 만든 리소스만 포함하도록 하는 설정\n",
    "    - 날짜 형식은 RFC 3339로, 날짜-시간 값(1970-01-01T00:00:00Z)\n",
    "- publishedBefore: API 응답이 지정된 시간 전에 만든 리소스만 포함하도록 하는 설정\n",
    "    - 날짜 형식은 RFC 3339로, 날짜-시간 값(1970-01-01T00:00:00Z)\n",
    "- regionCode: API에서 지정된 국가에 대한 검색결과를 반환하도록 하는 설정\n",
    "    - 지정된 형식은 ISO 3166-1 alpha-2 국가 코드임. (대한민국: KR)\n",
    "- type: 특정 리소스 유형만 검색하도록 검색 쿼리를 제한하는 설정\n",
    "    - 가능한 값: channel, playlist, video\n",
    "- videoCategoryId: 카테고리를 기준으로 하는 동영상 검색결과를 필터링함\n",
    "- videoDuration: 동영상 길이를 기준으로 동영상 검색결과를 필터링함\n",
    "    - 가능한 값: \n",
    "        - any: 동영상 길이를 기준으로 동영상 검색결과를 필터링하지 않음. (기본값)\n",
    "        - long: 20분보다 긴 동영상을 포함함.\n",
    "        - medium: 4분 이상 20분 이하인 동영상만 포함함.\n",
    "        - short: 4분 미만인 동영상만 포함함."
   ]
  },
  {
   "cell_type": "markdown",
   "id": "c1b68a71",
   "metadata": {},
   "source": [
    "<span style = \"color:Red;\">**!!!주의 사항!!!**</span>\n",
    "\n",
    "(1) YouTube OPEN API 사용 시, 구글 클라우드 플랫폼에 연결되어 있는 상태인지 확인 필요함. 안 그러면 에러 발생.\n",
    "<br>=> 구글 클라우드 플랫폼 사이트에서 구글 계정으로 로그인 된 상태에서 '콘솔' 클릭하여 활성화해야 함.\n",
    "\n",
    "(2) OPEN API로 불러온 데이터는 가능한한 저장을 권장함.\n",
    "<br>=> 하루 할당량(=약 10,000)이 있기 때문에"
   ]
  },
  {
   "cell_type": "code",
   "execution_count": 4,
   "id": "2531fdb2",
   "metadata": {},
   "outputs": [],
   "source": [
    "#기본 정보 설정\n",
    "api_key = \"***\" #api key는 보안상의 문제로 마킹 처리함\n",
    "youtube_api_service_name = \"youtube\" #Google API 객체를 생성 (명칭은 'youtube'로 고정됨)\n",
    "youtube_api_version = \"v3\"\n",
    "youtube = build(youtube_api_service_name, youtube_api_version, developerKey=api_key)"
   ]
  },
  {
   "cell_type": "markdown",
   "id": "b284b152",
   "metadata": {},
   "source": [
    "## (1-1) 소속사 채널 ID 추출"
   ]
  },
  {
   "cell_type": "markdown",
   "id": "4d3d74d5",
   "metadata": {},
   "source": [
    "### (1-1-1) 하이브(HYBE)"
   ]
  },
  {
   "cell_type": "code",
   "execution_count": 3,
   "id": "de3a6d74",
   "metadata": {},
   "outputs": [],
   "source": [
    "#query문 작성\n",
    "search_response = youtube.search().list(\n",
    "    q = \"HYBE LABELS\",\n",
    "    order = \"relevance\",\n",
    "    part = \"snippet\",\n",
    "    maxResults = 5,\n",
    "    type = \"channel\"\n",
    ").execute()"
   ]
  },
  {
   "cell_type": "code",
   "execution_count": 4,
   "id": "14783e41",
   "metadata": {},
   "outputs": [
    {
     "data": {
      "text/plain": [
       "{'kind': 'youtube#searchListResponse',\n",
       " 'etag': 'zGgMmGbnhB83_OEfdoyJrAZqrjU',\n",
       " 'nextPageToken': 'CAUQAA',\n",
       " 'regionCode': 'KR',\n",
       " 'pageInfo': {'totalResults': 1435, 'resultsPerPage': 5},\n",
       " 'items': [{'kind': 'youtube#searchResult',\n",
       "   'etag': 'ULm28uTgiw4G74c-7Kgj1rw2_No',\n",
       "   'id': {'kind': 'youtube#channel', 'channelId': 'UC3IZKseVpdzPSBaWxBxundA'},\n",
       "   'snippet': {'publishedAt': '2008-06-04T08:23:22Z',\n",
       "    'channelId': 'UC3IZKseVpdzPSBaWxBxundA',\n",
       "    'title': 'HYBE LABELS',\n",
       "    'description': 'Welcome to the official YouTube channel of HYBE, the content hub for BIGHIT MUSIC, BELIFT LAB, SOURCE MUSIC, PLEDIS ...',\n",
       "    'thumbnails': {'default': {'url': 'https://yt3.ggpht.com/ytc/AOPolaQdfSRhcE0CNaJkVHMjeKMud1Jqe2D2MrM0kIoHEw=s88-c-k-c0xffffffff-no-rj-mo'},\n",
       "     'medium': {'url': 'https://yt3.ggpht.com/ytc/AOPolaQdfSRhcE0CNaJkVHMjeKMud1Jqe2D2MrM0kIoHEw=s240-c-k-c0xffffffff-no-rj-mo'},\n",
       "     'high': {'url': 'https://yt3.ggpht.com/ytc/AOPolaQdfSRhcE0CNaJkVHMjeKMud1Jqe2D2MrM0kIoHEw=s800-c-k-c0xffffffff-no-rj-mo'}},\n",
       "    'channelTitle': 'HYBE LABELS',\n",
       "    'liveBroadcastContent': 'none',\n",
       "    'publishTime': '2008-06-04T08:23:22Z'}},\n",
       "  {'kind': 'youtube#searchResult',\n",
       "   'etag': 'NJdCohjYXqgJuMiJ30UF_Sn4T-c',\n",
       "   'id': {'kind': 'youtube#channel', 'channelId': 'UCjfqjGIjR3AtVsvzCc4fO1g'},\n",
       "   'snippet': {'publishedAt': '2022-05-26T04:23:11Z',\n",
       "    'channelId': 'UCjfqjGIjR3AtVsvzCc4fO1g',\n",
       "    'title': 'HYBE LABELS +',\n",
       "    'description': 'Welcome to the official YouTube channel of HYBE LABELS +.',\n",
       "    'thumbnails': {'default': {'url': 'https://yt3.ggpht.com/m_1dEnWPKaBqlTP5zg6sz2FOtlE6HfCsZj4-lOC6vTmoZXARkHuJEto-pqtCINxRaRU2rGGX=s88-c-k-c0xffffffff-no-rj-mo'},\n",
       "     'medium': {'url': 'https://yt3.ggpht.com/m_1dEnWPKaBqlTP5zg6sz2FOtlE6HfCsZj4-lOC6vTmoZXARkHuJEto-pqtCINxRaRU2rGGX=s240-c-k-c0xffffffff-no-rj-mo'},\n",
       "     'high': {'url': 'https://yt3.ggpht.com/m_1dEnWPKaBqlTP5zg6sz2FOtlE6HfCsZj4-lOC6vTmoZXARkHuJEto-pqtCINxRaRU2rGGX=s800-c-k-c0xffffffff-no-rj-mo'}},\n",
       "    'channelTitle': 'HYBE LABELS +',\n",
       "    'liveBroadcastContent': 'none',\n",
       "    'publishTime': '2022-05-26T04:23:11Z'}},\n",
       "  {'kind': 'youtube#searchResult',\n",
       "   'etag': 'xHTwtkv-2iqBJ42ldHu94GvyrU4',\n",
       "   'id': {'kind': 'youtube#channel', 'channelId': 'UCwaRyScfRE26qFT2JsUCrCQ'},\n",
       "   'snippet': {'publishedAt': '2021-11-26T18:34:02Z',\n",
       "    'channelId': 'UCwaRyScfRE26qFT2JsUCrCQ',\n",
       "    'title': 'HYBE LABELS',\n",
       "    'description': 'Welcome to the official YouTube channel of HYBE, the content hub for BIGHIT MUSIC, BELIFT LAB, SOURCE MUSIC, PLEDIS ...',\n",
       "    'thumbnails': {'default': {'url': 'https://yt3.ggpht.com/UFt6aTvf_w_BNYuGiAj4jYqhswTWaRH1sGFBvSnP9zvxKviPVet9xNz6dFu4u-np5yG5m8zpGw=s88-c-k-c0xffffffff-no-rj-mo'},\n",
       "     'medium': {'url': 'https://yt3.ggpht.com/UFt6aTvf_w_BNYuGiAj4jYqhswTWaRH1sGFBvSnP9zvxKviPVet9xNz6dFu4u-np5yG5m8zpGw=s240-c-k-c0xffffffff-no-rj-mo'},\n",
       "     'high': {'url': 'https://yt3.ggpht.com/UFt6aTvf_w_BNYuGiAj4jYqhswTWaRH1sGFBvSnP9zvxKviPVet9xNz6dFu4u-np5yG5m8zpGw=s800-c-k-c0xffffffff-no-rj-mo'}},\n",
       "    'channelTitle': 'HYBE LABELS',\n",
       "    'liveBroadcastContent': 'none',\n",
       "    'publishTime': '2021-11-26T18:34:02Z'}},\n",
       "  {'kind': 'youtube#searchResult',\n",
       "   'etag': 'GgdBOk3CEqKJ7xvCUaBm_lvCW94',\n",
       "   'id': {'kind': 'youtube#channel', 'channelId': 'UCEHPSD3nK-A-CL3yvMcxozA'},\n",
       "   'snippet': {'publishedAt': '2022-07-01T14:04:47Z',\n",
       "    'channelId': 'UCEHPSD3nK-A-CL3yvMcxozA',\n",
       "    'title': 'HYBE LABELS',\n",
       "    'description': 'Welcome to the official YouTube channel of HYBE, the content hub for BIGHIT MUSIC, BELIFT LAB, SOURCE MUSIC, PLEDIS ...',\n",
       "    'thumbnails': {'default': {'url': 'https://yt3.ggpht.com/bspnrn210FnsNH0jMZI_emvMnAw5Kivd3Rq7rY-vqbyRmFs7UIipnnfAX3F-DSea2UJJN6pl=s88-c-k-c0xffffffff-no-rj-mo'},\n",
       "     'medium': {'url': 'https://yt3.ggpht.com/bspnrn210FnsNH0jMZI_emvMnAw5Kivd3Rq7rY-vqbyRmFs7UIipnnfAX3F-DSea2UJJN6pl=s240-c-k-c0xffffffff-no-rj-mo'},\n",
       "     'high': {'url': 'https://yt3.ggpht.com/bspnrn210FnsNH0jMZI_emvMnAw5Kivd3Rq7rY-vqbyRmFs7UIipnnfAX3F-DSea2UJJN6pl=s800-c-k-c0xffffffff-no-rj-mo'}},\n",
       "    'channelTitle': 'HYBE LABELS',\n",
       "    'liveBroadcastContent': 'none',\n",
       "    'publishTime': '2022-07-01T14:04:47Z'}},\n",
       "  {'kind': 'youtube#searchResult',\n",
       "   'etag': 'FZT9OCtiedzDBj10_QvcFQr9rrc',\n",
       "   'id': {'kind': 'youtube#channel', 'channelId': 'UCp6Cckl7P2a_TDE-oPFPvcA'},\n",
       "   'snippet': {'publishedAt': '2023-04-07T05:45:46Z',\n",
       "    'channelId': 'UCp6Cckl7P2a_TDE-oPFPvcA',\n",
       "    'title': 'HYBE LABELS +',\n",
       "    'description': 'Welcome to HYBE LABELS BTS , where we bring you the latest and most relevant news stories that are making headlines in the ...',\n",
       "    'thumbnails': {'default': {'url': 'https://yt3.ggpht.com/v_Zm2TN4BoFJwYuDxkKs3VUWMFLDWNpKrmU4Y5qDo1aUYcpcwSMTwoZEoZeacklJ8qHNf8yA8Q=s88-c-k-c0xffffffff-no-rj-mo'},\n",
       "     'medium': {'url': 'https://yt3.ggpht.com/v_Zm2TN4BoFJwYuDxkKs3VUWMFLDWNpKrmU4Y5qDo1aUYcpcwSMTwoZEoZeacklJ8qHNf8yA8Q=s240-c-k-c0xffffffff-no-rj-mo'},\n",
       "     'high': {'url': 'https://yt3.ggpht.com/v_Zm2TN4BoFJwYuDxkKs3VUWMFLDWNpKrmU4Y5qDo1aUYcpcwSMTwoZEoZeacklJ8qHNf8yA8Q=s800-c-k-c0xffffffff-no-rj-mo'}},\n",
       "    'channelTitle': 'HYBE LABELS +',\n",
       "    'liveBroadcastContent': 'none',\n",
       "    'publishTime': '2023-04-07T05:45:46Z'}}]}"
      ]
     },
     "execution_count": 4,
     "metadata": {},
     "output_type": "execute_result"
    }
   ],
   "source": [
    "search_response"
   ]
  },
  {
   "cell_type": "code",
   "execution_count": 33,
   "id": "5ea18cd4",
   "metadata": {
    "scrolled": false
   },
   "outputs": [
    {
     "data": {
      "text/html": [
       "<div>\n",
       "<style scoped>\n",
       "    .dataframe tbody tr th:only-of-type {\n",
       "        vertical-align: middle;\n",
       "    }\n",
       "\n",
       "    .dataframe tbody tr th {\n",
       "        vertical-align: top;\n",
       "    }\n",
       "\n",
       "    .dataframe thead th {\n",
       "        text-align: right;\n",
       "    }\n",
       "</style>\n",
       "<table border=\"1\" class=\"dataframe\">\n",
       "  <thead>\n",
       "    <tr style=\"text-align: right;\">\n",
       "      <th></th>\n",
       "      <th>channelTitle</th>\n",
       "      <th>channelId</th>\n",
       "    </tr>\n",
       "  </thead>\n",
       "  <tbody>\n",
       "    <tr>\n",
       "      <th>0</th>\n",
       "      <td>HYBE LABELS</td>\n",
       "      <td>UC3IZKseVpdzPSBaWxBxundA</td>\n",
       "    </tr>\n",
       "    <tr>\n",
       "      <th>1</th>\n",
       "      <td>HYBE LABELS +</td>\n",
       "      <td>UCjfqjGIjR3AtVsvzCc4fO1g</td>\n",
       "    </tr>\n",
       "    <tr>\n",
       "      <th>2</th>\n",
       "      <td>HYBE LABELS</td>\n",
       "      <td>UCD6TdvomGG2QGHc8SXkVOsQ</td>\n",
       "    </tr>\n",
       "    <tr>\n",
       "      <th>3</th>\n",
       "      <td>HYBE LABELS</td>\n",
       "      <td>UCPXorjpHdFAwVhg9Q4tJEYA</td>\n",
       "    </tr>\n",
       "    <tr>\n",
       "      <th>4</th>\n",
       "      <td>HYBE LABELS</td>\n",
       "      <td>UCEHPSD3nK-A-CL3yvMcxozA</td>\n",
       "    </tr>\n",
       "  </tbody>\n",
       "</table>\n",
       "</div>"
      ],
      "text/plain": [
       "    channelTitle                 channelId\n",
       "0    HYBE LABELS  UC3IZKseVpdzPSBaWxBxundA\n",
       "1  HYBE LABELS +  UCjfqjGIjR3AtVsvzCc4fO1g\n",
       "2    HYBE LABELS  UCD6TdvomGG2QGHc8SXkVOsQ\n",
       "3    HYBE LABELS  UCPXorjpHdFAwVhg9Q4tJEYA\n",
       "4    HYBE LABELS  UCEHPSD3nK-A-CL3yvMcxozA"
      ]
     },
     "execution_count": 33,
     "metadata": {},
     "output_type": "execute_result"
    }
   ],
   "source": [
    "#필요한 변수들로 데이터프레임을 구성\n",
    "channelTitle = []\n",
    "channelId = []\n",
    "\n",
    "for item in search_response[\"items\"]:\n",
    "    channelTitle.append(item[\"snippet\"][\"title\"])\n",
    "    channelId.append(item[\"snippet\"][\"channelId\"])\n",
    "    \n",
    "search_df = pd.DataFrame({\"channelTitle\": channelTitle, \"channelId\": channelId})\n",
    "search_df"
   ]
  },
  {
   "cell_type": "code",
   "execution_count": 34,
   "id": "33a330d8",
   "metadata": {},
   "outputs": [
    {
     "data": {
      "text/plain": [
       "'UC3IZKseVpdzPSBaWxBxundA'"
      ]
     },
     "execution_count": 34,
     "metadata": {},
     "output_type": "execute_result"
    }
   ],
   "source": [
    "hybe = search_df[\"channelId\"][0]\n",
    "hybe"
   ]
  },
  {
   "cell_type": "markdown",
   "id": "47bf2b7d",
   "metadata": {},
   "source": [
    "### (1-1-2) 와이지(YG)"
   ]
  },
  {
   "cell_type": "code",
   "execution_count": 20,
   "id": "c70cbfae",
   "metadata": {},
   "outputs": [],
   "source": [
    "#query문 작성\n",
    "search_response = youtube.search().list(\n",
    "    q = \"YG ENTERTAINMENT\",\n",
    "    order = \"relevance\",\n",
    "    part = \"snippet\",\n",
    "    maxResults = 5,\n",
    "    type = \"channel\"\n",
    ").execute()"
   ]
  },
  {
   "cell_type": "code",
   "execution_count": 21,
   "id": "95a014aa",
   "metadata": {},
   "outputs": [
    {
     "data": {
      "text/plain": [
       "{'kind': 'youtube#searchListResponse',\n",
       " 'etag': '0JBjfzJS8tuvTOFH0kAi5rKI4DA',\n",
       " 'nextPageToken': 'CAUQAA',\n",
       " 'regionCode': 'KR',\n",
       " 'pageInfo': {'totalResults': 21792, 'resultsPerPage': 5},\n",
       " 'items': [{'kind': 'youtube#searchResult',\n",
       "   'etag': '1fcQqcrL3WMWfsndTwn4rxWq7B0',\n",
       "   'id': {'kind': 'youtube#channel', 'channelId': 'UCQi67q4kGdmnJaRzX81uK5g'},\n",
       "   'snippet': {'publishedAt': '2008-01-18T02:22:00Z',\n",
       "    'channelId': 'UCQi67q4kGdmnJaRzX81uK5g',\n",
       "    'title': 'YG ENTERTAINMENT',\n",
       "    'description': 'Welcome to YG Entertainment.',\n",
       "    'thumbnails': {'default': {'url': 'https://yt3.ggpht.com/ytc/AOPolaTEuA0WE9axm89mn_Wg8n_B19g7YuNyqkas8IgoRQ=s88-c-k-c0xffffffff-no-rj-mo'},\n",
       "     'medium': {'url': 'https://yt3.ggpht.com/ytc/AOPolaTEuA0WE9axm89mn_Wg8n_B19g7YuNyqkas8IgoRQ=s240-c-k-c0xffffffff-no-rj-mo'},\n",
       "     'high': {'url': 'https://yt3.ggpht.com/ytc/AOPolaTEuA0WE9axm89mn_Wg8n_B19g7YuNyqkas8IgoRQ=s800-c-k-c0xffffffff-no-rj-mo'}},\n",
       "    'channelTitle': 'YG ENTERTAINMENT',\n",
       "    'liveBroadcastContent': 'none',\n",
       "    'publishTime': '2008-01-18T02:22:00Z'}},\n",
       "  {'kind': 'youtube#searchResult',\n",
       "   'etag': 'Qnq03wj_ssieNc7liyFoJVBhGGw',\n",
       "   'id': {'kind': 'youtube#channel', 'channelId': 'UCquCOGattLleH5erOxiWVmQ'},\n",
       "   'snippet': {'publishedAt': '2018-08-13T06:18:11Z',\n",
       "    'channelId': 'UCquCOGattLleH5erOxiWVmQ',\n",
       "    'title': 'YG TREASURE BOX',\n",
       "    'description': '',\n",
       "    'thumbnails': {'default': {'url': 'https://yt3.ggpht.com/ytc/AOPolaTEF_KJaJHzR-nw5MtpDGWwjU3Vht4QAD7L3-rc=s88-c-k-c0xffffffff-no-rj-mo'},\n",
       "     'medium': {'url': 'https://yt3.ggpht.com/ytc/AOPolaTEF_KJaJHzR-nw5MtpDGWwjU3Vht4QAD7L3-rc=s240-c-k-c0xffffffff-no-rj-mo'},\n",
       "     'high': {'url': 'https://yt3.ggpht.com/ytc/AOPolaTEF_KJaJHzR-nw5MtpDGWwjU3Vht4QAD7L3-rc=s800-c-k-c0xffffffff-no-rj-mo'}},\n",
       "    'channelTitle': 'YG TREASURE BOX',\n",
       "    'liveBroadcastContent': 'none',\n",
       "    'publishTime': '2018-08-13T06:18:11Z'}},\n",
       "  {'kind': 'youtube#searchResult',\n",
       "   'etag': 'Uv9QYSKNTGg_NI_UYu7Wa6VDLnc',\n",
       "   'id': {'kind': 'youtube#channel', 'channelId': 'UCDWzubWCh-wNKN7aa6AGrvQ'},\n",
       "   'snippet': {'publishedAt': '2022-07-18T00:30:58Z',\n",
       "    'channelId': 'UCDWzubWCh-wNKN7aa6AGrvQ',\n",
       "    'title': 'YG Entertainment',\n",
       "    'description': 'YG ENTERTAINMENT KPOP.',\n",
       "    'thumbnails': {'default': {'url': 'https://yt3.ggpht.com/EsetNR9S8Vl6_OPMWmnYt6l5JvwdHA1JvUITeuLe2vOituuTCmxea5jAPuLDTO4R0UweptUEVg=s88-c-k-c0xffffffff-no-rj-mo'},\n",
       "     'medium': {'url': 'https://yt3.ggpht.com/EsetNR9S8Vl6_OPMWmnYt6l5JvwdHA1JvUITeuLe2vOituuTCmxea5jAPuLDTO4R0UweptUEVg=s240-c-k-c0xffffffff-no-rj-mo'},\n",
       "     'high': {'url': 'https://yt3.ggpht.com/EsetNR9S8Vl6_OPMWmnYt6l5JvwdHA1JvUITeuLe2vOituuTCmxea5jAPuLDTO4R0UweptUEVg=s800-c-k-c0xffffffff-no-rj-mo'}},\n",
       "    'channelTitle': 'YG Entertainment',\n",
       "    'liveBroadcastContent': 'none',\n",
       "    'publishTime': '2022-07-18T00:30:58Z'}},\n",
       "  {'kind': 'youtube#searchResult',\n",
       "   'etag': 'gnxxbuMqunVpjRGlnlWCqRp4Pw4',\n",
       "   'id': {'kind': 'youtube#channel', 'channelId': 'UCzXVYRoJlnHY4WspKMh4JTA'},\n",
       "   'snippet': {'publishedAt': '2020-04-06T21:37:13Z',\n",
       "    'channelId': 'UCzXVYRoJlnHY4WspKMh4JTA',\n",
       "    'title': 'YG ENTERTAINMENT ',\n",
       "    'description': 'ITZY ARIANA GRANDE SOMI BLACKPINK and more...',\n",
       "    'thumbnails': {'default': {'url': 'https://yt3.ggpht.com/BJu-09V4Lr22OoCyWXY35D7Po20WfHce2vqsOXOV71TwdoG4ju0ojbqC_GgwMLZwixMjBMw3uw=s88-c-k-c0xffffffff-no-rj-mo'},\n",
       "     'medium': {'url': 'https://yt3.ggpht.com/BJu-09V4Lr22OoCyWXY35D7Po20WfHce2vqsOXOV71TwdoG4ju0ojbqC_GgwMLZwixMjBMw3uw=s240-c-k-c0xffffffff-no-rj-mo'},\n",
       "     'high': {'url': 'https://yt3.ggpht.com/BJu-09V4Lr22OoCyWXY35D7Po20WfHce2vqsOXOV71TwdoG4ju0ojbqC_GgwMLZwixMjBMw3uw=s800-c-k-c0xffffffff-no-rj-mo'}},\n",
       "    'channelTitle': 'YG ENTERTAINMENT ',\n",
       "    'liveBroadcastContent': 'upcoming',\n",
       "    'publishTime': '2020-04-06T21:37:13Z'}},\n",
       "  {'kind': 'youtube#searchResult',\n",
       "   'etag': 'Nz0Nggpi5uLHmcPXgzMQe298ToQ',\n",
       "   'id': {'kind': 'youtube#channel', 'channelId': 'UC2MT3BWUy9RFSvYPc0eftaw'},\n",
       "   'snippet': {'publishedAt': '2023-03-22T23:26:14Z',\n",
       "    'channelId': 'UC2MT3BWUy9RFSvYPc0eftaw',\n",
       "    'title': 'YG ENTERTAINMENT OFFICIAL',\n",
       "    'description': 'YG ENTERTAINMENT OFFICAL Instagram: yg_entertainment8.',\n",
       "    'thumbnails': {'default': {'url': 'https://yt3.ggpht.com/I0juHaUclrv9q9Z06yHDFeLydIBxl2ULhMn7H4ABMIUVphMDyCeuQbbQpf1SkZ71S5TzZlhZiA=s88-c-k-c0xffffffff-no-rj-mo'},\n",
       "     'medium': {'url': 'https://yt3.ggpht.com/I0juHaUclrv9q9Z06yHDFeLydIBxl2ULhMn7H4ABMIUVphMDyCeuQbbQpf1SkZ71S5TzZlhZiA=s240-c-k-c0xffffffff-no-rj-mo'},\n",
       "     'high': {'url': 'https://yt3.ggpht.com/I0juHaUclrv9q9Z06yHDFeLydIBxl2ULhMn7H4ABMIUVphMDyCeuQbbQpf1SkZ71S5TzZlhZiA=s800-c-k-c0xffffffff-no-rj-mo'}},\n",
       "    'channelTitle': 'YG ENTERTAINMENT OFFICIAL',\n",
       "    'liveBroadcastContent': 'none',\n",
       "    'publishTime': '2023-03-22T23:26:14Z'}}]}"
      ]
     },
     "execution_count": 21,
     "metadata": {},
     "output_type": "execute_result"
    }
   ],
   "source": [
    "search_response"
   ]
  },
  {
   "cell_type": "code",
   "execution_count": 22,
   "id": "e8af2573",
   "metadata": {},
   "outputs": [
    {
     "data": {
      "text/html": [
       "<div>\n",
       "<style scoped>\n",
       "    .dataframe tbody tr th:only-of-type {\n",
       "        vertical-align: middle;\n",
       "    }\n",
       "\n",
       "    .dataframe tbody tr th {\n",
       "        vertical-align: top;\n",
       "    }\n",
       "\n",
       "    .dataframe thead th {\n",
       "        text-align: right;\n",
       "    }\n",
       "</style>\n",
       "<table border=\"1\" class=\"dataframe\">\n",
       "  <thead>\n",
       "    <tr style=\"text-align: right;\">\n",
       "      <th></th>\n",
       "      <th>channelTitle</th>\n",
       "      <th>channelId</th>\n",
       "    </tr>\n",
       "  </thead>\n",
       "  <tbody>\n",
       "    <tr>\n",
       "      <th>0</th>\n",
       "      <td>YG ENTERTAINMENT</td>\n",
       "      <td>UCQi67q4kGdmnJaRzX81uK5g</td>\n",
       "    </tr>\n",
       "    <tr>\n",
       "      <th>1</th>\n",
       "      <td>YG TREASURE BOX</td>\n",
       "      <td>UCquCOGattLleH5erOxiWVmQ</td>\n",
       "    </tr>\n",
       "    <tr>\n",
       "      <th>2</th>\n",
       "      <td>YG Entertainment</td>\n",
       "      <td>UCDWzubWCh-wNKN7aa6AGrvQ</td>\n",
       "    </tr>\n",
       "    <tr>\n",
       "      <th>3</th>\n",
       "      <td>YG ENTERTAINMENT</td>\n",
       "      <td>UCzXVYRoJlnHY4WspKMh4JTA</td>\n",
       "    </tr>\n",
       "    <tr>\n",
       "      <th>4</th>\n",
       "      <td>YG ENTERTAINMENT OFFICIAL</td>\n",
       "      <td>UC2MT3BWUy9RFSvYPc0eftaw</td>\n",
       "    </tr>\n",
       "  </tbody>\n",
       "</table>\n",
       "</div>"
      ],
      "text/plain": [
       "                channelTitle                 channelId\n",
       "0           YG ENTERTAINMENT  UCQi67q4kGdmnJaRzX81uK5g\n",
       "1            YG TREASURE BOX  UCquCOGattLleH5erOxiWVmQ\n",
       "2           YG Entertainment  UCDWzubWCh-wNKN7aa6AGrvQ\n",
       "3          YG ENTERTAINMENT   UCzXVYRoJlnHY4WspKMh4JTA\n",
       "4  YG ENTERTAINMENT OFFICIAL  UC2MT3BWUy9RFSvYPc0eftaw"
      ]
     },
     "execution_count": 22,
     "metadata": {},
     "output_type": "execute_result"
    }
   ],
   "source": [
    "#필요한 변수들로 데이터프레임을 구성\n",
    "channelTitle = []\n",
    "channelId = []\n",
    "\n",
    "for item in search_response[\"items\"]:\n",
    "    channelTitle.append(item[\"snippet\"][\"title\"])\n",
    "    channelId.append(item[\"snippet\"][\"channelId\"])\n",
    "    \n",
    "search_df = pd.DataFrame({\"channelTitle\": channelTitle, \"channelId\": channelId})\n",
    "search_df"
   ]
  },
  {
   "cell_type": "code",
   "execution_count": 23,
   "id": "ca90d108",
   "metadata": {
    "scrolled": true
   },
   "outputs": [
    {
     "data": {
      "text/plain": [
       "'UCQi67q4kGdmnJaRzX81uK5g'"
      ]
     },
     "execution_count": 23,
     "metadata": {},
     "output_type": "execute_result"
    }
   ],
   "source": [
    "yg = search_df[\"channelId\"][0]\n",
    "yg"
   ]
  },
  {
   "cell_type": "markdown",
   "id": "b3dd853e",
   "metadata": {},
   "source": [
    "### (1-1-3) 제이와이피(JYP)"
   ]
  },
  {
   "cell_type": "code",
   "execution_count": 4,
   "id": "67ad80bc",
   "metadata": {},
   "outputs": [],
   "source": [
    "#query문 작성\n",
    "search_response = youtube.search().list(\n",
    "    q = \"JYP Entertainment\",\n",
    "    order = \"relevance\",\n",
    "    part = \"snippet\",\n",
    "    maxResults = 5,\n",
    "    type = \"channel\"\n",
    ").execute()"
   ]
  },
  {
   "cell_type": "code",
   "execution_count": 5,
   "id": "0fe934c3",
   "metadata": {},
   "outputs": [
    {
     "data": {
      "text/plain": [
       "{'kind': 'youtube#searchListResponse',\n",
       " 'etag': 'pAzAcM9LCYo9e9tao3f6ybUGmYo',\n",
       " 'nextPageToken': 'CAUQAA',\n",
       " 'regionCode': 'KR',\n",
       " 'pageInfo': {'totalResults': 12988, 'resultsPerPage': 5},\n",
       " 'items': [{'kind': 'youtube#searchResult',\n",
       "   'etag': 'bTJA2_xt4FjYwdl9fRfSlsHKtnw',\n",
       "   'id': {'kind': 'youtube#channel', 'channelId': 'UCaO6TYtlC8U5ttz62hTrZgg'},\n",
       "   'snippet': {'publishedAt': '2008-01-25T07:45:44Z',\n",
       "    'channelId': 'UCaO6TYtlC8U5ttz62hTrZgg',\n",
       "    'title': 'JYP Entertainment',\n",
       "    'description': 'JYPnation Official YouTube LEADER IN ENTERTAINMENT There are values and goals that JYP Entertainment (JYP) has ...',\n",
       "    'thumbnails': {'default': {'url': 'https://yt3.ggpht.com/kcV7NQkBm-UvvzVTJvrg1Yf1eHSqi-DLXuZPt_ECa3cHEPefujS951Dxj6KUEQ5i9Z7_fyMUjw=s88-c-k-c0xffffffff-no-rj-mo'},\n",
       "     'medium': {'url': 'https://yt3.ggpht.com/kcV7NQkBm-UvvzVTJvrg1Yf1eHSqi-DLXuZPt_ECa3cHEPefujS951Dxj6KUEQ5i9Z7_fyMUjw=s240-c-k-c0xffffffff-no-rj-mo'},\n",
       "     'high': {'url': 'https://yt3.ggpht.com/kcV7NQkBm-UvvzVTJvrg1Yf1eHSqi-DLXuZPt_ECa3cHEPefujS951Dxj6KUEQ5i9Z7_fyMUjw=s800-c-k-c0xffffffff-no-rj-mo'}},\n",
       "    'channelTitle': 'JYP Entertainment',\n",
       "    'liveBroadcastContent': 'upcoming',\n",
       "    'publishTime': '2008-01-25T07:45:44Z'}},\n",
       "  {'kind': 'youtube#searchResult',\n",
       "   'etag': 'wDyEYcLTWUeqki3N_WKVoOoiytc',\n",
       "   'id': {'kind': 'youtube#channel', 'channelId': 'UC9rMiEjNaCSsebs31MRDCRA'},\n",
       "   'snippet': {'publishedAt': '2017-05-12T03:28:10Z',\n",
       "    'channelId': 'UC9rMiEjNaCSsebs31MRDCRA',\n",
       "    'title': 'Stray Kids',\n",
       "    'description': 'Stray Kids Official YouTube.',\n",
       "    'thumbnails': {'default': {'url': 'https://yt3.ggpht.com/nO0HX2YwTdh1YDCuxRsCd9ljmK2cbUVFu7PGoT22LPKx4Zk0iqhUJbheybIpC-0hqEUIIC0dS3g=s88-c-k-c0xffffffff-no-rj-mo'},\n",
       "     'medium': {'url': 'https://yt3.ggpht.com/nO0HX2YwTdh1YDCuxRsCd9ljmK2cbUVFu7PGoT22LPKx4Zk0iqhUJbheybIpC-0hqEUIIC0dS3g=s240-c-k-c0xffffffff-no-rj-mo'},\n",
       "     'high': {'url': 'https://yt3.ggpht.com/nO0HX2YwTdh1YDCuxRsCd9ljmK2cbUVFu7PGoT22LPKx4Zk0iqhUJbheybIpC-0hqEUIIC0dS3g=s800-c-k-c0xffffffff-no-rj-mo'}},\n",
       "    'channelTitle': 'Stray Kids',\n",
       "    'liveBroadcastContent': 'upcoming',\n",
       "    'publishTime': '2017-05-12T03:28:10Z'}},\n",
       "  {'kind': 'youtube#searchResult',\n",
       "   'etag': 'Of-NEEKXFS-l5lMwm9Bgm7PuesA',\n",
       "   'id': {'kind': 'youtube#channel', 'channelId': 'UCzgxx_DM2Dcb9Y1spb9mUJA'},\n",
       "   'snippet': {'publishedAt': '2016-03-27T15:48:08Z',\n",
       "    'channelId': 'UCzgxx_DM2Dcb9Y1spb9mUJA',\n",
       "    'title': 'TWICE',\n",
       "    'description': 'TWICE Official YouTube Channel.',\n",
       "    'thumbnails': {'default': {'url': 'https://yt3.ggpht.com/PKCD8EPU-3nm1UQ54-e2ZT3Xqwr9cMA2F-vow1gnkFGCxzwv5hRZgbjBssLe4ttjhwpXXgDbdg=s88-c-k-c0xffffffff-no-rj-mo'},\n",
       "     'medium': {'url': 'https://yt3.ggpht.com/PKCD8EPU-3nm1UQ54-e2ZT3Xqwr9cMA2F-vow1gnkFGCxzwv5hRZgbjBssLe4ttjhwpXXgDbdg=s240-c-k-c0xffffffff-no-rj-mo'},\n",
       "     'high': {'url': 'https://yt3.ggpht.com/PKCD8EPU-3nm1UQ54-e2ZT3Xqwr9cMA2F-vow1gnkFGCxzwv5hRZgbjBssLe4ttjhwpXXgDbdg=s800-c-k-c0xffffffff-no-rj-mo'}},\n",
       "    'channelTitle': 'TWICE',\n",
       "    'liveBroadcastContent': 'live',\n",
       "    'publishTime': '2016-03-27T15:48:08Z'}},\n",
       "  {'kind': 'youtube#searchResult',\n",
       "   'etag': 'yBGQJK-fSkYXEP5ECxEIztj6QGU',\n",
       "   'id': {'kind': 'youtube#channel', 'channelId': 'UC14f-9FTI6ZtAisnKaB8wQA'},\n",
       "   'snippet': {'publishedAt': '2020-08-29T12:09:32Z',\n",
       "    'channelId': 'UC14f-9FTI6ZtAisnKaB8wQA',\n",
       "    'title': 'JYP Entertainment',\n",
       "    'description': 'Welcome to my channel - JYP Entertainment.',\n",
       "    'thumbnails': {'default': {'url': 'https://yt3.ggpht.com/ytc/AOPolaRgZM7B0vNq4966LbkDL2PXJylKcI6XqX17jQ=s88-c-k-c0xffffffff-no-rj-mo'},\n",
       "     'medium': {'url': 'https://yt3.ggpht.com/ytc/AOPolaRgZM7B0vNq4966LbkDL2PXJylKcI6XqX17jQ=s240-c-k-c0xffffffff-no-rj-mo'},\n",
       "     'high': {'url': 'https://yt3.ggpht.com/ytc/AOPolaRgZM7B0vNq4966LbkDL2PXJylKcI6XqX17jQ=s800-c-k-c0xffffffff-no-rj-mo'}},\n",
       "    'channelTitle': 'JYP Entertainment',\n",
       "    'liveBroadcastContent': 'none',\n",
       "    'publishTime': '2020-08-29T12:09:32Z'}},\n",
       "  {'kind': 'youtube#searchResult',\n",
       "   'etag': 'ugQqgFfEdjFq1SVKOmBE9jwGTD4',\n",
       "   'id': {'kind': 'youtube#channel', 'channelId': 'UC4rNDP4pnQabqbmfqcFngHA'},\n",
       "   'snippet': {'publishedAt': '2009-07-29T04:49:40Z',\n",
       "    'channelId': 'UC4rNDP4pnQabqbmfqcFngHA',\n",
       "    'title': 'JYPAudition',\n",
       "    'description': 'JYP Entertainmnet Audition.',\n",
       "    'thumbnails': {'default': {'url': 'https://yt3.ggpht.com/OCwvmozn_NYgvp92psu6oJD7GW-nPwF5pKpnqRrb8Be2C7XJ6mQl9qKUAdqyI5ECcW_2XrYU1ps=s88-c-k-c0xffffffff-no-rj-mo'},\n",
       "     'medium': {'url': 'https://yt3.ggpht.com/OCwvmozn_NYgvp92psu6oJD7GW-nPwF5pKpnqRrb8Be2C7XJ6mQl9qKUAdqyI5ECcW_2XrYU1ps=s240-c-k-c0xffffffff-no-rj-mo'},\n",
       "     'high': {'url': 'https://yt3.ggpht.com/OCwvmozn_NYgvp92psu6oJD7GW-nPwF5pKpnqRrb8Be2C7XJ6mQl9qKUAdqyI5ECcW_2XrYU1ps=s800-c-k-c0xffffffff-no-rj-mo'}},\n",
       "    'channelTitle': 'JYPAudition',\n",
       "    'liveBroadcastContent': 'none',\n",
       "    'publishTime': '2009-07-29T04:49:40Z'}}]}"
      ]
     },
     "execution_count": 5,
     "metadata": {},
     "output_type": "execute_result"
    }
   ],
   "source": [
    "search_response"
   ]
  },
  {
   "cell_type": "code",
   "execution_count": 6,
   "id": "1d467f5b",
   "metadata": {},
   "outputs": [
    {
     "data": {
      "text/html": [
       "<div>\n",
       "<style scoped>\n",
       "    .dataframe tbody tr th:only-of-type {\n",
       "        vertical-align: middle;\n",
       "    }\n",
       "\n",
       "    .dataframe tbody tr th {\n",
       "        vertical-align: top;\n",
       "    }\n",
       "\n",
       "    .dataframe thead th {\n",
       "        text-align: right;\n",
       "    }\n",
       "</style>\n",
       "<table border=\"1\" class=\"dataframe\">\n",
       "  <thead>\n",
       "    <tr style=\"text-align: right;\">\n",
       "      <th></th>\n",
       "      <th>channelTitle</th>\n",
       "      <th>channelId</th>\n",
       "    </tr>\n",
       "  </thead>\n",
       "  <tbody>\n",
       "    <tr>\n",
       "      <th>0</th>\n",
       "      <td>JYP Entertainment</td>\n",
       "      <td>UCaO6TYtlC8U5ttz62hTrZgg</td>\n",
       "    </tr>\n",
       "    <tr>\n",
       "      <th>1</th>\n",
       "      <td>Stray Kids</td>\n",
       "      <td>UC9rMiEjNaCSsebs31MRDCRA</td>\n",
       "    </tr>\n",
       "    <tr>\n",
       "      <th>2</th>\n",
       "      <td>TWICE</td>\n",
       "      <td>UCzgxx_DM2Dcb9Y1spb9mUJA</td>\n",
       "    </tr>\n",
       "    <tr>\n",
       "      <th>3</th>\n",
       "      <td>JYP Entertainment</td>\n",
       "      <td>UC14f-9FTI6ZtAisnKaB8wQA</td>\n",
       "    </tr>\n",
       "    <tr>\n",
       "      <th>4</th>\n",
       "      <td>JYPAudition</td>\n",
       "      <td>UC4rNDP4pnQabqbmfqcFngHA</td>\n",
       "    </tr>\n",
       "  </tbody>\n",
       "</table>\n",
       "</div>"
      ],
      "text/plain": [
       "        channelTitle                 channelId\n",
       "0  JYP Entertainment  UCaO6TYtlC8U5ttz62hTrZgg\n",
       "1         Stray Kids  UC9rMiEjNaCSsebs31MRDCRA\n",
       "2              TWICE  UCzgxx_DM2Dcb9Y1spb9mUJA\n",
       "3  JYP Entertainment  UC14f-9FTI6ZtAisnKaB8wQA\n",
       "4        JYPAudition  UC4rNDP4pnQabqbmfqcFngHA"
      ]
     },
     "execution_count": 6,
     "metadata": {},
     "output_type": "execute_result"
    }
   ],
   "source": [
    "#필요한 변수들로 데이터프레임을 구성\n",
    "channelTitle = []\n",
    "channelId = []\n",
    "\n",
    "for item in search_response[\"items\"]:\n",
    "    channelTitle.append(item[\"snippet\"][\"title\"])\n",
    "    channelId.append(item[\"snippet\"][\"channelId\"])\n",
    "    \n",
    "search_df = pd.DataFrame({\"channelTitle\": channelTitle, \"channelId\": channelId})\n",
    "search_df"
   ]
  },
  {
   "cell_type": "code",
   "execution_count": 7,
   "id": "c7ee3538",
   "metadata": {},
   "outputs": [
    {
     "data": {
      "text/plain": [
       "'UCaO6TYtlC8U5ttz62hTrZgg'"
      ]
     },
     "execution_count": 7,
     "metadata": {},
     "output_type": "execute_result"
    }
   ],
   "source": [
    "jyp = search_df[\"channelId\"][0]\n",
    "jyp"
   ]
  },
  {
   "cell_type": "markdown",
   "id": "41e244b5",
   "metadata": {},
   "source": [
    "## (1-2) 소속 아티스트 채널 ID 추출"
   ]
  },
  {
   "cell_type": "markdown",
   "id": "891d2212",
   "metadata": {},
   "source": [
    "### (1-2-1) 하이브(HYBE)"
   ]
  },
  {
   "cell_type": "markdown",
   "id": "76239320",
   "metadata": {},
   "source": [
    "#### (1번) 뉴진스"
   ]
  },
  {
   "cell_type": "code",
   "execution_count": 8,
   "id": "c28a61b2",
   "metadata": {},
   "outputs": [],
   "source": [
    "#query문 작성\n",
    "search_response = youtube.search().list(\n",
    "    q = \"NewJeans\",\n",
    "    order = \"relevance\",\n",
    "    part = \"snippet\",\n",
    "    maxResults = 5,\n",
    "    type = \"channel\"\n",
    ").execute()"
   ]
  },
  {
   "cell_type": "code",
   "execution_count": 9,
   "id": "4d31beb5",
   "metadata": {},
   "outputs": [
    {
     "data": {
      "text/plain": [
       "{'kind': 'youtube#searchListResponse',\n",
       " 'etag': 'GqUm4coFftqtW_7QKYXy6fuRD9A',\n",
       " 'nextPageToken': 'CAUQAA',\n",
       " 'regionCode': 'KR',\n",
       " 'pageInfo': {'totalResults': 25513, 'resultsPerPage': 5},\n",
       " 'items': [{'kind': 'youtube#searchResult',\n",
       "   'etag': 'Iw-zr96pjnbBNOadk-fZQJPc1ys',\n",
       "   'id': {'kind': 'youtube#channel', 'channelId': 'UCMki_UkHb4qSc0qyEcOHHJw'},\n",
       "   'snippet': {'publishedAt': '2022-07-07T08:51:57Z',\n",
       "    'channelId': 'UCMki_UkHb4qSc0qyEcOHHJw',\n",
       "    'title': 'NewJeans',\n",
       "    'description': 'NewJeans Official YouTube NewJeans 공식 유튜브 채널.',\n",
       "    'thumbnails': {'default': {'url': 'https://yt3.ggpht.com/dLGCnr9YbATXl48C6yhJnD-OuEWgTYZIdbLrzJD_YLCR7YtpfChrt-eVfWUsuXWDUDQIwOsO=s88-c-k-c0xffffffff-no-rj-mo'},\n",
       "     'medium': {'url': 'https://yt3.ggpht.com/dLGCnr9YbATXl48C6yhJnD-OuEWgTYZIdbLrzJD_YLCR7YtpfChrt-eVfWUsuXWDUDQIwOsO=s240-c-k-c0xffffffff-no-rj-mo'},\n",
       "     'high': {'url': 'https://yt3.ggpht.com/dLGCnr9YbATXl48C6yhJnD-OuEWgTYZIdbLrzJD_YLCR7YtpfChrt-eVfWUsuXWDUDQIwOsO=s800-c-k-c0xffffffff-no-rj-mo'}},\n",
       "    'channelTitle': 'NewJeans',\n",
       "    'liveBroadcastContent': 'none',\n",
       "    'publishTime': '2022-07-07T08:51:57Z'}},\n",
       "  {'kind': 'youtube#searchResult',\n",
       "   'etag': 'tz_O9Wb3Badam4znWt4AHJyQ_Vc',\n",
       "   'id': {'kind': 'youtube#channel', 'channelId': 'UCxOqS3cYg4FaHbobICo7nFQ'},\n",
       "   'snippet': {'publishedAt': '2022-08-08T00:31:27Z',\n",
       "    'channelId': 'UCxOqS3cYg4FaHbobICo7nFQ',\n",
       "    'title': 'NewJeans - Topic',\n",
       "    'description': '',\n",
       "    'thumbnails': {'default': {'url': 'https://yt3.ggpht.com/qPsv_-Br--8ISp5yNKWRa69wAqk3VRKKGEJ91S9NsqYrJ2pKOefpGE_C0Qojz775pRjdi8lIVg=s88-c-k-c0xffffffff-no-rj-mo'},\n",
       "     'medium': {'url': 'https://yt3.ggpht.com/qPsv_-Br--8ISp5yNKWRa69wAqk3VRKKGEJ91S9NsqYrJ2pKOefpGE_C0Qojz775pRjdi8lIVg=s240-c-k-c0xffffffff-no-rj-mo'},\n",
       "     'high': {'url': 'https://yt3.ggpht.com/qPsv_-Br--8ISp5yNKWRa69wAqk3VRKKGEJ91S9NsqYrJ2pKOefpGE_C0Qojz775pRjdi8lIVg=s800-c-k-c0xffffffff-no-rj-mo'}},\n",
       "    'channelTitle': 'NewJeans - Topic',\n",
       "    'liveBroadcastContent': 'none',\n",
       "    'publishTime': '2022-08-08T00:31:27Z'}},\n",
       "  {'kind': 'youtube#searchResult',\n",
       "   'etag': 'SZGMXNLIPS1mI6hlR0C9vih7mRU',\n",
       "   'id': {'kind': 'youtube#channel', 'channelId': 'UCzmMz5wxxPP_MoPBltwZo-w'},\n",
       "   'snippet': {'publishedAt': '2023-04-02T11:37:28Z',\n",
       "    'channelId': 'UCzmMz5wxxPP_MoPBltwZo-w',\n",
       "    'title': 'NewJeans THBN',\n",
       "    'description': 'New Jeans ซับไทย NewJeans ซับไทย แปลไทย โดย \" New Jeans THBN \" . TikTok : @newjeans_thbn Instagram ...',\n",
       "    'thumbnails': {'default': {'url': 'https://yt3.ggpht.com/xkLcB10xGfCCjXrYnknhRxU5h0YuEHwraW1LHIOydW4Nvaq14cN1W-DYYU1E6RQu9XMp9GOu=s88-c-k-c0xffffffff-no-rj-mo'},\n",
       "     'medium': {'url': 'https://yt3.ggpht.com/xkLcB10xGfCCjXrYnknhRxU5h0YuEHwraW1LHIOydW4Nvaq14cN1W-DYYU1E6RQu9XMp9GOu=s240-c-k-c0xffffffff-no-rj-mo'},\n",
       "     'high': {'url': 'https://yt3.ggpht.com/xkLcB10xGfCCjXrYnknhRxU5h0YuEHwraW1LHIOydW4Nvaq14cN1W-DYYU1E6RQu9XMp9GOu=s800-c-k-c0xffffffff-no-rj-mo'}},\n",
       "    'channelTitle': 'NewJeans THBN',\n",
       "    'liveBroadcastContent': 'none',\n",
       "    'publishTime': '2023-04-02T11:37:28Z'}},\n",
       "  {'kind': 'youtube#searchResult',\n",
       "   'etag': 'gidpJZHdXW1w0bd81zRyLZWmQ8w',\n",
       "   'id': {'kind': 'youtube#channel', 'channelId': 'UCfJM4hNfEjsHHqFoZuDFHyg'},\n",
       "   'snippet': {'publishedAt': '2023-04-23T00:57:33Z',\n",
       "    'channelId': 'UCfJM4hNfEjsHHqFoZuDFHyg',\n",
       "    'title': 'NewJeansのうさぎ',\n",
       "    'description': 'NewJeansが好きな方、これから好きになりたい方にオススメのチャンネルです  ✨ 主はハニとヘリン寄りの箱推しです   ...',\n",
       "    'thumbnails': {'default': {'url': 'https://yt3.ggpht.com/MIENjQk7MgyWPB5OM3zVCsnGLRA47pxEjX--dzDT5OVBowy7yrjL1g1fh9fIF2VUYaBal57C=s88-c-k-c0xffffffff-no-rj-mo'},\n",
       "     'medium': {'url': 'https://yt3.ggpht.com/MIENjQk7MgyWPB5OM3zVCsnGLRA47pxEjX--dzDT5OVBowy7yrjL1g1fh9fIF2VUYaBal57C=s240-c-k-c0xffffffff-no-rj-mo'},\n",
       "     'high': {'url': 'https://yt3.ggpht.com/MIENjQk7MgyWPB5OM3zVCsnGLRA47pxEjX--dzDT5OVBowy7yrjL1g1fh9fIF2VUYaBal57C=s800-c-k-c0xffffffff-no-rj-mo'}},\n",
       "    'channelTitle': 'NewJeansのうさぎ',\n",
       "    'liveBroadcastContent': 'none',\n",
       "    'publishTime': '2023-04-23T00:57:33Z'}},\n",
       "  {'kind': 'youtube#searchResult',\n",
       "   'etag': 'kqHcBM0r6vDc2fDecTh3a3t-Uq0',\n",
       "   'id': {'kind': 'youtube#channel', 'channelId': 'UCpYVgKp4cySG__LpPZU8-2Q'},\n",
       "   'snippet': {'publishedAt': '2023-03-04T11:12:34Z',\n",
       "    'channelId': 'UCpYVgKp4cySG__LpPZU8-2Q',\n",
       "    'title': 'Just For NewJeans ',\n",
       "    'description': 'https://www.facebook.com/justforNEWJEANS/',\n",
       "    'thumbnails': {'default': {'url': 'https://yt3.ggpht.com/PHQYPkeIsbYyfYKhTS5dCmUsQbMP1fjWFrlbSVsXP_nuonFQSAMinOoK7DX6MjinNlc4MVRHMg=s88-c-k-c0xffffffff-no-rj-mo'},\n",
       "     'medium': {'url': 'https://yt3.ggpht.com/PHQYPkeIsbYyfYKhTS5dCmUsQbMP1fjWFrlbSVsXP_nuonFQSAMinOoK7DX6MjinNlc4MVRHMg=s240-c-k-c0xffffffff-no-rj-mo'},\n",
       "     'high': {'url': 'https://yt3.ggpht.com/PHQYPkeIsbYyfYKhTS5dCmUsQbMP1fjWFrlbSVsXP_nuonFQSAMinOoK7DX6MjinNlc4MVRHMg=s800-c-k-c0xffffffff-no-rj-mo'}},\n",
       "    'channelTitle': 'Just For NewJeans ',\n",
       "    'liveBroadcastContent': 'none',\n",
       "    'publishTime': '2023-03-04T11:12:34Z'}}]}"
      ]
     },
     "execution_count": 9,
     "metadata": {},
     "output_type": "execute_result"
    }
   ],
   "source": [
    "search_response"
   ]
  },
  {
   "cell_type": "code",
   "execution_count": 10,
   "id": "0b8acb59",
   "metadata": {},
   "outputs": [
    {
     "data": {
      "text/html": [
       "<div>\n",
       "<style scoped>\n",
       "    .dataframe tbody tr th:only-of-type {\n",
       "        vertical-align: middle;\n",
       "    }\n",
       "\n",
       "    .dataframe tbody tr th {\n",
       "        vertical-align: top;\n",
       "    }\n",
       "\n",
       "    .dataframe thead th {\n",
       "        text-align: right;\n",
       "    }\n",
       "</style>\n",
       "<table border=\"1\" class=\"dataframe\">\n",
       "  <thead>\n",
       "    <tr style=\"text-align: right;\">\n",
       "      <th></th>\n",
       "      <th>channelTitle</th>\n",
       "      <th>channelId</th>\n",
       "    </tr>\n",
       "  </thead>\n",
       "  <tbody>\n",
       "    <tr>\n",
       "      <th>0</th>\n",
       "      <td>NewJeans</td>\n",
       "      <td>UCMki_UkHb4qSc0qyEcOHHJw</td>\n",
       "    </tr>\n",
       "    <tr>\n",
       "      <th>1</th>\n",
       "      <td>NewJeans - Topic</td>\n",
       "      <td>UCxOqS3cYg4FaHbobICo7nFQ</td>\n",
       "    </tr>\n",
       "    <tr>\n",
       "      <th>2</th>\n",
       "      <td>NewJeans THBN</td>\n",
       "      <td>UCzmMz5wxxPP_MoPBltwZo-w</td>\n",
       "    </tr>\n",
       "    <tr>\n",
       "      <th>3</th>\n",
       "      <td>NewJeansのうさぎ</td>\n",
       "      <td>UCfJM4hNfEjsHHqFoZuDFHyg</td>\n",
       "    </tr>\n",
       "    <tr>\n",
       "      <th>4</th>\n",
       "      <td>Just For NewJeans</td>\n",
       "      <td>UCpYVgKp4cySG__LpPZU8-2Q</td>\n",
       "    </tr>\n",
       "  </tbody>\n",
       "</table>\n",
       "</div>"
      ],
      "text/plain": [
       "         channelTitle                 channelId\n",
       "0            NewJeans  UCMki_UkHb4qSc0qyEcOHHJw\n",
       "1    NewJeans - Topic  UCxOqS3cYg4FaHbobICo7nFQ\n",
       "2       NewJeans THBN  UCzmMz5wxxPP_MoPBltwZo-w\n",
       "3        NewJeansのうさぎ  UCfJM4hNfEjsHHqFoZuDFHyg\n",
       "4  Just For NewJeans   UCpYVgKp4cySG__LpPZU8-2Q"
      ]
     },
     "execution_count": 10,
     "metadata": {},
     "output_type": "execute_result"
    }
   ],
   "source": [
    "#필요한 변수들로 데이터프레임을 구성\n",
    "channelTitle = []\n",
    "channelId = []\n",
    "\n",
    "for item in search_response[\"items\"]:\n",
    "    channelTitle.append(item[\"snippet\"][\"title\"])\n",
    "    channelId.append(item[\"snippet\"][\"channelId\"])\n",
    "    \n",
    "search_df = pd.DataFrame({\"channelTitle\": channelTitle, \"channelId\": channelId})\n",
    "search_df"
   ]
  },
  {
   "cell_type": "code",
   "execution_count": 42,
   "id": "b8704095",
   "metadata": {},
   "outputs": [
    {
     "data": {
      "text/plain": [
       "'UCMki_UkHb4qSc0qyEcOHHJw'"
      ]
     },
     "execution_count": 42,
     "metadata": {},
     "output_type": "execute_result"
    }
   ],
   "source": [
    "NewJeans = search_df[\"channelId\"][0]\n",
    "NewJeans"
   ]
  },
  {
   "cell_type": "markdown",
   "id": "3f3009c5",
   "metadata": {},
   "source": [
    "#### (2번) 방탄소년단"
   ]
  },
  {
   "cell_type": "code",
   "execution_count": 11,
   "id": "aab872f5",
   "metadata": {},
   "outputs": [],
   "source": [
    "#query문 작성\n",
    "search_response = youtube.search().list(\n",
    "    q = \"BANGTANTV\",\n",
    "    order = \"relevance\",\n",
    "    part = \"snippet\",\n",
    "    maxResults = 5,\n",
    "    type = \"channel\"\n",
    ").execute()"
   ]
  },
  {
   "cell_type": "code",
   "execution_count": 12,
   "id": "6fb9d918",
   "metadata": {},
   "outputs": [
    {
     "data": {
      "text/plain": [
       "{'kind': 'youtube#searchListResponse',\n",
       " 'etag': 'ZCMGRXWC-73l3bt9rqQrtc4-TCk',\n",
       " 'nextPageToken': 'CAUQAA',\n",
       " 'regionCode': 'KR',\n",
       " 'pageInfo': {'totalResults': 10877, 'resultsPerPage': 5},\n",
       " 'items': [{'kind': 'youtube#searchResult',\n",
       "   'etag': '7zUMzrlZNyofQzr63U1cWWE09NY',\n",
       "   'id': {'kind': 'youtube#channel', 'channelId': 'UCLkAepWjdylmXSltofFvsYQ'},\n",
       "   'snippet': {'publishedAt': '2012-12-17T03:20:38Z',\n",
       "    'channelId': 'UCLkAepWjdylmXSltofFvsYQ',\n",
       "    'title': 'BANGTANTV',\n",
       "    'description': 'This is the official YouTube channel of BTS. 방탄소년단 공식 유튜브 채널 입니다.',\n",
       "    'thumbnails': {'default': {'url': 'https://yt3.ggpht.com/zL7KDS7WEHVbgpo6dM91hL5e91etHiuq2umW32iSePrhE5411SPsEdpAEcf5m5mYS-a_vpl7Ww=s88-c-k-c0xffffffff-no-rj-mo'},\n",
       "     'medium': {'url': 'https://yt3.ggpht.com/zL7KDS7WEHVbgpo6dM91hL5e91etHiuq2umW32iSePrhE5411SPsEdpAEcf5m5mYS-a_vpl7Ww=s240-c-k-c0xffffffff-no-rj-mo'},\n",
       "     'high': {'url': 'https://yt3.ggpht.com/zL7KDS7WEHVbgpo6dM91hL5e91etHiuq2umW32iSePrhE5411SPsEdpAEcf5m5mYS-a_vpl7Ww=s800-c-k-c0xffffffff-no-rj-mo'}},\n",
       "    'channelTitle': 'BANGTANTV',\n",
       "    'liveBroadcastContent': 'none',\n",
       "    'publishTime': '2012-12-17T03:20:38Z'}},\n",
       "  {'kind': 'youtube#searchResult',\n",
       "   'etag': 'XENjfPrJ_G_f1MaWVtDGggg_ZO4',\n",
       "   'id': {'kind': 'youtube#channel', 'channelId': 'UCM_9ANR7oDhIHnp9SF-DVig'},\n",
       "   'snippet': {'publishedAt': '2020-07-04T18:59:49Z',\n",
       "    'channelId': 'UCM_9ANR7oDhIHnp9SF-DVig',\n",
       "    'title': 'BANGTANTV MUSIC',\n",
       "    'description': 'BAGTANTV 방탄소년단 공식 유튜브 채널 입니다. This is the Official YouTube channel for BTS. YouTube channel for BTS.',\n",
       "    'thumbnails': {'default': {'url': 'https://yt3.ggpht.com/ytc/AOPolaTFmjb1Jpd2w9PnuVlCD4q604TZVNVmX85sfLZMUg=s88-c-k-c0xffffffff-no-rj-mo'},\n",
       "     'medium': {'url': 'https://yt3.ggpht.com/ytc/AOPolaTFmjb1Jpd2w9PnuVlCD4q604TZVNVmX85sfLZMUg=s240-c-k-c0xffffffff-no-rj-mo'},\n",
       "     'high': {'url': 'https://yt3.ggpht.com/ytc/AOPolaTFmjb1Jpd2w9PnuVlCD4q604TZVNVmX85sfLZMUg=s800-c-k-c0xffffffff-no-rj-mo'}},\n",
       "    'channelTitle': 'BANGTANTV MUSIC',\n",
       "    'liveBroadcastContent': 'none',\n",
       "    'publishTime': '2020-07-04T18:59:49Z'}},\n",
       "  {'kind': 'youtube#searchResult',\n",
       "   'etag': 'VsKULK8qXc0_MdJqGGtUxJOwOTM',\n",
       "   'id': {'kind': 'youtube#channel', 'channelId': 'UC0HwsVVt-DnFIokD3gUiGLQ'},\n",
       "   'snippet': {'publishedAt': '2020-08-25T08:44:40Z',\n",
       "    'channelId': 'UC0HwsVVt-DnFIokD3gUiGLQ',\n",
       "    'title': 'bangtantv chocolatewingz',\n",
       "    'description': 'Welcome to our YouTube channel aRMY . . We are not seven without you . . I do believe in your galaxy . . BTS forever.',\n",
       "    'thumbnails': {'default': {'url': 'https://yt3.ggpht.com/ytc/AOPolaRYAsMYiuziLdgiavR3VNtZbots6osVguCa7Hqs=s88-c-k-c0xffffffff-no-rj-mo'},\n",
       "     'medium': {'url': 'https://yt3.ggpht.com/ytc/AOPolaRYAsMYiuziLdgiavR3VNtZbots6osVguCa7Hqs=s240-c-k-c0xffffffff-no-rj-mo'},\n",
       "     'high': {'url': 'https://yt3.ggpht.com/ytc/AOPolaRYAsMYiuziLdgiavR3VNtZbots6osVguCa7Hqs=s800-c-k-c0xffffffff-no-rj-mo'}},\n",
       "    'channelTitle': 'bangtantv chocolatewingz',\n",
       "    'liveBroadcastContent': 'none',\n",
       "    'publishTime': '2020-08-25T08:44:40Z'}},\n",
       "  {'kind': 'youtube#searchResult',\n",
       "   'etag': 'VXqlMAl-bfoE9kqDDq9x2fWyIdw',\n",
       "   'id': {'kind': 'youtube#channel', 'channelId': 'UCZklKYkhAEMkPWfkHBJxHzw'},\n",
       "   'snippet': {'publishedAt': '2016-10-22T16:42:09Z',\n",
       "    'channelId': 'UCZklKYkhAEMkPWfkHBJxHzw',\n",
       "    'title': 'BANGTANTV BTS',\n",
       "    'description': '',\n",
       "    'thumbnails': {'default': {'url': 'https://yt3.ggpht.com/ytc/AOPolaRhKrVW6snhhFKuf1GCnGG6Of64jaShuw6QZ_Ck=s88-c-k-c0xffffffff-no-rj-mo'},\n",
       "     'medium': {'url': 'https://yt3.ggpht.com/ytc/AOPolaRhKrVW6snhhFKuf1GCnGG6Of64jaShuw6QZ_Ck=s240-c-k-c0xffffffff-no-rj-mo'},\n",
       "     'high': {'url': 'https://yt3.ggpht.com/ytc/AOPolaRhKrVW6snhhFKuf1GCnGG6Of64jaShuw6QZ_Ck=s800-c-k-c0xffffffff-no-rj-mo'}},\n",
       "    'channelTitle': 'BANGTANTV BTS',\n",
       "    'liveBroadcastContent': 'none',\n",
       "    'publishTime': '2016-10-22T16:42:09Z'}},\n",
       "  {'kind': 'youtube#searchResult',\n",
       "   'etag': 'y6aw_Kouv0FWhuLS-4wHYljlVh0',\n",
       "   'id': {'kind': 'youtube#channel', 'channelId': 'UCz_tOfEn_mSQYHTYZN49efQ'},\n",
       "   'snippet': {'publishedAt': '2022-04-21T14:38:37Z',\n",
       "    'channelId': 'UCz_tOfEn_mSQYHTYZN49efQ',\n",
       "    'title': 'BANGTANTV FARSI',\n",
       "    'description': 'Hi Dear ARMY, I am parisa I am Army and I try to share the best and most updated BTS with you in this channel. I hope you like it ...',\n",
       "    'thumbnails': {'default': {'url': 'https://yt3.ggpht.com/WIupPXU2whEwFALkqb58BIyDRYskAjHEbZqaKAtIc8oKb16xQQ-bO6yW4v1c1pdotjpYR_XU0Q=s88-c-k-c0xffffffff-no-rj-mo'},\n",
       "     'medium': {'url': 'https://yt3.ggpht.com/WIupPXU2whEwFALkqb58BIyDRYskAjHEbZqaKAtIc8oKb16xQQ-bO6yW4v1c1pdotjpYR_XU0Q=s240-c-k-c0xffffffff-no-rj-mo'},\n",
       "     'high': {'url': 'https://yt3.ggpht.com/WIupPXU2whEwFALkqb58BIyDRYskAjHEbZqaKAtIc8oKb16xQQ-bO6yW4v1c1pdotjpYR_XU0Q=s800-c-k-c0xffffffff-no-rj-mo'}},\n",
       "    'channelTitle': 'BANGTANTV FARSI',\n",
       "    'liveBroadcastContent': 'none',\n",
       "    'publishTime': '2022-04-21T14:38:37Z'}}]}"
      ]
     },
     "execution_count": 12,
     "metadata": {},
     "output_type": "execute_result"
    }
   ],
   "source": [
    "search_response"
   ]
  },
  {
   "cell_type": "code",
   "execution_count": 13,
   "id": "41f5b8df",
   "metadata": {},
   "outputs": [
    {
     "data": {
      "text/html": [
       "<div>\n",
       "<style scoped>\n",
       "    .dataframe tbody tr th:only-of-type {\n",
       "        vertical-align: middle;\n",
       "    }\n",
       "\n",
       "    .dataframe tbody tr th {\n",
       "        vertical-align: top;\n",
       "    }\n",
       "\n",
       "    .dataframe thead th {\n",
       "        text-align: right;\n",
       "    }\n",
       "</style>\n",
       "<table border=\"1\" class=\"dataframe\">\n",
       "  <thead>\n",
       "    <tr style=\"text-align: right;\">\n",
       "      <th></th>\n",
       "      <th>channelTitle</th>\n",
       "      <th>channelId</th>\n",
       "    </tr>\n",
       "  </thead>\n",
       "  <tbody>\n",
       "    <tr>\n",
       "      <th>0</th>\n",
       "      <td>BANGTANTV</td>\n",
       "      <td>UCLkAepWjdylmXSltofFvsYQ</td>\n",
       "    </tr>\n",
       "    <tr>\n",
       "      <th>1</th>\n",
       "      <td>BANGTANTV MUSIC</td>\n",
       "      <td>UCM_9ANR7oDhIHnp9SF-DVig</td>\n",
       "    </tr>\n",
       "    <tr>\n",
       "      <th>2</th>\n",
       "      <td>bangtantv chocolatewingz</td>\n",
       "      <td>UC0HwsVVt-DnFIokD3gUiGLQ</td>\n",
       "    </tr>\n",
       "    <tr>\n",
       "      <th>3</th>\n",
       "      <td>BANGTANTV BTS</td>\n",
       "      <td>UCZklKYkhAEMkPWfkHBJxHzw</td>\n",
       "    </tr>\n",
       "    <tr>\n",
       "      <th>4</th>\n",
       "      <td>BANGTANTV FARSI</td>\n",
       "      <td>UCz_tOfEn_mSQYHTYZN49efQ</td>\n",
       "    </tr>\n",
       "  </tbody>\n",
       "</table>\n",
       "</div>"
      ],
      "text/plain": [
       "               channelTitle                 channelId\n",
       "0                 BANGTANTV  UCLkAepWjdylmXSltofFvsYQ\n",
       "1           BANGTANTV MUSIC  UCM_9ANR7oDhIHnp9SF-DVig\n",
       "2  bangtantv chocolatewingz  UC0HwsVVt-DnFIokD3gUiGLQ\n",
       "3             BANGTANTV BTS  UCZklKYkhAEMkPWfkHBJxHzw\n",
       "4           BANGTANTV FARSI  UCz_tOfEn_mSQYHTYZN49efQ"
      ]
     },
     "execution_count": 13,
     "metadata": {},
     "output_type": "execute_result"
    }
   ],
   "source": [
    "#필요한 변수들로 데이터프레임을 구성\n",
    "channelTitle = []\n",
    "channelId = []\n",
    "\n",
    "for item in search_response[\"items\"]:\n",
    "    channelTitle.append(item[\"snippet\"][\"title\"])\n",
    "    channelId.append(item[\"snippet\"][\"channelId\"])\n",
    "    \n",
    "search_df = pd.DataFrame({\"channelTitle\": channelTitle, \"channelId\": channelId})\n",
    "search_df"
   ]
  },
  {
   "cell_type": "code",
   "execution_count": 46,
   "id": "6a0b5bdf",
   "metadata": {},
   "outputs": [
    {
     "data": {
      "text/plain": [
       "'UCLkAepWjdylmXSltofFvsYQ'"
      ]
     },
     "execution_count": 46,
     "metadata": {},
     "output_type": "execute_result"
    }
   ],
   "source": [
    "bts = search_df[\"channelId\"][0]\n",
    "bts"
   ]
  },
  {
   "cell_type": "markdown",
   "id": "29411128",
   "metadata": {},
   "source": [
    "#### (3번) 르세라핌"
   ]
  },
  {
   "cell_type": "code",
   "execution_count": 14,
   "id": "f36c5f87",
   "metadata": {},
   "outputs": [],
   "source": [
    "#query문 작성\n",
    "search_response = youtube.search().list(\n",
    "    q = \"LE SSERAFIM\",\n",
    "    order = \"relevance\",\n",
    "    part = \"snippet\",\n",
    "    maxResults = 5,\n",
    "    type = \"channel\"\n",
    ").execute()"
   ]
  },
  {
   "cell_type": "code",
   "execution_count": 15,
   "id": "a2f3f6c5",
   "metadata": {},
   "outputs": [
    {
     "data": {
      "text/plain": [
       "{'kind': 'youtube#searchListResponse',\n",
       " 'etag': '6YceMVQIVJpUctlqBDvbVWg9dp8',\n",
       " 'nextPageToken': 'CAUQAA',\n",
       " 'regionCode': 'KR',\n",
       " 'pageInfo': {'totalResults': 28769, 'resultsPerPage': 5},\n",
       " 'items': [{'kind': 'youtube#searchResult',\n",
       "   'etag': 'cdqGMDfLkqFciE2Uvm4SEtxsuYA',\n",
       "   'id': {'kind': 'youtube#channel', 'channelId': 'UCs-QBT4qkj_YiQw1ZntDO3g'},\n",
       "   'snippet': {'publishedAt': '2021-10-19T08:33:17Z',\n",
       "    'channelId': 'UCs-QBT4qkj_YiQw1ZntDO3g',\n",
       "    'title': 'LE SSERAFIM',\n",
       "    'description': 'LE SSERAFIM Official Youtube 르세라핌 공식 유튜브.',\n",
       "    'thumbnails': {'default': {'url': 'https://yt3.ggpht.com/9CH5aJYgkoM-ZDV-oIF5oQ8uKT3_dMzbTmjMehkPYmyg59CyDaTq7tVib2L5sS6C9srimy2r=s88-c-k-c0xffffffff-no-rj-mo'},\n",
       "     'medium': {'url': 'https://yt3.ggpht.com/9CH5aJYgkoM-ZDV-oIF5oQ8uKT3_dMzbTmjMehkPYmyg59CyDaTq7tVib2L5sS6C9srimy2r=s240-c-k-c0xffffffff-no-rj-mo'},\n",
       "     'high': {'url': 'https://yt3.ggpht.com/9CH5aJYgkoM-ZDV-oIF5oQ8uKT3_dMzbTmjMehkPYmyg59CyDaTq7tVib2L5sS6C9srimy2r=s800-c-k-c0xffffffff-no-rj-mo'}},\n",
       "    'channelTitle': 'LE SSERAFIM',\n",
       "    'liveBroadcastContent': 'none',\n",
       "    'publishTime': '2021-10-19T08:33:17Z'}},\n",
       "  {'kind': 'youtube#searchResult',\n",
       "   'etag': 'uIH6jhb0WJ5dvKj2wJsUQXPPCBc',\n",
       "   'id': {'kind': 'youtube#channel', 'channelId': 'UC-clMkTZa7k-FxmNgMjoCgQ'},\n",
       "   'snippet': {'publishedAt': '2022-05-02T13:31:23Z',\n",
       "    'channelId': 'UC-clMkTZa7k-FxmNgMjoCgQ',\n",
       "    'title': 'LE SSERAFIM - Topic',\n",
       "    'description': '',\n",
       "    'thumbnails': {'default': {'url': 'https://yt3.ggpht.com/ma_DMkU_u8-dwLtdDdepOToXPVOXPv3nq2s7_CEUspKKipnR4dDuqGXeXUXbmwwjY9yypKS3=s88-c-k-c0xffffffff-no-rj-mo'},\n",
       "     'medium': {'url': 'https://yt3.ggpht.com/ma_DMkU_u8-dwLtdDdepOToXPVOXPv3nq2s7_CEUspKKipnR4dDuqGXeXUXbmwwjY9yypKS3=s240-c-k-c0xffffffff-no-rj-mo'},\n",
       "     'high': {'url': 'https://yt3.ggpht.com/ma_DMkU_u8-dwLtdDdepOToXPVOXPv3nq2s7_CEUspKKipnR4dDuqGXeXUXbmwwjY9yypKS3=s800-c-k-c0xffffffff-no-rj-mo'}},\n",
       "    'channelTitle': 'LE SSERAFIM - Topic',\n",
       "    'liveBroadcastContent': 'none',\n",
       "    'publishTime': '2022-05-02T13:31:23Z'}},\n",
       "  {'kind': 'youtube#searchResult',\n",
       "   'etag': 'ly_putOyZmVzPvcd-DOgSXyw-nU',\n",
       "   'id': {'kind': 'youtube#channel', 'channelId': 'UC8YaekCQRaHwmNvQT2UX0dA'},\n",
       "   'snippet': {'publishedAt': '2022-04-14T07:55:29Z',\n",
       "    'channelId': 'UC8YaekCQRaHwmNvQT2UX0dA',\n",
       "    'title': 'Lesserafim Mongolia',\n",
       "    'description': '',\n",
       "    'thumbnails': {'default': {'url': 'https://yt3.ggpht.com/QhJeuV9Mndg_FXLzob4Nmdq8gbXGNE9V6hKv0Tf3_SfXfuYDI3R75MAUMqfSajPHCQ9QfbSyzTE=s88-c-k-c0xffffffff-no-rj-mo'},\n",
       "     'medium': {'url': 'https://yt3.ggpht.com/QhJeuV9Mndg_FXLzob4Nmdq8gbXGNE9V6hKv0Tf3_SfXfuYDI3R75MAUMqfSajPHCQ9QfbSyzTE=s240-c-k-c0xffffffff-no-rj-mo'},\n",
       "     'high': {'url': 'https://yt3.ggpht.com/QhJeuV9Mndg_FXLzob4Nmdq8gbXGNE9V6hKv0Tf3_SfXfuYDI3R75MAUMqfSajPHCQ9QfbSyzTE=s800-c-k-c0xffffffff-no-rj-mo'}},\n",
       "    'channelTitle': 'Lesserafim Mongolia',\n",
       "    'liveBroadcastContent': 'none',\n",
       "    'publishTime': '2022-04-14T07:55:29Z'}},\n",
       "  {'kind': 'youtube#searchResult',\n",
       "   'etag': '5a2nUPwdR0cn2uTLrEXcsVpPo3M',\n",
       "   'id': {'kind': 'youtube#channel', 'channelId': 'UCkzmUo35LZakaNqnLS2B4Nw'},\n",
       "   'snippet': {'publishedAt': '2022-03-21T18:01:55Z',\n",
       "    'channelId': 'UCkzmUo35LZakaNqnLS2B4Nw',\n",
       "    'title': 'LE SSERAFIM TURKEY',\n",
       "    'description': \"Merhaba! Biz HYBE ve Source Music iş birliğinde çıkış yapan 5 üyeli kız grubu LE SSERAFIM'in en büyük Türkiye sayfasıyız.\",\n",
       "    'thumbnails': {'default': {'url': 'https://yt3.ggpht.com/ACQsuOcdjxTrpLTULMGxTCLydjf6_RybrjcnsyuxTN2lHNN8KcW2GhY_W9No4-XHOjrqPmHPVw=s88-c-k-c0xffffffff-no-rj-mo'},\n",
       "     'medium': {'url': 'https://yt3.ggpht.com/ACQsuOcdjxTrpLTULMGxTCLydjf6_RybrjcnsyuxTN2lHNN8KcW2GhY_W9No4-XHOjrqPmHPVw=s240-c-k-c0xffffffff-no-rj-mo'},\n",
       "     'high': {'url': 'https://yt3.ggpht.com/ACQsuOcdjxTrpLTULMGxTCLydjf6_RybrjcnsyuxTN2lHNN8KcW2GhY_W9No4-XHOjrqPmHPVw=s800-c-k-c0xffffffff-no-rj-mo'}},\n",
       "    'channelTitle': 'LE SSERAFIM TURKEY',\n",
       "    'liveBroadcastContent': 'none',\n",
       "    'publishTime': '2022-03-21T18:01:55Z'}},\n",
       "  {'kind': 'youtube#searchResult',\n",
       "   'etag': 'sr5VBz6z1a9N76V5Q8JhCgEXWxc',\n",
       "   'id': {'kind': 'youtube#channel', 'channelId': 'UCWMQD_Uk56zx-wjnRTshgrQ'},\n",
       "   'snippet': {'publishedAt': '2017-09-06T11:59:46Z',\n",
       "    'channelId': 'UCWMQD_Uk56zx-wjnRTshgrQ',\n",
       "    'title': 'Lesserafim Weverse Live - 르세라핌 위버스 라이브',\n",
       "    'description': 'Lesserafim Live Channel 르세라핌 라이브 채널입니다.',\n",
       "    'thumbnails': {'default': {'url': 'https://yt3.ggpht.com/HTmc9JUwKw5vVOWcxiifXGUdGD0j5b-lDBxN5ZT6ChGEJdqLiTY3ACurWHGQZfJZvmevnzA9hBQ=s88-c-k-c0xffffffff-no-rj-mo'},\n",
       "     'medium': {'url': 'https://yt3.ggpht.com/HTmc9JUwKw5vVOWcxiifXGUdGD0j5b-lDBxN5ZT6ChGEJdqLiTY3ACurWHGQZfJZvmevnzA9hBQ=s240-c-k-c0xffffffff-no-rj-mo'},\n",
       "     'high': {'url': 'https://yt3.ggpht.com/HTmc9JUwKw5vVOWcxiifXGUdGD0j5b-lDBxN5ZT6ChGEJdqLiTY3ACurWHGQZfJZvmevnzA9hBQ=s800-c-k-c0xffffffff-no-rj-mo'}},\n",
       "    'channelTitle': 'Lesserafim Weverse Live - 르세라핌 위버스 라이브',\n",
       "    'liveBroadcastContent': 'none',\n",
       "    'publishTime': '2017-09-06T11:59:46Z'}}]}"
      ]
     },
     "execution_count": 15,
     "metadata": {},
     "output_type": "execute_result"
    }
   ],
   "source": [
    "search_response"
   ]
  },
  {
   "cell_type": "code",
   "execution_count": 16,
   "id": "2c40a471",
   "metadata": {},
   "outputs": [
    {
     "data": {
      "text/html": [
       "<div>\n",
       "<style scoped>\n",
       "    .dataframe tbody tr th:only-of-type {\n",
       "        vertical-align: middle;\n",
       "    }\n",
       "\n",
       "    .dataframe tbody tr th {\n",
       "        vertical-align: top;\n",
       "    }\n",
       "\n",
       "    .dataframe thead th {\n",
       "        text-align: right;\n",
       "    }\n",
       "</style>\n",
       "<table border=\"1\" class=\"dataframe\">\n",
       "  <thead>\n",
       "    <tr style=\"text-align: right;\">\n",
       "      <th></th>\n",
       "      <th>channelTitle</th>\n",
       "      <th>channelId</th>\n",
       "    </tr>\n",
       "  </thead>\n",
       "  <tbody>\n",
       "    <tr>\n",
       "      <th>0</th>\n",
       "      <td>LE SSERAFIM</td>\n",
       "      <td>UCs-QBT4qkj_YiQw1ZntDO3g</td>\n",
       "    </tr>\n",
       "    <tr>\n",
       "      <th>1</th>\n",
       "      <td>LE SSERAFIM - Topic</td>\n",
       "      <td>UC-clMkTZa7k-FxmNgMjoCgQ</td>\n",
       "    </tr>\n",
       "    <tr>\n",
       "      <th>2</th>\n",
       "      <td>Lesserafim Mongolia</td>\n",
       "      <td>UC8YaekCQRaHwmNvQT2UX0dA</td>\n",
       "    </tr>\n",
       "    <tr>\n",
       "      <th>3</th>\n",
       "      <td>LE SSERAFIM TURKEY</td>\n",
       "      <td>UCkzmUo35LZakaNqnLS2B4Nw</td>\n",
       "    </tr>\n",
       "    <tr>\n",
       "      <th>4</th>\n",
       "      <td>Lesserafim Weverse Live - 르세라핌 위버스 라이브</td>\n",
       "      <td>UCWMQD_Uk56zx-wjnRTshgrQ</td>\n",
       "    </tr>\n",
       "  </tbody>\n",
       "</table>\n",
       "</div>"
      ],
      "text/plain": [
       "                             channelTitle                 channelId\n",
       "0                             LE SSERAFIM  UCs-QBT4qkj_YiQw1ZntDO3g\n",
       "1                     LE SSERAFIM - Topic  UC-clMkTZa7k-FxmNgMjoCgQ\n",
       "2                     Lesserafim Mongolia  UC8YaekCQRaHwmNvQT2UX0dA\n",
       "3                      LE SSERAFIM TURKEY  UCkzmUo35LZakaNqnLS2B4Nw\n",
       "4  Lesserafim Weverse Live - 르세라핌 위버스 라이브  UCWMQD_Uk56zx-wjnRTshgrQ"
      ]
     },
     "execution_count": 16,
     "metadata": {},
     "output_type": "execute_result"
    }
   ],
   "source": [
    "#필요한 변수들로 데이터프레임을 구성\n",
    "channelTitle = []\n",
    "channelId = []\n",
    "\n",
    "for item in search_response[\"items\"]:\n",
    "    channelTitle.append(item[\"snippet\"][\"title\"])\n",
    "    channelId.append(item[\"snippet\"][\"channelId\"])\n",
    "    \n",
    "search_df = pd.DataFrame({\"channelTitle\": channelTitle, \"channelId\": channelId})\n",
    "search_df"
   ]
  },
  {
   "cell_type": "code",
   "execution_count": 50,
   "id": "0709995e",
   "metadata": {},
   "outputs": [
    {
     "data": {
      "text/plain": [
       "'UCs-QBT4qkj_YiQw1ZntDO3g'"
      ]
     },
     "execution_count": 50,
     "metadata": {},
     "output_type": "execute_result"
    }
   ],
   "source": [
    "Lesserafim = search_df[\"channelId\"][0]\n",
    "Lesserafim"
   ]
  },
  {
   "cell_type": "markdown",
   "id": "31f44347",
   "metadata": {},
   "source": [
    "#### (4번) 세븐틴"
   ]
  },
  {
   "cell_type": "code",
   "execution_count": 17,
   "id": "0adb4206",
   "metadata": {},
   "outputs": [],
   "source": [
    "#query문 작성\n",
    "search_response = youtube.search().list(\n",
    "    q = \"SEVENTEEN\",\n",
    "    order = \"relevance\",\n",
    "    part = \"snippet\",\n",
    "    maxResults = 5,\n",
    "    type = \"channel\"\n",
    ").execute()"
   ]
  },
  {
   "cell_type": "code",
   "execution_count": 18,
   "id": "ff127693",
   "metadata": {},
   "outputs": [
    {
     "data": {
      "text/plain": [
       "{'kind': 'youtube#searchListResponse',\n",
       " 'etag': 'Br2Kl6MVxlMeyLgPU93gM9uFxW0',\n",
       " 'nextPageToken': 'CAUQAA',\n",
       " 'regionCode': 'KR',\n",
       " 'pageInfo': {'totalResults': 22084, 'resultsPerPage': 5},\n",
       " 'items': [{'kind': 'youtube#searchResult',\n",
       "   'etag': 'EsG652tk75R6LYUW3-uw3rYrITk',\n",
       "   'id': {'kind': 'youtube#channel', 'channelId': 'UCfkXDY7vwkcJ8ddFGz8KusA'},\n",
       "   'snippet': {'publishedAt': '2012-11-16T08:20:35Z',\n",
       "    'channelId': 'UCfkXDY7vwkcJ8ddFGz8KusA',\n",
       "    'title': 'SEVENTEEN',\n",
       "    'description': 'SEVENTEEN Official Youtube #세븐틴 공식 유튜브.',\n",
       "    'thumbnails': {'default': {'url': 'https://yt3.ggpht.com/rZrPk_5wzTppcwthTc9y5TmBWq4GGf-xPtndwWS5T3Y5Cg43uzRTpkoAntBzf-LVgBCYZbG-Yg=s88-c-k-c0xffffffff-no-rj-mo'},\n",
       "     'medium': {'url': 'https://yt3.ggpht.com/rZrPk_5wzTppcwthTc9y5TmBWq4GGf-xPtndwWS5T3Y5Cg43uzRTpkoAntBzf-LVgBCYZbG-Yg=s240-c-k-c0xffffffff-no-rj-mo'},\n",
       "     'high': {'url': 'https://yt3.ggpht.com/rZrPk_5wzTppcwthTc9y5TmBWq4GGf-xPtndwWS5T3Y5Cg43uzRTpkoAntBzf-LVgBCYZbG-Yg=s800-c-k-c0xffffffff-no-rj-mo'}},\n",
       "    'channelTitle': 'SEVENTEEN',\n",
       "    'liveBroadcastContent': 'none',\n",
       "    'publishTime': '2012-11-16T08:20:35Z'}},\n",
       "  {'kind': 'youtube#searchResult',\n",
       "   'etag': 'c3Wf1emTl8DxgvmsOdD3ZobrDwY',\n",
       "   'id': {'kind': 'youtube#channel', 'channelId': 'UC0gpUnoyhu44aS3-NxYs7rg'},\n",
       "   'snippet': {'publishedAt': '2014-03-15T01:23:55Z',\n",
       "    'channelId': 'UC0gpUnoyhu44aS3-NxYs7rg',\n",
       "    'title': 'SEVENTEEN - Topic',\n",
       "    'description': '',\n",
       "    'thumbnails': {'default': {'url': 'https://yt3.ggpht.com/lmqHXKl7ApDtMnns6RjgykbV35E3bsd7_NADZBjJMWBr_4LtdBHsRaQQ4eY1PZTkyFf9lBK63A=s88-c-k-c0xffffffff-no-rj-mo'},\n",
       "     'medium': {'url': 'https://yt3.ggpht.com/lmqHXKl7ApDtMnns6RjgykbV35E3bsd7_NADZBjJMWBr_4LtdBHsRaQQ4eY1PZTkyFf9lBK63A=s240-c-k-c0xffffffff-no-rj-mo'},\n",
       "     'high': {'url': 'https://yt3.ggpht.com/lmqHXKl7ApDtMnns6RjgykbV35E3bsd7_NADZBjJMWBr_4LtdBHsRaQQ4eY1PZTkyFf9lBK63A=s800-c-k-c0xffffffff-no-rj-mo'}},\n",
       "    'channelTitle': 'SEVENTEEN - Topic',\n",
       "    'liveBroadcastContent': 'none',\n",
       "    'publishTime': '2014-03-15T01:23:55Z'}},\n",
       "  {'kind': 'youtube#searchResult',\n",
       "   'etag': 'N7NhnBrgS3zYN86WuBxlu8-pv88',\n",
       "   'id': {'kind': 'youtube#channel', 'channelId': 'UC0IXvMUUPeYNVGe88ieMDEg'},\n",
       "   'snippet': {'publishedAt': '2006-08-24T16:06:38Z',\n",
       "    'channelId': 'UC0IXvMUUPeYNVGe88ieMDEg',\n",
       "    'title': 'Seventeen',\n",
       "    'description': \"Seventeen the magazine not Seventeen the band ✨   Welcome to Seventeen.com's YouTube channel! Your daily destination ...\",\n",
       "    'thumbnails': {'default': {'url': 'https://yt3.ggpht.com/xYUa-xf8n-ou8TIyM_fwAI72R_rV49EBtqhWkGUKgfaS52WPlxLggsewRBAsZkulSK5nYHvxVA=s88-c-k-c0xffffffff-no-rj-mo'},\n",
       "     'medium': {'url': 'https://yt3.ggpht.com/xYUa-xf8n-ou8TIyM_fwAI72R_rV49EBtqhWkGUKgfaS52WPlxLggsewRBAsZkulSK5nYHvxVA=s240-c-k-c0xffffffff-no-rj-mo'},\n",
       "     'high': {'url': 'https://yt3.ggpht.com/xYUa-xf8n-ou8TIyM_fwAI72R_rV49EBtqhWkGUKgfaS52WPlxLggsewRBAsZkulSK5nYHvxVA=s800-c-k-c0xffffffff-no-rj-mo'}},\n",
       "    'channelTitle': 'Seventeen',\n",
       "    'liveBroadcastContent': 'upcoming',\n",
       "    'publishTime': '2006-08-24T16:06:38Z'}},\n",
       "  {'kind': 'youtube#searchResult',\n",
       "   'etag': 'Juxx_cAZztXdeP3haABRdyTaYy8',\n",
       "   'id': {'kind': 'youtube#channel', 'channelId': 'UCRILJB5Cy5Qd33h_f61f1Vg'},\n",
       "   'snippet': {'publishedAt': '2018-06-05T13:04:47Z',\n",
       "    'channelId': 'UCRILJB5Cy5Qd33h_f61f1Vg',\n",
       "    'title': 'Seventeen／セブンティーン',\n",
       "    'description': 'ティーンのNo.1メディア『Seventeen（セブンティーン）』公式YouTubeチャンネルです。専属モデルたちの楽しい企画やJKの ...',\n",
       "    'thumbnails': {'default': {'url': 'https://yt3.ggpht.com/MATIqEmJoEWRpSLQ5vduJBqFwx7vF-Jl94W1atmm14MYZD5iZzGLdmLxYey46F8cDMwpdj5w=s88-c-k-c0xffffffff-no-rj-mo'},\n",
       "     'medium': {'url': 'https://yt3.ggpht.com/MATIqEmJoEWRpSLQ5vduJBqFwx7vF-Jl94W1atmm14MYZD5iZzGLdmLxYey46F8cDMwpdj5w=s240-c-k-c0xffffffff-no-rj-mo'},\n",
       "     'high': {'url': 'https://yt3.ggpht.com/MATIqEmJoEWRpSLQ5vduJBqFwx7vF-Jl94W1atmm14MYZD5iZzGLdmLxYey46F8cDMwpdj5w=s800-c-k-c0xffffffff-no-rj-mo'}},\n",
       "    'channelTitle': 'Seventeen／セブンティーン',\n",
       "    'liveBroadcastContent': 'none',\n",
       "    'publishTime': '2018-06-05T13:04:47Z'}},\n",
       "  {'kind': 'youtube#searchResult',\n",
       "   'etag': 'P-vh-v8Kg1bfkvatcTSLabtyiHY',\n",
       "   'id': {'kind': 'youtube#channel', 'channelId': 'UCxJNpC3iMqIx8VebbRDAOJQ'},\n",
       "   'snippet': {'publishedAt': '2019-03-21T06:44:19Z',\n",
       "    'channelId': 'UCxJNpC3iMqIx8VebbRDAOJQ',\n",
       "    'title': 'Lucky SEVENTEEN',\n",
       "    'description': '哈囉~這裡是LuckySEVENTEEN~除了做中字影片外還會翻譯資源哦! 想要緊貼SEVENTEEN的消息也可以關注IG或TW IG: ...',\n",
       "    'thumbnails': {'default': {'url': 'https://yt3.ggpht.com/ytc/AOPolaSMsDH_tK1E8pyX7e9adUBMY8nB8j4mErVv8JOv=s88-c-k-c0xffffffff-no-rj-mo'},\n",
       "     'medium': {'url': 'https://yt3.ggpht.com/ytc/AOPolaSMsDH_tK1E8pyX7e9adUBMY8nB8j4mErVv8JOv=s240-c-k-c0xffffffff-no-rj-mo'},\n",
       "     'high': {'url': 'https://yt3.ggpht.com/ytc/AOPolaSMsDH_tK1E8pyX7e9adUBMY8nB8j4mErVv8JOv=s800-c-k-c0xffffffff-no-rj-mo'}},\n",
       "    'channelTitle': 'Lucky SEVENTEEN',\n",
       "    'liveBroadcastContent': 'none',\n",
       "    'publishTime': '2019-03-21T06:44:19Z'}}]}"
      ]
     },
     "execution_count": 18,
     "metadata": {},
     "output_type": "execute_result"
    }
   ],
   "source": [
    "search_response"
   ]
  },
  {
   "cell_type": "code",
   "execution_count": 19,
   "id": "d7f54ba2",
   "metadata": {},
   "outputs": [
    {
     "data": {
      "text/html": [
       "<div>\n",
       "<style scoped>\n",
       "    .dataframe tbody tr th:only-of-type {\n",
       "        vertical-align: middle;\n",
       "    }\n",
       "\n",
       "    .dataframe tbody tr th {\n",
       "        vertical-align: top;\n",
       "    }\n",
       "\n",
       "    .dataframe thead th {\n",
       "        text-align: right;\n",
       "    }\n",
       "</style>\n",
       "<table border=\"1\" class=\"dataframe\">\n",
       "  <thead>\n",
       "    <tr style=\"text-align: right;\">\n",
       "      <th></th>\n",
       "      <th>channelTitle</th>\n",
       "      <th>channelId</th>\n",
       "    </tr>\n",
       "  </thead>\n",
       "  <tbody>\n",
       "    <tr>\n",
       "      <th>0</th>\n",
       "      <td>SEVENTEEN</td>\n",
       "      <td>UCfkXDY7vwkcJ8ddFGz8KusA</td>\n",
       "    </tr>\n",
       "    <tr>\n",
       "      <th>1</th>\n",
       "      <td>SEVENTEEN - Topic</td>\n",
       "      <td>UC0gpUnoyhu44aS3-NxYs7rg</td>\n",
       "    </tr>\n",
       "    <tr>\n",
       "      <th>2</th>\n",
       "      <td>Seventeen</td>\n",
       "      <td>UC0IXvMUUPeYNVGe88ieMDEg</td>\n",
       "    </tr>\n",
       "    <tr>\n",
       "      <th>3</th>\n",
       "      <td>Seventeen／セブンティーン</td>\n",
       "      <td>UCRILJB5Cy5Qd33h_f61f1Vg</td>\n",
       "    </tr>\n",
       "    <tr>\n",
       "      <th>4</th>\n",
       "      <td>Lucky SEVENTEEN</td>\n",
       "      <td>UCxJNpC3iMqIx8VebbRDAOJQ</td>\n",
       "    </tr>\n",
       "  </tbody>\n",
       "</table>\n",
       "</div>"
      ],
      "text/plain": [
       "        channelTitle                 channelId\n",
       "0          SEVENTEEN  UCfkXDY7vwkcJ8ddFGz8KusA\n",
       "1  SEVENTEEN - Topic  UC0gpUnoyhu44aS3-NxYs7rg\n",
       "2          Seventeen  UC0IXvMUUPeYNVGe88ieMDEg\n",
       "3  Seventeen／セブンティーン  UCRILJB5Cy5Qd33h_f61f1Vg\n",
       "4    Lucky SEVENTEEN  UCxJNpC3iMqIx8VebbRDAOJQ"
      ]
     },
     "execution_count": 19,
     "metadata": {},
     "output_type": "execute_result"
    }
   ],
   "source": [
    "#필요한 변수들로 데이터프레임을 구성\n",
    "channelTitle = []\n",
    "channelId = []\n",
    "\n",
    "for item in search_response[\"items\"]:\n",
    "    channelTitle.append(item[\"snippet\"][\"title\"])\n",
    "    channelId.append(item[\"snippet\"][\"channelId\"])\n",
    "    \n",
    "search_df = pd.DataFrame({\"channelTitle\": channelTitle, \"channelId\": channelId})\n",
    "search_df"
   ]
  },
  {
   "cell_type": "code",
   "execution_count": 54,
   "id": "66527ea4",
   "metadata": {},
   "outputs": [
    {
     "data": {
      "text/plain": [
       "'UCfkXDY7vwkcJ8ddFGz8KusA'"
      ]
     },
     "execution_count": 54,
     "metadata": {},
     "output_type": "execute_result"
    }
   ],
   "source": [
    "seventeen = search_df[\"channelId\"][0]\n",
    "seventeen"
   ]
  },
  {
   "cell_type": "markdown",
   "id": "0698e302",
   "metadata": {},
   "source": [
    "#### (5번) 투모로우바이투게더"
   ]
  },
  {
   "cell_type": "code",
   "execution_count": 20,
   "id": "9f6c136f",
   "metadata": {},
   "outputs": [],
   "source": [
    "#query문 작성\n",
    "search_response = youtube.search().list(\n",
    "    q = \"TOMORROW X TOGETHER OFFICIAL\",\n",
    "    order = \"relevance\",\n",
    "    part = \"snippet\",\n",
    "    maxResults = 5,\n",
    "    type = \"channel\"\n",
    ").execute()"
   ]
  },
  {
   "cell_type": "code",
   "execution_count": 21,
   "id": "45a1dbe5",
   "metadata": {},
   "outputs": [
    {
     "data": {
      "text/plain": [
       "{'kind': 'youtube#searchListResponse',\n",
       " 'etag': 'V_pViVtUsVssbQeVwoqkINp_a7k',\n",
       " 'nextPageToken': 'CAUQAA',\n",
       " 'regionCode': 'KR',\n",
       " 'pageInfo': {'totalResults': 14016, 'resultsPerPage': 5},\n",
       " 'items': [{'kind': 'youtube#searchResult',\n",
       "   'etag': 'ewGajz5l63TaxBBjEWe7Vmff8-M',\n",
       "   'id': {'kind': 'youtube#channel', 'channelId': 'UCtiObj3CsEAdNU6ZPWDsddQ'},\n",
       "   'snippet': {'publishedAt': '2018-12-21T01:41:52Z',\n",
       "    'channelId': 'UCtiObj3CsEAdNU6ZPWDsddQ',\n",
       "    'title': 'TOMORROW X TOGETHER OFFICIAL',\n",
       "    'description': '투모로우바이투게더 공식 유튜브 입니다. This is the official YouTube for #TOMORROW_X_TOGETHER.',\n",
       "    'thumbnails': {'default': {'url': 'https://yt3.ggpht.com/iZQihZKg0dkD89DVBx9iqeUId457HVTLdYojl5hfHauoGYiyVCrfctR64NbD_zjWQPc4T3IX-g=s88-c-k-c0xffffffff-no-rj-mo'},\n",
       "     'medium': {'url': 'https://yt3.ggpht.com/iZQihZKg0dkD89DVBx9iqeUId457HVTLdYojl5hfHauoGYiyVCrfctR64NbD_zjWQPc4T3IX-g=s240-c-k-c0xffffffff-no-rj-mo'},\n",
       "     'high': {'url': 'https://yt3.ggpht.com/iZQihZKg0dkD89DVBx9iqeUId457HVTLdYojl5hfHauoGYiyVCrfctR64NbD_zjWQPc4T3IX-g=s800-c-k-c0xffffffff-no-rj-mo'}},\n",
       "    'channelTitle': 'TOMORROW X TOGETHER OFFICIAL',\n",
       "    'liveBroadcastContent': 'none',\n",
       "    'publishTime': '2018-12-21T01:41:52Z'}},\n",
       "  {'kind': 'youtube#searchResult',\n",
       "   'etag': 'U1s09xk8C0GqbFpAK_RgOQ57sME',\n",
       "   'id': {'kind': 'youtube#channel', 'channelId': 'UCdeb5b3bAxn1OXXFFeuCaHg'},\n",
       "   'snippet': {'publishedAt': '2019-02-28T16:07:35Z',\n",
       "    'channelId': 'UCdeb5b3bAxn1OXXFFeuCaHg',\n",
       "    'title': 'TOMORROW X TOGETHER - Topic',\n",
       "    'description': '',\n",
       "    'thumbnails': {'default': {'url': 'https://yt3.ggpht.com/YJwXDVoZWPKRhF_hUccV4ZjySsjDTPKvgnUaWl4xGYSyz8yGkTPrzzuOET0Bom_M015Q2e3lQHA=s88-c-k-c0xffffffff-no-rj-mo'},\n",
       "     'medium': {'url': 'https://yt3.ggpht.com/YJwXDVoZWPKRhF_hUccV4ZjySsjDTPKvgnUaWl4xGYSyz8yGkTPrzzuOET0Bom_M015Q2e3lQHA=s240-c-k-c0xffffffff-no-rj-mo'},\n",
       "     'high': {'url': 'https://yt3.ggpht.com/YJwXDVoZWPKRhF_hUccV4ZjySsjDTPKvgnUaWl4xGYSyz8yGkTPrzzuOET0Bom_M015Q2e3lQHA=s800-c-k-c0xffffffff-no-rj-mo'}},\n",
       "    'channelTitle': 'TOMORROW X TOGETHER - Topic',\n",
       "    'liveBroadcastContent': 'none',\n",
       "    'publishTime': '2019-02-28T16:07:35Z'}},\n",
       "  {'kind': 'youtube#searchResult',\n",
       "   'etag': 'GerBnBXDk_gx9AxFRu4w5Jh9Tgo',\n",
       "   'id': {'kind': 'youtube#channel', 'channelId': 'UCzCe8j96UWXqKb_uHdE_geg'},\n",
       "   'snippet': {'publishedAt': '2018-07-02T09:40:00Z',\n",
       "    'channelId': 'UCzCe8j96UWXqKb_uHdE_geg',\n",
       "    'title': 'TOMORROW X TOGETHER OFFICIAL',\n",
       "    'description': '투모로우바이투게더 공식 유튜브 입니다. This is the official YouTube for #TOMORROW_X_TOGETHER.',\n",
       "    'thumbnails': {'default': {'url': 'https://yt3.ggpht.com/ytc/AOPolaRwtsjCqsmyBTGEapoKXzQlHKcIPd7rSpqWljGQ=s88-c-k-c0xffffffff-no-rj-mo'},\n",
       "     'medium': {'url': 'https://yt3.ggpht.com/ytc/AOPolaRwtsjCqsmyBTGEapoKXzQlHKcIPd7rSpqWljGQ=s240-c-k-c0xffffffff-no-rj-mo'},\n",
       "     'high': {'url': 'https://yt3.ggpht.com/ytc/AOPolaRwtsjCqsmyBTGEapoKXzQlHKcIPd7rSpqWljGQ=s800-c-k-c0xffffffff-no-rj-mo'}},\n",
       "    'channelTitle': 'TOMORROW X TOGETHER OFFICIAL',\n",
       "    'liveBroadcastContent': 'none',\n",
       "    'publishTime': '2018-07-02T09:40:00Z'}},\n",
       "  {'kind': 'youtube#searchResult',\n",
       "   'etag': 'h2FrbfaxK8K3MQj4mO_anC70Jpk',\n",
       "   'id': {'kind': 'youtube#channel', 'channelId': 'UCQXnU5NznFEi8S0DcIDb87w'},\n",
       "   'snippet': {'publishedAt': '2021-04-13T19:52:34Z',\n",
       "    'channelId': 'UCQXnU5NznFEi8S0DcIDb87w',\n",
       "    'title': 'TOMORROW X TOGETHER Official',\n",
       "    'description': 'TOMORROW X TOGETHER OFFICIAL Channel .....',\n",
       "    'thumbnails': {'default': {'url': 'https://yt3.ggpht.com/srU_rWfixkcokuR3pL1o0t-B0DT5N1_nu3IttENR_OfuaTRJ-QKB5K7ePfQTFnSv_pL3JOz-gA=s88-c-k-c0xffffffff-no-rj-mo'},\n",
       "     'medium': {'url': 'https://yt3.ggpht.com/srU_rWfixkcokuR3pL1o0t-B0DT5N1_nu3IttENR_OfuaTRJ-QKB5K7ePfQTFnSv_pL3JOz-gA=s240-c-k-c0xffffffff-no-rj-mo'},\n",
       "     'high': {'url': 'https://yt3.ggpht.com/srU_rWfixkcokuR3pL1o0t-B0DT5N1_nu3IttENR_OfuaTRJ-QKB5K7ePfQTFnSv_pL3JOz-gA=s800-c-k-c0xffffffff-no-rj-mo'}},\n",
       "    'channelTitle': 'TOMORROW X TOGETHER Official',\n",
       "    'liveBroadcastContent': 'none',\n",
       "    'publishTime': '2021-04-13T19:52:34Z'}},\n",
       "  {'kind': 'youtube#searchResult',\n",
       "   'etag': '2lyyEEzMTYKusVvodq8v49x5Grk',\n",
       "   'id': {'kind': 'youtube#channel', 'channelId': 'UCrbqncDE7zgdCrk2H59l2mw'},\n",
       "   'snippet': {'publishedAt': '2020-10-29T05:32:54Z',\n",
       "    'channelId': 'UCrbqncDE7zgdCrk2H59l2mw',\n",
       "    'title': 'TOMORROW X TOGETHER OFFICIAL',\n",
       "    'description': '투모로우바이투게더 공식 유튜브 입니다. This is the official YouTube for #TOMORROW_X_TOGETHER.',\n",
       "    'thumbnails': {'default': {'url': 'https://yt3.ggpht.com/ytc/AOPolaTpuX7AxG1ypQNOmf-QXakktcK_KS-k6MAtu417=s88-c-k-c0xffffffff-no-rj-mo'},\n",
       "     'medium': {'url': 'https://yt3.ggpht.com/ytc/AOPolaTpuX7AxG1ypQNOmf-QXakktcK_KS-k6MAtu417=s240-c-k-c0xffffffff-no-rj-mo'},\n",
       "     'high': {'url': 'https://yt3.ggpht.com/ytc/AOPolaTpuX7AxG1ypQNOmf-QXakktcK_KS-k6MAtu417=s800-c-k-c0xffffffff-no-rj-mo'}},\n",
       "    'channelTitle': 'TOMORROW X TOGETHER OFFICIAL',\n",
       "    'liveBroadcastContent': 'none',\n",
       "    'publishTime': '2020-10-29T05:32:54Z'}}]}"
      ]
     },
     "execution_count": 21,
     "metadata": {},
     "output_type": "execute_result"
    }
   ],
   "source": [
    "search_response"
   ]
  },
  {
   "cell_type": "code",
   "execution_count": 22,
   "id": "f38ce78d",
   "metadata": {},
   "outputs": [
    {
     "data": {
      "text/html": [
       "<div>\n",
       "<style scoped>\n",
       "    .dataframe tbody tr th:only-of-type {\n",
       "        vertical-align: middle;\n",
       "    }\n",
       "\n",
       "    .dataframe tbody tr th {\n",
       "        vertical-align: top;\n",
       "    }\n",
       "\n",
       "    .dataframe thead th {\n",
       "        text-align: right;\n",
       "    }\n",
       "</style>\n",
       "<table border=\"1\" class=\"dataframe\">\n",
       "  <thead>\n",
       "    <tr style=\"text-align: right;\">\n",
       "      <th></th>\n",
       "      <th>channelTitle</th>\n",
       "      <th>channelId</th>\n",
       "    </tr>\n",
       "  </thead>\n",
       "  <tbody>\n",
       "    <tr>\n",
       "      <th>0</th>\n",
       "      <td>TOMORROW X TOGETHER OFFICIAL</td>\n",
       "      <td>UCtiObj3CsEAdNU6ZPWDsddQ</td>\n",
       "    </tr>\n",
       "    <tr>\n",
       "      <th>1</th>\n",
       "      <td>TOMORROW X TOGETHER - Topic</td>\n",
       "      <td>UCdeb5b3bAxn1OXXFFeuCaHg</td>\n",
       "    </tr>\n",
       "    <tr>\n",
       "      <th>2</th>\n",
       "      <td>TOMORROW X TOGETHER OFFICIAL</td>\n",
       "      <td>UCzCe8j96UWXqKb_uHdE_geg</td>\n",
       "    </tr>\n",
       "    <tr>\n",
       "      <th>3</th>\n",
       "      <td>TOMORROW X TOGETHER Official</td>\n",
       "      <td>UCQXnU5NznFEi8S0DcIDb87w</td>\n",
       "    </tr>\n",
       "    <tr>\n",
       "      <th>4</th>\n",
       "      <td>TOMORROW X TOGETHER OFFICIAL</td>\n",
       "      <td>UCrbqncDE7zgdCrk2H59l2mw</td>\n",
       "    </tr>\n",
       "  </tbody>\n",
       "</table>\n",
       "</div>"
      ],
      "text/plain": [
       "                   channelTitle                 channelId\n",
       "0  TOMORROW X TOGETHER OFFICIAL  UCtiObj3CsEAdNU6ZPWDsddQ\n",
       "1   TOMORROW X TOGETHER - Topic  UCdeb5b3bAxn1OXXFFeuCaHg\n",
       "2  TOMORROW X TOGETHER OFFICIAL  UCzCe8j96UWXqKb_uHdE_geg\n",
       "3  TOMORROW X TOGETHER Official  UCQXnU5NznFEi8S0DcIDb87w\n",
       "4  TOMORROW X TOGETHER OFFICIAL  UCrbqncDE7zgdCrk2H59l2mw"
      ]
     },
     "execution_count": 22,
     "metadata": {},
     "output_type": "execute_result"
    }
   ],
   "source": [
    "#필요한 변수들로 데이터프레임을 구성\n",
    "channelTitle = []\n",
    "channelId = []\n",
    "\n",
    "for item in search_response[\"items\"]:\n",
    "    channelTitle.append(item[\"snippet\"][\"title\"])\n",
    "    channelId.append(item[\"snippet\"][\"channelId\"])\n",
    "    \n",
    "search_df = pd.DataFrame({\"channelTitle\": channelTitle, \"channelId\": channelId})\n",
    "search_df"
   ]
  },
  {
   "cell_type": "code",
   "execution_count": 38,
   "id": "3072f881",
   "metadata": {},
   "outputs": [
    {
     "data": {
      "text/plain": [
       "'UCtiObj3CsEAdNU6ZPWDsddQ'"
      ]
     },
     "execution_count": 38,
     "metadata": {},
     "output_type": "execute_result"
    }
   ],
   "source": [
    "txt = search_df[\"channelId\"][0]\n",
    "txt"
   ]
  },
  {
   "cell_type": "code",
   "execution_count": 55,
   "id": "e5a087d9",
   "metadata": {},
   "outputs": [
    {
     "data": {
      "text/html": [
       "<div>\n",
       "<style scoped>\n",
       "    .dataframe tbody tr th:only-of-type {\n",
       "        vertical-align: middle;\n",
       "    }\n",
       "\n",
       "    .dataframe tbody tr th {\n",
       "        vertical-align: top;\n",
       "    }\n",
       "\n",
       "    .dataframe thead th {\n",
       "        text-align: right;\n",
       "    }\n",
       "</style>\n",
       "<table border=\"1\" class=\"dataframe\">\n",
       "  <thead>\n",
       "    <tr style=\"text-align: right;\">\n",
       "      <th></th>\n",
       "      <th>channel</th>\n",
       "      <th>channel_id</th>\n",
       "    </tr>\n",
       "  </thead>\n",
       "  <tbody>\n",
       "    <tr>\n",
       "      <th>0</th>\n",
       "      <td>HYBE LABELS</td>\n",
       "      <td>UC3IZKseVpdzPSBaWxBxundA</td>\n",
       "    </tr>\n",
       "    <tr>\n",
       "      <th>1</th>\n",
       "      <td>NewJeans</td>\n",
       "      <td>UCMki_UkHb4qSc0qyEcOHHJw</td>\n",
       "    </tr>\n",
       "    <tr>\n",
       "      <th>2</th>\n",
       "      <td>BANGTANTV</td>\n",
       "      <td>UCLkAepWjdylmXSltofFvsYQ</td>\n",
       "    </tr>\n",
       "    <tr>\n",
       "      <th>3</th>\n",
       "      <td>LE SSERAFIM</td>\n",
       "      <td>UCs-QBT4qkj_YiQw1ZntDO3g</td>\n",
       "    </tr>\n",
       "    <tr>\n",
       "      <th>4</th>\n",
       "      <td>SEVENTEEN</td>\n",
       "      <td>UCfkXDY7vwkcJ8ddFGz8KusA</td>\n",
       "    </tr>\n",
       "    <tr>\n",
       "      <th>5</th>\n",
       "      <td>TOMORROW X TOGETHER OFFICIAL</td>\n",
       "      <td>UCtiObj3CsEAdNU6ZPWDsddQ</td>\n",
       "    </tr>\n",
       "  </tbody>\n",
       "</table>\n",
       "</div>"
      ],
      "text/plain": [
       "                        channel                channel_id\n",
       "0                   HYBE LABELS  UC3IZKseVpdzPSBaWxBxundA\n",
       "1                      NewJeans  UCMki_UkHb4qSc0qyEcOHHJw\n",
       "2                     BANGTANTV  UCLkAepWjdylmXSltofFvsYQ\n",
       "3                   LE SSERAFIM  UCs-QBT4qkj_YiQw1ZntDO3g\n",
       "4                     SEVENTEEN  UCfkXDY7vwkcJ8ddFGz8KusA\n",
       "5  TOMORROW X TOGETHER OFFICIAL  UCtiObj3CsEAdNU6ZPWDsddQ"
      ]
     },
     "execution_count": 55,
     "metadata": {},
     "output_type": "execute_result"
    }
   ],
   "source": [
    "#유튜브 채널 데이터프레임 생성\n",
    "channel_hybe = pd.DataFrame()\n",
    "channel_hybe[\"channel\"] = [\"HYBE LABELS\",\"NewJeans\",\"BANGTANTV\",\"LE SSERAFIM\",\"SEVENTEEN\",\"TOMORROW X TOGETHER OFFICIAL\"] #채널명\n",
    "channel_hybe[\"channel_id\"] = [hybe, NewJeans, bts, Lesserafim, seventeen, txt] #채널 id\n",
    "channel_hybe"
   ]
  },
  {
   "cell_type": "code",
   "execution_count": 56,
   "id": "c084d911",
   "metadata": {},
   "outputs": [],
   "source": [
    "#channel_hybe를 csv파일로 저장\n",
    "channel_hybe.to_csv(\"../../../data/YouTube/channel_hybe.csv\", index=False)"
   ]
  },
  {
   "cell_type": "markdown",
   "id": "ad69ecb2",
   "metadata": {},
   "source": [
    "### (1-2-2) 와이지(YG)"
   ]
  },
  {
   "cell_type": "markdown",
   "id": "55420b1b",
   "metadata": {},
   "source": [
    "#### (1번) 블랙핑크"
   ]
  },
  {
   "cell_type": "code",
   "execution_count": 23,
   "id": "089cf93a",
   "metadata": {},
   "outputs": [],
   "source": [
    "#query문 작성\n",
    "search_response = youtube.search().list(\n",
    "    q = \"BLACKPINK\",\n",
    "    order = \"relevance\",\n",
    "    part = \"snippet\",\n",
    "    maxResults = 5,\n",
    "    type = \"channel\"\n",
    ").execute()"
   ]
  },
  {
   "cell_type": "code",
   "execution_count": 24,
   "id": "79b62d7a",
   "metadata": {},
   "outputs": [
    {
     "data": {
      "text/plain": [
       "{'kind': 'youtube#searchListResponse',\n",
       " 'etag': 'K1bMAySUGn3_bl9gvGOZNfknFKQ',\n",
       " 'nextPageToken': 'CAUQAA',\n",
       " 'regionCode': 'KR',\n",
       " 'pageInfo': {'totalResults': 33802, 'resultsPerPage': 5},\n",
       " 'items': [{'kind': 'youtube#searchResult',\n",
       "   'etag': 'e3zB-ogVH3iCjBYeOA3vaQvfHsI',\n",
       "   'id': {'kind': 'youtube#channel', 'channelId': 'UCOmHUn--16B90oW2L6FRR3A'},\n",
       "   'snippet': {'publishedAt': '2016-06-29T03:15:23Z',\n",
       "    'channelId': 'UCOmHUn--16B90oW2L6FRR3A',\n",
       "    'title': 'BLACKPINK',\n",
       "    'description': 'BLACKPINK Official YouTube Channel 블랙핑크 공식 유튜브 채널입니다. JISOO, JENNIE, ROSÉ, LISA 지수, 제니, 로제, 리사.',\n",
       "    'thumbnails': {'default': {'url': 'https://yt3.ggpht.com/hZDUwjoeQqigphL4A1tkg9c6hVp5yXmbboBR7PYFUSFj5PIJSA483NB5v7b0XVoTN9GCku3tqQ=s88-c-k-c0xffffffff-no-rj-mo'},\n",
       "     'medium': {'url': 'https://yt3.ggpht.com/hZDUwjoeQqigphL4A1tkg9c6hVp5yXmbboBR7PYFUSFj5PIJSA483NB5v7b0XVoTN9GCku3tqQ=s240-c-k-c0xffffffff-no-rj-mo'},\n",
       "     'high': {'url': 'https://yt3.ggpht.com/hZDUwjoeQqigphL4A1tkg9c6hVp5yXmbboBR7PYFUSFj5PIJSA483NB5v7b0XVoTN9GCku3tqQ=s800-c-k-c0xffffffff-no-rj-mo'}},\n",
       "    'channelTitle': 'BLACKPINK',\n",
       "    'liveBroadcastContent': 'none',\n",
       "    'publishTime': '2016-06-29T03:15:23Z'}},\n",
       "  {'kind': 'youtube#searchResult',\n",
       "   'etag': 'yKJx7bW_TGnt-qlQdzRAR86AAtI',\n",
       "   'id': {'kind': 'youtube#channel', 'channelId': 'UCkbbMCA40i18i7UdjayMPAg'},\n",
       "   'snippet': {'publishedAt': '2016-08-12T08:44:37Z',\n",
       "    'channelId': 'UCkbbMCA40i18i7UdjayMPAg',\n",
       "    'title': 'BLACKPINK - Topic',\n",
       "    'description': '',\n",
       "    'thumbnails': {'default': {'url': 'https://yt3.ggpht.com/9hYWTfwXsQQSujs-UdgmH_WCaKORFLg5WpCxibeAlhCJuMigCLozO7vvlQ8O1MmohMYvnSoUWw=s88-c-k-c0xffffffff-no-rj-mo'},\n",
       "     'medium': {'url': 'https://yt3.ggpht.com/9hYWTfwXsQQSujs-UdgmH_WCaKORFLg5WpCxibeAlhCJuMigCLozO7vvlQ8O1MmohMYvnSoUWw=s240-c-k-c0xffffffff-no-rj-mo'},\n",
       "     'high': {'url': 'https://yt3.ggpht.com/9hYWTfwXsQQSujs-UdgmH_WCaKORFLg5WpCxibeAlhCJuMigCLozO7vvlQ8O1MmohMYvnSoUWw=s800-c-k-c0xffffffff-no-rj-mo'}},\n",
       "    'channelTitle': 'BLACKPINK - Topic',\n",
       "    'liveBroadcastContent': 'none',\n",
       "    'publishTime': '2016-08-12T08:44:37Z'}},\n",
       "  {'kind': 'youtube#searchResult',\n",
       "   'etag': 'bq8L3vy2oKJST5xQehZ8qgWqjXc',\n",
       "   'id': {'kind': 'youtube#channel', 'channelId': 'UCNO6YcZ_dv7t7fgjsQhly1w'},\n",
       "   'snippet': {'publishedAt': '2023-03-13T20:18:13Z',\n",
       "    'channelId': 'UCNO6YcZ_dv7t7fgjsQhly1w',\n",
       "    'title': 'BLACKPINK ARCHIVE',\n",
       "    'description': 'Demos, leaks & Unreleased songs of blackpink.',\n",
       "    'thumbnails': {'default': {'url': 'https://yt3.ggpht.com/BZcvEDU5q41KFeqAEUvVPo-By-HCxogL1NPBpyj-YGeLO5rNxDAfrqbs-6NvQRYYkufAfPxeR7g=s88-c-k-c0xffffffff-no-rj-mo'},\n",
       "     'medium': {'url': 'https://yt3.ggpht.com/BZcvEDU5q41KFeqAEUvVPo-By-HCxogL1NPBpyj-YGeLO5rNxDAfrqbs-6NvQRYYkufAfPxeR7g=s240-c-k-c0xffffffff-no-rj-mo'},\n",
       "     'high': {'url': 'https://yt3.ggpht.com/BZcvEDU5q41KFeqAEUvVPo-By-HCxogL1NPBpyj-YGeLO5rNxDAfrqbs-6NvQRYYkufAfPxeR7g=s800-c-k-c0xffffffff-no-rj-mo'}},\n",
       "    'channelTitle': 'BLACKPINK ARCHIVE',\n",
       "    'liveBroadcastContent': 'none',\n",
       "    'publishTime': '2023-03-13T20:18:13Z'}},\n",
       "  {'kind': 'youtube#searchResult',\n",
       "   'etag': 'TbHCiCGvrLWcRC_8npzKZXoh4gA',\n",
       "   'id': {'kind': 'youtube#channel', 'channelId': 'UCmQrJU_kj2gpzr1Cgp1Br5A'},\n",
       "   'snippet': {'publishedAt': '2014-10-03T00:06:15Z',\n",
       "    'channelId': 'UCmQrJU_kj2gpzr1Cgp1Br5A',\n",
       "    'title': 'BLACKPINK HISPANO',\n",
       "    'description': 'BLACKPINK SUBTITULADO ESPAÑOL Nombre anterior del canal: BPKathSubs Aclaración necesaria: En la mayoría de los ...',\n",
       "    'thumbnails': {'default': {'url': 'https://yt3.ggpht.com/kSWPooGAvlERBUbnTsptKXMMZlvn2F3D639GZR_uFhHeluH0xCua5zYiUTEHfu8UwyFduT5sXXk=s88-c-k-c0xffffffff-no-rj-mo'},\n",
       "     'medium': {'url': 'https://yt3.ggpht.com/kSWPooGAvlERBUbnTsptKXMMZlvn2F3D639GZR_uFhHeluH0xCua5zYiUTEHfu8UwyFduT5sXXk=s240-c-k-c0xffffffff-no-rj-mo'},\n",
       "     'high': {'url': 'https://yt3.ggpht.com/kSWPooGAvlERBUbnTsptKXMMZlvn2F3D639GZR_uFhHeluH0xCua5zYiUTEHfu8UwyFduT5sXXk=s800-c-k-c0xffffffff-no-rj-mo'}},\n",
       "    'channelTitle': 'BLACKPINK HISPANO',\n",
       "    'liveBroadcastContent': 'none',\n",
       "    'publishTime': '2014-10-03T00:06:15Z'}},\n",
       "  {'kind': 'youtube#searchResult',\n",
       "   'etag': 'I6o5lLiUFq42A3SaIfjUeXB--_c',\n",
       "   'id': {'kind': 'youtube#channel', 'channelId': 'UC-KSjSGzXFHq-EJqGyzKcpA'},\n",
       "   'snippet': {'publishedAt': '2020-08-13T11:27:13Z',\n",
       "    'channelId': 'UC-KSjSGzXFHq-EJqGyzKcpA',\n",
       "    'title': 'Blackpink PopCorn',\n",
       "    'description': 'Hedeflerim 10.000   50.000   100.000   150.000   200.000   300.000.',\n",
       "    'thumbnails': {'default': {'url': 'https://yt3.ggpht.com/fjeDw6t4kcbioDRECY73XPH6NNT5U8XiQVqPiIQ01n4XGLcxJJHDdu-B5Upvb6yanHPOfA2atg=s88-c-k-c0xffffffff-no-rj-mo'},\n",
       "     'medium': {'url': 'https://yt3.ggpht.com/fjeDw6t4kcbioDRECY73XPH6NNT5U8XiQVqPiIQ01n4XGLcxJJHDdu-B5Upvb6yanHPOfA2atg=s240-c-k-c0xffffffff-no-rj-mo'},\n",
       "     'high': {'url': 'https://yt3.ggpht.com/fjeDw6t4kcbioDRECY73XPH6NNT5U8XiQVqPiIQ01n4XGLcxJJHDdu-B5Upvb6yanHPOfA2atg=s800-c-k-c0xffffffff-no-rj-mo'}},\n",
       "    'channelTitle': 'Blackpink PopCorn',\n",
       "    'liveBroadcastContent': 'upcoming',\n",
       "    'publishTime': '2020-08-13T11:27:13Z'}}]}"
      ]
     },
     "execution_count": 24,
     "metadata": {},
     "output_type": "execute_result"
    }
   ],
   "source": [
    "search_response"
   ]
  },
  {
   "cell_type": "code",
   "execution_count": 25,
   "id": "b4464c79",
   "metadata": {},
   "outputs": [
    {
     "data": {
      "text/html": [
       "<div>\n",
       "<style scoped>\n",
       "    .dataframe tbody tr th:only-of-type {\n",
       "        vertical-align: middle;\n",
       "    }\n",
       "\n",
       "    .dataframe tbody tr th {\n",
       "        vertical-align: top;\n",
       "    }\n",
       "\n",
       "    .dataframe thead th {\n",
       "        text-align: right;\n",
       "    }\n",
       "</style>\n",
       "<table border=\"1\" class=\"dataframe\">\n",
       "  <thead>\n",
       "    <tr style=\"text-align: right;\">\n",
       "      <th></th>\n",
       "      <th>channelTitle</th>\n",
       "      <th>channelId</th>\n",
       "    </tr>\n",
       "  </thead>\n",
       "  <tbody>\n",
       "    <tr>\n",
       "      <th>0</th>\n",
       "      <td>BLACKPINK</td>\n",
       "      <td>UCOmHUn--16B90oW2L6FRR3A</td>\n",
       "    </tr>\n",
       "    <tr>\n",
       "      <th>1</th>\n",
       "      <td>BLACKPINK - Topic</td>\n",
       "      <td>UCkbbMCA40i18i7UdjayMPAg</td>\n",
       "    </tr>\n",
       "    <tr>\n",
       "      <th>2</th>\n",
       "      <td>BLACKPINK ARCHIVE</td>\n",
       "      <td>UCNO6YcZ_dv7t7fgjsQhly1w</td>\n",
       "    </tr>\n",
       "    <tr>\n",
       "      <th>3</th>\n",
       "      <td>BLACKPINK HISPANO</td>\n",
       "      <td>UCmQrJU_kj2gpzr1Cgp1Br5A</td>\n",
       "    </tr>\n",
       "    <tr>\n",
       "      <th>4</th>\n",
       "      <td>Blackpink PopCorn</td>\n",
       "      <td>UC-KSjSGzXFHq-EJqGyzKcpA</td>\n",
       "    </tr>\n",
       "  </tbody>\n",
       "</table>\n",
       "</div>"
      ],
      "text/plain": [
       "        channelTitle                 channelId\n",
       "0          BLACKPINK  UCOmHUn--16B90oW2L6FRR3A\n",
       "1  BLACKPINK - Topic  UCkbbMCA40i18i7UdjayMPAg\n",
       "2  BLACKPINK ARCHIVE  UCNO6YcZ_dv7t7fgjsQhly1w\n",
       "3  BLACKPINK HISPANO  UCmQrJU_kj2gpzr1Cgp1Br5A\n",
       "4  Blackpink PopCorn  UC-KSjSGzXFHq-EJqGyzKcpA"
      ]
     },
     "execution_count": 25,
     "metadata": {},
     "output_type": "execute_result"
    }
   ],
   "source": [
    "#필요한 변수들로 데이터프레임을 구성\n",
    "channelTitle = []\n",
    "channelId = []\n",
    "\n",
    "for item in search_response[\"items\"]:\n",
    "    channelTitle.append(item[\"snippet\"][\"title\"])\n",
    "    channelId.append(item[\"snippet\"][\"channelId\"])\n",
    "    \n",
    "search_df = pd.DataFrame({\"channelTitle\": channelTitle, \"channelId\": channelId})\n",
    "search_df"
   ]
  },
  {
   "cell_type": "code",
   "execution_count": 7,
   "id": "ef1ad842",
   "metadata": {},
   "outputs": [
    {
     "data": {
      "text/plain": [
       "'UCOmHUn--16B90oW2L6FRR3A'"
      ]
     },
     "execution_count": 7,
     "metadata": {},
     "output_type": "execute_result"
    }
   ],
   "source": [
    "blackpink = search_df[\"channelId\"][0]\n",
    "blackpink"
   ]
  },
  {
   "cell_type": "markdown",
   "id": "4ed9f235",
   "metadata": {},
   "source": [
    "#### (2번) 지드래곤"
   ]
  },
  {
   "cell_type": "code",
   "execution_count": 26,
   "id": "94e1df99",
   "metadata": {},
   "outputs": [],
   "source": [
    "#query문 작성\n",
    "search_response = youtube.search().list(\n",
    "    q = \"OfficialGDRAGON\",\n",
    "    order = \"relevance\",\n",
    "    part = \"snippet\",\n",
    "    maxResults = 5,\n",
    "    type = \"channel\"\n",
    ").execute()"
   ]
  },
  {
   "cell_type": "code",
   "execution_count": 27,
   "id": "c805f005",
   "metadata": {},
   "outputs": [
    {
     "data": {
      "text/plain": [
       "{'kind': 'youtube#searchListResponse',\n",
       " 'etag': 'jr_Oc7BBeYW03CaeEqf2jFS8mfE',\n",
       " 'nextPageToken': 'CAUQAA',\n",
       " 'regionCode': 'KR',\n",
       " 'pageInfo': {'totalResults': 10, 'resultsPerPage': 5},\n",
       " 'items': [{'kind': 'youtube#searchResult',\n",
       "   'etag': '6tw2NdEK4HgNCfhvYaYCkdu8Sqo',\n",
       "   'id': {'kind': 'youtube#channel', 'channelId': 'UCeU5qTuBiqTU5z-hyL6WITQ'},\n",
       "   'snippet': {'publishedAt': '2012-07-17T04:18:48Z',\n",
       "    'channelId': 'UCeU5qTuBiqTU5z-hyL6WITQ',\n",
       "    'title': 'OfficialGDRAGON',\n",
       "    'description': 'G-DRAGON Official YouTube Channel G-DRAGON 공식 유튜브 채널입니다.',\n",
       "    'thumbnails': {'default': {'url': 'https://yt3.ggpht.com/ytc/AOPolaSnEogRk1BT-Ti9VJ2liGzNkQ_LnzRbdEUTS3db=s88-c-k-c0xffffffff-no-rj-mo'},\n",
       "     'medium': {'url': 'https://yt3.ggpht.com/ytc/AOPolaSnEogRk1BT-Ti9VJ2liGzNkQ_LnzRbdEUTS3db=s240-c-k-c0xffffffff-no-rj-mo'},\n",
       "     'high': {'url': 'https://yt3.ggpht.com/ytc/AOPolaSnEogRk1BT-Ti9VJ2liGzNkQ_LnzRbdEUTS3db=s800-c-k-c0xffffffff-no-rj-mo'}},\n",
       "    'channelTitle': 'OfficialGDRAGON',\n",
       "    'liveBroadcastContent': 'none',\n",
       "    'publishTime': '2012-07-17T04:18:48Z'}},\n",
       "  {'kind': 'youtube#searchResult',\n",
       "   'etag': 'MiMFwGjp83BkloxM4WUq1dFPTBs',\n",
       "   'id': {'kind': 'youtube#channel', 'channelId': 'UCVAvJqeG9nh-O9hK4xvRQGQ'},\n",
       "   'snippet': {'publishedAt': '2017-04-04T13:55:35Z',\n",
       "    'channelId': 'UCVAvJqeG9nh-O9hK4xvRQGQ',\n",
       "    'title': 'Official G-DRAGON',\n",
       "    'description': 'G-DRAGON.',\n",
       "    'thumbnails': {'default': {'url': 'https://yt3.ggpht.com/ytc/AOPolaS8l_tF4MUZVzvkrsYCJQ8qHFYNg3N129XJXpSQ=s88-c-k-c0xffffffff-no-rj-mo'},\n",
       "     'medium': {'url': 'https://yt3.ggpht.com/ytc/AOPolaS8l_tF4MUZVzvkrsYCJQ8qHFYNg3N129XJXpSQ=s240-c-k-c0xffffffff-no-rj-mo'},\n",
       "     'high': {'url': 'https://yt3.ggpht.com/ytc/AOPolaS8l_tF4MUZVzvkrsYCJQ8qHFYNg3N129XJXpSQ=s800-c-k-c0xffffffff-no-rj-mo'}},\n",
       "    'channelTitle': 'Official G-DRAGON',\n",
       "    'liveBroadcastContent': 'none',\n",
       "    'publishTime': '2017-04-04T13:55:35Z'}},\n",
       "  {'kind': 'youtube#searchResult',\n",
       "   'etag': 'uOQjXHkfrWqeYumt7-yHRLcmfb8',\n",
       "   'id': {'kind': 'youtube#channel', 'channelId': 'UCXyLacGrQ7z_HMELozu-E2w'},\n",
       "   'snippet': {'publishedAt': '2019-03-15T10:29:30Z',\n",
       "    'channelId': 'UCXyLacGrQ7z_HMELozu-E2w',\n",
       "    'title': 'Official GDRAGON',\n",
       "    'description': '',\n",
       "    'thumbnails': {'default': {'url': 'https://yt3.ggpht.com/Ey6Atli9rkcVZ81EiMnGa91zrI5NYmDcmUMEqVS8rqsmM5OQgtlZUvTLTCrFZnteSrLhKuViQA=s88-c-k-c0xffffffff-no-rj-mo'},\n",
       "     'medium': {'url': 'https://yt3.ggpht.com/Ey6Atli9rkcVZ81EiMnGa91zrI5NYmDcmUMEqVS8rqsmM5OQgtlZUvTLTCrFZnteSrLhKuViQA=s240-c-k-c0xffffffff-no-rj-mo'},\n",
       "     'high': {'url': 'https://yt3.ggpht.com/Ey6Atli9rkcVZ81EiMnGa91zrI5NYmDcmUMEqVS8rqsmM5OQgtlZUvTLTCrFZnteSrLhKuViQA=s800-c-k-c0xffffffff-no-rj-mo'}},\n",
       "    'channelTitle': 'Official GDRAGON',\n",
       "    'liveBroadcastContent': 'none',\n",
       "    'publishTime': '2019-03-15T10:29:30Z'}},\n",
       "  {'kind': 'youtube#searchResult',\n",
       "   'etag': '4HKavgy6Qtn644KDC0UfAsb4OLc',\n",
       "   'id': {'kind': 'youtube#channel', 'channelId': 'UCO-z7YDPGVsHEbqPbq3sqEg'},\n",
       "   'snippet': {'publishedAt': '2015-07-31T01:22:25Z',\n",
       "    'channelId': 'UCO-z7YDPGVsHEbqPbq3sqEg',\n",
       "    'title': 'Official.GDRAGON',\n",
       "    'description': '',\n",
       "    'thumbnails': {'default': {'url': 'https://yt3.ggpht.com/6LCOP_JMXLPEnL356f3Kl9QsHr_PMp989_-pW07O7nuex3lR8xzWexBSWeTCR_KCWCgmPS63ag=s88-c-k-c0xffffffff-no-rj-mo'},\n",
       "     'medium': {'url': 'https://yt3.ggpht.com/6LCOP_JMXLPEnL356f3Kl9QsHr_PMp989_-pW07O7nuex3lR8xzWexBSWeTCR_KCWCgmPS63ag=s240-c-k-c0xffffffff-no-rj-mo'},\n",
       "     'high': {'url': 'https://yt3.ggpht.com/6LCOP_JMXLPEnL356f3Kl9QsHr_PMp989_-pW07O7nuex3lR8xzWexBSWeTCR_KCWCgmPS63ag=s800-c-k-c0xffffffff-no-rj-mo'}},\n",
       "    'channelTitle': 'Official.GDRAGON',\n",
       "    'liveBroadcastContent': 'none',\n",
       "    'publishTime': '2015-07-31T01:22:25Z'}},\n",
       "  {'kind': 'youtube#searchResult',\n",
       "   'etag': 'XGPwh2GQkKDRTNzIxHLdJG6WIJM',\n",
       "   'id': {'kind': 'youtube#channel', 'channelId': 'UCMWaE07EzGVM5ZTzZ3h-1ew'},\n",
       "   'snippet': {'publishedAt': '2018-08-16T07:37:07Z',\n",
       "    'channelId': 'UCMWaE07EzGVM5ZTzZ3h-1ew',\n",
       "    'title': 'jiyonglanes jiyong',\n",
       "    'description': '',\n",
       "    'thumbnails': {'default': {'url': 'https://yt3.ggpht.com/ytc/AOPolaRQ5ieibnxVW98DnhtR72vJP6aDDZpXC8atSH3s=s88-c-k-c0xffffffff-no-rj-mo'},\n",
       "     'medium': {'url': 'https://yt3.ggpht.com/ytc/AOPolaRQ5ieibnxVW98DnhtR72vJP6aDDZpXC8atSH3s=s240-c-k-c0xffffffff-no-rj-mo'},\n",
       "     'high': {'url': 'https://yt3.ggpht.com/ytc/AOPolaRQ5ieibnxVW98DnhtR72vJP6aDDZpXC8atSH3s=s800-c-k-c0xffffffff-no-rj-mo'}},\n",
       "    'channelTitle': 'jiyonglanes jiyong',\n",
       "    'liveBroadcastContent': 'none',\n",
       "    'publishTime': '2018-08-16T07:37:07Z'}}]}"
      ]
     },
     "execution_count": 27,
     "metadata": {},
     "output_type": "execute_result"
    }
   ],
   "source": [
    "search_response"
   ]
  },
  {
   "cell_type": "code",
   "execution_count": 28,
   "id": "4b08d9d8",
   "metadata": {},
   "outputs": [
    {
     "data": {
      "text/html": [
       "<div>\n",
       "<style scoped>\n",
       "    .dataframe tbody tr th:only-of-type {\n",
       "        vertical-align: middle;\n",
       "    }\n",
       "\n",
       "    .dataframe tbody tr th {\n",
       "        vertical-align: top;\n",
       "    }\n",
       "\n",
       "    .dataframe thead th {\n",
       "        text-align: right;\n",
       "    }\n",
       "</style>\n",
       "<table border=\"1\" class=\"dataframe\">\n",
       "  <thead>\n",
       "    <tr style=\"text-align: right;\">\n",
       "      <th></th>\n",
       "      <th>channelTitle</th>\n",
       "      <th>channelId</th>\n",
       "    </tr>\n",
       "  </thead>\n",
       "  <tbody>\n",
       "    <tr>\n",
       "      <th>0</th>\n",
       "      <td>OfficialGDRAGON</td>\n",
       "      <td>UCeU5qTuBiqTU5z-hyL6WITQ</td>\n",
       "    </tr>\n",
       "    <tr>\n",
       "      <th>1</th>\n",
       "      <td>Official G-DRAGON</td>\n",
       "      <td>UCVAvJqeG9nh-O9hK4xvRQGQ</td>\n",
       "    </tr>\n",
       "    <tr>\n",
       "      <th>2</th>\n",
       "      <td>Official GDRAGON</td>\n",
       "      <td>UCXyLacGrQ7z_HMELozu-E2w</td>\n",
       "    </tr>\n",
       "    <tr>\n",
       "      <th>3</th>\n",
       "      <td>Official.GDRAGON</td>\n",
       "      <td>UCO-z7YDPGVsHEbqPbq3sqEg</td>\n",
       "    </tr>\n",
       "    <tr>\n",
       "      <th>4</th>\n",
       "      <td>jiyonglanes jiyong</td>\n",
       "      <td>UCMWaE07EzGVM5ZTzZ3h-1ew</td>\n",
       "    </tr>\n",
       "  </tbody>\n",
       "</table>\n",
       "</div>"
      ],
      "text/plain": [
       "         channelTitle                 channelId\n",
       "0     OfficialGDRAGON  UCeU5qTuBiqTU5z-hyL6WITQ\n",
       "1   Official G-DRAGON  UCVAvJqeG9nh-O9hK4xvRQGQ\n",
       "2    Official GDRAGON  UCXyLacGrQ7z_HMELozu-E2w\n",
       "3    Official.GDRAGON  UCO-z7YDPGVsHEbqPbq3sqEg\n",
       "4  jiyonglanes jiyong  UCMWaE07EzGVM5ZTzZ3h-1ew"
      ]
     },
     "execution_count": 28,
     "metadata": {},
     "output_type": "execute_result"
    }
   ],
   "source": [
    "#필요한 변수들로 데이터프레임을 구성\n",
    "channelTitle = []\n",
    "channelId = []\n",
    "\n",
    "for item in search_response[\"items\"]:\n",
    "    channelTitle.append(item[\"snippet\"][\"title\"])\n",
    "    channelId.append(item[\"snippet\"][\"channelId\"])\n",
    "    \n",
    "search_df = pd.DataFrame({\"channelTitle\": channelTitle, \"channelId\": channelId})\n",
    "search_df"
   ]
  },
  {
   "cell_type": "code",
   "execution_count": 11,
   "id": "8ea24b53",
   "metadata": {},
   "outputs": [
    {
     "data": {
      "text/plain": [
       "'UCeU5qTuBiqTU5z-hyL6WITQ'"
      ]
     },
     "execution_count": 11,
     "metadata": {},
     "output_type": "execute_result"
    }
   ],
   "source": [
    "gd = search_df[\"channelId\"][0]\n",
    "gd"
   ]
  },
  {
   "cell_type": "markdown",
   "id": "70053382",
   "metadata": {},
   "source": [
    "#### (3번) 트레저"
   ]
  },
  {
   "cell_type": "code",
   "execution_count": 32,
   "id": "d89e2bc2",
   "metadata": {},
   "outputs": [],
   "source": [
    "#query문 작성\n",
    "search_response = youtube.search().list(\n",
    "    q = \"TREASURE (트레저)\",\n",
    "    order = \"relevance\",\n",
    "    part = \"snippet\",\n",
    "    maxResults = 5,\n",
    "    type = \"channel\"\n",
    ").execute()"
   ]
  },
  {
   "cell_type": "code",
   "execution_count": 33,
   "id": "f0c182dc",
   "metadata": {},
   "outputs": [
    {
     "data": {
      "text/plain": [
       "{'kind': 'youtube#searchListResponse',\n",
       " 'etag': 'JpLR51lZiKkemwbqBAtIuCutMcc',\n",
       " 'nextPageToken': 'CAUQAA',\n",
       " 'regionCode': 'KR',\n",
       " 'pageInfo': {'totalResults': 13581, 'resultsPerPage': 5},\n",
       " 'items': [{'kind': 'youtube#searchResult',\n",
       "   'etag': 'QXNX9naSulPIz9QygedE7NJYdE4',\n",
       "   'id': {'kind': 'youtube#channel', 'channelId': 'UCx9hXYOCvUYwrprEqe4ZQHA'},\n",
       "   'snippet': {'publishedAt': '2019-02-08T02:21:20Z',\n",
       "    'channelId': 'UCx9hXYOCvUYwrprEqe4ZQHA',\n",
       "    'title': 'TREASURE (트레저)',\n",
       "    'description': 'TREASURE Official YouTube Channel 트레저 공식 유튜브 채널입니다. CHOI HYUN SUK, JIHOON, YOSHI, JUNKYU, YOON JAE ...',\n",
       "    'thumbnails': {'default': {'url': 'https://yt3.ggpht.com/yUHNt_Dre7041FVc1PYgQJddgOIdD5XGes7Sv5pilNcdZ2uqq_Th5xe4Ymm4P9oYpEb3cVAZ6cU=s88-c-k-c0xffffffff-no-rj-mo'},\n",
       "     'medium': {'url': 'https://yt3.ggpht.com/yUHNt_Dre7041FVc1PYgQJddgOIdD5XGes7Sv5pilNcdZ2uqq_Th5xe4Ymm4P9oYpEb3cVAZ6cU=s240-c-k-c0xffffffff-no-rj-mo'},\n",
       "     'high': {'url': 'https://yt3.ggpht.com/yUHNt_Dre7041FVc1PYgQJddgOIdD5XGes7Sv5pilNcdZ2uqq_Th5xe4Ymm4P9oYpEb3cVAZ6cU=s800-c-k-c0xffffffff-no-rj-mo'}},\n",
       "    'channelTitle': 'TREASURE (트레저)',\n",
       "    'liveBroadcastContent': 'none',\n",
       "    'publishTime': '2019-02-08T02:21:20Z'}},\n",
       "  {'kind': 'youtube#searchResult',\n",
       "   'etag': 'RGSSXsAQql8Re5W1zEtNdweSacc',\n",
       "   'id': {'kind': 'youtube#channel', 'channelId': 'UCe5f_XquYL3uB-A5mdy-5-A'},\n",
       "   'snippet': {'publishedAt': '2018-08-17T04:58:35Z',\n",
       "    'channelId': 'UCe5f_XquYL3uB-A5mdy-5-A',\n",
       "    'title': 'TREASURE - Topic',\n",
       "    'description': '',\n",
       "    'thumbnails': {'default': {'url': 'https://yt3.ggpht.com/hLj2CM6zhwBLsTcv21HlvPzn00ifVI8gGTw3s3yiRwsXKgK4VJZeLWEhld8USxzWavVlG9aNmTc=s88-c-k-c0xffffffff-no-rj-mo'},\n",
       "     'medium': {'url': 'https://yt3.ggpht.com/hLj2CM6zhwBLsTcv21HlvPzn00ifVI8gGTw3s3yiRwsXKgK4VJZeLWEhld8USxzWavVlG9aNmTc=s240-c-k-c0xffffffff-no-rj-mo'},\n",
       "     'high': {'url': 'https://yt3.ggpht.com/hLj2CM6zhwBLsTcv21HlvPzn00ifVI8gGTw3s3yiRwsXKgK4VJZeLWEhld8USxzWavVlG9aNmTc=s800-c-k-c0xffffffff-no-rj-mo'}},\n",
       "    'channelTitle': 'TREASURE - Topic',\n",
       "    'liveBroadcastContent': 'none',\n",
       "    'publishTime': '2018-08-17T04:58:35Z'}},\n",
       "  {'kind': 'youtube#searchResult',\n",
       "   'etag': 'Qnq03wj_ssieNc7liyFoJVBhGGw',\n",
       "   'id': {'kind': 'youtube#channel', 'channelId': 'UCquCOGattLleH5erOxiWVmQ'},\n",
       "   'snippet': {'publishedAt': '2018-08-13T06:18:11Z',\n",
       "    'channelId': 'UCquCOGattLleH5erOxiWVmQ',\n",
       "    'title': 'YG TREASURE BOX',\n",
       "    'description': '',\n",
       "    'thumbnails': {'default': {'url': 'https://yt3.ggpht.com/ytc/AOPolaTEF_KJaJHzR-nw5MtpDGWwjU3Vht4QAD7L3-rc=s88-c-k-c0xffffffff-no-rj-mo'},\n",
       "     'medium': {'url': 'https://yt3.ggpht.com/ytc/AOPolaTEF_KJaJHzR-nw5MtpDGWwjU3Vht4QAD7L3-rc=s240-c-k-c0xffffffff-no-rj-mo'},\n",
       "     'high': {'url': 'https://yt3.ggpht.com/ytc/AOPolaTEF_KJaJHzR-nw5MtpDGWwjU3Vht4QAD7L3-rc=s800-c-k-c0xffffffff-no-rj-mo'}},\n",
       "    'channelTitle': 'YG TREASURE BOX',\n",
       "    'liveBroadcastContent': 'none',\n",
       "    'publishTime': '2018-08-13T06:18:11Z'}},\n",
       "  {'kind': 'youtube#searchResult',\n",
       "   'etag': 'FaTmThCQ4w0oKqPpabCT4R-vvEs',\n",
       "   'id': {'kind': 'youtube#channel', 'channelId': 'UC6vDtl2QNospNu3e-fxp2Ag'},\n",
       "   'snippet': {'publishedAt': '2020-09-01T10:20:41Z',\n",
       "    'channelId': 'UC6vDtl2QNospNu3e-fxp2Ag',\n",
       "    'title': 'everYthinG 애명',\n",
       "    'description': 'YG Baby!',\n",
       "    'thumbnails': {'default': {'url': 'https://yt3.ggpht.com/ORAJKtjTOLs1-5TnzgOZ8jSoenHcoFbWNlgCp2TKwl3GmUI1ItnyCeg7Lh_K6DE0yl1kHWBPDg=s88-c-k-c0xffffffff-no-rj-mo'},\n",
       "     'medium': {'url': 'https://yt3.ggpht.com/ORAJKtjTOLs1-5TnzgOZ8jSoenHcoFbWNlgCp2TKwl3GmUI1ItnyCeg7Lh_K6DE0yl1kHWBPDg=s240-c-k-c0xffffffff-no-rj-mo'},\n",
       "     'high': {'url': 'https://yt3.ggpht.com/ORAJKtjTOLs1-5TnzgOZ8jSoenHcoFbWNlgCp2TKwl3GmUI1ItnyCeg7Lh_K6DE0yl1kHWBPDg=s800-c-k-c0xffffffff-no-rj-mo'}},\n",
       "    'channelTitle': 'everYthinG 애명',\n",
       "    'liveBroadcastContent': 'none',\n",
       "    'publishTime': '2020-09-01T10:20:41Z'}},\n",
       "  {'kind': 'youtube#searchResult',\n",
       "   'etag': 'Hob53IMiFny6vEq49N-UkGaowWA',\n",
       "   'id': {'kind': 'youtube#channel', 'channelId': 'UCeaqzcshmz2lMi42bKxXbGQ'},\n",
       "   'snippet': {'publishedAt': '2019-08-09T15:50:25Z',\n",
       "    'channelId': 'UCeaqzcshmz2lMi42bKxXbGQ',\n",
       "    'title': '쟈분젤 Jabunjel',\n",
       "    'description': '기록 jjaerim5900@gmail.com.',\n",
       "    'thumbnails': {'default': {'url': 'https://yt3.ggpht.com/LUKMaqqXnxPHXhARwOPFtvtZBRToKstdF2aKrT3NWUt4vBQQNb3nBDkVjW1XCiocJAA29F2pXCo=s88-c-k-c0xffffffff-no-rj-mo'},\n",
       "     'medium': {'url': 'https://yt3.ggpht.com/LUKMaqqXnxPHXhARwOPFtvtZBRToKstdF2aKrT3NWUt4vBQQNb3nBDkVjW1XCiocJAA29F2pXCo=s240-c-k-c0xffffffff-no-rj-mo'},\n",
       "     'high': {'url': 'https://yt3.ggpht.com/LUKMaqqXnxPHXhARwOPFtvtZBRToKstdF2aKrT3NWUt4vBQQNb3nBDkVjW1XCiocJAA29F2pXCo=s800-c-k-c0xffffffff-no-rj-mo'}},\n",
       "    'channelTitle': '쟈분젤 Jabunjel',\n",
       "    'liveBroadcastContent': 'none',\n",
       "    'publishTime': '2019-08-09T15:50:25Z'}}]}"
      ]
     },
     "execution_count": 33,
     "metadata": {},
     "output_type": "execute_result"
    }
   ],
   "source": [
    "search_response"
   ]
  },
  {
   "cell_type": "code",
   "execution_count": 34,
   "id": "d0d76b93",
   "metadata": {},
   "outputs": [
    {
     "data": {
      "text/html": [
       "<div>\n",
       "<style scoped>\n",
       "    .dataframe tbody tr th:only-of-type {\n",
       "        vertical-align: middle;\n",
       "    }\n",
       "\n",
       "    .dataframe tbody tr th {\n",
       "        vertical-align: top;\n",
       "    }\n",
       "\n",
       "    .dataframe thead th {\n",
       "        text-align: right;\n",
       "    }\n",
       "</style>\n",
       "<table border=\"1\" class=\"dataframe\">\n",
       "  <thead>\n",
       "    <tr style=\"text-align: right;\">\n",
       "      <th></th>\n",
       "      <th>channelTitle</th>\n",
       "      <th>channelId</th>\n",
       "    </tr>\n",
       "  </thead>\n",
       "  <tbody>\n",
       "    <tr>\n",
       "      <th>0</th>\n",
       "      <td>TREASURE (트레저)</td>\n",
       "      <td>UCx9hXYOCvUYwrprEqe4ZQHA</td>\n",
       "    </tr>\n",
       "    <tr>\n",
       "      <th>1</th>\n",
       "      <td>TREASURE - Topic</td>\n",
       "      <td>UCe5f_XquYL3uB-A5mdy-5-A</td>\n",
       "    </tr>\n",
       "    <tr>\n",
       "      <th>2</th>\n",
       "      <td>YG TREASURE BOX</td>\n",
       "      <td>UCquCOGattLleH5erOxiWVmQ</td>\n",
       "    </tr>\n",
       "    <tr>\n",
       "      <th>3</th>\n",
       "      <td>everYthinG 애명</td>\n",
       "      <td>UC6vDtl2QNospNu3e-fxp2Ag</td>\n",
       "    </tr>\n",
       "    <tr>\n",
       "      <th>4</th>\n",
       "      <td>쟈분젤 Jabunjel</td>\n",
       "      <td>UCeaqzcshmz2lMi42bKxXbGQ</td>\n",
       "    </tr>\n",
       "  </tbody>\n",
       "</table>\n",
       "</div>"
      ],
      "text/plain": [
       "       channelTitle                 channelId\n",
       "0    TREASURE (트레저)  UCx9hXYOCvUYwrprEqe4ZQHA\n",
       "1  TREASURE - Topic  UCe5f_XquYL3uB-A5mdy-5-A\n",
       "2   YG TREASURE BOX  UCquCOGattLleH5erOxiWVmQ\n",
       "3     everYthinG 애명  UC6vDtl2QNospNu3e-fxp2Ag\n",
       "4      쟈분젤 Jabunjel  UCeaqzcshmz2lMi42bKxXbGQ"
      ]
     },
     "execution_count": 34,
     "metadata": {},
     "output_type": "execute_result"
    }
   ],
   "source": [
    "#필요한 변수들로 데이터프레임을 구성\n",
    "channelTitle = []\n",
    "channelId = []\n",
    "\n",
    "for item in search_response[\"items\"]:\n",
    "    channelTitle.append(item[\"snippet\"][\"title\"])\n",
    "    channelId.append(item[\"snippet\"][\"channelId\"])\n",
    "    \n",
    "search_df = pd.DataFrame({\"channelTitle\": channelTitle, \"channelId\": channelId})\n",
    "search_df"
   ]
  },
  {
   "cell_type": "code",
   "execution_count": 15,
   "id": "7e5ae52e",
   "metadata": {
    "scrolled": true
   },
   "outputs": [
    {
     "data": {
      "text/plain": [
       "'UCx9hXYOCvUYwrprEqe4ZQHA'"
      ]
     },
     "execution_count": 15,
     "metadata": {},
     "output_type": "execute_result"
    }
   ],
   "source": [
    "treasure = search_df[\"channelId\"][0]\n",
    "treasure"
   ]
  },
  {
   "cell_type": "markdown",
   "id": "b98ba730",
   "metadata": {},
   "source": [
    "#### (4번) 위너"
   ]
  },
  {
   "cell_type": "code",
   "execution_count": 35,
   "id": "516ef2b3",
   "metadata": {},
   "outputs": [],
   "source": [
    "#query문 작성\n",
    "search_response = youtube.search().list(\n",
    "    q = \"WINNER\",\n",
    "    order = \"relevance\",\n",
    "    part = \"snippet\",\n",
    "    maxResults = 5,\n",
    "    type = \"channel\"\n",
    ").execute()"
   ]
  },
  {
   "cell_type": "code",
   "execution_count": 36,
   "id": "5c43f86a",
   "metadata": {},
   "outputs": [
    {
     "data": {
      "text/plain": [
       "{'kind': 'youtube#searchListResponse',\n",
       " 'etag': 'IQImvHOnQNhFhs-gAyOfXTqTPEA',\n",
       " 'nextPageToken': 'CAUQAA',\n",
       " 'regionCode': 'KR',\n",
       " 'pageInfo': {'totalResults': 35877, 'resultsPerPage': 5},\n",
       " 'items': [{'kind': 'youtube#searchResult',\n",
       "   'etag': 'eY4cIsr5FV2TlhOLRRd6DEfUev0',\n",
       "   'id': {'kind': 'youtube#channel', 'channelId': 'UCayQxFAoFCvGariuQCtHRGQ'},\n",
       "   'snippet': {'publishedAt': '2013-12-10T02:42:56Z',\n",
       "    'channelId': 'UCayQxFAoFCvGariuQCtHRGQ',\n",
       "    'title': 'WINNER',\n",
       "    'description': 'WINNER Official YouTube Channel 위너 공식 유튜브 채널입니다. YOON, JINU, HOONY, MINO 강승윤, 김진우, 이승훈, 송민호.',\n",
       "    'thumbnails': {'default': {'url': 'https://yt3.ggpht.com/ytc/AOPolaQZYsenI7L4IZNvhR2dnrVRgCMqbG9BeYc2PMzVgw=s88-c-k-c0xffffffff-no-rj-mo'},\n",
       "     'medium': {'url': 'https://yt3.ggpht.com/ytc/AOPolaQZYsenI7L4IZNvhR2dnrVRgCMqbG9BeYc2PMzVgw=s240-c-k-c0xffffffff-no-rj-mo'},\n",
       "     'high': {'url': 'https://yt3.ggpht.com/ytc/AOPolaQZYsenI7L4IZNvhR2dnrVRgCMqbG9BeYc2PMzVgw=s800-c-k-c0xffffffff-no-rj-mo'}},\n",
       "    'channelTitle': 'WINNER',\n",
       "    'liveBroadcastContent': 'none',\n",
       "    'publishTime': '2013-12-10T02:42:56Z'}},\n",
       "  {'kind': 'youtube#searchResult',\n",
       "   'etag': 'lJJcLM0kwpFgdwiG66aTZr4FO5M',\n",
       "   'id': {'kind': 'youtube#channel', 'channelId': 'UCYFMusbxIBk6gosFW0o882A'},\n",
       "   'snippet': {'publishedAt': '2013-12-13T18:16:18Z',\n",
       "    'channelId': 'UCYFMusbxIBk6gosFW0o882A',\n",
       "    'title': 'WINNER - Topic',\n",
       "    'description': '',\n",
       "    'thumbnails': {'default': {'url': 'https://yt3.ggpht.com/xhrJbR9-nqQfHKxFouZZp_ICL-L0ECobdMlcOTV7TSo53R-9s64YyUlE4CtcXutjjey56Mbz4g=s88-c-k-c0xffffffff-no-rj-mo'},\n",
       "     'medium': {'url': 'https://yt3.ggpht.com/xhrJbR9-nqQfHKxFouZZp_ICL-L0ECobdMlcOTV7TSo53R-9s64YyUlE4CtcXutjjey56Mbz4g=s240-c-k-c0xffffffff-no-rj-mo'},\n",
       "     'high': {'url': 'https://yt3.ggpht.com/xhrJbR9-nqQfHKxFouZZp_ICL-L0ECobdMlcOTV7TSo53R-9s64YyUlE4CtcXutjjey56Mbz4g=s800-c-k-c0xffffffff-no-rj-mo'}},\n",
       "    'channelTitle': 'WINNER - Topic',\n",
       "    'liveBroadcastContent': 'none',\n",
       "    'publishTime': '2013-12-13T18:16:18Z'}},\n",
       "  {'kind': 'youtube#searchResult',\n",
       "   'etag': 'ZdNrW2vMh0OeoacG7viMJ_ROeIg',\n",
       "   'id': {'kind': 'youtube#channel', 'channelId': 'UC_QjJqfnLkrEmaZnWDOMskw'},\n",
       "   'snippet': {'publishedAt': '2014-10-11T10:37:44Z',\n",
       "    'channelId': 'UC_QjJqfnLkrEmaZnWDOMskw',\n",
       "    'title': 'Winner',\n",
       "    'description': 'Learn English #aBitButDaily.',\n",
       "    'thumbnails': {'default': {'url': 'https://yt3.ggpht.com/ytc/AOPolaRGV1qR8h2nk-kY4VPsWy60SRwLV7sktdOeILk0=s88-c-k-c0xffffffff-no-rj-mo'},\n",
       "     'medium': {'url': 'https://yt3.ggpht.com/ytc/AOPolaRGV1qR8h2nk-kY4VPsWy60SRwLV7sktdOeILk0=s240-c-k-c0xffffffff-no-rj-mo'},\n",
       "     'high': {'url': 'https://yt3.ggpht.com/ytc/AOPolaRGV1qR8h2nk-kY4VPsWy60SRwLV7sktdOeILk0=s800-c-k-c0xffffffff-no-rj-mo'}},\n",
       "    'channelTitle': 'Winner',\n",
       "    'liveBroadcastContent': 'none',\n",
       "    'publishTime': '2014-10-11T10:37:44Z'}},\n",
       "  {'kind': 'youtube#searchResult',\n",
       "   'etag': '-jUtkohsZ1aKAhdHypT3JqwxGnk',\n",
       "   'id': {'kind': 'youtube#channel', 'channelId': 'UCZ1pHpliTMw1-ffpP2Qalhg'},\n",
       "   'snippet': {'publishedAt': '2023-02-16T12:17:41Z',\n",
       "    'channelId': 'UCZ1pHpliTMw1-ffpP2Qalhg',\n",
       "    'title': 'Winner(위너)',\n",
       "    'description': '로또 당첨 도전기입니다 끌어당김의 한계는 없습니다. 무엇이든 생각한대로, 말하는대로 이루어지게 되어 있습니다. 로또 1등을 끌어 ...',\n",
       "    'thumbnails': {'default': {'url': 'https://yt3.ggpht.com/WX4suCqBQ6__0-9lHPpABi69Ih0Kzqq43XXnU8PVUaSrgjsJQMarw3DqbWUL2HfI8ev3RLMTPg=s88-c-k-c0xffffffff-no-rj-mo'},\n",
       "     'medium': {'url': 'https://yt3.ggpht.com/WX4suCqBQ6__0-9lHPpABi69Ih0Kzqq43XXnU8PVUaSrgjsJQMarw3DqbWUL2HfI8ev3RLMTPg=s240-c-k-c0xffffffff-no-rj-mo'},\n",
       "     'high': {'url': 'https://yt3.ggpht.com/WX4suCqBQ6__0-9lHPpABi69Ih0Kzqq43XXnU8PVUaSrgjsJQMarw3DqbWUL2HfI8ev3RLMTPg=s800-c-k-c0xffffffff-no-rj-mo'}},\n",
       "    'channelTitle': 'Winner(위너)',\n",
       "    'liveBroadcastContent': 'none',\n",
       "    'publishTime': '2023-02-16T12:17:41Z'}},\n",
       "  {'kind': 'youtube#searchResult',\n",
       "   'etag': 'zjkRSMd-cg2T7h297dHpFbBga_s',\n",
       "   'id': {'kind': 'youtube#channel', 'channelId': 'UC1vqsWUiZpV3-_D4zVutaMQ'},\n",
       "   'snippet': {'publishedAt': '2016-05-01T22:55:30Z',\n",
       "    'channelId': 'UC1vqsWUiZpV3-_D4zVutaMQ',\n",
       "    'title': 'Winners Team',\n",
       "    'description': 'نهتم بنشر الإقتباسات وترجمة وإنتاج الفيديوهات التحفيزية وكل مايتصل بتطوير الذات وتنمية المهارات الذاتية - القائمون على القناة: ...',\n",
       "    'thumbnails': {'default': {'url': 'https://yt3.ggpht.com/ytc/AOPolaQFVgBJ949LSl6x468oJcW-_uTnlDFBGZIoxYFLYg=s88-c-k-c0xffffffff-no-rj-mo'},\n",
       "     'medium': {'url': 'https://yt3.ggpht.com/ytc/AOPolaQFVgBJ949LSl6x468oJcW-_uTnlDFBGZIoxYFLYg=s240-c-k-c0xffffffff-no-rj-mo'},\n",
       "     'high': {'url': 'https://yt3.ggpht.com/ytc/AOPolaQFVgBJ949LSl6x468oJcW-_uTnlDFBGZIoxYFLYg=s800-c-k-c0xffffffff-no-rj-mo'}},\n",
       "    'channelTitle': 'Winners Team',\n",
       "    'liveBroadcastContent': 'none',\n",
       "    'publishTime': '2016-05-01T22:55:30Z'}}]}"
      ]
     },
     "execution_count": 36,
     "metadata": {},
     "output_type": "execute_result"
    }
   ],
   "source": [
    "search_response"
   ]
  },
  {
   "cell_type": "code",
   "execution_count": 37,
   "id": "8c0e01bb",
   "metadata": {},
   "outputs": [
    {
     "data": {
      "text/html": [
       "<div>\n",
       "<style scoped>\n",
       "    .dataframe tbody tr th:only-of-type {\n",
       "        vertical-align: middle;\n",
       "    }\n",
       "\n",
       "    .dataframe tbody tr th {\n",
       "        vertical-align: top;\n",
       "    }\n",
       "\n",
       "    .dataframe thead th {\n",
       "        text-align: right;\n",
       "    }\n",
       "</style>\n",
       "<table border=\"1\" class=\"dataframe\">\n",
       "  <thead>\n",
       "    <tr style=\"text-align: right;\">\n",
       "      <th></th>\n",
       "      <th>channelTitle</th>\n",
       "      <th>channelId</th>\n",
       "    </tr>\n",
       "  </thead>\n",
       "  <tbody>\n",
       "    <tr>\n",
       "      <th>0</th>\n",
       "      <td>WINNER</td>\n",
       "      <td>UCayQxFAoFCvGariuQCtHRGQ</td>\n",
       "    </tr>\n",
       "    <tr>\n",
       "      <th>1</th>\n",
       "      <td>WINNER - Topic</td>\n",
       "      <td>UCYFMusbxIBk6gosFW0o882A</td>\n",
       "    </tr>\n",
       "    <tr>\n",
       "      <th>2</th>\n",
       "      <td>Winner</td>\n",
       "      <td>UC_QjJqfnLkrEmaZnWDOMskw</td>\n",
       "    </tr>\n",
       "    <tr>\n",
       "      <th>3</th>\n",
       "      <td>Winner(위너)</td>\n",
       "      <td>UCZ1pHpliTMw1-ffpP2Qalhg</td>\n",
       "    </tr>\n",
       "    <tr>\n",
       "      <th>4</th>\n",
       "      <td>Winners Team</td>\n",
       "      <td>UC1vqsWUiZpV3-_D4zVutaMQ</td>\n",
       "    </tr>\n",
       "  </tbody>\n",
       "</table>\n",
       "</div>"
      ],
      "text/plain": [
       "     channelTitle                 channelId\n",
       "0          WINNER  UCayQxFAoFCvGariuQCtHRGQ\n",
       "1  WINNER - Topic  UCYFMusbxIBk6gosFW0o882A\n",
       "2          Winner  UC_QjJqfnLkrEmaZnWDOMskw\n",
       "3      Winner(위너)  UCZ1pHpliTMw1-ffpP2Qalhg\n",
       "4    Winners Team  UC1vqsWUiZpV3-_D4zVutaMQ"
      ]
     },
     "execution_count": 37,
     "metadata": {},
     "output_type": "execute_result"
    }
   ],
   "source": [
    "#필요한 변수들로 데이터프레임을 구성\n",
    "channelTitle = []\n",
    "channelId = []\n",
    "\n",
    "for item in search_response[\"items\"]:\n",
    "    channelTitle.append(item[\"snippet\"][\"title\"])\n",
    "    channelId.append(item[\"snippet\"][\"channelId\"])\n",
    "    \n",
    "search_df = pd.DataFrame({\"channelTitle\": channelTitle, \"channelId\": channelId})\n",
    "search_df"
   ]
  },
  {
   "cell_type": "code",
   "execution_count": 19,
   "id": "54257cb1",
   "metadata": {},
   "outputs": [
    {
     "data": {
      "text/plain": [
       "'UCayQxFAoFCvGariuQCtHRGQ'"
      ]
     },
     "execution_count": 19,
     "metadata": {},
     "output_type": "execute_result"
    }
   ],
   "source": [
    "winner = search_df[\"channelId\"][0]\n",
    "winner"
   ]
  },
  {
   "cell_type": "code",
   "execution_count": 24,
   "id": "5a14330a",
   "metadata": {},
   "outputs": [
    {
     "data": {
      "text/html": [
       "<div>\n",
       "<style scoped>\n",
       "    .dataframe tbody tr th:only-of-type {\n",
       "        vertical-align: middle;\n",
       "    }\n",
       "\n",
       "    .dataframe tbody tr th {\n",
       "        vertical-align: top;\n",
       "    }\n",
       "\n",
       "    .dataframe thead th {\n",
       "        text-align: right;\n",
       "    }\n",
       "</style>\n",
       "<table border=\"1\" class=\"dataframe\">\n",
       "  <thead>\n",
       "    <tr style=\"text-align: right;\">\n",
       "      <th></th>\n",
       "      <th>channel</th>\n",
       "      <th>channel_id</th>\n",
       "    </tr>\n",
       "  </thead>\n",
       "  <tbody>\n",
       "    <tr>\n",
       "      <th>0</th>\n",
       "      <td>YG ENTERTAINMENT</td>\n",
       "      <td>UCQi67q4kGdmnJaRzX81uK5g</td>\n",
       "    </tr>\n",
       "    <tr>\n",
       "      <th>1</th>\n",
       "      <td>BLACKPINK</td>\n",
       "      <td>UCOmHUn--16B90oW2L6FRR3A</td>\n",
       "    </tr>\n",
       "    <tr>\n",
       "      <th>2</th>\n",
       "      <td>OfficialGDRAGON</td>\n",
       "      <td>UCeU5qTuBiqTU5z-hyL6WITQ</td>\n",
       "    </tr>\n",
       "    <tr>\n",
       "      <th>3</th>\n",
       "      <td>TREASURE (트레저)</td>\n",
       "      <td>UCx9hXYOCvUYwrprEqe4ZQHA</td>\n",
       "    </tr>\n",
       "    <tr>\n",
       "      <th>4</th>\n",
       "      <td>WINNER</td>\n",
       "      <td>UCayQxFAoFCvGariuQCtHRGQ</td>\n",
       "    </tr>\n",
       "  </tbody>\n",
       "</table>\n",
       "</div>"
      ],
      "text/plain": [
       "            channel                channel_id\n",
       "0  YG ENTERTAINMENT  UCQi67q4kGdmnJaRzX81uK5g\n",
       "1         BLACKPINK  UCOmHUn--16B90oW2L6FRR3A\n",
       "2   OfficialGDRAGON  UCeU5qTuBiqTU5z-hyL6WITQ\n",
       "3    TREASURE (트레저)  UCx9hXYOCvUYwrprEqe4ZQHA\n",
       "4            WINNER  UCayQxFAoFCvGariuQCtHRGQ"
      ]
     },
     "execution_count": 24,
     "metadata": {},
     "output_type": "execute_result"
    }
   ],
   "source": [
    "#유튜브 채널 데이터프레임 생성\n",
    "channel_yg = pd.DataFrame()\n",
    "channel_yg[\"channel\"] = [\"YG ENTERTAINMENT\",\"BLACKPINK\",\"OfficialGDRAGON\",\"TREASURE (트레저)\",\"WINNER\"] #채널명\n",
    "channel_yg[\"channel_id\"] = [yg, blackpink, gd, treasure, winner] #채널 id\n",
    "channel_yg"
   ]
  },
  {
   "cell_type": "code",
   "execution_count": 25,
   "id": "e9fd09fc",
   "metadata": {},
   "outputs": [],
   "source": [
    "#channel_yg를 csv파일로 저장\n",
    "channel_yg.to_csv(\"../../../data/YouTube/channel_yg.csv\", index=False)"
   ]
  },
  {
   "cell_type": "markdown",
   "id": "8b53243d",
   "metadata": {},
   "source": [
    "### (1-2-3) 제이와이피(JYP)"
   ]
  },
  {
   "cell_type": "markdown",
   "id": "f66deb89",
   "metadata": {},
   "source": [
    "#### (1번) 스트레이키즈"
   ]
  },
  {
   "cell_type": "code",
   "execution_count": 38,
   "id": "6c9c9796",
   "metadata": {},
   "outputs": [],
   "source": [
    "#query문 작성\n",
    "search_response = youtube.search().list(\n",
    "    q = \"Stray Kids\",\n",
    "    order = \"relevance\",\n",
    "    part = \"snippet\",\n",
    "    maxResults = 5,\n",
    "    type = \"channel\"\n",
    ").execute()"
   ]
  },
  {
   "cell_type": "code",
   "execution_count": 39,
   "id": "9e5ffcff",
   "metadata": {},
   "outputs": [
    {
     "data": {
      "text/plain": [
       "{'kind': 'youtube#searchListResponse',\n",
       " 'etag': '2eQr6T8gl_nf4zaSDp2sA4dwHlo',\n",
       " 'nextPageToken': 'CAUQAA',\n",
       " 'regionCode': 'KR',\n",
       " 'pageInfo': {'totalResults': 24290, 'resultsPerPage': 5},\n",
       " 'items': [{'kind': 'youtube#searchResult',\n",
       "   'etag': 'n-qjoWj5sZXhyDazbEmfuPiQEG0',\n",
       "   'id': {'kind': 'youtube#channel', 'channelId': 'UC9rMiEjNaCSsebs31MRDCRA'},\n",
       "   'snippet': {'publishedAt': '2017-05-12T03:28:10Z',\n",
       "    'channelId': 'UC9rMiEjNaCSsebs31MRDCRA',\n",
       "    'title': 'Stray Kids',\n",
       "    'description': 'Stray Kids Official YouTube.',\n",
       "    'thumbnails': {'default': {'url': 'https://yt3.ggpht.com/nO0HX2YwTdh1YDCuxRsCd9ljmK2cbUVFu7PGoT22LPKx4Zk0iqhUJbheybIpC-0hqEUIIC0dS3g=s88-c-k-c0xffffffff-no-rj-mo'},\n",
       "     'medium': {'url': 'https://yt3.ggpht.com/nO0HX2YwTdh1YDCuxRsCd9ljmK2cbUVFu7PGoT22LPKx4Zk0iqhUJbheybIpC-0hqEUIIC0dS3g=s240-c-k-c0xffffffff-no-rj-mo'},\n",
       "     'high': {'url': 'https://yt3.ggpht.com/nO0HX2YwTdh1YDCuxRsCd9ljmK2cbUVFu7PGoT22LPKx4Zk0iqhUJbheybIpC-0hqEUIIC0dS3g=s800-c-k-c0xffffffff-no-rj-mo'}},\n",
       "    'channelTitle': 'Stray Kids',\n",
       "    'liveBroadcastContent': 'upcoming',\n",
       "    'publishTime': '2017-05-12T03:28:10Z'}},\n",
       "  {'kind': 'youtube#searchResult',\n",
       "   'etag': 'Bq_UMc2hoMPRxaIEBjW3OsrEKXw',\n",
       "   'id': {'kind': 'youtube#channel', 'channelId': 'UCIMmuidNJdncfMEelOU08Fg'},\n",
       "   'snippet': {'publishedAt': '2017-11-23T12:12:14Z',\n",
       "    'channelId': 'UCIMmuidNJdncfMEelOU08Fg',\n",
       "    'title': 'Stray Kids - Topic',\n",
       "    'description': 'Stray Kids(스트레이 키즈) Official YouTube Music.',\n",
       "    'thumbnails': {'default': {'url': 'https://yt3.ggpht.com/9rRzOzFsz6bF2hLxlHcYp3CgpSw1TKEIytEAnvW9zpV-i74Yvl2_peICZ29lDVRxO0iRjPHt=s88-c-k-c0xffffffff-no-rj-mo'},\n",
       "     'medium': {'url': 'https://yt3.ggpht.com/9rRzOzFsz6bF2hLxlHcYp3CgpSw1TKEIytEAnvW9zpV-i74Yvl2_peICZ29lDVRxO0iRjPHt=s240-c-k-c0xffffffff-no-rj-mo'},\n",
       "     'high': {'url': 'https://yt3.ggpht.com/9rRzOzFsz6bF2hLxlHcYp3CgpSw1TKEIytEAnvW9zpV-i74Yvl2_peICZ29lDVRxO0iRjPHt=s800-c-k-c0xffffffff-no-rj-mo'}},\n",
       "    'channelTitle': 'Stray Kids - Topic',\n",
       "    'liveBroadcastContent': 'none',\n",
       "    'publishTime': '2017-11-23T12:12:14Z'}},\n",
       "  {'kind': 'youtube#searchResult',\n",
       "   'etag': 'jLiAMbIpZA6sO5qp4vuhHs7Lfpk',\n",
       "   'id': {'kind': 'youtube#channel', 'channelId': 'UCXhj2pPWvONXmvgHX5wllCA'},\n",
       "   'snippet': {'publishedAt': '2020-02-06T00:21:40Z',\n",
       "    'channelId': 'UCXhj2pPWvONXmvgHX5wllCA',\n",
       "    'title': 'Stray Kids Japan Official YouTube',\n",
       "    'description': '',\n",
       "    'thumbnails': {'default': {'url': 'https://yt3.ggpht.com/NYNP9ohzzwoQwUfJF2RSkdJSyy1CjotudgwXQ4zJfCpEbfbZY5dHIZEEFgmyyaCSjSDCCbwe=s88-c-k-c0xffffffff-no-rj-mo'},\n",
       "     'medium': {'url': 'https://yt3.ggpht.com/NYNP9ohzzwoQwUfJF2RSkdJSyy1CjotudgwXQ4zJfCpEbfbZY5dHIZEEFgmyyaCSjSDCCbwe=s240-c-k-c0xffffffff-no-rj-mo'},\n",
       "     'high': {'url': 'https://yt3.ggpht.com/NYNP9ohzzwoQwUfJF2RSkdJSyy1CjotudgwXQ4zJfCpEbfbZY5dHIZEEFgmyyaCSjSDCCbwe=s800-c-k-c0xffffffff-no-rj-mo'}},\n",
       "    'channelTitle': 'Stray Kids Japan Official YouTube',\n",
       "    'liveBroadcastContent': 'none',\n",
       "    'publishTime': '2020-02-06T00:21:40Z'}},\n",
       "  {'kind': 'youtube#searchResult',\n",
       "   'etag': 'b57muzWuD0n5tz5sFPG5xDATYm4',\n",
       "   'id': {'kind': 'youtube#channel', 'channelId': 'UC_iFLJd2mAvf1VFhpmU9iqA'},\n",
       "   'snippet': {'publishedAt': '2021-08-03T21:33:11Z',\n",
       "    'channelId': 'UC_iFLJd2mAvf1VFhpmU9iqA',\n",
       "    'title': 'STRAY KIDS DISTRICT',\n",
       "    'description': 'Вас приветствует новостной портал Stray Kids District! Спасибо, что вы с нами~   SkzDistrictTeam: ...',\n",
       "    'thumbnails': {'default': {'url': 'https://yt3.ggpht.com/kIw7GuIMJ2u1zESCZBGe_yykk0VJdKRpy2nuwKZZIc0bWT_jik2NfkqceVw5GlWULCW-ZZ82-Q=s88-c-k-c0xffffffff-no-rj-mo'},\n",
       "     'medium': {'url': 'https://yt3.ggpht.com/kIw7GuIMJ2u1zESCZBGe_yykk0VJdKRpy2nuwKZZIc0bWT_jik2NfkqceVw5GlWULCW-ZZ82-Q=s240-c-k-c0xffffffff-no-rj-mo'},\n",
       "     'high': {'url': 'https://yt3.ggpht.com/kIw7GuIMJ2u1zESCZBGe_yykk0VJdKRpy2nuwKZZIc0bWT_jik2NfkqceVw5GlWULCW-ZZ82-Q=s800-c-k-c0xffffffff-no-rj-mo'}},\n",
       "    'channelTitle': 'STRAY KIDS DISTRICT',\n",
       "    'liveBroadcastContent': 'none',\n",
       "    'publishTime': '2021-08-03T21:33:11Z'}},\n",
       "  {'kind': 'youtube#searchResult',\n",
       "   'etag': 'BoIgpXPZ3TWnFFy_oCIWC1mZ9Gs',\n",
       "   'id': {'kind': 'youtube#channel', 'channelId': 'UCqKkkyTu4DvUq44APQx2n2A'},\n",
       "   'snippet': {'publishedAt': '2021-06-25T13:27:13Z',\n",
       "    'channelId': 'UCqKkkyTu4DvUq44APQx2n2A',\n",
       "    'title': 'Stray Kids Vlive Archives',\n",
       "    'description': \"Hello! This is Stray Kids Vlive Archives. This is basically a compilation of skz's vlives. If you want to look for a certain vlive, ...\",\n",
       "    'thumbnails': {'default': {'url': 'https://yt3.ggpht.com/N8R-SpaB9iP2s4dKf9GiaanYzdILzRrpSbcIT5OqMXl56OoXIOTwO7x4yAkOZlKtQBySFbMZhVg=s88-c-k-c0xffffffff-no-rj-mo'},\n",
       "     'medium': {'url': 'https://yt3.ggpht.com/N8R-SpaB9iP2s4dKf9GiaanYzdILzRrpSbcIT5OqMXl56OoXIOTwO7x4yAkOZlKtQBySFbMZhVg=s240-c-k-c0xffffffff-no-rj-mo'},\n",
       "     'high': {'url': 'https://yt3.ggpht.com/N8R-SpaB9iP2s4dKf9GiaanYzdILzRrpSbcIT5OqMXl56OoXIOTwO7x4yAkOZlKtQBySFbMZhVg=s800-c-k-c0xffffffff-no-rj-mo'}},\n",
       "    'channelTitle': 'Stray Kids Vlive Archives',\n",
       "    'liveBroadcastContent': 'none',\n",
       "    'publishTime': '2021-06-25T13:27:13Z'}}]}"
      ]
     },
     "execution_count": 39,
     "metadata": {},
     "output_type": "execute_result"
    }
   ],
   "source": [
    "search_response"
   ]
  },
  {
   "cell_type": "code",
   "execution_count": 40,
   "id": "2f1214d3",
   "metadata": {},
   "outputs": [
    {
     "data": {
      "text/html": [
       "<div>\n",
       "<style scoped>\n",
       "    .dataframe tbody tr th:only-of-type {\n",
       "        vertical-align: middle;\n",
       "    }\n",
       "\n",
       "    .dataframe tbody tr th {\n",
       "        vertical-align: top;\n",
       "    }\n",
       "\n",
       "    .dataframe thead th {\n",
       "        text-align: right;\n",
       "    }\n",
       "</style>\n",
       "<table border=\"1\" class=\"dataframe\">\n",
       "  <thead>\n",
       "    <tr style=\"text-align: right;\">\n",
       "      <th></th>\n",
       "      <th>channelTitle</th>\n",
       "      <th>channelId</th>\n",
       "    </tr>\n",
       "  </thead>\n",
       "  <tbody>\n",
       "    <tr>\n",
       "      <th>0</th>\n",
       "      <td>Stray Kids</td>\n",
       "      <td>UC9rMiEjNaCSsebs31MRDCRA</td>\n",
       "    </tr>\n",
       "    <tr>\n",
       "      <th>1</th>\n",
       "      <td>Stray Kids - Topic</td>\n",
       "      <td>UCIMmuidNJdncfMEelOU08Fg</td>\n",
       "    </tr>\n",
       "    <tr>\n",
       "      <th>2</th>\n",
       "      <td>Stray Kids Japan Official YouTube</td>\n",
       "      <td>UCXhj2pPWvONXmvgHX5wllCA</td>\n",
       "    </tr>\n",
       "    <tr>\n",
       "      <th>3</th>\n",
       "      <td>STRAY KIDS DISTRICT</td>\n",
       "      <td>UC_iFLJd2mAvf1VFhpmU9iqA</td>\n",
       "    </tr>\n",
       "    <tr>\n",
       "      <th>4</th>\n",
       "      <td>Stray Kids Vlive Archives</td>\n",
       "      <td>UCqKkkyTu4DvUq44APQx2n2A</td>\n",
       "    </tr>\n",
       "  </tbody>\n",
       "</table>\n",
       "</div>"
      ],
      "text/plain": [
       "                        channelTitle                 channelId\n",
       "0                         Stray Kids  UC9rMiEjNaCSsebs31MRDCRA\n",
       "1                 Stray Kids - Topic  UCIMmuidNJdncfMEelOU08Fg\n",
       "2  Stray Kids Japan Official YouTube  UCXhj2pPWvONXmvgHX5wllCA\n",
       "3                STRAY KIDS DISTRICT  UC_iFLJd2mAvf1VFhpmU9iqA\n",
       "4          Stray Kids Vlive Archives  UCqKkkyTu4DvUq44APQx2n2A"
      ]
     },
     "execution_count": 40,
     "metadata": {},
     "output_type": "execute_result"
    }
   ],
   "source": [
    "#필요한 변수들로 데이터프레임을 구성\n",
    "channelTitle = []\n",
    "channelId = []\n",
    "\n",
    "for item in search_response[\"items\"]:\n",
    "    channelTitle.append(item[\"snippet\"][\"title\"])\n",
    "    channelId.append(item[\"snippet\"][\"channelId\"])\n",
    "    \n",
    "search_df = pd.DataFrame({\"channelTitle\": channelTitle, \"channelId\": channelId})\n",
    "search_df"
   ]
  },
  {
   "cell_type": "code",
   "execution_count": 11,
   "id": "a290559d",
   "metadata": {},
   "outputs": [
    {
     "data": {
      "text/plain": [
       "'UC9rMiEjNaCSsebs31MRDCRA'"
      ]
     },
     "execution_count": 11,
     "metadata": {},
     "output_type": "execute_result"
    }
   ],
   "source": [
    "straykids = search_df[\"channelId\"][0]\n",
    "straykids"
   ]
  },
  {
   "cell_type": "markdown",
   "id": "65a9a6a1",
   "metadata": {},
   "source": [
    "#### (2번) 트와이스"
   ]
  },
  {
   "cell_type": "code",
   "execution_count": 41,
   "id": "1587a764",
   "metadata": {},
   "outputs": [],
   "source": [
    "#query문 작성\n",
    "search_response = youtube.search().list(\n",
    "    q = \"TWICE\",\n",
    "    order = \"relevance\",\n",
    "    part = \"snippet\",\n",
    "    maxResults = 5,\n",
    "    type = \"channel\"\n",
    ").execute()"
   ]
  },
  {
   "cell_type": "code",
   "execution_count": 42,
   "id": "0e3d43c9",
   "metadata": {},
   "outputs": [
    {
     "data": {
      "text/plain": [
       "{'kind': 'youtube#searchListResponse',\n",
       " 'etag': 'JR5YtkVRhLusgEVLRd7wVO1wxxI',\n",
       " 'nextPageToken': 'CAUQAA',\n",
       " 'regionCode': 'KR',\n",
       " 'pageInfo': {'totalResults': 36854, 'resultsPerPage': 5},\n",
       " 'items': [{'kind': 'youtube#searchResult',\n",
       "   'etag': 'iubCVmIbbMBuu6zypHV2rYS2E6U',\n",
       "   'id': {'kind': 'youtube#channel', 'channelId': 'UCzgxx_DM2Dcb9Y1spb9mUJA'},\n",
       "   'snippet': {'publishedAt': '2016-03-27T15:48:08Z',\n",
       "    'channelId': 'UCzgxx_DM2Dcb9Y1spb9mUJA',\n",
       "    'title': 'TWICE',\n",
       "    'description': 'TWICE Official YouTube Channel.',\n",
       "    'thumbnails': {'default': {'url': 'https://yt3.ggpht.com/PKCD8EPU-3nm1UQ54-e2ZT3Xqwr9cMA2F-vow1gnkFGCxzwv5hRZgbjBssLe4ttjhwpXXgDbdg=s88-c-k-c0xffffffff-no-rj-mo'},\n",
       "     'medium': {'url': 'https://yt3.ggpht.com/PKCD8EPU-3nm1UQ54-e2ZT3Xqwr9cMA2F-vow1gnkFGCxzwv5hRZgbjBssLe4ttjhwpXXgDbdg=s240-c-k-c0xffffffff-no-rj-mo'},\n",
       "     'high': {'url': 'https://yt3.ggpht.com/PKCD8EPU-3nm1UQ54-e2ZT3Xqwr9cMA2F-vow1gnkFGCxzwv5hRZgbjBssLe4ttjhwpXXgDbdg=s800-c-k-c0xffffffff-no-rj-mo'}},\n",
       "    'channelTitle': 'TWICE',\n",
       "    'liveBroadcastContent': 'none',\n",
       "    'publishTime': '2016-03-27T15:48:08Z'}},\n",
       "  {'kind': 'youtube#searchResult',\n",
       "   'etag': 'de75RsOLVoPHkwMwO0wWwhN49dA',\n",
       "   'id': {'kind': 'youtube#channel', 'channelId': 'UCAq0pFGa2w9SjxOq0ZxKVIw'},\n",
       "   'snippet': {'publishedAt': '2015-07-26T06:44:24Z',\n",
       "    'channelId': 'UCAq0pFGa2w9SjxOq0ZxKVIw',\n",
       "    'title': 'TWICE - Topic',\n",
       "    'description': '',\n",
       "    'thumbnails': {'default': {'url': 'https://yt3.ggpht.com/B7WMdXMi6ld-Mz2lqL_Z1wuUcKTuv6tvayV2azSqyKZCfIpkleafd2EsFyvcrZNZV9UE54n-=s88-c-k-c0xffffffff-no-rj-mo'},\n",
       "     'medium': {'url': 'https://yt3.ggpht.com/B7WMdXMi6ld-Mz2lqL_Z1wuUcKTuv6tvayV2azSqyKZCfIpkleafd2EsFyvcrZNZV9UE54n-=s240-c-k-c0xffffffff-no-rj-mo'},\n",
       "     'high': {'url': 'https://yt3.ggpht.com/B7WMdXMi6ld-Mz2lqL_Z1wuUcKTuv6tvayV2azSqyKZCfIpkleafd2EsFyvcrZNZV9UE54n-=s800-c-k-c0xffffffff-no-rj-mo'}},\n",
       "    'channelTitle': 'TWICE - Topic',\n",
       "    'liveBroadcastContent': 'none',\n",
       "    'publishTime': '2015-07-26T06:44:24Z'}},\n",
       "  {'kind': 'youtube#searchResult',\n",
       "   'etag': 'Tu-5hy-1-WCU7S-_etcIHap6Cbs',\n",
       "   'id': {'kind': 'youtube#channel', 'channelId': 'UCCRb6nYKaT8tzLA8CwDdUtw'},\n",
       "   'snippet': {'publishedAt': '2017-02-22T03:27:35Z',\n",
       "    'channelId': 'UCCRb6nYKaT8tzLA8CwDdUtw',\n",
       "    'title': 'TWICE JAPAN OFFICIAL YouTube Channel',\n",
       "    'description': '',\n",
       "    'thumbnails': {'default': {'url': 'https://yt3.ggpht.com/MP1VhaF4tgx9kePG2Az1ZuqiKlgthJZ0Wfe2NXgHnHus-Z91VWJmToH082hKP7WXa6XzX4CcKuk=s88-c-k-c0xffffffff-no-rj-mo'},\n",
       "     'medium': {'url': 'https://yt3.ggpht.com/MP1VhaF4tgx9kePG2Az1ZuqiKlgthJZ0Wfe2NXgHnHus-Z91VWJmToH082hKP7WXa6XzX4CcKuk=s240-c-k-c0xffffffff-no-rj-mo'},\n",
       "     'high': {'url': 'https://yt3.ggpht.com/MP1VhaF4tgx9kePG2Az1ZuqiKlgthJZ0Wfe2NXgHnHus-Z91VWJmToH082hKP7WXa6XzX4CcKuk=s800-c-k-c0xffffffff-no-rj-mo'}},\n",
       "    'channelTitle': 'TWICE JAPAN OFFICIAL YouTube Channel',\n",
       "    'liveBroadcastContent': 'none',\n",
       "    'publishTime': '2017-02-22T03:27:35Z'}},\n",
       "  {'kind': 'youtube#searchResult',\n",
       "   'etag': 'CEDx5LpFeye9Rw3zZSXm53KQBl0',\n",
       "   'id': {'kind': 'youtube#channel', 'channelId': 'UCNOCNM_WCTVuwSUYvj5SEkw'},\n",
       "   'snippet': {'publishedAt': '2017-11-03T15:39:28Z',\n",
       "    'channelId': 'UCNOCNM_WCTVuwSUYvj5SEkw',\n",
       "    'title': 'Twice',\n",
       "    'description': \"Hello! My name is TWICE - I'm a builder in my favorite Minecraft game! I make video instructions for various buildings for your city ...\",\n",
       "    'thumbnails': {'default': {'url': 'https://yt3.ggpht.com/F_kYXMYuQqdh9ixLoB--2DCE61OiP88jf_RRIcegvel4Nl80Hz12MJSSdrNcKuMFYD0Yue5xmA=s88-c-k-c0xffffffff-no-rj-mo'},\n",
       "     'medium': {'url': 'https://yt3.ggpht.com/F_kYXMYuQqdh9ixLoB--2DCE61OiP88jf_RRIcegvel4Nl80Hz12MJSSdrNcKuMFYD0Yue5xmA=s240-c-k-c0xffffffff-no-rj-mo'},\n",
       "     'high': {'url': 'https://yt3.ggpht.com/F_kYXMYuQqdh9ixLoB--2DCE61OiP88jf_RRIcegvel4Nl80Hz12MJSSdrNcKuMFYD0Yue5xmA=s800-c-k-c0xffffffff-no-rj-mo'}},\n",
       "    'channelTitle': 'Twice',\n",
       "    'liveBroadcastContent': 'none',\n",
       "    'publishTime': '2017-11-03T15:39:28Z'}},\n",
       "  {'kind': 'youtube#searchResult',\n",
       "   'etag': 'l4y4bnGphJik9r7vID59PXtUcTM',\n",
       "   'id': {'kind': 'youtube#channel', 'channelId': 'UC0EakU8Gklv7X_6G70DrJVg'},\n",
       "   'snippet': {'publishedAt': '2019-12-14T13:53:54Z',\n",
       "    'channelId': 'UC0EakU8Gklv7X_6G70DrJVg',\n",
       "    'title': 'Arab Twice Team',\n",
       "    'description': '',\n",
       "    'thumbnails': {'default': {'url': 'https://yt3.ggpht.com/CphNS8dXQemX4B7L_GmGqVDJI5LLzJfPTvBpQlnDdind1o2_HcyrGgNSre4LSPW8xveqxS5O=s88-c-k-c0xffffffff-no-rj-mo'},\n",
       "     'medium': {'url': 'https://yt3.ggpht.com/CphNS8dXQemX4B7L_GmGqVDJI5LLzJfPTvBpQlnDdind1o2_HcyrGgNSre4LSPW8xveqxS5O=s240-c-k-c0xffffffff-no-rj-mo'},\n",
       "     'high': {'url': 'https://yt3.ggpht.com/CphNS8dXQemX4B7L_GmGqVDJI5LLzJfPTvBpQlnDdind1o2_HcyrGgNSre4LSPW8xveqxS5O=s800-c-k-c0xffffffff-no-rj-mo'}},\n",
       "    'channelTitle': 'Arab Twice Team',\n",
       "    'liveBroadcastContent': 'upcoming',\n",
       "    'publishTime': '2019-12-14T13:53:54Z'}}]}"
      ]
     },
     "execution_count": 42,
     "metadata": {},
     "output_type": "execute_result"
    }
   ],
   "source": [
    "search_response"
   ]
  },
  {
   "cell_type": "code",
   "execution_count": 43,
   "id": "9bae2dac",
   "metadata": {},
   "outputs": [
    {
     "data": {
      "text/html": [
       "<div>\n",
       "<style scoped>\n",
       "    .dataframe tbody tr th:only-of-type {\n",
       "        vertical-align: middle;\n",
       "    }\n",
       "\n",
       "    .dataframe tbody tr th {\n",
       "        vertical-align: top;\n",
       "    }\n",
       "\n",
       "    .dataframe thead th {\n",
       "        text-align: right;\n",
       "    }\n",
       "</style>\n",
       "<table border=\"1\" class=\"dataframe\">\n",
       "  <thead>\n",
       "    <tr style=\"text-align: right;\">\n",
       "      <th></th>\n",
       "      <th>channelTitle</th>\n",
       "      <th>channelId</th>\n",
       "    </tr>\n",
       "  </thead>\n",
       "  <tbody>\n",
       "    <tr>\n",
       "      <th>0</th>\n",
       "      <td>TWICE</td>\n",
       "      <td>UCzgxx_DM2Dcb9Y1spb9mUJA</td>\n",
       "    </tr>\n",
       "    <tr>\n",
       "      <th>1</th>\n",
       "      <td>TWICE - Topic</td>\n",
       "      <td>UCAq0pFGa2w9SjxOq0ZxKVIw</td>\n",
       "    </tr>\n",
       "    <tr>\n",
       "      <th>2</th>\n",
       "      <td>TWICE JAPAN OFFICIAL YouTube Channel</td>\n",
       "      <td>UCCRb6nYKaT8tzLA8CwDdUtw</td>\n",
       "    </tr>\n",
       "    <tr>\n",
       "      <th>3</th>\n",
       "      <td>Twice</td>\n",
       "      <td>UCNOCNM_WCTVuwSUYvj5SEkw</td>\n",
       "    </tr>\n",
       "    <tr>\n",
       "      <th>4</th>\n",
       "      <td>Arab Twice Team</td>\n",
       "      <td>UC0EakU8Gklv7X_6G70DrJVg</td>\n",
       "    </tr>\n",
       "  </tbody>\n",
       "</table>\n",
       "</div>"
      ],
      "text/plain": [
       "                           channelTitle                 channelId\n",
       "0                                 TWICE  UCzgxx_DM2Dcb9Y1spb9mUJA\n",
       "1                         TWICE - Topic  UCAq0pFGa2w9SjxOq0ZxKVIw\n",
       "2  TWICE JAPAN OFFICIAL YouTube Channel  UCCRb6nYKaT8tzLA8CwDdUtw\n",
       "3                                 Twice  UCNOCNM_WCTVuwSUYvj5SEkw\n",
       "4                       Arab Twice Team  UC0EakU8Gklv7X_6G70DrJVg"
      ]
     },
     "execution_count": 43,
     "metadata": {},
     "output_type": "execute_result"
    }
   ],
   "source": [
    "#필요한 변수들로 데이터프레임을 구성\n",
    "channelTitle = []\n",
    "channelId = []\n",
    "\n",
    "for item in search_response[\"items\"]:\n",
    "    channelTitle.append(item[\"snippet\"][\"title\"])\n",
    "    channelId.append(item[\"snippet\"][\"channelId\"])\n",
    "    \n",
    "search_df = pd.DataFrame({\"channelTitle\": channelTitle, \"channelId\": channelId})\n",
    "search_df"
   ]
  },
  {
   "cell_type": "code",
   "execution_count": 15,
   "id": "359a2b8f",
   "metadata": {},
   "outputs": [
    {
     "data": {
      "text/plain": [
       "'UCzgxx_DM2Dcb9Y1spb9mUJA'"
      ]
     },
     "execution_count": 15,
     "metadata": {},
     "output_type": "execute_result"
    }
   ],
   "source": [
    "twice = search_df[\"channelId\"][0]\n",
    "twice"
   ]
  },
  {
   "cell_type": "markdown",
   "id": "9e5eb10a",
   "metadata": {},
   "source": [
    "#### (3번) 엔믹스"
   ]
  },
  {
   "cell_type": "code",
   "execution_count": 44,
   "id": "4f651752",
   "metadata": {},
   "outputs": [],
   "source": [
    "#query문 작성\n",
    "search_response = youtube.search().list(\n",
    "    q = \"NMIXX\",\n",
    "    order = \"relevance\",\n",
    "    part = \"snippet\",\n",
    "    maxResults = 5,\n",
    "    type = \"channel\"\n",
    ").execute()"
   ]
  },
  {
   "cell_type": "code",
   "execution_count": 45,
   "id": "176c72c7",
   "metadata": {},
   "outputs": [
    {
     "data": {
      "text/plain": [
       "{'kind': 'youtube#searchListResponse',\n",
       " 'etag': 'CvzlHR_Y4xUX5b7gZUXBGghJxnE',\n",
       " 'nextPageToken': 'CAUQAA',\n",
       " 'regionCode': 'KR',\n",
       " 'pageInfo': {'totalResults': 23143, 'resultsPerPage': 5},\n",
       " 'items': [{'kind': 'youtube#searchResult',\n",
       "   'etag': 'Zlgo1svatrZPQdXCSAxfyIhFJD0',\n",
       "   'id': {'kind': 'youtube#channel', 'channelId': 'UCnUAyD4t2LkvW68YrDh7fDg'},\n",
       "   'snippet': {'publishedAt': '2021-07-12T03:58:53Z',\n",
       "    'channelId': 'UCnUAyD4t2LkvW68YrDh7fDg',\n",
       "    'title': 'NMIXX',\n",
       "    'description': 'NMIXX Official YouTube.',\n",
       "    'thumbnails': {'default': {'url': 'https://yt3.ggpht.com/OZj8QeoGfH-S1YoZmZs7Ymr6JKmlaDfgPgAGg8XGNZSbbRIXP6BfXyyTrWZu99bgafNRKaMv7Q=s88-c-k-c0xffffffff-no-rj-mo'},\n",
       "     'medium': {'url': 'https://yt3.ggpht.com/OZj8QeoGfH-S1YoZmZs7Ymr6JKmlaDfgPgAGg8XGNZSbbRIXP6BfXyyTrWZu99bgafNRKaMv7Q=s240-c-k-c0xffffffff-no-rj-mo'},\n",
       "     'high': {'url': 'https://yt3.ggpht.com/OZj8QeoGfH-S1YoZmZs7Ymr6JKmlaDfgPgAGg8XGNZSbbRIXP6BfXyyTrWZu99bgafNRKaMv7Q=s800-c-k-c0xffffffff-no-rj-mo'}},\n",
       "    'channelTitle': 'NMIXX',\n",
       "    'liveBroadcastContent': 'live',\n",
       "    'publishTime': '2021-07-12T03:58:53Z'}},\n",
       "  {'kind': 'youtube#searchResult',\n",
       "   'etag': '0MwElrCsLXdJsgR2iaLIfUZefEY',\n",
       "   'id': {'kind': 'youtube#channel', 'channelId': 'UC_Cx288SDUD9liYn7CiJLAA'},\n",
       "   'snippet': {'publishedAt': '2022-03-03T16:18:45Z',\n",
       "    'channelId': 'UC_Cx288SDUD9liYn7CiJLAA',\n",
       "    'title': 'NMIXX - Topic',\n",
       "    'description': '',\n",
       "    'thumbnails': {'default': {'url': 'https://yt3.ggpht.com/GPSLKibl4Uy_ZZhALZkKX3Vc9N-rdAIt76tfS_F_H7cS8k6FtaD_cvjKgxi_4i3VnG9VTraqsQ=s88-c-k-c0xffffffff-no-rj-mo'},\n",
       "     'medium': {'url': 'https://yt3.ggpht.com/GPSLKibl4Uy_ZZhALZkKX3Vc9N-rdAIt76tfS_F_H7cS8k6FtaD_cvjKgxi_4i3VnG9VTraqsQ=s240-c-k-c0xffffffff-no-rj-mo'},\n",
       "     'high': {'url': 'https://yt3.ggpht.com/GPSLKibl4Uy_ZZhALZkKX3Vc9N-rdAIt76tfS_F_H7cS8k6FtaD_cvjKgxi_4i3VnG9VTraqsQ=s800-c-k-c0xffffffff-no-rj-mo'}},\n",
       "    'channelTitle': 'NMIXX - Topic',\n",
       "    'liveBroadcastContent': 'none',\n",
       "    'publishTime': '2022-03-03T16:18:45Z'}},\n",
       "  {'kind': 'youtube#searchResult',\n",
       "   'etag': 'xmahH638qrbK7SxxNq4l741XsI0',\n",
       "   'id': {'kind': 'youtube#channel', 'channelId': 'UCTRvSnt4PTR9azum9UBzdXg'},\n",
       "   'snippet': {'publishedAt': '2021-08-21T11:39:57Z',\n",
       "    'channelId': 'UCTRvSnt4PTR9azum9UBzdXg',\n",
       "    'title': 'NMIXX Turkey',\n",
       "    'description': 'Merhaba biz NMIXX adına açılmış tek aktif Türkçe çeviri kanalıyız ❤️ En doğru ve güncel çeviriler için abone olmayı, bildirimleri ...',\n",
       "    'thumbnails': {'default': {'url': 'https://yt3.ggpht.com/eQPY3nFnWt1Hs_KnWh89AgEM99fDz75jLBkNIbH4Hhs1HYrw6SXDzFiou0xyp0lYyKrrOZcSgw=s88-c-k-c0xffffffff-no-rj-mo'},\n",
       "     'medium': {'url': 'https://yt3.ggpht.com/eQPY3nFnWt1Hs_KnWh89AgEM99fDz75jLBkNIbH4Hhs1HYrw6SXDzFiou0xyp0lYyKrrOZcSgw=s240-c-k-c0xffffffff-no-rj-mo'},\n",
       "     'high': {'url': 'https://yt3.ggpht.com/eQPY3nFnWt1Hs_KnWh89AgEM99fDz75jLBkNIbH4Hhs1HYrw6SXDzFiou0xyp0lYyKrrOZcSgw=s800-c-k-c0xffffffff-no-rj-mo'}},\n",
       "    'channelTitle': 'NMIXX Turkey',\n",
       "    'liveBroadcastContent': 'none',\n",
       "    'publishTime': '2021-08-21T11:39:57Z'}},\n",
       "  {'kind': 'youtube#searchResult',\n",
       "   'etag': 'eghQhWt8vh3XU8iVsVsWUsBEQt0',\n",
       "   'id': {'kind': 'youtube#channel', 'channelId': 'UCmjcXc2gTZjwxCreZc_JTBQ'},\n",
       "   'snippet': {'publishedAt': '2020-06-28T11:58:44Z',\n",
       "    'channelId': 'UCmjcXc2gTZjwxCreZc_JTBQ',\n",
       "    'title': 'NMIXX SQUAD',\n",
       "    'description': '',\n",
       "    'thumbnails': {'default': {'url': 'https://yt3.ggpht.com/ELK8nMha9xjANb6xvqxm88tkFUtcxmefTcYm_q-ayZD8EGNPv8gi9YZEENkm-G2vTq7oAkw_UQ=s88-c-k-c0xffffffff-no-rj-mo'},\n",
       "     'medium': {'url': 'https://yt3.ggpht.com/ELK8nMha9xjANb6xvqxm88tkFUtcxmefTcYm_q-ayZD8EGNPv8gi9YZEENkm-G2vTq7oAkw_UQ=s240-c-k-c0xffffffff-no-rj-mo'},\n",
       "     'high': {'url': 'https://yt3.ggpht.com/ELK8nMha9xjANb6xvqxm88tkFUtcxmefTcYm_q-ayZD8EGNPv8gi9YZEENkm-G2vTq7oAkw_UQ=s800-c-k-c0xffffffff-no-rj-mo'}},\n",
       "    'channelTitle': 'NMIXX SQUAD',\n",
       "    'liveBroadcastContent': 'upcoming',\n",
       "    'publishTime': '2020-06-28T11:58:44Z'}},\n",
       "  {'kind': 'youtube#searchResult',\n",
       "   'etag': 'r-ZrHA-wnlgA5JPvXc31S6MOGG8',\n",
       "   'id': {'kind': 'youtube#channel', 'channelId': 'UCXtpDAe0l2UsHU4ksFL15hg'},\n",
       "   'snippet': {'publishedAt': '2022-10-24T22:05:54Z',\n",
       "    'channelId': 'UCXtpDAe0l2UsHU4ksFL15hg',\n",
       "    'title': 'NMIXX Vlive Archive 엔믹스 브이라이브 아카이브',\n",
       "    'description': 'Hello! Welcome to NMIXX Vlive Archive! As the name says, this is an archive of every NMIXX vlive! Vlive was shut down at the end ...',\n",
       "    'thumbnails': {'default': {'url': 'https://yt3.ggpht.com/rTPcnWOAS6JPgt1HOnQ5DfujZqcx5Zg8nSW0ysJDUJPBjS-m0_lh9Z5kqaH-oEVfIfA_hyX6_A=s88-c-k-c0xffffffff-no-rj-mo'},\n",
       "     'medium': {'url': 'https://yt3.ggpht.com/rTPcnWOAS6JPgt1HOnQ5DfujZqcx5Zg8nSW0ysJDUJPBjS-m0_lh9Z5kqaH-oEVfIfA_hyX6_A=s240-c-k-c0xffffffff-no-rj-mo'},\n",
       "     'high': {'url': 'https://yt3.ggpht.com/rTPcnWOAS6JPgt1HOnQ5DfujZqcx5Zg8nSW0ysJDUJPBjS-m0_lh9Z5kqaH-oEVfIfA_hyX6_A=s800-c-k-c0xffffffff-no-rj-mo'}},\n",
       "    'channelTitle': 'NMIXX Vlive Archive 엔믹스 브이라이브 아카이브',\n",
       "    'liveBroadcastContent': 'none',\n",
       "    'publishTime': '2022-10-24T22:05:54Z'}}]}"
      ]
     },
     "execution_count": 45,
     "metadata": {},
     "output_type": "execute_result"
    }
   ],
   "source": [
    "search_response"
   ]
  },
  {
   "cell_type": "code",
   "execution_count": 46,
   "id": "7181b058",
   "metadata": {},
   "outputs": [
    {
     "data": {
      "text/html": [
       "<div>\n",
       "<style scoped>\n",
       "    .dataframe tbody tr th:only-of-type {\n",
       "        vertical-align: middle;\n",
       "    }\n",
       "\n",
       "    .dataframe tbody tr th {\n",
       "        vertical-align: top;\n",
       "    }\n",
       "\n",
       "    .dataframe thead th {\n",
       "        text-align: right;\n",
       "    }\n",
       "</style>\n",
       "<table border=\"1\" class=\"dataframe\">\n",
       "  <thead>\n",
       "    <tr style=\"text-align: right;\">\n",
       "      <th></th>\n",
       "      <th>channelTitle</th>\n",
       "      <th>channelId</th>\n",
       "    </tr>\n",
       "  </thead>\n",
       "  <tbody>\n",
       "    <tr>\n",
       "      <th>0</th>\n",
       "      <td>NMIXX</td>\n",
       "      <td>UCnUAyD4t2LkvW68YrDh7fDg</td>\n",
       "    </tr>\n",
       "    <tr>\n",
       "      <th>1</th>\n",
       "      <td>NMIXX - Topic</td>\n",
       "      <td>UC_Cx288SDUD9liYn7CiJLAA</td>\n",
       "    </tr>\n",
       "    <tr>\n",
       "      <th>2</th>\n",
       "      <td>NMIXX Turkey</td>\n",
       "      <td>UCTRvSnt4PTR9azum9UBzdXg</td>\n",
       "    </tr>\n",
       "    <tr>\n",
       "      <th>3</th>\n",
       "      <td>NMIXX SQUAD</td>\n",
       "      <td>UCmjcXc2gTZjwxCreZc_JTBQ</td>\n",
       "    </tr>\n",
       "    <tr>\n",
       "      <th>4</th>\n",
       "      <td>NMIXX Vlive Archive 엔믹스 브이라이브 아카이브</td>\n",
       "      <td>UCXtpDAe0l2UsHU4ksFL15hg</td>\n",
       "    </tr>\n",
       "  </tbody>\n",
       "</table>\n",
       "</div>"
      ],
      "text/plain": [
       "                         channelTitle                 channelId\n",
       "0                               NMIXX  UCnUAyD4t2LkvW68YrDh7fDg\n",
       "1                       NMIXX - Topic  UC_Cx288SDUD9liYn7CiJLAA\n",
       "2                        NMIXX Turkey  UCTRvSnt4PTR9azum9UBzdXg\n",
       "3                         NMIXX SQUAD  UCmjcXc2gTZjwxCreZc_JTBQ\n",
       "4  NMIXX Vlive Archive 엔믹스 브이라이브 아카이브  UCXtpDAe0l2UsHU4ksFL15hg"
      ]
     },
     "execution_count": 46,
     "metadata": {},
     "output_type": "execute_result"
    }
   ],
   "source": [
    "#필요한 변수들로 데이터프레임을 구성\n",
    "channelTitle = []\n",
    "channelId = []\n",
    "\n",
    "for item in search_response[\"items\"]:\n",
    "    channelTitle.append(item[\"snippet\"][\"title\"])\n",
    "    channelId.append(item[\"snippet\"][\"channelId\"])\n",
    "    \n",
    "search_df = pd.DataFrame({\"channelTitle\": channelTitle, \"channelId\": channelId})\n",
    "search_df"
   ]
  },
  {
   "cell_type": "code",
   "execution_count": 19,
   "id": "68ee76de",
   "metadata": {},
   "outputs": [
    {
     "data": {
      "text/plain": [
       "'UCnUAyD4t2LkvW68YrDh7fDg'"
      ]
     },
     "execution_count": 19,
     "metadata": {},
     "output_type": "execute_result"
    }
   ],
   "source": [
    "nmixx = search_df[\"channelId\"][0]\n",
    "nmixx"
   ]
  },
  {
   "cell_type": "markdown",
   "id": "5700b269",
   "metadata": {},
   "source": [
    "#### (4번) 데이식스"
   ]
  },
  {
   "cell_type": "code",
   "execution_count": 47,
   "id": "1f85e86d",
   "metadata": {},
   "outputs": [],
   "source": [
    "#query문 작성\n",
    "search_response = youtube.search().list(\n",
    "    q = \"DAY6\",\n",
    "    order = \"relevance\",\n",
    "    part = \"snippet\",\n",
    "    maxResults = 5,\n",
    "    type = \"channel\"\n",
    ").execute()"
   ]
  },
  {
   "cell_type": "code",
   "execution_count": 48,
   "id": "e9f4bcc0",
   "metadata": {},
   "outputs": [
    {
     "data": {
      "text/plain": [
       "{'kind': 'youtube#searchListResponse',\n",
       " 'etag': 'uiEZWcsG4f7Wcx92q8WLXbpuvIo',\n",
       " 'nextPageToken': 'CAUQAA',\n",
       " 'regionCode': 'KR',\n",
       " 'pageInfo': {'totalResults': 28038, 'resultsPerPage': 5},\n",
       " 'items': [{'kind': 'youtube#searchResult',\n",
       "   'etag': '3twlN2VnOtDU2G-BvRelReFF6NY',\n",
       "   'id': {'kind': 'youtube#channel', 'channelId': 'UCFEVXX0YX4eT6tdNkXi40vg'},\n",
       "   'snippet': {'publishedAt': '2015-09-18T06:51:55Z',\n",
       "    'channelId': 'UCFEVXX0YX4eT6tdNkXi40vg',\n",
       "    'title': 'DAY6 - Topic',\n",
       "    'description': '',\n",
       "    'thumbnails': {'default': {'url': 'https://yt3.ggpht.com/wzZVAOm3ilLgi4vZC4Ww6G9Y4bv_1z2dsRsL5roR2HwcO2qAYCszJk29e2C0dpxdKHM9i031Ag=s88-c-k-c0xffffffff-no-rj-mo'},\n",
       "     'medium': {'url': 'https://yt3.ggpht.com/wzZVAOm3ilLgi4vZC4Ww6G9Y4bv_1z2dsRsL5roR2HwcO2qAYCszJk29e2C0dpxdKHM9i031Ag=s240-c-k-c0xffffffff-no-rj-mo'},\n",
       "     'high': {'url': 'https://yt3.ggpht.com/wzZVAOm3ilLgi4vZC4Ww6G9Y4bv_1z2dsRsL5roR2HwcO2qAYCszJk29e2C0dpxdKHM9i031Ag=s800-c-k-c0xffffffff-no-rj-mo'}},\n",
       "    'channelTitle': 'DAY6 - Topic',\n",
       "    'liveBroadcastContent': 'none',\n",
       "    'publishTime': '2015-09-18T06:51:55Z'}},\n",
       "  {'kind': 'youtube#searchResult',\n",
       "   'etag': '1TrytV-dg6QlERB4ch3jP6_2Q10',\n",
       "   'id': {'kind': 'youtube#channel', 'channelId': 'UCp-pqXsizklX3ZHvLxXyhxw'},\n",
       "   'snippet': {'publishedAt': '2016-03-23T02:09:52Z',\n",
       "    'channelId': 'UCp-pqXsizklX3ZHvLxXyhxw',\n",
       "    'title': 'DAY6',\n",
       "    'description': 'DAY6 Official YouTube.',\n",
       "    'thumbnails': {'default': {'url': 'https://yt3.ggpht.com/xfGwUaBOoXwKrkUYtCgr1bbQA3Q56MkrYdPE7PDK-gDU1zJSwt0-c-SV506y1DjRgYKL4yVa=s88-c-k-c0xffffffff-no-rj-mo'},\n",
       "     'medium': {'url': 'https://yt3.ggpht.com/xfGwUaBOoXwKrkUYtCgr1bbQA3Q56MkrYdPE7PDK-gDU1zJSwt0-c-SV506y1DjRgYKL4yVa=s240-c-k-c0xffffffff-no-rj-mo'},\n",
       "     'high': {'url': 'https://yt3.ggpht.com/xfGwUaBOoXwKrkUYtCgr1bbQA3Q56MkrYdPE7PDK-gDU1zJSwt0-c-SV506y1DjRgYKL4yVa=s800-c-k-c0xffffffff-no-rj-mo'}},\n",
       "    'channelTitle': 'DAY6',\n",
       "    'liveBroadcastContent': 'upcoming',\n",
       "    'publishTime': '2016-03-23T02:09:52Z'}},\n",
       "  {'kind': 'youtube#searchResult',\n",
       "   'etag': 'gPAKzMjz-YzpE9iyPyIrlF0OIcI',\n",
       "   'id': {'kind': 'youtube#channel', 'channelId': 'UC-NhNhCHIXv1Pmyqo1u98Mw'},\n",
       "   'snippet': {'publishedAt': '2015-05-04T12:11:44Z',\n",
       "    'channelId': 'UC-NhNhCHIXv1Pmyqo1u98Mw',\n",
       "    'title': 'WholeWeek Day6',\n",
       "    'description': 'From MY DAY to MY DAY สามารถดูซับอื่นๆของเราได้ที่ wholeweekday6.blogspot.com ทวิตเตอร์เรา: ...',\n",
       "    'thumbnails': {'default': {'url': 'https://yt3.ggpht.com/ytc/AOPolaSCQJ5Uwlp5F7u8Vu_alZDsfM7Sc_YVCjyQiP-nNQ=s88-c-k-c0xffffffff-no-rj-mo'},\n",
       "     'medium': {'url': 'https://yt3.ggpht.com/ytc/AOPolaSCQJ5Uwlp5F7u8Vu_alZDsfM7Sc_YVCjyQiP-nNQ=s240-c-k-c0xffffffff-no-rj-mo'},\n",
       "     'high': {'url': 'https://yt3.ggpht.com/ytc/AOPolaSCQJ5Uwlp5F7u8Vu_alZDsfM7Sc_YVCjyQiP-nNQ=s800-c-k-c0xffffffff-no-rj-mo'}},\n",
       "    'channelTitle': 'WholeWeek Day6',\n",
       "    'liveBroadcastContent': 'none',\n",
       "    'publishTime': '2015-05-04T12:11:44Z'}},\n",
       "  {'kind': 'youtube#searchResult',\n",
       "   'etag': 'PJRUUw0nCAPlAjWW37ezrcfWfwU',\n",
       "   'id': {'kind': 'youtube#channel', 'channelId': 'UCDqOf2y4k-y8YGecDlPjNOQ'},\n",
       "   'snippet': {'publishedAt': '2020-11-01T03:37:42Z',\n",
       "    'channelId': 'UCDqOf2y4k-y8YGecDlPjNOQ',\n",
       "    'title': 'Young K (Day6) - Topic',\n",
       "    'description': '',\n",
       "    'thumbnails': {'default': {'url': 'https://yt3.ggpht.com/vZY3eSB5Yo2DlScj_iLslYSWUa2N8fuVV3js9ggJD9r87eLFPOz1eMI8-ZkK3ASB-4BFulfQ4g=s88-c-k-c0xffffffff-no-rj-mo'},\n",
       "     'medium': {'url': 'https://yt3.ggpht.com/vZY3eSB5Yo2DlScj_iLslYSWUa2N8fuVV3js9ggJD9r87eLFPOz1eMI8-ZkK3ASB-4BFulfQ4g=s240-c-k-c0xffffffff-no-rj-mo'},\n",
       "     'high': {'url': 'https://yt3.ggpht.com/vZY3eSB5Yo2DlScj_iLslYSWUa2N8fuVV3js9ggJD9r87eLFPOz1eMI8-ZkK3ASB-4BFulfQ4g=s800-c-k-c0xffffffff-no-rj-mo'}},\n",
       "    'channelTitle': 'Young K (Day6) - Topic',\n",
       "    'liveBroadcastContent': 'none',\n",
       "    'publishTime': '2020-11-01T03:37:42Z'}},\n",
       "  {'kind': 'youtube#searchResult',\n",
       "   'etag': 'w42ELGZkAVhoIhfTKa0wmG90xcY',\n",
       "   'id': {'kind': 'youtube#channel', 'channelId': 'UCklirTVKFFsK1ldnAj5bqnw'},\n",
       "   'snippet': {'publishedAt': '2017-10-09T13:45:13Z',\n",
       "    'channelId': 'UCklirTVKFFsK1ldnAj5bqnw',\n",
       "    'title': 'DAY6\\u200b (for SUNGJIN)\\u200b VLIVE\\u200b Archive\\u200b with SUBs',\n",
       "    'description': 'Video clip from vlive with fansubs\\u200b (such as English, Thai, Indonesia, Turkey, Russia, ...) You can check all video at my playlist.',\n",
       "    'thumbnails': {'default': {'url': 'https://yt3.ggpht.com/QxyXdghNnxADoVcsWrModph_UKr9mTIjl7Jv6Qg4uKPm7dV2SE5l4ys6qo837tRU0ZRXj71cFg=s88-c-k-c0xffffffff-no-rj-mo'},\n",
       "     'medium': {'url': 'https://yt3.ggpht.com/QxyXdghNnxADoVcsWrModph_UKr9mTIjl7Jv6Qg4uKPm7dV2SE5l4ys6qo837tRU0ZRXj71cFg=s240-c-k-c0xffffffff-no-rj-mo'},\n",
       "     'high': {'url': 'https://yt3.ggpht.com/QxyXdghNnxADoVcsWrModph_UKr9mTIjl7Jv6Qg4uKPm7dV2SE5l4ys6qo837tRU0ZRXj71cFg=s800-c-k-c0xffffffff-no-rj-mo'}},\n",
       "    'channelTitle': 'DAY6\\u200b (for SUNGJIN)\\u200b VLIVE\\u200b Archive\\u200b with SUBs',\n",
       "    'liveBroadcastContent': 'none',\n",
       "    'publishTime': '2017-10-09T13:45:13Z'}}]}"
      ]
     },
     "execution_count": 48,
     "metadata": {},
     "output_type": "execute_result"
    }
   ],
   "source": [
    "search_response"
   ]
  },
  {
   "cell_type": "code",
   "execution_count": 49,
   "id": "0566ddda",
   "metadata": {},
   "outputs": [
    {
     "data": {
      "text/html": [
       "<div>\n",
       "<style scoped>\n",
       "    .dataframe tbody tr th:only-of-type {\n",
       "        vertical-align: middle;\n",
       "    }\n",
       "\n",
       "    .dataframe tbody tr th {\n",
       "        vertical-align: top;\n",
       "    }\n",
       "\n",
       "    .dataframe thead th {\n",
       "        text-align: right;\n",
       "    }\n",
       "</style>\n",
       "<table border=\"1\" class=\"dataframe\">\n",
       "  <thead>\n",
       "    <tr style=\"text-align: right;\">\n",
       "      <th></th>\n",
       "      <th>channelTitle</th>\n",
       "      <th>channelId</th>\n",
       "    </tr>\n",
       "  </thead>\n",
       "  <tbody>\n",
       "    <tr>\n",
       "      <th>0</th>\n",
       "      <td>DAY6 - Topic</td>\n",
       "      <td>UCFEVXX0YX4eT6tdNkXi40vg</td>\n",
       "    </tr>\n",
       "    <tr>\n",
       "      <th>1</th>\n",
       "      <td>DAY6</td>\n",
       "      <td>UCp-pqXsizklX3ZHvLxXyhxw</td>\n",
       "    </tr>\n",
       "    <tr>\n",
       "      <th>2</th>\n",
       "      <td>WholeWeek Day6</td>\n",
       "      <td>UC-NhNhCHIXv1Pmyqo1u98Mw</td>\n",
       "    </tr>\n",
       "    <tr>\n",
       "      <th>3</th>\n",
       "      <td>Young K (Day6) - Topic</td>\n",
       "      <td>UCDqOf2y4k-y8YGecDlPjNOQ</td>\n",
       "    </tr>\n",
       "    <tr>\n",
       "      <th>4</th>\n",
       "      <td>DAY6​ (for SUNGJIN)​ VLIVE​ Archive​ with SUBs</td>\n",
       "      <td>UCklirTVKFFsK1ldnAj5bqnw</td>\n",
       "    </tr>\n",
       "  </tbody>\n",
       "</table>\n",
       "</div>"
      ],
      "text/plain": [
       "                                     channelTitle                 channelId\n",
       "0                                    DAY6 - Topic  UCFEVXX0YX4eT6tdNkXi40vg\n",
       "1                                            DAY6  UCp-pqXsizklX3ZHvLxXyhxw\n",
       "2                                  WholeWeek Day6  UC-NhNhCHIXv1Pmyqo1u98Mw\n",
       "3                          Young K (Day6) - Topic  UCDqOf2y4k-y8YGecDlPjNOQ\n",
       "4  DAY6​ (for SUNGJIN)​ VLIVE​ Archive​ with SUBs  UCklirTVKFFsK1ldnAj5bqnw"
      ]
     },
     "execution_count": 49,
     "metadata": {},
     "output_type": "execute_result"
    }
   ],
   "source": [
    "#필요한 변수들로 데이터프레임을 구성\n",
    "channelTitle = []\n",
    "channelId = []\n",
    "\n",
    "for item in search_response[\"items\"]:\n",
    "    channelTitle.append(item[\"snippet\"][\"title\"])\n",
    "    channelId.append(item[\"snippet\"][\"channelId\"])\n",
    "    \n",
    "search_df = pd.DataFrame({\"channelTitle\": channelTitle, \"channelId\": channelId})\n",
    "search_df"
   ]
  },
  {
   "cell_type": "code",
   "execution_count": 23,
   "id": "fe37fe59",
   "metadata": {},
   "outputs": [
    {
     "data": {
      "text/plain": [
       "'UCp-pqXsizklX3ZHvLxXyhxw'"
      ]
     },
     "execution_count": 23,
     "metadata": {},
     "output_type": "execute_result"
    }
   ],
   "source": [
    "day6 = search_df[\"channelId\"][1]\n",
    "day6"
   ]
  },
  {
   "cell_type": "markdown",
   "id": "2809ed6f",
   "metadata": {},
   "source": [
    "#### (5번) 있지"
   ]
  },
  {
   "cell_type": "code",
   "execution_count": 50,
   "id": "282770ed",
   "metadata": {},
   "outputs": [],
   "source": [
    "#query문 작성\n",
    "search_response = youtube.search().list(\n",
    "    q = \"ITZY\",\n",
    "    order = \"relevance\",\n",
    "    part = \"snippet\",\n",
    "    maxResults = 5,\n",
    "    type = \"channel\"\n",
    ").execute()"
   ]
  },
  {
   "cell_type": "code",
   "execution_count": 51,
   "id": "ebf54b4b",
   "metadata": {},
   "outputs": [
    {
     "data": {
      "text/plain": [
       "{'kind': 'youtube#searchListResponse',\n",
       " 'etag': '25By0CAOLptoX6fdiqXcB_zrTok',\n",
       " 'nextPageToken': 'CAUQAA',\n",
       " 'regionCode': 'KR',\n",
       " 'pageInfo': {'totalResults': 25863, 'resultsPerPage': 5},\n",
       " 'items': [{'kind': 'youtube#searchResult',\n",
       "   'etag': 'ojRLkrmLO8HtGC1TmRjoDFt4kE4',\n",
       "   'id': {'kind': 'youtube#channel', 'channelId': 'UCDhM2k2Cua-JdobAh5moMFg'},\n",
       "   'snippet': {'publishedAt': '2019-01-14T08:52:03Z',\n",
       "    'channelId': 'UCDhM2k2Cua-JdobAh5moMFg',\n",
       "    'title': 'ITZY',\n",
       "    'description': 'ITZY \"KILL MY DOUBT\" ▽▽▽CHECK OUT LINKS.',\n",
       "    'thumbnails': {'default': {'url': 'https://yt3.ggpht.com/5qSAjhri_C54rgk26T_vMlTOU4OcIdgOv4hxMwnfs_t8N09Mpp-cT7bgbImNxoTf_P1xQDN-bg=s88-c-k-c0xffffffff-no-rj-mo'},\n",
       "     'medium': {'url': 'https://yt3.ggpht.com/5qSAjhri_C54rgk26T_vMlTOU4OcIdgOv4hxMwnfs_t8N09Mpp-cT7bgbImNxoTf_P1xQDN-bg=s240-c-k-c0xffffffff-no-rj-mo'},\n",
       "     'high': {'url': 'https://yt3.ggpht.com/5qSAjhri_C54rgk26T_vMlTOU4OcIdgOv4hxMwnfs_t8N09Mpp-cT7bgbImNxoTf_P1xQDN-bg=s800-c-k-c0xffffffff-no-rj-mo'}},\n",
       "    'channelTitle': 'ITZY',\n",
       "    'liveBroadcastContent': 'none',\n",
       "    'publishTime': '2019-01-14T08:52:03Z'}},\n",
       "  {'kind': 'youtube#searchResult',\n",
       "   'etag': 'uaYg6gvcmL79z0OwaIZR7ct48pg',\n",
       "   'id': {'kind': 'youtube#channel', 'channelId': 'UCTP45_DE3fMLujU8sZ-MBzw'},\n",
       "   'snippet': {'publishedAt': '2016-03-12T11:22:31Z',\n",
       "    'channelId': 'UCTP45_DE3fMLujU8sZ-MBzw',\n",
       "    'title': 'ITZY - Topic',\n",
       "    'description': '',\n",
       "    'thumbnails': {'default': {'url': 'https://yt3.ggpht.com/X_LgjPhFtV6VbaAXurDddrHl2oU55hcz1kQI51wd85nFKUBu8EZxORh425c6Kuh5s2H_aHuh=s88-c-k-c0xffffffff-no-rj-mo'},\n",
       "     'medium': {'url': 'https://yt3.ggpht.com/X_LgjPhFtV6VbaAXurDddrHl2oU55hcz1kQI51wd85nFKUBu8EZxORh425c6Kuh5s2H_aHuh=s240-c-k-c0xffffffff-no-rj-mo'},\n",
       "     'high': {'url': 'https://yt3.ggpht.com/X_LgjPhFtV6VbaAXurDddrHl2oU55hcz1kQI51wd85nFKUBu8EZxORh425c6Kuh5s2H_aHuh=s800-c-k-c0xffffffff-no-rj-mo'}},\n",
       "    'channelTitle': 'ITZY - Topic',\n",
       "    'liveBroadcastContent': 'none',\n",
       "    'publishTime': '2016-03-12T11:22:31Z'}},\n",
       "  {'kind': 'youtube#searchResult',\n",
       "   'etag': 'oYSjBT_rLcxq8QdOZ6eYX9kl4uk',\n",
       "   'id': {'kind': 'youtube#channel', 'channelId': 'UCJsfO4nKS3_c24zLbF8rT0A'},\n",
       "   'snippet': {'publishedAt': '2021-09-08T03:34:33Z',\n",
       "    'channelId': 'UCJsfO4nKS3_c24zLbF8rT0A',\n",
       "    'title': 'ITZY JAPAN OFFICIAL YouTube Channel',\n",
       "    'description': '',\n",
       "    'thumbnails': {'default': {'url': 'https://yt3.ggpht.com/S53nkzVJQHEgvAC8J1dZ3a_H5cWqHh9hPn4kYue8aUKPb-7PeG7KA0KTJPXj-gHO3dO215wzKtM=s88-c-k-c0xffffffff-no-rj-mo'},\n",
       "     'medium': {'url': 'https://yt3.ggpht.com/S53nkzVJQHEgvAC8J1dZ3a_H5cWqHh9hPn4kYue8aUKPb-7PeG7KA0KTJPXj-gHO3dO215wzKtM=s240-c-k-c0xffffffff-no-rj-mo'},\n",
       "     'high': {'url': 'https://yt3.ggpht.com/S53nkzVJQHEgvAC8J1dZ3a_H5cWqHh9hPn4kYue8aUKPb-7PeG7KA0KTJPXj-gHO3dO215wzKtM=s800-c-k-c0xffffffff-no-rj-mo'}},\n",
       "    'channelTitle': 'ITZY JAPAN OFFICIAL YouTube Channel',\n",
       "    'liveBroadcastContent': 'none',\n",
       "    'publishTime': '2021-09-08T03:34:33Z'}},\n",
       "  {'kind': 'youtube#searchResult',\n",
       "   'etag': 'KAtMImeElal48HzPRO3dmEnjKZo',\n",
       "   'id': {'kind': 'youtube#channel', 'channelId': 'UC9kyC1BZizd15dh1tPLjw2g'},\n",
       "   'snippet': {'publishedAt': '2021-01-22T13:18:51Z',\n",
       "    'channelId': 'UC9kyC1BZizd15dh1tPLjw2g',\n",
       "    'title': 'itzy zone',\n",
       "    'description': \"itzy crumbs for midzyville :) Hi I'm a fellow MIDZY You're warmly welcomed here! This zone is completely dedicated for ITZY ...\",\n",
       "    'thumbnails': {'default': {'url': 'https://yt3.ggpht.com/Tx4TF3ORzItY6Ft-B6IPrIq7OpfgQs8aq0L9ymSusvRTOmZZEhLsY_Rp22cuOFRES3MwwFiE7Q=s88-c-k-c0xffffffff-no-rj-mo'},\n",
       "     'medium': {'url': 'https://yt3.ggpht.com/Tx4TF3ORzItY6Ft-B6IPrIq7OpfgQs8aq0L9ymSusvRTOmZZEhLsY_Rp22cuOFRES3MwwFiE7Q=s240-c-k-c0xffffffff-no-rj-mo'},\n",
       "     'high': {'url': 'https://yt3.ggpht.com/Tx4TF3ORzItY6Ft-B6IPrIq7OpfgQs8aq0L9ymSusvRTOmZZEhLsY_Rp22cuOFRES3MwwFiE7Q=s800-c-k-c0xffffffff-no-rj-mo'}},\n",
       "    'channelTitle': 'itzy zone',\n",
       "    'liveBroadcastContent': 'none',\n",
       "    'publishTime': '2021-01-22T13:18:51Z'}},\n",
       "  {'kind': 'youtube#searchResult',\n",
       "   'etag': '8n6LyeWY1MZnoTNsHSCkRkpTiHU',\n",
       "   'id': {'kind': 'youtube#channel', 'channelId': 'UCOgmLtgsNaInBAikLisSIHg'},\n",
       "   'snippet': {'publishedAt': '2022-04-03T10:36:10Z',\n",
       "    'channelId': 'UCOgmLtgsNaInBAikLisSIHg',\n",
       "    'title': 'Itzy’s_loco',\n",
       "    'description': 'get up lana • she/her newjeans enhypen ults.',\n",
       "    'thumbnails': {'default': {'url': 'https://yt3.ggpht.com/swsYG_i4su8BjQBzz4m6ivA7UrgAo2Cj78Pjqs-Dg3O1blU327W8S99Bs240-jQU6Rit0Nme=s88-c-k-c0xffffffff-no-rj-mo'},\n",
       "     'medium': {'url': 'https://yt3.ggpht.com/swsYG_i4su8BjQBzz4m6ivA7UrgAo2Cj78Pjqs-Dg3O1blU327W8S99Bs240-jQU6Rit0Nme=s240-c-k-c0xffffffff-no-rj-mo'},\n",
       "     'high': {'url': 'https://yt3.ggpht.com/swsYG_i4su8BjQBzz4m6ivA7UrgAo2Cj78Pjqs-Dg3O1blU327W8S99Bs240-jQU6Rit0Nme=s800-c-k-c0xffffffff-no-rj-mo'}},\n",
       "    'channelTitle': 'Itzy’s_loco',\n",
       "    'liveBroadcastContent': 'none',\n",
       "    'publishTime': '2022-04-03T10:36:10Z'}}]}"
      ]
     },
     "execution_count": 51,
     "metadata": {},
     "output_type": "execute_result"
    }
   ],
   "source": [
    "search_response"
   ]
  },
  {
   "cell_type": "code",
   "execution_count": 52,
   "id": "1b5ae46f",
   "metadata": {},
   "outputs": [
    {
     "data": {
      "text/html": [
       "<div>\n",
       "<style scoped>\n",
       "    .dataframe tbody tr th:only-of-type {\n",
       "        vertical-align: middle;\n",
       "    }\n",
       "\n",
       "    .dataframe tbody tr th {\n",
       "        vertical-align: top;\n",
       "    }\n",
       "\n",
       "    .dataframe thead th {\n",
       "        text-align: right;\n",
       "    }\n",
       "</style>\n",
       "<table border=\"1\" class=\"dataframe\">\n",
       "  <thead>\n",
       "    <tr style=\"text-align: right;\">\n",
       "      <th></th>\n",
       "      <th>channelTitle</th>\n",
       "      <th>channelId</th>\n",
       "    </tr>\n",
       "  </thead>\n",
       "  <tbody>\n",
       "    <tr>\n",
       "      <th>0</th>\n",
       "      <td>ITZY</td>\n",
       "      <td>UCDhM2k2Cua-JdobAh5moMFg</td>\n",
       "    </tr>\n",
       "    <tr>\n",
       "      <th>1</th>\n",
       "      <td>ITZY - Topic</td>\n",
       "      <td>UCTP45_DE3fMLujU8sZ-MBzw</td>\n",
       "    </tr>\n",
       "    <tr>\n",
       "      <th>2</th>\n",
       "      <td>ITZY JAPAN OFFICIAL YouTube Channel</td>\n",
       "      <td>UCJsfO4nKS3_c24zLbF8rT0A</td>\n",
       "    </tr>\n",
       "    <tr>\n",
       "      <th>3</th>\n",
       "      <td>itzy zone</td>\n",
       "      <td>UC9kyC1BZizd15dh1tPLjw2g</td>\n",
       "    </tr>\n",
       "    <tr>\n",
       "      <th>4</th>\n",
       "      <td>Itzy’s_loco</td>\n",
       "      <td>UCOgmLtgsNaInBAikLisSIHg</td>\n",
       "    </tr>\n",
       "  </tbody>\n",
       "</table>\n",
       "</div>"
      ],
      "text/plain": [
       "                          channelTitle                 channelId\n",
       "0                                 ITZY  UCDhM2k2Cua-JdobAh5moMFg\n",
       "1                         ITZY - Topic  UCTP45_DE3fMLujU8sZ-MBzw\n",
       "2  ITZY JAPAN OFFICIAL YouTube Channel  UCJsfO4nKS3_c24zLbF8rT0A\n",
       "3                            itzy zone  UC9kyC1BZizd15dh1tPLjw2g\n",
       "4                          Itzy’s_loco  UCOgmLtgsNaInBAikLisSIHg"
      ]
     },
     "execution_count": 52,
     "metadata": {},
     "output_type": "execute_result"
    }
   ],
   "source": [
    "#필요한 변수들로 데이터프레임을 구성\n",
    "channelTitle = []\n",
    "channelId = []\n",
    "\n",
    "for item in search_response[\"items\"]:\n",
    "    channelTitle.append(item[\"snippet\"][\"title\"])\n",
    "    channelId.append(item[\"snippet\"][\"channelId\"])\n",
    "    \n",
    "search_df = pd.DataFrame({\"channelTitle\": channelTitle, \"channelId\": channelId})\n",
    "search_df"
   ]
  },
  {
   "cell_type": "code",
   "execution_count": 27,
   "id": "eb8147eb",
   "metadata": {},
   "outputs": [
    {
     "data": {
      "text/plain": [
       "'UCDhM2k2Cua-JdobAh5moMFg'"
      ]
     },
     "execution_count": 27,
     "metadata": {},
     "output_type": "execute_result"
    }
   ],
   "source": [
    "itzy = search_df[\"channelId\"][0]\n",
    "itzy"
   ]
  },
  {
   "cell_type": "code",
   "execution_count": 28,
   "id": "78b80802",
   "metadata": {},
   "outputs": [
    {
     "data": {
      "text/html": [
       "<div>\n",
       "<style scoped>\n",
       "    .dataframe tbody tr th:only-of-type {\n",
       "        vertical-align: middle;\n",
       "    }\n",
       "\n",
       "    .dataframe tbody tr th {\n",
       "        vertical-align: top;\n",
       "    }\n",
       "\n",
       "    .dataframe thead th {\n",
       "        text-align: right;\n",
       "    }\n",
       "</style>\n",
       "<table border=\"1\" class=\"dataframe\">\n",
       "  <thead>\n",
       "    <tr style=\"text-align: right;\">\n",
       "      <th></th>\n",
       "      <th>channel</th>\n",
       "      <th>channel_id</th>\n",
       "    </tr>\n",
       "  </thead>\n",
       "  <tbody>\n",
       "    <tr>\n",
       "      <th>0</th>\n",
       "      <td>JYP Entertainment</td>\n",
       "      <td>UCaO6TYtlC8U5ttz62hTrZgg</td>\n",
       "    </tr>\n",
       "    <tr>\n",
       "      <th>1</th>\n",
       "      <td>Stray Kids</td>\n",
       "      <td>UC9rMiEjNaCSsebs31MRDCRA</td>\n",
       "    </tr>\n",
       "    <tr>\n",
       "      <th>2</th>\n",
       "      <td>TWICE</td>\n",
       "      <td>UCzgxx_DM2Dcb9Y1spb9mUJA</td>\n",
       "    </tr>\n",
       "    <tr>\n",
       "      <th>3</th>\n",
       "      <td>NMIXX</td>\n",
       "      <td>UCnUAyD4t2LkvW68YrDh7fDg</td>\n",
       "    </tr>\n",
       "    <tr>\n",
       "      <th>4</th>\n",
       "      <td>DAY6</td>\n",
       "      <td>UCp-pqXsizklX3ZHvLxXyhxw</td>\n",
       "    </tr>\n",
       "    <tr>\n",
       "      <th>5</th>\n",
       "      <td>ITZY</td>\n",
       "      <td>UCDhM2k2Cua-JdobAh5moMFg</td>\n",
       "    </tr>\n",
       "  </tbody>\n",
       "</table>\n",
       "</div>"
      ],
      "text/plain": [
       "             channel                channel_id\n",
       "0  JYP Entertainment  UCaO6TYtlC8U5ttz62hTrZgg\n",
       "1         Stray Kids  UC9rMiEjNaCSsebs31MRDCRA\n",
       "2              TWICE  UCzgxx_DM2Dcb9Y1spb9mUJA\n",
       "3              NMIXX  UCnUAyD4t2LkvW68YrDh7fDg\n",
       "4               DAY6  UCp-pqXsizklX3ZHvLxXyhxw\n",
       "5               ITZY  UCDhM2k2Cua-JdobAh5moMFg"
      ]
     },
     "execution_count": 28,
     "metadata": {},
     "output_type": "execute_result"
    }
   ],
   "source": [
    "#유튜브 채널 데이터프레임 생성\n",
    "channel_jyp = pd.DataFrame()\n",
    "channel_jyp[\"channel\"] = [\"JYP Entertainment\",\"Stray Kids\",\"TWICE\",\"NMIXX\",\"DAY6\",\"ITZY\"] #채널명\n",
    "channel_jyp[\"channel_id\"] = [jyp, straykids, twice, nmixx, day6, itzy] #채널 id\n",
    "channel_jyp"
   ]
  },
  {
   "cell_type": "code",
   "execution_count": 29,
   "id": "892a9520",
   "metadata": {},
   "outputs": [],
   "source": [
    "#channel_jyp를 csv파일로 저장\n",
    "channel_jyp.to_csv(\"../../../data/YouTube/channel_jyp.csv\", index=False)"
   ]
  }
 ],
 "metadata": {
  "kernelspec": {
   "display_name": "Python 3 (ipykernel)",
   "language": "python",
   "name": "python3"
  },
  "language_info": {
   "codemirror_mode": {
    "name": "ipython",
    "version": 3
   },
   "file_extension": ".py",
   "mimetype": "text/x-python",
   "name": "python",
   "nbconvert_exporter": "python",
   "pygments_lexer": "ipython3",
   "version": "3.11.3"
  },
  "toc": {
   "base_numbering": 1,
   "nav_menu": {},
   "number_sections": true,
   "sideBar": true,
   "skip_h1_title": false,
   "title_cell": "Table of Contents",
   "title_sidebar": "Contents",
   "toc_cell": false,
   "toc_position": {
    "height": "calc(100% - 180px)",
    "left": "10px",
    "top": "150px",
    "width": "239px"
   },
   "toc_section_display": true,
   "toc_window_display": true
  }
 },
 "nbformat": 4,
 "nbformat_minor": 5
}
