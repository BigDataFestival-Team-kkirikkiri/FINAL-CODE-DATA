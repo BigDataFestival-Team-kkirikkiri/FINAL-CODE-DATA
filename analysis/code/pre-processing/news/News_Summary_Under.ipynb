{
 "cells": [
  {
   "cell_type": "markdown",
   "id": "8c444e13",
   "metadata": {},
   "source": [
    "# 데이터, 패키지 로드"
   ]
  },
  {
   "cell_type": "code",
   "execution_count": 1,
   "id": "9f3c0288",
   "metadata": {},
   "outputs": [],
   "source": [
    "# 패키지\n",
    "import pandas as pd \n",
    "import matplotlib.pyplot as plt\n",
    "import sys # clova summary\n",
    "import requests # clova summary\n",
    "import json # clova summary\n"
   ]
  },
  {
   "cell_type": "code",
   "execution_count": 2,
   "id": "dae16962",
   "metadata": {
    "scrolled": false
   },
   "outputs": [
    {
     "data": {
      "text/html": [
       "<div>\n",
       "<style scoped>\n",
       "    .dataframe tbody tr th:only-of-type {\n",
       "        vertical-align: middle;\n",
       "    }\n",
       "\n",
       "    .dataframe tbody tr th {\n",
       "        vertical-align: top;\n",
       "    }\n",
       "\n",
       "    .dataframe thead th {\n",
       "        text-align: right;\n",
       "    }\n",
       "</style>\n",
       "<table border=\"1\" class=\"dataframe\">\n",
       "  <thead>\n",
       "    <tr style=\"text-align: right;\">\n",
       "      <th></th>\n",
       "      <th>NEWS_YM</th>\n",
       "      <th>DATE_TIME</th>\n",
       "      <th>WRITER</th>\n",
       "      <th>SUBCATEGORY</th>\n",
       "      <th>TITLE</th>\n",
       "      <th>IMPORTANCE</th>\n",
       "      <th>ITEM_NAME</th>\n",
       "      <th>TAG_LIST</th>\n",
       "      <th>PARSED CONTENT</th>\n",
       "    </tr>\n",
       "  </thead>\n",
       "  <tbody>\n",
       "    <tr>\n",
       "      <th>0</th>\n",
       "      <td>202301</td>\n",
       "      <td>20230102_084347</td>\n",
       "      <td>eDaily</td>\n",
       "      <td>사회</td>\n",
       "      <td>BTS 자리 넘본다…유망주는 스트레이 키즈-KB</td>\n",
       "      <td>67.91</td>\n",
       "      <td>NaN</td>\n",
       "      <td>BTS| 판매량| NCT| 넥스트| 엔하이픈| 블랙핑크| 에스파| 아이브</td>\n",
       "      <td>- KB증권 “군 입대 BTS에 도전 이어질 것”- “스트레이 키즈, 군 이슈 없고...</td>\n",
       "    </tr>\n",
       "    <tr>\n",
       "      <th>1</th>\n",
       "      <td>202301</td>\n",
       "      <td>20230104_082655</td>\n",
       "      <td>eDaily</td>\n",
       "      <td>경제</td>\n",
       "      <td>BTS 군입대에도 K팝 주가 선방 전망-IBK</td>\n",
       "      <td>67.81</td>\n",
       "      <td>NaN</td>\n",
       "      <td>판매량| 방탄소년단| BTS| 개별| 공연| 글로벌</td>\n",
       "      <td>- 이환욱 “K팝 앨범 판매 증가, 하이브 주가 상향”[이데일리 최훈길 기자] 방탄...</td>\n",
       "    </tr>\n",
       "    <tr>\n",
       "      <th>2</th>\n",
       "      <td>202301</td>\n",
       "      <td>20230102_100838</td>\n",
       "      <td>eDaily</td>\n",
       "      <td>기술</td>\n",
       "      <td>[특징주]와이지엔터, 베이비몬스터 데뷔 예고에 6%대↑</td>\n",
       "      <td>68.31</td>\n",
       "      <td>와이지엔터테인먼트</td>\n",
       "      <td>블랙핑크</td>\n",
       "      <td>[이데일리 이정현 기자] 신인 걸그룹 공개를 예고한 와이지엔터테인먼트(122870)...</td>\n",
       "    </tr>\n",
       "    <tr>\n",
       "      <th>3</th>\n",
       "      <td>202301</td>\n",
       "      <td>20230119_063002</td>\n",
       "      <td>eDaily</td>\n",
       "      <td>경제</td>\n",
       "      <td>BTS·블랙핑크에 뉴진스까지..K-스타 인기 올라탄 명품</td>\n",
       "      <td>50.47</td>\n",
       "      <td>NaN</td>\n",
       "      <td>블랙핑크| 명품| BTS| 글로벌| 콘텐츠| 방탄소년단| 빅뱅</td>\n",
       "      <td>- 디올은 지민 발렌티노는 슈가 앰버서더 발탁- 뉴진스 하니·혜인도 구찌·루이비통과...</td>\n",
       "    </tr>\n",
       "    <tr>\n",
       "      <th>4</th>\n",
       "      <td>202301</td>\n",
       "      <td>20230118_101709</td>\n",
       "      <td>eDaily</td>\n",
       "      <td>사회</td>\n",
       "      <td>지니뮤직 '케이팝탐사대' \"솔로가 기대되는 아이돌 멤버는?\"</td>\n",
       "      <td>45.72</td>\n",
       "      <td>NaN</td>\n",
       "      <td>블랙핑크| 스테이씨| 콘텐츠| 트와이스| 가사</td>\n",
       "      <td>- 지니뮤직 오리지널 오디오 콘텐츠 케이팝 탐사대[이데일리 정다슬 기자] 지니뮤직 ...</td>\n",
       "    </tr>\n",
       "  </tbody>\n",
       "</table>\n",
       "</div>"
      ],
      "text/plain": [
       "   NEWS_YM        DATE_TIME  WRITER SUBCATEGORY  \\\n",
       "0   202301  20230102_084347  eDaily          사회   \n",
       "1   202301  20230104_082655  eDaily          경제   \n",
       "2   202301  20230102_100838  eDaily          기술   \n",
       "3   202301  20230119_063002  eDaily          경제   \n",
       "4   202301  20230118_101709  eDaily          사회   \n",
       "\n",
       "                               TITLE  IMPORTANCE  ITEM_NAME  \\\n",
       "0         BTS 자리 넘본다…유망주는 스트레이 키즈-KB       67.91        NaN   \n",
       "1          BTS 군입대에도 K팝 주가 선방 전망-IBK       67.81        NaN   \n",
       "2     [특징주]와이지엔터, 베이비몬스터 데뷔 예고에 6%대↑       68.31  와이지엔터테인먼트   \n",
       "3    BTS·블랙핑크에 뉴진스까지..K-스타 인기 올라탄 명품       50.47        NaN   \n",
       "4  지니뮤직 '케이팝탐사대' \"솔로가 기대되는 아이돌 멤버는?\"       45.72        NaN   \n",
       "\n",
       "                                   TAG_LIST  \\\n",
       "0  BTS| 판매량| NCT| 넥스트| 엔하이픈| 블랙핑크| 에스파| 아이브   \n",
       "1              판매량| 방탄소년단| BTS| 개별| 공연| 글로벌   \n",
       "2                                      블랙핑크   \n",
       "3        블랙핑크| 명품| BTS| 글로벌| 콘텐츠| 방탄소년단| 빅뱅   \n",
       "4                 블랙핑크| 스테이씨| 콘텐츠| 트와이스| 가사   \n",
       "\n",
       "                                      PARSED CONTENT  \n",
       "0  - KB증권 “군 입대 BTS에 도전 이어질 것”- “스트레이 키즈, 군 이슈 없고...  \n",
       "1  - 이환욱 “K팝 앨범 판매 증가, 하이브 주가 상향”[이데일리 최훈길 기자] 방탄...  \n",
       "2  [이데일리 이정현 기자] 신인 걸그룹 공개를 예고한 와이지엔터테인먼트(122870)...  \n",
       "3  - 디올은 지민 발렌티노는 슈가 앰버서더 발탁- 뉴진스 하니·혜인도 구찌·루이비통과...  \n",
       "4  - 지니뮤직 오리지널 오디오 콘텐츠 케이팝 탐사대[이데일리 정다슬 기자] 지니뮤직 ...  "
      ]
     },
     "execution_count": 2,
     "metadata": {},
     "output_type": "execute_result"
    }
   ],
   "source": [
    "# 데이터 로드 \n",
    "news = pd.read_excel(\"../../../data/News/news_preprocessed.xlsx\") # 파싱, 전처리, 3차 필터링 완료한 뉴스 데이터\n",
    "news.head() # 확인 "
   ]
  },
  {
   "cell_type": "markdown",
   "id": "93f86e32",
   "metadata": {},
   "source": [
    "# 글자수를 기준으로 데이터 분할"
   ]
  },
  {
   "cell_type": "markdown",
   "id": "5889c083",
   "metadata": {},
   "source": [
    "- CLOVA SUMMARY 는 본문+제목의 길이 합이 2000자 이내여야 실행됨\n",
    "- 2000자를 기준으로 서로 다른 데이터프레임에 저장 "
   ]
  },
  {
   "cell_type": "code",
   "execution_count": 3,
   "id": "d860f619",
   "metadata": {},
   "outputs": [],
   "source": [
    "# 제목+본문 글자수 변수(LENGTH_SUM)를 추가 \n",
    "news['LENGTH_SUM'] = news['TITLE'].str.len() + news['PARSED CONTENT'].str.len()"
   ]
  },
  {
   "cell_type": "code",
   "execution_count": 4,
   "id": "2805457f",
   "metadata": {},
   "outputs": [
    {
     "data": {
      "image/png": "[encoded data removed]",
      "text/plain": [
       "<Figure size 432x288 with 1 Axes>"
      ]
     },
     "metadata": {
      "needs_background": "light"
     },
     "output_type": "display_data"
    }
   ],
   "source": [
    "# 히스토그램 그리기\n",
    "plt.hist(news['LENGTH_SUM'], bins=20, edgecolor='k')\n",
    "plt.xlabel('Length Sum')\n",
    "plt.ylabel('Frequency')\n",
    "plt.title('Distribution of LENGTH_SUM')\n",
    "plt.show()"
   ]
  },
  {
   "cell_type": "code",
   "execution_count": 5,
   "id": "0a911bed",
   "metadata": {},
   "outputs": [],
   "source": [
    "# 2000을 기준으로 서로 다른 데이터프레임에 저장 \n",
    "news_over = news[news['LENGTH_SUM'] >= 2000]\n",
    "news_under = news[news['LENGTH_SUM'] < 2000]"
   ]
  },
  {
   "cell_type": "code",
   "execution_count": 6,
   "id": "0095658b",
   "metadata": {
    "scrolled": true
   },
   "outputs": [
    {
     "name": "stdout",
     "output_type": "stream",
     "text": [
      "<class 'pandas.core.frame.DataFrame'>\n",
      "Int64Index: 1009 entries, 2 to 2934\n",
      "Data columns (total 10 columns):\n",
      " #   Column          Non-Null Count  Dtype  \n",
      "---  ------          --------------  -----  \n",
      " 0   NEWS_YM         1009 non-null   int64  \n",
      " 1   DATE_TIME       1009 non-null   object \n",
      " 2   WRITER          1009 non-null   object \n",
      " 3   SUBCATEGORY     1009 non-null   object \n",
      " 4   TITLE           1009 non-null   object \n",
      " 5   IMPORTANCE      1009 non-null   float64\n",
      " 6   ITEM_NAME       427 non-null    object \n",
      " 7   TAG_LIST        859 non-null    object \n",
      " 8   PARSED CONTENT  1009 non-null   object \n",
      " 9   LENGTH_SUM      1009 non-null   int64  \n",
      "dtypes: float64(1), int64(2), object(7)\n",
      "memory usage: 86.7+ KB\n"
     ]
    }
   ],
   "source": [
    "news_over.info() # 2000자 이상 = 약 천개 "
   ]
  },
  {
   "cell_type": "code",
   "execution_count": 7,
   "id": "1d8e5689",
   "metadata": {},
   "outputs": [
    {
     "name": "stdout",
     "output_type": "stream",
     "text": [
      "<class 'pandas.core.frame.DataFrame'>\n",
      "Int64Index: 1930 entries, 0 to 2938\n",
      "Data columns (total 10 columns):\n",
      " #   Column          Non-Null Count  Dtype  \n",
      "---  ------          --------------  -----  \n",
      " 0   NEWS_YM         1930 non-null   int64  \n",
      " 1   DATE_TIME       1930 non-null   object \n",
      " 2   WRITER          1930 non-null   object \n",
      " 3   SUBCATEGORY     1930 non-null   object \n",
      " 4   TITLE           1930 non-null   object \n",
      " 5   IMPORTANCE      1930 non-null   float64\n",
      " 6   ITEM_NAME       1170 non-null   object \n",
      " 7   TAG_LIST        1398 non-null   object \n",
      " 8   PARSED CONTENT  1930 non-null   object \n",
      " 9   LENGTH_SUM      1930 non-null   int64  \n",
      "dtypes: float64(1), int64(2), object(7)\n",
      "memory usage: 165.9+ KB\n"
     ]
    }
   ],
   "source": [
    "news_under.info() # 2000자 미만 = 약 2천개 "
   ]
  },
  {
   "cell_type": "markdown",
   "id": "63b3a9f4",
   "metadata": {},
   "source": [
    "# news_under CLOVA SUMMARY"
   ]
  },
  {
   "cell_type": "markdown",
   "id": "5348f2ce",
   "metadata": {},
   "source": [
    "- **제목+본문 2000자 이내에 대해 요약문 생성**"
   ]
  },
  {
   "cell_type": "code",
   "execution_count": 8,
   "id": "c4d5a091",
   "metadata": {
    "scrolled": true
   },
   "outputs": [
    {
     "name": "stderr",
     "output_type": "stream",
     "text": [
      "/var/folders/4t/dyhc70gd7zjdwxdh7x7f77240000gn/T/ipykernel_96596/1197848709.py:2: SettingWithCopyWarning: \n",
      "A value is trying to be set on a copy of a slice from a DataFrame.\n",
      "Try using .loc[row_indexer,col_indexer] = value instead\n",
      "\n",
      "See the caveats in the documentation: https://pandas.pydata.org/pandas-docs/stable/user_guide/indexing.html#returning-a-view-versus-a-copy\n",
      "  news_under['SUMMARY'] = \"\"\n"
     ]
    }
   ],
   "source": [
    "# 요약글 넣을 변수 설정 \n",
    "news_under['SUMMARY'] = \"\""
   ]
  },
  {
   "cell_type": "code",
   "execution_count": 9,
   "id": "d6c5687e",
   "metadata": {},
   "outputs": [],
   "source": [
    "# 기본 옵션 세팅 작업\n",
    "\n",
    "#!/usr/bin/env python3\n",
    "#-*- codig: utf-8 -*-\n",
    "\n",
    "client_id = \"5bgb8zehd8\"\n",
    "client_secret = \"yunrcvpfGN1Lrw8TR1X8xTxt8Eem1fJGX4EzRoaT\"\n",
    "headers = {\n",
    "    \"X-NCP-APIGW-API-KEY-ID\": client_id,\n",
    "    \"X-NCP-APIGW-API-KEY\": client_secret,\n",
    "    \"Content-Type\": \"application/json\"\n",
    "}\n",
    "\n",
    "language = \"ko\" # Language of document (ko, ja )\n",
    "model = \"news\" # Model used for summaries (general, news)\n",
    "tone = \"2\" # Converts the tone of the summarized result. (0, 1, 2, 3)\n",
    "summaryCount = \"5\" # This is the number of sentences for the summarized document.\n",
    "url= \"https://naveropenapi.apigw.ntruss.com/text-summary/v1/summarize\" "
   ]
  },
  {
   "cell_type": "code",
   "execution_count": 10,
   "id": "cbcc9d3d",
   "metadata": {
    "scrolled": true
   },
   "outputs": [
    {
     "name": "stdout",
     "output_type": "stream",
     "text": [
      "{\n",
      "    \"document\": {\n",
      "        \"content\": \"[\\uc774\\ub370\\uc77c\\ub9ac \\uae40\\uc18c\\uc5f0 \\uae30\\uc790] NH\\ud22c\\uc790\\uc99d\\uad8c\\uc740 19\\uc77c \\uc640\\uc774\\uc9c0\\uc5d4\\ud130\\ud14c\\uc778\\uba3c\\ud2b8(122870)\\uc5d0 \\ub300\\ud574 \\uacfc\\ub3c4\\ud55c \\ub2e8\\uc77c \\uc544\\ud2f0\\uc2a4\\ud2b8 \\uc758\\uc874\\ub3c4\\uac00 \\ud574\\uc18c\\ub420 \\uac83\\uc73c\\ub85c \\uc804\\ub9dd\\ud588\\ub2e4. \\ube14\\ub799\\ud551\\ud06c \\uc7ac\\uacc4\\uc57d\\ub3c4 \\ubb34\\ub09c\\ud55c \\uc9c4\\ud589\\uc774 \\uc608\\uc0c1\\uc678\\uae30 \\ub54c\\ubb38\\uc5d0 \\uc640\\uc774\\uc9c0\\uc5d4\\ud130\\uac00 \\uacbd\\uc7c1\\uc0ac \\ub300\\ube44 \\uc800\\ud3c9\\uac00\\ub41c \\uc0c1\\ud0dc\\ub77c\\ub294 \\ubd84\\uc11d\\uc774\\ub2e4. \\ud22c\\uc790\\uc758\\uacac \\u2018\\ub9e4\\uc218\\u2019, \\ubaa9\\ud45c\\uc8fc\\uac00 7\\ub9cc7000\\uc6d0\\uc744 \\uac01\\uac01 \\uc720\\uc9c0\\ud588\\ub2e4. \\ud604\\uc7ac \\uc640\\uc774\\uc9c0\\uc5d4\\ud130 \\uc8fc\\uac00\\ub294 18\\uc77c \\uae30\\uc900 4\\ub9cc9650\\uc6d0\\uc774\\ub2e4. \\uc774\\ud654\\uc815 NH\\ud22c\\uc790\\uc99d\\uad8c \\uc5f0\\uad6c\\uc6d0\\uc740 \\uc774\\ub0a0 \\ubcf4\\uace0\\uc11c\\uc5d0\\uc11c \\u201c\\uc9c0\\ub09c 12\\uc6d4 \\ub9d0 \\uc591\\ud604\\uc11d \\ucd1d\\uad04 \\uad00\\ub828 \\uc774\\uc288\\uac00 \\ud574\\uc18c\\ub41c \\uc774\\ud6c4 \\uc0ac\\uc5c5 \\uc804\\ubc18\\uc5d0 \\uc18d\\ub3c4\\uac00 \\ubd99\\uc740 \\uc0c1\\ud669\\u201d\\uc774\\ub77c\\uba70 \\u201c\\uc77c\\ubd80 \\uc544\\ud2f0\\uc2a4\\ud2b8 \\ub77c\\uc778\\uc5c5\\uc744 \\uc815\\ub9ac\\ud558\\uace0 \\uc8fc\\ub825 \\uc544\\ud2f0\\uc2a4\\ud2b8 \\uc911\\uc2ec\\uc758 \\uc0ac\\uc5c5 \\uc9c4\\ud589\\uc5d0 \\ubc15\\ucc28\\ub97c \\uac00\\ud558\\uace0\\uc790 \\ud558\\ub294 \\ubaa8\\uc2b5\\uc774 \\uac10\\uc9c0\\ub41c\\ub2e4\\u201d\\uace0 \\uc124\\uba85\\ud588\\ub2e4. \\uc774\\uc5b4 \\u201c1\\uc6d4 \\ucd08\\uc5d0\\ub294 \\uc2e0\\uc778 \\uac78\\uadf8\\ub8f9\\uc778 \\ubca0\\uc774\\ube44\\ubaac\\uc2a4\\ud130 \\ub7f0\\uce6d \\ud2f0\\uc800\\uac00 \\uacf5\\uac1c\\ub410\\uc73c\\uba70 GD\\uc758 \\uacbd\\uc6b0 \\uc9c1\\uc811 \\ubcf8\\uc778\\uc758 \\uc5f0\\ub0b4 \\uc194\\ub85c \\ud65c\\ub3d9 \\uc7ac\\uac1c \\uc758\\uc9c0\\ub97c \\ubc1d\\ud78c \\ubc14 \\uc788\\ub2e4\\u201d\\uba70 \\u201c\\ubca0\\uc774\\ube44\\ubaac\\uc2a4\\ud130\\uc758 \\uacbd\\uc6b0 \\uba64\\ubc84\\ub4e4\\uc758 \\ud37c\\ud3ec\\uba3c\\uc2a4 \\ud2f0\\uc800 \\uc601\\ud5a5\\uc744 \\ub9e4\\uc8fc \\uacf5\\uac1c\\ud558\\uace0 \\uc788\\ub294\\ub370, \\ub300\\uc911 \\ubc18\\uc751\\uc740 \\uc6b0\\ud638\\uc801\\u201d\\uc774\\ub77c\\uace0 \\ubd84\\uc11d\\ud588\\ub2e4. \\ub420\\uc131\\ubd80\\ub978 \\uc2e0\\uc778\\uc5d0, GD \\uc9c0\\uc6d0\\uc0ac\\uaca9\\uae4c\\uc9c0 \\ub354\\ud574\\uc9c0\\uba70 \\uacfc\\ub3c4\\ud55c \\ub2e8\\uc77c \\uc544\\ud2f0\\uc2a4\\ud2b8 \\uc758\\uc874\\ub3c4\\uac00 \\ud574\\uc18c\\ub418\\ub294 \\uad6c\\uac04\\uc774\\ub77c\\uace0 \\ud3c9\\uac00\\ud588\\ub2e4. \\ube14\\ub799\\ud551\\ud06c \\uc7ac\\uacc4\\uc57d \\uc5ed\\uc2dc \\ubb34\\ub09c\\ud558\\uac8c \\uc9c4\\ud589\\ub420 \\uac83\\uc73c\\ub85c \\uc774 \\uc5f0\\uad6c\\uc6d0\\uc740 \\ub0b4\\ub2e4\\ubd24\\ub2e4. \\uadf8\\ub294 \\u201c\\ube14\\ub799\\ud551\\ud06c\\uc758 \\uacc4\\uc57d\\ub9cc\\uae30(~2023\\ub1448\\uc6d4)\\uac00 \\uac00\\uae4c\\uc6cc\\uc9d0\\uc5d0 \\ub530\\ub77c \\uad00\\ub828 \\uc6b0\\ub824\\uac00 \\ubc18\\uc601\\ub418\\uba70 \\uc5ec\\uc804\\ud788 \\uc640\\uc774\\uc9c0\\uc5d4\\ud130 \\uc8fc\\uac00\\ub294 \\uacbd\\uc7c1\\uc0ac \\ub300\\ube44 \\uc800\\ud3c9\\uac00\\ub41c \\uc0c1\\ud0dc\\u201d\\ub77c\\uace0 \\ubd84\\uc11d\\ud588\\ub2e4. \\uc774\\uc5b4 \\u201c\\ub2e4\\ub9cc \\uc7ac\\uacc4\\uc57d \\uad00\\ub828\\ud574 \\ubbf8\\ub9ac \\ubd80\\uc815\\uc801\\uc73c\\ub85c \\uc9d0\\uc791\\ud558\\uace0 \\ub300\\uc751\\ud560 \\ud544\\uc694\\ub294 \\uc5c6\\uc744 \\uac83\\u201d\\uc774\\ub77c\\uba70 \\u201c\\uc544\\ud2f0\\uc2a4\\ud2b8\\uc640 \\uae30\\uc5c5 \\uc591\\ucabd\\uc758 \\uc2e4\\uc775\\uc744 \\uace0\\ub824\\ud574\\ubcfc \\ub54c \\uc7ac\\uacc4\\uc57d\\uc774 \\ubb34\\ub09c\\ud788 \\uc9c4\\ud589\\ub420 \\uac00\\ub2a5\\uc131\\uc774 \\ub354 \\ub192\\ub2e4. \\uacfc\\ub3c4\\ud55c \\uc6b0\\ub824\\ub294 \\ub0b4\\ub824\\ub193\\uc744 \\uc2dc\\uc810\\u201d\\uc774\\ub77c\\uace0 \\ub9d0\\ud588\\ub2e4. 4\\ubd84\\uae30 \\uc2e4\\uc801\\uc740 \\ucee8\\uc13c\\uc11c\\uc2a4\\uc5d0 \\ubd80\\ud569\\ud560 \\uc804\\ub9dd\\uc774\\ub2e4. \\uc774 \\uc5f0\\uad6c\\uc6d0\\uc740 \\u201c4\\ubd84\\uae30 \\uc5f0\\uacb0 \\uae30\\uc900 \\ub9e4\\ucd9c 1455\\uc5b5\\uc6d0, \\uc601\\uc5c5\\uc774\\uc775 23\\uc5b5\\uc6d0\\uc73c\\ub85c  \\ucee8\\uc13c\\uc11c\\uc2a4\\uc5d0 \\ubd80\\ud569\\ud560 \\uac83\\u201d\\uc774\\ub77c\\uba70 \\u201c\\ube14\\ub799\\ud551\\ud06c \\uc6d4\\ub4dc\\ud22c\\uc5b4 \\uad00\\ub828 \\ud2f0\\ucf13 \\ubc0f \\uae30\\ud68d\\uc0c1\\ud488(MD) \\uc218\\uc775 \\ubc18\\uc601\\uc73c\\ub85c \\ud638\\uc2e4\\uc801\\uc774 \\uae30\\ub300\\ub41c\\ub2e4. \\ud2b8\\ub808\\uc800 \\uc77c\\ubcf8 \\ud22c\\uc5b4 \\uad00\\ub828 \\uc218\\uc775\\ub3c4 \\uc778\\uc2dd\\ub420 \\uac83\\u201d\\uc774\\ub77c\\uace0 \\ubd84\\uc11d\\ud588\\ub2e4. \\uc774\\uc5b4 \\u201c\\uc74c\\uc6d0\\uc758 \\uacbd\\uc6b0 \\ube14\\ub799\\ud551\\ud06c \\uc2e0\\ubcf4 \\ud765\\ud589\\uc774 \\uc9c0\\uc18d\\ub418\\uace0 \\uc788\\uc744\\ubfd0 \\uc544\\ub2c8\\ub77c \\uc911\\uad6d\\ud5a5 \\ubc18\\uae30 \\uc815\\uc0b0\\uc774 \\uc778\\uc2dd\\ub418\\ub294 \\ubd84\\uae30\\uc778 \\ub9cc\\ud07c \\uc74c\\uc6d0 \\ud638\\uc2e4\\uc801\\uc774 \\uc774\\uc5b4\\uc9c8 \\uac83\\u201d\\uc774\\ub77c\\uace0 \\ub367\\ubd99\\uc600\\ub2e4.\\uff1c\\u24d2                                                                                                                                                                                                                                                                                                                                                                                                                                                                                                                                                                                                                                                                                                                                                                                                                                                                                                       \"\n",
      "    },\n",
      "    \"option\": {\n",
      "        \"language\": \"ko\",\n",
      "        \"model\": \"news\",\n",
      "        \"summaryCount\": \"5\",\n",
      "        \"tone\": \"2\"\n",
      "    }\n",
      "}\n",
      "{\"summary\":\"NH투자증권은 19일 와이지엔터테인먼트(122870)에 대해 과도한 단일 아티스트 의존도가 해소될 것으로 전망했습니다.\\n될성부른 신인에, GD 지원사격까지 더해지며 과도한 단일 아티스트 의존도가 해소되는 구간이라고 평가했습니다.\\n블랙핑크 재계약 역시 무난하게 진행될 것으로 이 연구원은 내다봤습니다.\\n그는 \\\"블랙핑크의 계약만기(~2023년8월)가 가까워짐에 따라 관련 우려가 반영되며 여전히 와이지엔터 주가는 경쟁사 대비 저평가된 상태\\\"라고 분석했습니다.\\n이어 \\\"다만 재계약 관련해 미리 부정적으로 짐작하고 대응할 필요는 없을 것\\\"이라며 \\\"아티스트와 기업 양쪽의 실익을 고려해볼 때 재계약이 무난히 진행될 가능성이 더 높습니다.\"}\n"
     ]
    }
   ],
   "source": [
    "# SUMMARY가 잘 되는지 테스팅(하나의 본문에 대해 요약문 생성해봄)\n",
    "\n",
    "# title= \"\"\n",
    "content = news_under['PARSED CONTENT'].iloc[3]\n",
    "data = {\n",
    "    \"document\": {\n",
    "    #\"title\": title,\n",
    "    \"content\" : content\n",
    "    },\n",
    "    \"option\": {\n",
    "    \"language\": language,\n",
    "    \"model\": model,\n",
    "    \"tone\": tone,\n",
    "    \"summaryCount\" : summaryCount\n",
    "    }\n",
    "}\n",
    "print(json.dumps(data, indent=4, sort_keys=True))\n",
    "response = requests.post(url, data=json.dumps(data), headers=headers)\n",
    "rescode = response.status_code\n",
    "if(rescode == 200):\n",
    "    print (response.text)\n",
    "else:\n",
    "    print(\"Error : \" + response.text)"
   ]
  },
  {
   "cell_type": "markdown",
   "id": "9cba42af",
   "metadata": {},
   "source": [
    "- 요약문이 잘 생성됨을 확인함\n",
    "- 위의 코드를 함수화하여 전체 기사에 대한 요약문 생성 작업 진행"
   ]
  },
  {
   "cell_type": "code",
   "execution_count": 11,
   "id": "aa3cb558",
   "metadata": {},
   "outputs": [],
   "source": [
    "# 요약문 생성 함수 \n",
    "def generate_summary(df, language, model, tone, summaryCount):\n",
    "\n",
    "    def generate_single_summary(row):\n",
    "        content = row['PARSED CONTENT']\n",
    "        title = row['TITLE']\n",
    "\n",
    "        data = {\n",
    "            \"document\": {\n",
    "                \"title\": title,\n",
    "                \"content\": content\n",
    "            },\n",
    "            \"option\": {\n",
    "                \"language\": language,\n",
    "                \"model\": model,\n",
    "                \"tone\": tone,\n",
    "                \"summaryCount\": summaryCount\n",
    "            }\n",
    "        }\n",
    "\n",
    "        response = requests.post(url, data=json.dumps(data), headers=headers)\n",
    "        rescode = response.status_code\n",
    "        if rescode == 200:\n",
    "            summary = json.loads(response.text)[\"summary\"]\n",
    "            return summary\n",
    "        else:\n",
    "            return \"Error : \" + response.text\n",
    "    \n",
    "    df['SUMMARY'] = df.apply(generate_single_summary, axis=1)\n",
    "    return df\n"
   ]
  },
  {
   "cell_type": "code",
   "execution_count": 12,
   "id": "b14e1751",
   "metadata": {},
   "outputs": [
    {
     "name": "stderr",
     "output_type": "stream",
     "text": [
      "/var/folders/4t/dyhc70gd7zjdwxdh7x7f77240000gn/T/ipykernel_96596/3186641854.py:29: SettingWithCopyWarning: \n",
      "A value is trying to be set on a copy of a slice from a DataFrame.\n",
      "Try using .loc[row_indexer,col_indexer] = value instead\n",
      "\n",
      "See the caveats in the documentation: https://pandas.pydata.org/pandas-docs/stable/user_guide/indexing.html#returning-a-view-versus-a-copy\n",
      "  df['SUMMARY'] = df.apply(generate_single_summary, axis=1)\n"
     ]
    }
   ],
   "source": [
    "# 전체 뉴스 기사에 함수 적용\n",
    "result_dataframe = generate_summary(news_under, language, model, tone, summaryCount)"
   ]
  },
  {
   "cell_type": "code",
   "execution_count": 13,
   "id": "1ea083ce",
   "metadata": {
    "scrolled": true
   },
   "outputs": [
    {
     "name": "stdout",
     "output_type": "stream",
     "text": [
      "<class 'pandas.core.frame.DataFrame'>\n",
      "Int64Index: 1930 entries, 0 to 2938\n",
      "Data columns (total 11 columns):\n",
      " #   Column          Non-Null Count  Dtype  \n",
      "---  ------          --------------  -----  \n",
      " 0   NEWS_YM         1930 non-null   int64  \n",
      " 1   DATE_TIME       1930 non-null   object \n",
      " 2   WRITER          1930 non-null   object \n",
      " 3   SUBCATEGORY     1930 non-null   object \n",
      " 4   TITLE           1930 non-null   object \n",
      " 5   IMPORTANCE      1930 non-null   float64\n",
      " 6   ITEM_NAME       1170 non-null   object \n",
      " 7   TAG_LIST        1398 non-null   object \n",
      " 8   PARSED CONTENT  1930 non-null   object \n",
      " 9   LENGTH_SUM      1930 non-null   int64  \n",
      " 10  SUMMARY         1930 non-null   object \n",
      "dtypes: float64(1), int64(2), object(8)\n",
      "memory usage: 180.9+ KB\n"
     ]
    }
   ],
   "source": [
    "# 적용 결과 확인\n",
    "result_dataframe.info()"
   ]
  },
  {
   "cell_type": "code",
   "execution_count": 14,
   "id": "190af346",
   "metadata": {},
   "outputs": [
    {
     "data": {
      "text/plain": [
       "'SM엔터테인먼트 현 경영진이 경쟁사 하이브와 경영권 분쟁을 벌이고 있는 가운데 소액주주들에게 서한을 보내 지지를 호소했습니다.\\n1일 가요계에 따르면 SM은 최근 소액주주들에게 \\'에스엠엔터테인먼트 주주님께\\'라는 제목의 서한을 보내 \"하이브 이사회는 당연히 새로운 사업 기회를 (SM이 아닌) 하이브에 줄 것\"이라고 주장했다.SM은 \"이번 사태는 한국 엔터테인먼트 역사에서 다시 없을 중요한 일\"이라며 \"주주님들의 이번 결정에 따라 당사의 미래는 아주 크게 달라질 것\"이라고 강조했습니다.\\n이어 \"올해 주주총회는 지난 십 수년간 이어져 온 SM의 거버넌스 이슈를 완전히 해소하고 국내 최고의 아티스트 풀을 보유한 엔터테인먼트사로서 기업가치를 한 단계 더 올릴 수 있는 마지막 기회\"라고 덧붙었습니다.\\n특히 SM은 하이브와 업계 최대 경쟁사임을 강조하며 부정적 측면이 발생할 수 있다는 주장을 펼치기도 했다.SM은 \"좋은 연습생도, 좋은 곡도, 좋은 안무가와 공연 기획도 모두 하이브가 SM에 가지는 지분율보다 더 높은 지분율을 가진 빅히트(방탄소년단 소속사), 어도어(뉴진스 소속사), 쏘스뮤직(르세라핌 소속사), 플레디스(세븐틴 소속사) 같은 산하 레이블에 먼저 배정할 수밖에 없다\"고 했습니다.\\n또 \"하이브가 SM 지분을 최대 40%까지만 보유하고 나머지 60%는 일반 주주들이 가지게 되면 SM 주주와 하이브 주주 사이에는 이해 상충이 발생할 수밖에 없다\"고 주장하기도 했습니다.'"
      ]
     },
     "execution_count": 14,
     "metadata": {},
     "output_type": "execute_result"
    }
   ],
   "source": [
    "# 적용 결과 확인\n",
    "result_dataframe['SUMMARY'].iloc[1000]"
   ]
  },
  {
   "cell_type": "markdown",
   "id": "f870523a",
   "metadata": {},
   "source": [
    "### 요약문 저장 "
   ]
  },
  {
   "cell_type": "code",
   "execution_count": 15,
   "id": "4a7d9b28",
   "metadata": {},
   "outputs": [],
   "source": [
    "# 데이터 저장\n",
    "file_path = '../../../data/News/news_summary_under.xlsx'  \n",
    "result_dataframe.to_excel(file_path, index=False)"
   ]
  }
 ],
 "metadata": {
  "kernelspec": {
   "display_name": "Python 3 (ipykernel)",
   "language": "python",
   "name": "python3"
  },
  "language_info": {
   "codemirror_mode": {
    "name": "ipython",
    "version": 3
   },
   "file_extension": ".py",
   "mimetype": "text/x-python",
   "name": "python",
   "nbconvert_exporter": "python",
   "pygments_lexer": "ipython3",
   "version": "3.9.12"
  },
  "toc": {
   "base_numbering": 1,
   "nav_menu": {},
   "number_sections": true,
   "sideBar": true,
   "skip_h1_title": false,
   "title_cell": "Table of Contents",
   "title_sidebar": "Contents",
   "toc_cell": false,
   "toc_position": {
    "height": "calc(100% - 180px)",
    "left": "10px",
    "top": "150px",
    "width": "288px"
   },
   "toc_section_display": true,
   "toc_window_display": true
  }
 },
 "nbformat": 4,
 "nbformat_minor": 5
}
