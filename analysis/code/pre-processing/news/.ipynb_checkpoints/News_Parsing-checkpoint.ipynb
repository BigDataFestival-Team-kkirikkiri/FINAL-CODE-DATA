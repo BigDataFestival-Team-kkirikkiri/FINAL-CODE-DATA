{
 "cells": [
  {
   "cell_type": "markdown",
   "id": "c9da98ab",
   "metadata": {},
   "source": [
    "# 패키지, 데이터 로드"
   ]
  },
  {
   "cell_type": "code",
   "execution_count": 1,
   "id": "74064404",
   "metadata": {},
   "outputs": [
    {
     "data": {
      "text/html": [
       "<div>\n",
       "<style scoped>\n",
       "    .dataframe tbody tr th:only-of-type {\n",
       "        vertical-align: middle;\n",
       "    }\n",
       "\n",
       "    .dataframe tbody tr th {\n",
       "        vertical-align: top;\n",
       "    }\n",
       "\n",
       "    .dataframe thead th {\n",
       "        text-align: right;\n",
       "    }\n",
       "</style>\n",
       "<table border=\"1\" class=\"dataframe\">\n",
       "  <thead>\n",
       "    <tr style=\"text-align: right;\">\n",
       "      <th></th>\n",
       "      <th>NEWS_YM</th>\n",
       "      <th>DATE_TIME</th>\n",
       "      <th>WRITER</th>\n",
       "      <th>SUBCATEGORY</th>\n",
       "      <th>TITLE</th>\n",
       "      <th>IMPORTANCE</th>\n",
       "      <th>ITEM_NAME</th>\n",
       "      <th>TAG_LIST</th>\n",
       "      <th>CONTENT</th>\n",
       "    </tr>\n",
       "  </thead>\n",
       "  <tbody>\n",
       "    <tr>\n",
       "      <th>0</th>\n",
       "      <td>202301</td>\n",
       "      <td>20230102_135224</td>\n",
       "      <td>머니투데이</td>\n",
       "      <td>기술</td>\n",
       "      <td>\"'통신→디지털' 혁신을 성과로\"…SKT·KT·LGU+ 신년 화두는</td>\n",
       "      <td>53.75</td>\n",
       "      <td>SK텔레콤|KT|LG유플러스</td>\n",
       "      <td>AI| 디지털| 통신| 미디어| 글로벌| 혁신| 인터넷| 플랫폼</td>\n",
       "      <td>[머니투데이 변휘 기자, 김승한 기자] &lt;img src=\"http://thumb.m...</td>\n",
       "    </tr>\n",
       "    <tr>\n",
       "      <th>1</th>\n",
       "      <td>202301</td>\n",
       "      <td>20230106_131618</td>\n",
       "      <td>머니투데이</td>\n",
       "      <td>경제</td>\n",
       "      <td>구찌 티셔츠에 한글 로고, 가방엔 JEJU...\"한국 독점 상품\"</td>\n",
       "      <td>66.21</td>\n",
       "      <td>NaN</td>\n",
       "      <td>독점| 명품| 소비| 제주| 가방</td>\n",
       "      <td>[머니투데이 정인지 기자] &lt;img src=\"http://thumb.mt.co.kr...</td>\n",
       "    </tr>\n",
       "    <tr>\n",
       "      <th>2</th>\n",
       "      <td>202301</td>\n",
       "      <td>20230111_120209</td>\n",
       "      <td>머니투데이</td>\n",
       "      <td>경제</td>\n",
       "      <td>YG 트레저, 모바일 게임 '뿌까 퍼즐 어드벤처' 컬래버레이션</td>\n",
       "      <td>46.75</td>\n",
       "      <td>와이지엔터테인먼트</td>\n",
       "      <td>모바일| 게임| 캐릭터</td>\n",
       "      <td>[머니투데이 김건우 기자] &lt;img src=\"http://thumb.mt.co.kr...</td>\n",
       "    </tr>\n",
       "    <tr>\n",
       "      <th>3</th>\n",
       "      <td>202301</td>\n",
       "      <td>20230117_132642</td>\n",
       "      <td>머니투데이</td>\n",
       "      <td>사회</td>\n",
       "      <td>현대오토에버, 1분기 신입·경력 채용 시작…\"MZ가 면접관으로\"</td>\n",
       "      <td>60.51</td>\n",
       "      <td>NaN</td>\n",
       "      <td>소프트웨어| 모빌리티| 문화| 교육| 자동차| 디지털</td>\n",
       "      <td>[머니투데이 정한결 기자] &lt;img src=\"http://thumb.mt.co.kr...</td>\n",
       "    </tr>\n",
       "    <tr>\n",
       "      <th>4</th>\n",
       "      <td>202301</td>\n",
       "      <td>20230102_084347</td>\n",
       "      <td>eDaily</td>\n",
       "      <td>사회</td>\n",
       "      <td>BTS 자리 넘본다…유망주는 스트레이 키즈-KB</td>\n",
       "      <td>67.91</td>\n",
       "      <td>NaN</td>\n",
       "      <td>BTS| 판매량| NCT| 넥스트| 엔하이픈| 블랙핑크| 에스파| 아이브</td>\n",
       "      <td>&lt;font color='gray'&gt;&lt;b&gt;- KB증권 “군 입대 BTS에 도전 이어질...</td>\n",
       "    </tr>\n",
       "  </tbody>\n",
       "</table>\n",
       "</div>"
      ],
      "text/plain": [
       "   NEWS_YM        DATE_TIME  WRITER SUBCATEGORY  \\\n",
       "0   202301  20230102_135224   머니투데이          기술   \n",
       "1   202301  20230106_131618   머니투데이          경제   \n",
       "2   202301  20230111_120209   머니투데이          경제   \n",
       "3   202301  20230117_132642   머니투데이          사회   \n",
       "4   202301  20230102_084347  eDaily          사회   \n",
       "\n",
       "                                   TITLE  IMPORTANCE        ITEM_NAME  \\\n",
       "0  \"'통신→디지털' 혁신을 성과로\"…SKT·KT·LGU+ 신년 화두는       53.75  SK텔레콤|KT|LG유플러스   \n",
       "1   구찌 티셔츠에 한글 로고, 가방엔 JEJU...\"한국 독점 상품\"       66.21              NaN   \n",
       "2     YG 트레저, 모바일 게임 '뿌까 퍼즐 어드벤처' 컬래버레이션       46.75        와이지엔터테인먼트   \n",
       "3    현대오토에버, 1분기 신입·경력 채용 시작…\"MZ가 면접관으로\"       60.51              NaN   \n",
       "4             BTS 자리 넘본다…유망주는 스트레이 키즈-KB       67.91              NaN   \n",
       "\n",
       "                                   TAG_LIST  \\\n",
       "0       AI| 디지털| 통신| 미디어| 글로벌| 혁신| 인터넷| 플랫폼   \n",
       "1                        독점| 명품| 소비| 제주| 가방   \n",
       "2                              모바일| 게임| 캐릭터   \n",
       "3             소프트웨어| 모빌리티| 문화| 교육| 자동차| 디지털   \n",
       "4  BTS| 판매량| NCT| 넥스트| 엔하이픈| 블랙핑크| 에스파| 아이브   \n",
       "\n",
       "                                             CONTENT  \n",
       "0  [머니투데이 변휘 기자, 김승한 기자] <img src=\"http://thumb.m...  \n",
       "1  [머니투데이 정인지 기자] <img src=\"http://thumb.mt.co.kr...  \n",
       "2  [머니투데이 김건우 기자] <img src=\"http://thumb.mt.co.kr...  \n",
       "3  [머니투데이 정한결 기자] <img src=\"http://thumb.mt.co.kr...  \n",
       "4  <font color='gray'><b>- KB증권 “군 입대 BTS에 도전 이어질...  "
      ]
     },
     "execution_count": 1,
     "metadata": {},
     "output_type": "execute_result"
    }
   ],
   "source": [
    "# 패키지 로드 \n",
    "import pandas as pd \n",
    "from bs4 import BeautifulSoup  # html 파싱 \n",
    "import re  # 정규표현식\n",
    "\n",
    "# 데이터 로드 \n",
    "news1 = pd.read_excel('../../../data/News/news_1filtered_202301.xlsx')\n",
    "news2 = pd.read_excel('../../../data/News/news_1filtered_202302.xlsx')\n",
    "news3 = pd.read_excel('../../../data/News/news_1filtered_202303.xlsx')\n",
    "news4 = pd.read_excel('../../../data/News/news_1filtered_202304.xlsx')\n",
    "news5 = pd.read_excel('../../../data/News/news_1filtered_202305.xlsx')\n",
    "news6 = pd.read_excel('../../../data/News/news_1filtered_202306.xlsx')\n",
    "dataframes = [news1, news2, news3, news4, news5, news6] \n",
    "news = pd.concat(dataframes, ignore_index=True) # 1~6월 뉴스기사 합치기 \n",
    "news.head()"
   ]
  },
  {
   "cell_type": "code",
   "execution_count": 2,
   "id": "7a129cf5",
   "metadata": {
    "scrolled": false
   },
   "outputs": [
    {
     "name": "stdout",
     "output_type": "stream",
     "text": [
      "\n",
      " ------------------데이터프레임 기본 정보---------------- \n",
      "\n",
      "<class 'pandas.core.frame.DataFrame'>\n",
      "RangeIndex: 16177 entries, 0 to 16176\n",
      "Data columns (total 9 columns):\n",
      " #   Column       Non-Null Count  Dtype  \n",
      "---  ------       --------------  -----  \n",
      " 0   NEWS_YM      16177 non-null  int64  \n",
      " 1   DATE_TIME    16177 non-null  object \n",
      " 2   WRITER       16177 non-null  object \n",
      " 3   SUBCATEGORY  16177 non-null  object \n",
      " 4   TITLE        16176 non-null  object \n",
      " 5   IMPORTANCE   16177 non-null  float64\n",
      " 6   ITEM_NAME    6889 non-null   object \n",
      " 7   TAG_LIST     11191 non-null  object \n",
      " 8   CONTENT      16177 non-null  object \n",
      "dtypes: float64(1), int64(1), object(7)\n",
      "memory usage: 1.1+ MB\n",
      "None\n",
      "\n",
      " -----------------열별 결측치 개수 확인---------------- \n",
      "\n",
      "NEWS_YM           0\n",
      "DATE_TIME         0\n",
      "WRITER            0\n",
      "SUBCATEGORY       0\n",
      "TITLE             1\n",
      "IMPORTANCE        0\n",
      "ITEM_NAME      9288\n",
      "TAG_LIST       4986\n",
      "CONTENT           0\n",
      "dtype: int64\n",
      "\n",
      " -----------------언론사 고유값 개수 확인---------------- \n",
      "\n",
      "31\n",
      "\n",
      " -----------------언론사 고유값 확인(언론사 종류)---------------- \n",
      "\n",
      "['머니투데이' 'eDaily' '인포스탁' '연합뉴스' 'CEO 스코어데일리' '뉴스웨이' '한경뉴스' '매일경제' '로이터'\n",
      " '헤럴드경제' '연합인포해외' '뉴 프라임경제' 'IR큐더스' '뉴시스' '아시아경제' '컨슈머타임스' '글로벌이코노믹' '뉴스핌'\n",
      " '데이터투자' '조선경제' '머니투데이방송' 'NSP' '서울경제' '이투데이' '파이낸셜 포인트' '파이낸셜뉴스' '인베스트조선'\n",
      " '로이터(AI뉴스)' 'SCMP(AI뉴스)' 'CNBC(AI뉴스)' 'NSP통신']\n"
     ]
    }
   ],
   "source": [
    "print('\\n','------------------데이터프레임 기본 정보----------------','\\n')\n",
    "print(news.info())  \n",
    "print('\\n', '-----------------열별 결측치 개수 확인----------------', '\\n')\n",
    "print(news.isna().sum())  \n",
    "print('\\n', '-----------------언론사 고유값 개수 확인----------------', '\\n')\n",
    "print(news['WRITER'].nunique())\n",
    "print('\\n','-----------------언론사 고유값 확인(언론사 종류)----------------', '\\n')\n",
    "print(news['WRITER'].unique())"
   ]
  },
  {
   "cell_type": "markdown",
   "id": "8ca367e5",
   "metadata": {},
   "source": [
    "- TITLE 변수가 결측인 행이 하나 존재한다. \n",
    "- 아래 코드에서 직접 기사를 확인하도록 한다."
   ]
  },
  {
   "cell_type": "markdown",
   "id": "c3e151d3",
   "metadata": {},
   "source": [
    "# TITLE(제목)변수가 결측치인 행 처리"
   ]
  },
  {
   "cell_type": "code",
   "execution_count": 3,
   "id": "d2b90f25",
   "metadata": {
    "scrolled": true
   },
   "outputs": [
    {
     "data": {
      "text/plain": [
       "'<div>[프라임경제] 유통업계가 사회적 거리두기 해제 이후 첫 밸런타인데이를 맞아 다양한 상품과 혜택을 준비했다.&nbsp;</div><div><br></div><div>먼저 이마트 밸런타인데이를 앞두고 15일까지 초콜릿 최대 50% 할인 행사와 동시에 구매 금액대별 최대 30% 할인 쿠폰 3종을 추가로 지급한다.</div><div><br></div><div>대면 접촉이 어려웠던 코로나 기간 동안 밸런타인데이 매출은 코로나 이전 대비 약 20% 가량 줄었다.</div><div><br></div><div><img xtype=\"photo\" src=\"http://www.newsprime.co.kr/data/photos/cdn/20230206/art_592399_1675748594.jpg\" class=\"sm-image-l\" title=\"(C) 이마트 \">그러나 올해는 사회적 거리두기가 해제 되고 처음 맞이하는 만큼 사무실 출근과 학교/학원 출석, 대면 모임 등 지인들과 얼굴을 마주할 자리가 늘어남에 따라 밸런타인데이 초콜릿 구매도 증가 할 것으로 업계는 기대하고 있다</div><div><br></div><div>이마트는 노이하우스 초콜릿 외에도 해외 유명 프리미엄 초콜릿부터 대중성 높은 초콜릿까지 폭 넓은 행사 상품 라인업을 준비했다.</div><div><br></div><div>핀란드 국민 초콜릿이라 불리는 칼파제르 밀크, 칼파제르 게이샤 헤이즐넛, 칼파제르 셀렉션(라즈베리 요거트/블루베리 트러플) 3종 상품(각 150g)을 판매하며 추가로 2+1 프로모션까지 진행한다.</div><div><br></div><div>1901년 스위스에서 처음 출시 됐으며 알프스 청정 지역의 우유를 더해 진한 부드러움이 가득하다고 알려진 밀카 초콜릿 알프스밀크, 오레오 2종 상품(각 100g)도 판매하며 2+1 프로모션이 추가 적용된다.</div><div><br></div><div>또, 1+1 대표상품으로 바삭하고 달달한 밀크 초코볼 허쉬후퍼스(340g)와 한입 크기 사이즈며 캐러멜이 함유돼 있어 달콤함과 쫀득함을 함께 즐길 수 있는 밀크덧(141g), 킷캣 오리지널(318.6g)등이 있다.</div><div><br></div><div>대중적 인지도가 높은 ABC초콜릿 400g 상품도 기존 정상가 대비 약 50% 할인해 판매한다.</div><div><br></div><div>추가 혜택으로 이마트앱 밸런타인데이 이벤트 페이지에서 초콜릿 상품 대상 1만원 이상 구매시 10%, 2만원 이상 구매시 20%, 3만원 이상 구매시 30% 할인 쿠폰을 각 1장씩 총 3장 발급 받을 수 있으며 구매 금액대별 상황에 맞춰 각각 사용 가능하다.</div><div><br></div><div>또한 이마트는마이멜로디, 쿠로미 등 인기 많은 산리오 캐릭터즈들과 함께 콜라보레이션으로 기획한    상품 6종을 단독 판매한다.</div><div><br></div><div>대표상품으로 \\'마이멜로디&amp;쿠로미 오리온 서랍장 스위트박스\\' \\'마이멜로디&amp;쿠로미 세안밴드 로아커박스\\' \\'시나모롤&amp;모카 파우치 로아커박스\\' \\'시나모롤&amp;모카 해태포카키링 스위트박스\\' 등이 있다.</div><div><br></div><div>투썸플레이스는 밸런타인데이, 화이트데이 시즌을 맞아 투썸만의 스타일로 재해석한 아인슈페너와 초코 케이크 등을 출시했다.</div><div><br></div><div>아인슈페너 2023은 2020년 선보여 높은 인기를 끌었던 \\'아인슈페너\\'를 한층 업그레이드한 음료다. 아인슈페너 2023은 아메리카노 대신 라떼를 베이스로 활용해 부드러운 라떼에 더욱 더 부드러운 생크림을 듬뿍 얹어 맛은 물론 SNS 인증샷을 유발하는 시각적인 즐거움까지 더했다. 투썸이 제공하는 3가지 원두(블랙그라운드, 아로마노트, 디카페인) 중 선택해 취향에 따라 다르게 즐겨볼 수 있다.</div><div><br></div><div>클래식 티(Tea)에 프루티한 맛과 향을 더한 티 베리에이션 음료 △피치 블랙티도 출시했다. 복숭아의 달콤함과 우롱차, 블랙티의 향기로움을 한아름 담아 조화롭게 블렌딩한 티 베리에이션 음료다. 복숭아의 달콤함이 블랙티의 강한 바디감을 순화시키고 우롱차의 향긋함을 끌어올려 남녀노소 모두 좋아할 만한 깔끔하고 청량한 맛을 선사한다.</div><div><br></div><div>디저트 신제품 △딸기 초콜릿 링딩동은 미국식 홈메이드 레시피 \\'딩동(DING-DONG) 케이크\\'를 투썸만의 스타일로 재해석한 제품이다. 초콜릿 가나슈로 도톰하게 코팅해 깊고 풍부한 맛을 구현한 초콜릿 러버들에게 특히 사랑받을 것으로 기대된다. 라운드(홀), 조각(피스) 케이크로 만나볼 수 있다.&nbsp;</div><div><br></div><div>파리바게뜨도 밸런타인데이를 맞아 \\'핑크&amp;러브(PINK and LOVE)‘를 주제로 MZ세대의 취향을 겨냥한 시즌 한정 선물 제품을 출시한다.</div><div><br></div><div>먼저, 귀여운 곰 캐릭터로 장식한 케이크도 내놓는다. △부드러운 화이트 시트와 달콤상큼한 딸기 콤포트와 상큼한 리치가 환상의 조화를 이루는 핑크빛 케이크 위에 귀여운 곰인형의 모습을 그대로 구현한 초콜릿을 얹은 \\'곰곰이 너만 사랑해 케이크\\' △달콤한 바나나 레제르 크림과 진한 초콜릿 레제르 크림이 어우러진 초콜릿 케이크 위에 디테일하게 구현한 곰인형 모양 초콜릿을 얹은 \\'곰곰이 너만 생각해 케이크\\'등이다.</div><div><br></div><div>      이외도 하트를 디자인에 반영한 케이크도 있다. △촉촉한 화이트&amp;레드 시트 사이에 상큼달콤한 딸기리치잼 크림을 더한 핑크색 케이크 위에 하트 초콜릿을 올려 러블리한 무드를 자아내는 \\'썸 보다 러브 케이크\\' △달콤한 초콜릿 케이크 위에 귀여운 입체 하트 초가 꽂혀 있는 \\'심쿵 하트 케이크\\' 등이다.</div><div><br></div><div>특별한 디자인에 위트있는 이름을 붙인 선물세트도 선보인다. 폭신한 곰인형을 연상케하는 빅사이즈 파운드 케이크에 달콤한 초콜릿과 향긋한 과일을 더한 \\'곰인형 대신 나 어때 초코오렌지 파운드\\'&amp;\\'곰인형 대신 나 어때 후르츠 파운드\\' △사랑스러운 곰 초콜릿과 필링가득 하트 초콜릿을 다채롭게 담아낸 \\'너는 나의 곰이다\\' \\'곰곰이 하트해\\' △밀크, 화이트, 다크 세가지 곰 초콜릿을 담은 \\'곰곰이 너만 생각해\\' 등이다.</div><div><br></div><div>롯데온은 오는 12일까지 밸런타인데이를 맞아 주얼리, 명품 등 선물로 인기가 높은 상품을 모아 밸런타인데이 기획전을 개최한다.</div><div><br></div><div>롯데온의 명품 버티컬 서비스인 \\'온앤더럭셔리\\'에서는 밸런타인데이 선물로 명품을 준비하는 고객을 위해 \\'온앤더럭셔리 위크\\'를 진행한다. 행사 기간 최대 20% 할인 쿠폰을 제공하며, 럭셔리 반값 특가, 구매 사은 이벤트 등 다양한 혜택을 준비했다.</div><div><br></div><div>행사 기간 매일 오전 11시에는 남성용 명품을 비롯해 인기 상품을 한정 수량 최대 50% 할인 판매한다.&nbsp;</div><div><br></div><div>롯데온앱 내 온앤더럭셔리에서 명품을 구매하는 고객에게는 구매 금액에 따라 엘포인트(L.Point) 최대 5만 점을 적립해준다. 2월 중에 상품 구매 이력이 있는 고객 중 50명을 추첨해 슈즈케어티슈, 케어크림 및 사후관리 중복할인쿠폰이 포함된 \\'고급 명품 데일리 케어세트\\'를 증정한다.</div><div><br></div><div>또한, 명품과 함께 밸런타인데이 선물로 인기가 높은 주얼리 상품도 합리적인 가격에 선보인다. \\'러브 기프트 밸런타인데이\\' 행사를 진행해 밸런타인데이 선물을 비롯해 2월 탄생석 자수정, 인기 브랜드의 신상품을 선보인다. 행사 상품 구매 시 사용할 수 있는 최대 20% 할인 쿠폰 및 최대 7% 카드 즉시 할인 혜택을 추가로 제공하며, 브랜드사 별 단독 사은품도 증정한다.</div><div><br></div><div>밸런타인데이 선물로 인기가 높은 남성 시계 상품으로 스콜피온에서 새롭게 론칭한 형광등 불빛으로 충전이 가능한 \\'     솔라워치\\'를 비롯해 전 상품을 최대 20% 할인 판매한다. 이와 함께 티르리르 주얼리, 골든듀, 스톤헨지 등 인기 브랜드에서 선보이는 밸런타인데이 에디션 상품 및 대표 상품들도 할인된 가격에 선보인다.</div><div><br></div><div>MCM은 시즌에 맞춰 로맨틱한 \\'밸런타인데이 업사이클링 컬렉션\\'을 선보인다.</div><div><br></div><div>밸런타인데이를 기념하는 MCM의 첫 업사이클링 컬렉션으로, 브랜드의 베스트 제품에 베를린 그래피티의 미학에서 영감을 받은 활기찬 프린트를 담은 것이 특징이다. 특히 MCM 레터링을 하트 모양의 디자인으로 사랑스럽게 재해석, 발랄한 컬러감을 더해 핸드페인팅으로 작업했다.</div><div><br></div><div><img xtype=\"photo\" src=\"http://www.newsprime.co.kr/data/photos/cdn/20230206/art_592399_1675748591.jpg\" class=\"sm-image-c\" title=\"MCM이 시즌에 맞춰 로맨틱한 \\'밸런타인데이 업사이클링 컬렉션\\'을 선보인다. (C) MCM \"><br></div><div>레드와 핑크 컬러의 하트 로고는 마음을 표현하기 좋은 디자인인 만큼 연인뿐만 아니라 가족 및 친구 등 소중한 사람에게 애정, 감사 등의 마음을 담아 선물하기에 제격이다. 여성용 제품으로 구성된 업사이클링 컬렉션과 함께 남성이 사용하기 좋은 클래식 라인 제품을 추가하면 커플 아이템으로 활용하기에도 좋다.</div><div><br></div><div>비더스킨은 밸런타인데이를 맞아 \\'바하플러스 특별 할인 프로모션\\'등 특별한 혜택을 제공한다.</div><div>&nbsp;</div><div>이번 이벤트는 밸런타인데이를 맞이해 연인이나 지인의 피부 트러블 스킨 케어 선물 및 피부 고민 많은 남성에게 할인 혜택을 제공하는 프로모션이다. 자사의 대표 라인 바하플러스 4종 세트에 할인 혜택을 제공해 특별한 가격에 만나볼 수 있다.</div><div>&nbsp;</div><div>또한 프로모션 제품을 구매한 고객 모두에게 선물 포장 서비스와 바하플러스 포어 제로 트래블 4종 세트를 특별 제공한다.</div><div>&nbsp;</div><div>이와 함께 비더스킨 카카오톡 채널 추가 시 할인 쿠폰을 제공한다.</div><div><br></div><div>위메프는 밸런타인 초콜릿 등 시즌 상품으로 구성한 \\'2월 마트위크\\'를 오는 12일까지 진행한다.</div><div><br></div><div>\\'마트위크\\'는 위메프가 매월 2주 차에 진행하는 특가 프로모션으로, 주요 카테고리의 인기 상품을 특가로 판매하는 것이 특징이다.</div><div><br></div><div>주요 코너로는 \\'오늘의 스페셜 딜\\' \\'     마트위크 장바구니 쿠폰\\' \\'카테고리별 추천 상품\\' 등이 마련됐다.</div><div><br></div><div>먼저 마트위크의 메인 코너인 \\'오늘의 스페셜 딜\\'에서는 행사 기간 동안 매일 1개 상품을 선정해 특가로 선보인다.</div><div><br></div><div>\\'마트위크 장바구니 쿠폰\\' 코너에서는 8%, 15%, 22% 등 상품 가격에 따라 활용할 수 있는 다양한 할인 쿠폰을 지급한다. 또한 최대 12% 결제수단 할인 혜택도 추가로 제공한다.</div><div><br></div><div>이 밖에 △식품 △생활용품 △유아용품 △반려동물 상품 등으로 구성한 카테고리별 추천 상품 코너에서는 고디바 골드마크 홀리데이 초콜릿 기프트 박스 1+1, 프레시지 밀푀유나베 2인분, 코크제로 190ml 30개 세트 등을 저렴하게 구매할 수 있다.</div><div><br></div><div>롯데월드는 밸런타인데이 데이트 명소들을 소개한다.&nbsp;</div><div><br></div><div>먼저 롯데월드 어드벤처에서는 심장을 두근거리게 하는 \\'스페인 해적선\\'부터 연인과 두 손 꼭 붙잡고 어두운 미로를 통과하는 공포체험시설 \\'툼 오브 호러\\', 스펙타클한 우주여행 속에서 함께 스릴을 느낄 수 있는 \\'혜성특급\\' 등 연인과의 데이트를 더욱 짜릿하게 해줄 스릴만점 어트랙션을 곳곳에서 만날 수 있다.</div><div><br></div><div>하늘 위 세상에서 롯데월드 어드벤처 전체를 한눈에 내려다 보며 낭만을 즐길 수 있는 \\'풍선비행\\'과 석촌호수에 뜬 한 조각의 초승달 \\'문보트\\' 등은 오붓한 시간을 보내기에 제격이다. 특히 선체에 탑재된 LED조명으로 인해 해가 내려앉으면 커다란 초승달처럼 빛나는 문보트는 그야말로 영화 속 한 장면 같은 풍경과 분위기를 자아내 연인들의 데이트 성지로 꼽힌다.</div><div><br></div><div>서울스카이 꼭대기층인 123층 \\'123라운지\\'에서는 밸런타인데이를 맞아 당일 한정 패키지 \\'123 로얄스위트권\\'을 판매한다. 파노라마로 펼쳐지는 한강 뷰를 바라보며 스페셜 디너 코스를 만끽할 수 있다. 이번 \\'123 로얄스위트\\' 코스에서는 달콤한 분위기를 한층 돋울 와인(인당 1잔)과 랍스터·가리비 샐러드, 소고기 스튜 또는 파스타 등 엄선된 메뉴가 제공되며, 밸런타인데이 분위기를 무르익게 하는 기념 버스킹 공연도 함께 진행된다.</div><div><br></div><div>롯데월드 아쿠아리움에서는 물 속을 여유롭게 헤엄치는 해양생물들을 감상하며 스윗한 하루를 보낼 수 있다. 동글동글한 눈망울이 매력적인 바다사자가 있는 바다사자존을 지나면 만나게 되는 메인 수조 \\'디 오션\\'에서는 롯데월드 아쿠아리움의 마스코트인 얼룩 매가오리와 최근 새로운 식구가 된 샌드타이거샤크를 볼 수 있다.&nbsp;</div><div><br></div><div><img xtype=\"photo\" src=\"http://www.newsprime.co.kr/data/photos/cdn/20230206/art_592399_1675748587.jpg\" class=\"sm-image-c\" title=\"롯데월드가 밸런타인데이 데이트 명소들을 소개한다. (C) 롯데월드  \"><br></div><div>오는 28일까지 삼성카드로 결제 시 본인 및 동반 1인까지 어드벤처는 50%, 아쿠아리움은 40% 할인가에 입장권 구매가 가능하다. 서울스카이 입장권 구매 시 NH농협카드 전회원은 30% 할인가에 이용 가능하다.</div><div><br></div><div>또한, 17일까지 네이버페이로 현장 결제 시 어드벤처는 최대 43%, 아쿠아리움은 최대 약 38% 할인가에 이용할 수 있으며, 13일부터 28일까지 카카오페이 온라인 결제 시 어드벤처는 최대 40%, 서울스카이는 최대 약 28% 할인된 가격으로 이용할 수 있다.&nbsp;</div><div><br></div><div><br></div>                                                                                                                                                                                                                                                                                                                                                                                                                                                                                                                                                                                                                                                                                                                                                                                                                                                                                                                                                                                                                                                                                                                                                                                                                                      '"
      ]
     },
     "execution_count": 3,
     "metadata": {},
     "output_type": "execute_result"
    }
   ],
   "source": [
    "# TITLE 변수가 결측치인 행 확인\n",
    "news[news['TITLE'].isna()]['CONTENT'].iloc[0]"
   ]
  },
  {
   "cell_type": "markdown",
   "id": "27de8381",
   "metadata": {},
   "source": [
    "- 엔터테인먼트 주가 예측과 무관한 내용의 기사이므로 삭제한다"
   ]
  },
  {
   "cell_type": "code",
   "execution_count": 4,
   "id": "7e6e2fce",
   "metadata": {},
   "outputs": [
    {
     "name": "stdout",
     "output_type": "stream",
     "text": [
      "TITLE 변수가 결측치인 행의 수:   0 개\n"
     ]
    }
   ],
   "source": [
    "# 제거 후 확인\n",
    "news = news.dropna(subset=['TITLE'])\n",
    "print('TITLE 변수가 결측치인 행의 수:  ', sum(news['TITLE'].isna()),'개')"
   ]
  },
  {
   "cell_type": "markdown",
   "id": "053cbe09",
   "metadata": {},
   "source": [
    "# 태그 제거 "
   ]
  },
  {
   "cell_type": "markdown",
   "id": "e1fa5ac6",
   "metadata": {},
   "source": [
    "- 원본 데이터의 손실을 막기 위해 복사본을 사용한다\n",
    "- 뉴스 언론사별로 태그를 사용하는 방식이 다르므로 크게 두가지 방식으로 태그를 제거하고자 한다.\n",
    "    - 방법1) p태그/태그가 없는 부분을 제외한 나머지 태그를 모두 제거하는 방식\n",
    "        - 방법 1을 적용할 언론사 : 머니투데이, 뉴스핌, 한경뉴스 등\n",
    "    - 방법2) a태그로 감싸져 있는 텍스트를 제거 & 모든 태그를 제거하는 방식\n",
    "        - 방법 2를 적용할 언론사 : 로이터(AI뉴스), 인베스트조선, 인포스탁 등"
   ]
  },
  {
   "cell_type": "code",
   "execution_count": 5,
   "id": "f516ebe8",
   "metadata": {},
   "outputs": [],
   "source": [
    "news_copy = news.copy()"
   ]
  },
  {
   "cell_type": "markdown",
   "id": "26f19860",
   "metadata": {},
   "source": [
    "## 방법1(p 태그 + 미태그 제외하고 모두 제거)로 태그 제거"
   ]
  },
  {
   "cell_type": "code",
   "execution_count": 6,
   "id": "93573e94",
   "metadata": {},
   "outputs": [],
   "source": [
    "# 방법1로 태그 제거할 언론사 설정\n",
    "comp1 = ['머니투데이', '뉴스핌', '한경뉴스', '서울경제', '파이낸셜 포인트', 'NSP', 'NSP통신', '파이낸셜뉴스']\n",
    "\n",
    "# 태그 제거 \n",
    "news_copy['PARSED CONTENT'] = \"\"\n",
    "\n",
    "for i, row in news_copy.iterrows():\n",
    "    if row['WRITER'] in comp1:\n",
    "        html_content = row['CONTENT']\n",
    "        soup = BeautifulSoup(html_content, 'html.parser')\n",
    "        parsed_text = \"\"\n",
    "\n",
    "        for content in soup.contents:\n",
    "            if content.name == 'p':\n",
    "                parsed_text += content.get_text() + \"\\n\"\n",
    "            elif isinstance(content, str):\n",
    "                parsed_text += content + \"\\n\"\n",
    "\n",
    "        news_copy.at[i, 'PARSED CONTENT'] = parsed_text\n"
   ]
  },
  {
   "cell_type": "code",
   "execution_count": 7,
   "id": "121db2f6",
   "metadata": {
    "scrolled": true
   },
   "outputs": [
    {
     "data": {
      "text/plain": [
       "'[머니투데이 변휘 기자, 김승한 기자] \\nSK텔레콤·KT·LG유플러스 등 통신3사 CEO(최고경영자)들은 새해 한목소리로 \\'혁신의 성과를 내보이겠다\\'는 포부를 밝혔다. 그간 통신업에서 AI(인공지능)·디지털·미디어 등으로 신사업 확장을 추진해 왔던 만큼, 올해는 노력의 결과를 기술적 성취와 견조한 실적으로 현실화겠다는 의지다._x000D_\\n_x000D_\\n유영상 SK텔레콤 대표는 2일 SK텔레콤·SK브로드밴드 임직원에 보낸 이메일 신년사에서 \"올해는 \\'AI 컴퍼니\\' 비전의 실천과 성과를 가시화하는 한 해가 돼야 한다\"고 밝혔다._x000D_\\n_x000D_\\n유 대표는 \"지난해 인플레이션과 탈(脫)세계화의 도래는 올해도 불확실한 경영환경 요인이다. \\'넥스트 인터넷\\' 후보인 대화형 AI, 메타버스, 웹3 등은 부침을 거듭하면서도 지속해서 발전할 것\"이라 진단했다. 이어 \"이런 상황에서 움츠려 있기보다는 에이닷(A.)의 성공적 안착으로 글로벌 AI 사업의 기반을 구축하고, 통신·미디어·엔터프라이즈 등 기존 사업은 AI로 재정의해야 한다\"고 강조했다. _x000D_\\n_x000D_\\n특히 \"궁극적으로 글로벌 빅테크 수준의 서비스와 기술 역량을 확보해 나가겠다\"면서 \"대한민국 통신과 ICT(정보통신기술) 역사를 개척해 온 자부심과 성공에 대한 확신을 가지고, 검은 토끼처럼 \\'크게 도약해 크게 수확\\'하는 기반을 만들자\"고 당부했다. _x000D_\\n_x000D_\\n구현모 KT 대표는 \"이익을 보장하는 성장, 미래에 인정받는 성장\"을 내세웠다. 그는 이날 송파사옥에서 열린 신년식에서 \"디지코(DIGICO·디지털플랫폼기업) 전략을 보다 확장하고, 다른 산업과의 연계 및 글로벌 진출로 3차원적 성장을 만들자\"고 밝혔다._x000D_\\n_x000D_\\n 구 대표는 또 \"디지털 시대의 리딩은 사업뿐만 아니라 사회적 책임까지 포함된다\"며 \"대한민국 발전에 기여하는 KT그룹이 돼야 한다\"고 강조했다. 이어 \"그 일환으로 디지털 시대 사회적 부작용에 대한 사명감을 갖고 우리의 역할을 찾아 실천하자\"고 덧붙였다._x000D_\\n_x000D_\\n아울러 \"통신망 장애는 재해라며 \"KT의 IDC(인터넷데이터센터), 클라우드, 미디어운용센터 등은 국민 삶에 밀접히   연결된 시설인 만큼 디지털 시대에 걸맞은 \\'안전과 안정\\'의 수준을 한 단계 높여야 한다\"고 주문했다._x000D_\\n_x000D_\\n황현식 LG유플러스 대표는 이날 임직원에 보낸 영상메시지에서 \"올해는 미래 성장을 위한 변화가 꽃을 피우는 해\"라고 말했다. 미래 성장 전략인 \\'U+ 3.0\\'의 성공을 위해선 \"고객에게 차별화된 가치를 제공하는 \\'빼어난 고객 경험\\'이 핵심\"이라고 밝혔다._x000D_\\n_x000D_\\n황 대표는 \"\\'이런 데까지 신경 쓰네?\\'라는 고객 반응이 나올 정도로 기존 사업에서 고객에게 차별화된 경험을 제공하면 새로운 가치가 만들어지고, 이를 플랫폼 사업으로 진화하면 U+3.0으로 나아갈 수 있다\"고 말했다. _x000D_\\n_x000D_\\n이와 함께 \"데이터 기반의 고객경험 혁신이 가능한 영역에 AI 엔진을 내재화해 상용화할 것\"이라고 밝혔다. 또 \"현재 조직 체계는 빠른 변화에 유연하게 대처하기 어렵다. 스타트업의 일하는 방식을 적용한 조직을 올해 전사 50%로 확대하겠다\"고 밝혔다._x000D_\\n_x000D_\\n\\n변휘 기자 hynews@mt.co.kr, 김승한 기자 winone@mt.co.kr_x000D_\\n_x000D_\\n\\ntextlinktopstart\\n\\n\\n\\n\\n\\n\\n\\n\\ntextlinktopend\\npowerIntstart\\n'"
      ]
     },
     "execution_count": 7,
     "metadata": {},
     "output_type": "execute_result"
    }
   ],
   "source": [
    "news_copy['PARSED CONTENT'].iloc[0]  # 방법1로 태그 제거된 결과를 확인한기 위한 예시"
   ]
  },
  {
   "cell_type": "markdown",
   "id": "c3558615",
   "metadata": {},
   "source": [
    "## 방법2(a태그 텍스트 제거 + 태그 제거 )로 태그 제거 "
   ]
  },
  {
   "cell_type": "code",
   "execution_count": 8,
   "id": "205ba958",
   "metadata": {
    "scrolled": true
   },
   "outputs": [],
   "source": [
    "# 방법2로 태그 제거할 언론사 설정\n",
    "comp2 = ['로이터(AI뉴스)', '인베스트조선', '인포스탁', '연합뉴스', '뉴시스',\n",
    "       'CEO 스코어데일리', '헤럴드경제', '뉴 프라임경제', '뉴스웨이', 'IR큐더스', '매일경제',\n",
    "       '연합인포해외', '한경WOW해외', 'SCMP(AI뉴스)', 'CNBC(AI뉴스)', '아시아경제', '컨슈머타임스',\n",
    "       'eDaily', '글로벌이코노믹', '데이터투자', '조선경제',  '머니투데이방송', '이투데이']\n",
    "\n",
    "# 태그 제거 \n",
    "\n",
    "for i, row in news_copy.iterrows():\n",
    "    if row['WRITER'] in comp2:\n",
    "        html_content = row['CONTENT']\n",
    "        soup = BeautifulSoup(html_content, 'html.parser')\n",
    "\n",
    "        for a_tag in soup.find_all('a'):\n",
    "            a_tag.decompose()\n",
    "\n",
    "        parsed_text = soup.get_text()\n",
    "        news_copy.at[i, 'PARSED CONTENT'] = parsed_text"
   ]
  },
  {
   "cell_type": "code",
   "execution_count": 9,
   "id": "17dfd01a",
   "metadata": {
    "scrolled": true
   },
   "outputs": [
    {
     "data": {
      "text/plain": [
       "\"제목 : 에스엠(041510) 소폭 상승세 +3.88% 기업개요 음악 전문 종합엔터테인먼트 업체. 강타, BoA, 동방신기, 슈퍼주니어, 소녀시대, 샤이니, EXO, Red Velvet(레드벨벳), NCT, SuperM, 에스파(aespa) 등의 소속 가수를 보유. 주요사업으로 음반 제작, 퍼블리싱, 공연 기획 및 제작 등의 사업 등. 영상 콘텐츠 제작 및 매니지먼트, 여행업 등을 영위하는 코스닥 상장사 SM C&C, 키이스트, 에스엠라이프디자인그룹 등을 계열사로 보유.최대주주는 카카오 외(40.2%), 주요주주는 국민연금공단(8.96%),  Update : 2023.03.29        개인/외국인/기관 일별 순매매동향(수량기준, 전일까지 5거래일)일자종가(등락률)거래량개인외국인기관계기타04-21100,500 ( -2.43 % )269,352+19,097-25,523+5,861+56504-20103,000 ( -1.44 % )318,058-34,884+29,180+1,627+4,07704-19104,500 ( +1.75 % )314,819-9,035-23,026+30,115+1,94604-18102,700 ( -2.00 % )564,128+101,957-5,513-100,548+4,10404-17104,800 ( -0.66 % )273,654+7,789-44,941+34,200+2,952 공매도 정보(수량 기준, 전일까지 5거래일)일자공매도 거래량업틱룰 적용업틱룰 예외잔고수량매매비중04-219,2314,8174,414-3.43%04-2015,9875,21010,777-5.03%04-1911,6707,3704,300100,1523.71%04-1816,0703,13512,935114,7472.85%04-179,8791,4048,475133,8873.61%* 업틱룰예외는 해지거래, 차익거래 등 업틱룰의 적용이 면제된 거래를 의미.* 공매도잔고는 보고의무에 따라 당일 기준으로 2일전 내역까지 확인가능.* 매매비중 = 공매도 거래량 / 총 거래량* 출처 : KRX 정보데이터시스템 종목히스토리 ▶ 종목이슈 ☞ 2023-03-27 공개매수 종료에  급락 ☞ 2023-03-23 공개매수 참여 시한 경과 속 하락 ☞ 2023-03-14 공개 매수 이슈 마무리 및 SM 3.0 하반기 본격화 기대감 등에 소폭 상승 ☞ 2023-03-13 경영권 인수 경쟁 종료 등에 급락 ☞ 2023-03-07 카카오, 에스엠 주식 주당 15만원 공개매수 결정에 급등 ☞ 2023-03-07 급등 - 카카오, 동사 주식 주당 15만원 공개매수 결정에 급등 ☞ 2023-02-24 카카오와의 불공정 사업협력 계약 논란 속 하락  ▶ 종목공시 ☞ 2023-03-28 최대주주가 주식회사 카카오 외 4인으로 변경 ☞ 2023-03-24 이수만이 제기한 검사인 선임 소송 인용 결정 ☞ 2023-03-06 주식회사 카카오 대상 1,119.30억원 규모 제 3자배정 유상증자 및 1,052.22억원 규모 전환사채 발행에 대한 계약 해제 ☞ 2023-03-03 이수만이 제기한 신주 및 전환사채 발행금지가처분 소송 인용 결정 ☞ 2023-02-27 635억원 규모 자사주 취득 신탁계약 체결 결정(기간:2023-03-13~2024-03-12, 하나증권(Hana Securities Co., Ltd.))   이슈&테마 스케줄 2023-05-01 르세라핌, 컴백 2023-05-02 하이브 실적발표 2023-05-10 美) 디즈니 실적발표(현지시간) 2023-05-15 JYP Ent. 실적발표 2023-05-31 트와이스, 일본 새 싱글 발매 2023-06-29 메타버스 컨퍼런스 '메타콘(METACON)' 개최 2023-07-14 에스엠, 알짜 자회사 기습 매각 보도에 대한 조회공시 답변 관련 재공시 기한   관련테마 ▶ 음원/음반   ▶ 엔터테인먼트   ▶ 네옴시티     ※ 테마와 관련된 상세한 설명과 자료는 증권사 HTS나 인포스탁 홈페이지에서 확인하시길 바랍니다.   증권사 투자의견  평균목표가 : 129,333 일자증권사투자의견목표주가이전 투자의견이전 목표주가2023-04-24메리츠BUY135,000BUY125,0002023-04-24NH투자BUY130,000BUY105,0002023-04-19KBBUY130,000BUY100,0002023-04-17한화투자BUY135,000Hold135,0002023-03-14하이투자BUY140,000Hold125,0002023-03-14하나증권BUY145,000BUY130,0002023-03-13교보보유132,000매수132,0002023-02-22신한투자증권매수135,000매수100,0002023-02-21대신BUY150,000BUY86,0002023-02-21유진투자BUY125,000BUY100,0002023-02-21현대차MARKETPERFORM120,000BUY93,0002023-02-13키움Outperform127,000BUY105,0002023-02-09이베스트투자Buy130,000Buy90,0002023-02-08DB금융투자BUY120,000BUY98,0002023-02-06SK매수120,000매수94,0002023-02-06삼성BUY124,000BUY104,0002023-02-06다올투자BUY120,000BUY102,0002022-12-08한국투자매수110,000매수100,000Copyright ⓒ True&Live 증시뉴스 점유율1위, 인포스탁() \""
      ]
     },
     "execution_count": 9,
     "metadata": {},
     "output_type": "execute_result"
    }
   ],
   "source": [
    "news_copy['PARSED CONTENT'].iloc[10000]  # 방법2로 태그 제거된 결과를 확인한기 위한 예시"
   ]
  },
  {
   "cell_type": "markdown",
   "id": "a2d5462b",
   "metadata": {},
   "source": [
    "- 파싱전 기사본문인 CONTENT열을 제외시키고 파싱후 기사본문인 PARSED CONTENT 변수를 포함하여 news_parsed 데이터프레임을 생성한다"
   ]
  },
  {
   "cell_type": "code",
   "execution_count": 10,
   "id": "5548fb76",
   "metadata": {},
   "outputs": [
    {
     "data": {
      "text/html": [
       "<div>\n",
       "<style scoped>\n",
       "    .dataframe tbody tr th:only-of-type {\n",
       "        vertical-align: middle;\n",
       "    }\n",
       "\n",
       "    .dataframe tbody tr th {\n",
       "        vertical-align: top;\n",
       "    }\n",
       "\n",
       "    .dataframe thead th {\n",
       "        text-align: right;\n",
       "    }\n",
       "</style>\n",
       "<table border=\"1\" class=\"dataframe\">\n",
       "  <thead>\n",
       "    <tr style=\"text-align: right;\">\n",
       "      <th></th>\n",
       "      <th>NEWS_YM</th>\n",
       "      <th>DATE_TIME</th>\n",
       "      <th>WRITER</th>\n",
       "      <th>SUBCATEGORY</th>\n",
       "      <th>TITLE</th>\n",
       "      <th>IMPORTANCE</th>\n",
       "      <th>ITEM_NAME</th>\n",
       "      <th>TAG_LIST</th>\n",
       "      <th>PARSED CONTENT</th>\n",
       "    </tr>\n",
       "  </thead>\n",
       "  <tbody>\n",
       "    <tr>\n",
       "      <th>0</th>\n",
       "      <td>202301</td>\n",
       "      <td>20230102_135224</td>\n",
       "      <td>머니투데이</td>\n",
       "      <td>기술</td>\n",
       "      <td>\"'통신→디지털' 혁신을 성과로\"…SKT·KT·LGU+ 신년 화두는</td>\n",
       "      <td>53.75</td>\n",
       "      <td>SK텔레콤|KT|LG유플러스</td>\n",
       "      <td>AI| 디지털| 통신| 미디어| 글로벌| 혁신| 인터넷| 플랫폼</td>\n",
       "      <td>[머니투데이 변휘 기자, 김승한 기자] \\nSK텔레콤·KT·LG유플러스 등 통신3사...</td>\n",
       "    </tr>\n",
       "    <tr>\n",
       "      <th>1</th>\n",
       "      <td>202301</td>\n",
       "      <td>20230106_131618</td>\n",
       "      <td>머니투데이</td>\n",
       "      <td>경제</td>\n",
       "      <td>구찌 티셔츠에 한글 로고, 가방엔 JEJU...\"한국 독점 상품\"</td>\n",
       "      <td>66.21</td>\n",
       "      <td>NaN</td>\n",
       "      <td>독점| 명품| 소비| 제주| 가방</td>\n",
       "      <td>[머니투데이 정인지 기자] \\n글로벌 명품 브랜드들이 한국 소비자들 타깃으로 하는 ...</td>\n",
       "    </tr>\n",
       "    <tr>\n",
       "      <th>2</th>\n",
       "      <td>202301</td>\n",
       "      <td>20230111_120209</td>\n",
       "      <td>머니투데이</td>\n",
       "      <td>경제</td>\n",
       "      <td>YG 트레저, 모바일 게임 '뿌까 퍼즐 어드벤처' 컬래버레이션</td>\n",
       "      <td>46.75</td>\n",
       "      <td>와이지엔터테인먼트</td>\n",
       "      <td>모바일| 게임| 캐릭터</td>\n",
       "      <td>[머니투데이 김건우 기자] \\n_x000D_\\n _x000D_\\n와이지엔터테인먼트는...</td>\n",
       "    </tr>\n",
       "    <tr>\n",
       "      <th>3</th>\n",
       "      <td>202301</td>\n",
       "      <td>20230117_132642</td>\n",
       "      <td>머니투데이</td>\n",
       "      <td>사회</td>\n",
       "      <td>현대오토에버, 1분기 신입·경력 채용 시작…\"MZ가 면접관으로\"</td>\n",
       "      <td>60.51</td>\n",
       "      <td>NaN</td>\n",
       "      <td>소프트웨어| 모빌리티| 문화| 교육| 자동차| 디지털</td>\n",
       "      <td>[머니투데이 정한결 기자] \\n현대오토에버는 2023년 1분기 신입·경력 사원 채용...</td>\n",
       "    </tr>\n",
       "    <tr>\n",
       "      <th>4</th>\n",
       "      <td>202301</td>\n",
       "      <td>20230102_084347</td>\n",
       "      <td>eDaily</td>\n",
       "      <td>사회</td>\n",
       "      <td>BTS 자리 넘본다…유망주는 스트레이 키즈-KB</td>\n",
       "      <td>67.91</td>\n",
       "      <td>NaN</td>\n",
       "      <td>BTS| 판매량| NCT| 넥스트| 엔하이픈| 블랙핑크| 에스파| 아이브</td>\n",
       "      <td>- KB증권 “군 입대 BTS에 도전 이어질 것”_x000D_\\n- “스트레이 키즈...</td>\n",
       "    </tr>\n",
       "  </tbody>\n",
       "</table>\n",
       "</div>"
      ],
      "text/plain": [
       "   NEWS_YM        DATE_TIME  WRITER SUBCATEGORY  \\\n",
       "0   202301  20230102_135224   머니투데이          기술   \n",
       "1   202301  20230106_131618   머니투데이          경제   \n",
       "2   202301  20230111_120209   머니투데이          경제   \n",
       "3   202301  20230117_132642   머니투데이          사회   \n",
       "4   202301  20230102_084347  eDaily          사회   \n",
       "\n",
       "                                   TITLE  IMPORTANCE        ITEM_NAME  \\\n",
       "0  \"'통신→디지털' 혁신을 성과로\"…SKT·KT·LGU+ 신년 화두는       53.75  SK텔레콤|KT|LG유플러스   \n",
       "1   구찌 티셔츠에 한글 로고, 가방엔 JEJU...\"한국 독점 상품\"       66.21              NaN   \n",
       "2     YG 트레저, 모바일 게임 '뿌까 퍼즐 어드벤처' 컬래버레이션       46.75        와이지엔터테인먼트   \n",
       "3    현대오토에버, 1분기 신입·경력 채용 시작…\"MZ가 면접관으로\"       60.51              NaN   \n",
       "4             BTS 자리 넘본다…유망주는 스트레이 키즈-KB       67.91              NaN   \n",
       "\n",
       "                                   TAG_LIST  \\\n",
       "0       AI| 디지털| 통신| 미디어| 글로벌| 혁신| 인터넷| 플랫폼   \n",
       "1                        독점| 명품| 소비| 제주| 가방   \n",
       "2                              모바일| 게임| 캐릭터   \n",
       "3             소프트웨어| 모빌리티| 문화| 교육| 자동차| 디지털   \n",
       "4  BTS| 판매량| NCT| 넥스트| 엔하이픈| 블랙핑크| 에스파| 아이브   \n",
       "\n",
       "                                      PARSED CONTENT  \n",
       "0  [머니투데이 변휘 기자, 김승한 기자] \\nSK텔레콤·KT·LG유플러스 등 통신3사...  \n",
       "1  [머니투데이 정인지 기자] \\n글로벌 명품 브랜드들이 한국 소비자들 타깃으로 하는 ...  \n",
       "2  [머니투데이 김건우 기자] \\n_x000D_\\n _x000D_\\n와이지엔터테인먼트는...  \n",
       "3  [머니투데이 정한결 기자] \\n현대오토에버는 2023년 1분기 신입·경력 사원 채용...  \n",
       "4  - KB증권 “군 입대 BTS에 도전 이어질 것”_x000D_\\n- “스트레이 키즈...  "
      ]
     },
     "execution_count": 10,
     "metadata": {},
     "output_type": "execute_result"
    }
   ],
   "source": [
    "# CONTENT열을 제외하고 news_parsed 데이터프레임에 저장\n",
    "columns_to_keep = ['NEWS_YM', 'DATE_TIME', 'WRITER', 'SUBCATEGORY', 'TITLE', \n",
    "                   'IMPORTANCE', 'ITEM_NAME', 'TAG_LIST', 'PARSED CONTENT'] # 포함할 변수 목록\n",
    "news_parsed = news_copy[columns_to_keep].copy()  # 데이터프레임 생성\n",
    "news_parsed.head() # 데이터프레임 확인"
   ]
  },
  {
   "cell_type": "code",
   "execution_count": 11,
   "id": "ec1a97d6",
   "metadata": {
    "scrolled": true
   },
   "outputs": [
    {
     "name": "stdout",
     "output_type": "stream",
     "text": [
      "<class 'pandas.core.frame.DataFrame'>\n",
      "Int64Index: 16176 entries, 0 to 16176\n",
      "Data columns (total 9 columns):\n",
      " #   Column          Non-Null Count  Dtype  \n",
      "---  ------          --------------  -----  \n",
      " 0   NEWS_YM         16176 non-null  int64  \n",
      " 1   DATE_TIME       16176 non-null  object \n",
      " 2   WRITER          16176 non-null  object \n",
      " 3   SUBCATEGORY     16176 non-null  object \n",
      " 4   TITLE           16176 non-null  object \n",
      " 5   IMPORTANCE      16176 non-null  float64\n",
      " 6   ITEM_NAME       6889 non-null   object \n",
      " 7   TAG_LIST        11190 non-null  object \n",
      " 8   PARSED CONTENT  16176 non-null  object \n",
      "dtypes: float64(1), int64(1), object(7)\n",
      "memory usage: 1.7+ MB\n"
     ]
    }
   ],
   "source": [
    "# news_parsed 기본정보 확인 \n",
    "news_parsed.info()"
   ]
  },
  {
   "cell_type": "markdown",
   "id": "4122d065",
   "metadata": {},
   "source": [
    "# 2차 키워드 필터링"
   ]
  },
  {
   "cell_type": "markdown",
   "id": "37be5296",
   "metadata": {},
   "source": [
    "- 태그 제거하기 전 K-POP 엔터테인먼트 관련 키워드로 1차 필터링을 진행했었음\n",
    "    - News_Filtered_01.ipynb ~ News_Filtered_06.ipynb 파일에서 진행함\n",
    "    - 엔터주가 예측과 무관한 기사를 제거함으로써 데이터 크기를 줄이기 위함(전처리 속도 높이기)\n",
    "    - CONTENT(파싱 전 기사본문)변수에 엔터주가 예측에 필요한 키워드가 2번 이상 포함되어있지 않으면 제거하는 방식\n",
    "- HTML의 태그가 제거된 뉴스 본문에 대하여 2차 필터링을 진행 \n",
    "    - 'PARSED CONTENT'변수에 키워드를 3개 이상 포함하는 뉴스만 남도록 함"
   ]
  },
  {
   "cell_type": "code",
   "execution_count": 12,
   "id": "561f3117",
   "metadata": {},
   "outputs": [],
   "source": [
    "keywords = [\n",
    "    '방시혁','하이브','에스엠','이수만','와이지','양현석','제이와이피','박진영',\n",
    "    \n",
    "    '뉴진스','방탄소년단','르세라핌',\n",
    "    '세븐틴','투모로우바이투게더',\n",
    "    '프로미스나인','나나','이현','미드낫','엔하이픈',\n",
    "    '백호','강동호','황민현','예하나','성연','지코',\n",
    "    '앤팀','히라테 유리나','보이넥스트도어',\n",
    "    \n",
    "    '블랙핑크','트레저','악뮤','악동뮤지션',\n",
    "    '위너','지디','권지용',\n",
    "    '젝스키스',\n",
    "    \n",
    "    '트와이스','엔믹스', '데이식스',\n",
    "    'itzy','채령','류진','유나','예지'\n",
    "    \n",
    "    '스트레이키즈','투피엠','보이스토리',\n",
    "    '야오천','니지유','엑스디너리 히어로즈',\n",
    "    'boa',\n",
    "    '에스파',\n",
    "    '엑소',\n",
    "    \n",
    "    '샤이니','엔시티','엔시티 127','엔시티 드림',    \n",
    "    '동방신기','슈퍼주니어','소녀시대','엑소'\n",
    "    '레드벨벳','웨이션브이','슈퍼엠',\n",
    "    '갓더비트','갓 더 비트','라이즈'\n",
    "\n",
    "]\n",
    "\n",
    "# 특정 단어 목록을 정규식 패턴으로 변환\n",
    "keywords_pattern = '|'.join(keywords)\n",
    "\n",
    "# 'PARSED CONTENT' 열에서 정규식 패턴을 검색하여 추출\n",
    "filtered_df = news_parsed[news_parsed['PARSED CONTENT'].str.contains(keywords_pattern, flags=re.IGNORECASE, regex=True)]\n",
    "\n",
    "# 특정 키워드가 3번 이상 포함된 행만 남기기\n",
    "filtered_df = filtered_df[filtered_df['PARSED CONTENT'].apply(lambda text: sum(1 for keyword in keywords if keyword.lower() in text.lower()) >= 3)]\n"
   ]
  },
  {
   "cell_type": "code",
   "execution_count": 13,
   "id": "04262195",
   "metadata": {},
   "outputs": [
    {
     "name": "stdout",
     "output_type": "stream",
     "text": [
      "<class 'pandas.core.frame.DataFrame'>\n",
      "Int64Index: 3577 entries, 4 to 16174\n",
      "Data columns (total 9 columns):\n",
      " #   Column          Non-Null Count  Dtype  \n",
      "---  ------          --------------  -----  \n",
      " 0   NEWS_YM         3577 non-null   int64  \n",
      " 1   DATE_TIME       3577 non-null   object \n",
      " 2   WRITER          3577 non-null   object \n",
      " 3   SUBCATEGORY     3577 non-null   object \n",
      " 4   TITLE           3577 non-null   object \n",
      " 5   IMPORTANCE      3577 non-null   float64\n",
      " 6   ITEM_NAME       1913 non-null   object \n",
      " 7   TAG_LIST        2685 non-null   object \n",
      " 8   PARSED CONTENT  3577 non-null   object \n",
      "dtypes: float64(1), int64(1), object(7)\n",
      "memory usage: 279.5+ KB\n"
     ]
    }
   ],
   "source": [
    "filtered_df.info() # 2차 필터링 결과 확인"
   ]
  },
  {
   "cell_type": "markdown",
   "id": "9aa2c354",
   "metadata": {},
   "source": [
    "# 언론사별로 전처리"
   ]
  },
  {
   "cell_type": "markdown",
   "id": "46a0d285",
   "metadata": {},
   "source": [
    "- 태그 제거만으로도 어느정도 깔끔한 뉴스 기사 본문을 추출할 수 있음\n",
    "- 하지만 본 조는 데이터의 퀄리티를 높이기 위해 기사본문에 포함된 불필요한 내용을 제거하고자 함 \n",
    "    - ex)_x000D_, \\n, \\r\n",
    "- 이러한 불필요한 부분은 언론사별로 규칙성을 가지고 있으므로, 정규표현식을 사용해 언론사별로 따로 처리하고자 함"
   ]
  },
  {
   "cell_type": "markdown",
   "id": "95b4457e",
   "metadata": {},
   "source": [
    "## 로이터(AI뉴스) → 제거 \n",
    "- 해외 언론사\n",
    "- 엔터주 주가예측에 도움되는 뉴스가 없음을 확인함\n",
    "- 해당 언론사의 기사 모두 제거"
   ]
  },
  {
   "cell_type": "code",
   "execution_count": 14,
   "id": "09e232ef",
   "metadata": {},
   "outputs": [],
   "source": [
    "filtered_df = filtered_df[filtered_df['WRITER'] != '로이터(AI뉴스)']"
   ]
  },
  {
   "cell_type": "markdown",
   "id": "e85794cd",
   "metadata": {},
   "source": [
    "## SCMP(AI뉴스)  → 제거\n",
    "- 로이터(AI뉴스)와 마찬가지\n",
    "- 해외 언론사\n",
    "- 엔터주 주가예측에 도움되는 뉴스가 없음을 확인함\n",
    "- 해당 언론사의 기사 모두 제거"
   ]
  },
  {
   "cell_type": "code",
   "execution_count": 15,
   "id": "93209e51",
   "metadata": {},
   "outputs": [],
   "source": [
    "filtered_df = filtered_df[filtered_df['WRITER'] != 'SCMP(AI뉴스)']"
   ]
  },
  {
   "cell_type": "markdown",
   "id": "6f536197",
   "metadata": {},
   "source": [
    "## 머니투데이"
   ]
  },
  {
   "cell_type": "code",
   "execution_count": 16,
   "id": "551968c8",
   "metadata": {
    "scrolled": true
   },
   "outputs": [
    {
     "data": {
      "text/plain": [
       "'[머니투데이 박수현 기자] \\n키움증권이 15일 디어유에 대해 투자의견 \\'매수\\'를 유지하고 목표주가를 기존 6만8000원에서 6만5000원으로 하향 조정했다. 하반기로 갈수록 실적 개선 폭이 확대될 전망이라고 분석하면서도 타깃 주가수익비율(PER) 35배를 적용해 목표주가를 낮췄다._x000D_\\n_x000D_\\n이남수 키움증권 연구원은 \"디어유의 1분기 매출액은 전년 동기 대비 40% 오른 164억원, 영업이익은 27% 오른 57억원으로 시장 기대치에 부합했다\"며 \"1분기 평균 구독 수는 전년 동기 대비 58% 상승한 205만명을 기록해 분기 기준 가장 큰 폭의 구독 수 변동이 발생했다\"고 밝혔다._x000D_\\n_x000D_\\n이어 \"에스엠 NCT, 에스파와 JYP의 스트레이키즈, 트와이스의 구독 수 증가가 지속됐다\"며 \"스타쉽 아이브, 몬스타엑스, IST 더보이즈 등도 1분기 런칭을 마쳤고 큐브 여자아이들, 비투비 등은 지난달 버블을 시작해 K-POP 주요 아티스트의 공격적 확장은 거의 마무리 단계\"라고 했다._x000D_\\n_x000D_\\n이 연구원은 \"에스엠 최대 주주 변경으로 카카오-에스엠-디어유 간의 시너지 강화를 기대한다\"며 \"1분기 현재 버블의 해외 비중은 77%로 문화 콘텐츠 흡수력 및 확장성이 가장 강한 글로벌 MZ세대에 호응을 얻고 있다. 카카오 플랫폼의 글로벌 확장 시 선두에 설 수 있는 가장 강력한 무기\"라고 분석했다._x000D_\\n_x000D_\\n그러면서 \"수량(Q) 확장 모멘텀이 국내 K-POP 아티스트에서 해외 현지로 확대되고 있다\"며 \"에스엠과 JYP 아티스트의 컴백과 월드투어가 계속되기에 하반기 성장성도 매우 높다. 3분기는 버블 재팬 런칭으로 해외 공략이 본격화될 것이다. 이후에는 미국, 중국 등으로 추가 확장을 추진할 것으로 전망한다\"고 봤다._x000D_\\n_x000D_\\n\\n박수현 기자 literature1028@mt.co.kr_x000D_\\n_x000D_\\n\\ntextlinktopstart\\n\\n\\n\\n\\n\\n\\n\\n\\ntextlinktopend\\npowerIntstart\\n'"
      ]
     },
     "execution_count": 16,
     "metadata": {},
     "output_type": "execute_result"
    }
   ],
   "source": [
    "# 예시(전처리 전)\n",
    "writer = '머니투데이'  # 언론사 설정 \n",
    "filtered_df[filtered_df['WRITER']== writer][\"PARSED CONTENT\"].iloc[189]  # 확인\n"
   ]
  },
  {
   "cell_type": "code",
   "execution_count": 17,
   "id": "3f18830f",
   "metadata": {},
   "outputs": [],
   "source": [
    "# 불필요한 내용 삭제 1\n",
    "filtered_df.loc[filtered_df['WRITER'] == writer, 'PARSED CONTENT'] = \\\n",
    "    filtered_df.loc[filtered_df['WRITER'] == writer, 'PARSED CONTENT'].str.replace(\"@mt.co.kr_x000D_\\n_x000D_\\n\\ntextlinktopstart\\n\\n\\n\\n\\n\\n\\n\\n\\ntextlinktopend\\npowerIntstart\\n\", \"\", regex=False)\n",
    "\n"
   ]
  },
  {
   "cell_type": "code",
   "execution_count": 18,
   "id": "d677e299",
   "metadata": {},
   "outputs": [],
   "source": [
    "# 불필요한 내용 삭제 2\n",
    "filtered_df.loc[filtered_df['WRITER'] == writer, 'PARSED CONTENT'] = \\\n",
    "    filtered_df.loc[filtered_df['WRITER'] == writer, 'PARSED CONTENT'].str.replace(\"※ 우울감 등 말하기 어려운 고민이 있거나 주변에 이런 어려움을 겪는 가족·지인이 있을 경우 자살예방 상담전화 ☎1393, 정신건강 상담전화 ☎1577-0199, 희망의 전화 ☎129, 생명의 전화 ☎1588-9191, 청소년 전화 ☎1388, 청소년 모바일 상담 '다 들어줄 개' 앱, 카카오톡 등에서 24시간 전문가의 상담을 받을 수 있습니다.\", \"\", regex=False)\n"
   ]
  },
  {
   "cell_type": "code",
   "execution_count": 19,
   "id": "4674dbf0",
   "metadata": {},
   "outputs": [],
   "source": [
    "# 불필요한 내용 삭제 3\n",
    "# 기자] 이전 내용 삭제\n",
    "pattern = r'.*기자\\]'\n",
    "filtered_df.loc[filtered_df['WRITER'] == writer, 'PARSED CONTENT'] = \\\n",
    "    filtered_df.loc[filtered_df['WRITER'] == writer, 'PARSED CONTENT'].apply(lambda text: re.sub(pattern, '', text))\n"
   ]
  },
  {
   "cell_type": "code",
   "execution_count": 20,
   "id": "3eedbec8",
   "metadata": {
    "scrolled": true
   },
   "outputs": [
    {
     "data": {
      "text/plain": [
       "' \\n키움증권이 15일 디어유에 대해 투자의견 \\'매수\\'를 유지하고 목표주가를 기존 6만8000원에서 6만5000원으로 하향 조정했다. 하반기로 갈수록 실적 개선 폭이 확대될 전망이라고 분석하면서도 타깃 주가수익비율(PER) 35배를 적용해 목표주가를 낮췄다._x000D_\\n_x000D_\\n이남수 키움증권 연구원은 \"디어유의 1분기 매출액은 전년 동기 대비 40% 오른 164억원, 영업이익은 27% 오른 57억원으로 시장 기대치에 부합했다\"며 \"1분기 평균 구독 수는 전년 동기 대비 58% 상승한 205만명을 기록해 분기 기준 가장 큰 폭의 구독 수 변동이 발생했다\"고 밝혔다._x000D_\\n_x000D_\\n이어 \"에스엠 NCT, 에스파와 JYP의 스트레이키즈, 트와이스의 구독 수 증가가 지속됐다\"며 \"스타쉽 아이브, 몬스타엑스, IST 더보이즈 등도 1분기 런칭을 마쳤고 큐브 여자아이들, 비투비 등은 지난달 버블을 시작해 K-POP 주요 아티스트의 공격적 확장은 거의 마무리 단계\"라고 했다._x000D_\\n_x000D_\\n이 연구원은 \"에스엠 최대 주주 변경으로 카카오-에스엠-디어유 간의 시너지 강화를 기대한다\"며 \"1분기 현재 버블의 해외 비중은 77%로 문화 콘텐츠 흡수력 및 확장성이 가장 강한 글로벌 MZ세대에 호응을 얻고 있다. 카카오 플랫폼의 글로벌 확장 시 선두에 설 수 있는 가장 강력한 무기\"라고 분석했다._x000D_\\n_x000D_\\n그러면서 \"수량(Q) 확장 모멘텀이 국내 K-POP 아티스트에서 해외 현지로 확대되고 있다\"며 \"에스엠과 JYP 아티스트의 컴백과 월드투어가 계속되기에 하반기 성장성도 매우 높다. 3분기는 버블 재팬 런칭으로 해외 공략이 본격화될 것이다. 이후에는 미국, 중국 등으로 추가 확장을 추진할 것으로 전망한다\"고 봤다._x000D_\\n_x000D_\\n\\n박수현 기자 literature1028'"
      ]
     },
     "execution_count": 20,
     "metadata": {},
     "output_type": "execute_result"
    }
   ],
   "source": [
    "# 예시(전처리 후)\n",
    "filtered_df[filtered_df['WRITER']== writer][\"PARSED CONTENT\"].iloc[189]"
   ]
  },
  {
   "cell_type": "markdown",
   "id": "168fffe7",
   "metadata": {},
   "source": [
    "## 인베스트 조선"
   ]
  },
  {
   "cell_type": "code",
   "execution_count": 21,
   "id": "c0c85c98",
   "metadata": {},
   "outputs": [
    {
     "data": {
      "text/plain": [
       "'하이브의 퇴각으로 SM엔터테인먼트(이하 SM) 인수전이 정리된 가운데 카카오와 하이브의 \\'동맹\\'이 어느 수준으로 이어질지 주목된다. SM의 주인이 누가 되느냐 보다는 \\'팬쉽 플랫폼\\'의 주도권이 어디로 가느냐가 이번 경영권 분쟁의 핵심이었던 만큼 양쪽의 실익 계산이 치열하게 이어질 전망이다. 하이브와 카카오 사이에서 입지가 \\'붕 뜬\\' 이수만 전 SM 총괄 프로듀서가 개인회사 지분 처분, 주주제안 철회 등 문제를 어떻게 정리할지도 관심사다.15일 열린 관훈포럼에서 방시혁 하이브 의장은 \"SM 인수전을 승패로 보지 않는다”며 “우리 미래에 가장 중요한 축인 플랫폼에 관해 카카오와 합의를 끌어내 개인적으로는 아주 만족하고 있다\"고 말했다. 구체적 협력 방안에 관한 질문에는 \"아직은 말씀드릴 수 있는 상황이 아니고 이른 시일 안에 실질적 협력이 되도록 준비하고 있다\"고 답했다.양측의 ‘플랫폼 협업’ 방안은 팬쉽 플랫폼 문제가 핵심일 것으로 관측된다. 애초부터 ‘SM 회사’ 자체는 어느 기업에 인수되어도 크게 달라질 게 없고, 팬쉽 플랫폼을 누가 이끌게 되느냐는 것이 핵심이라는 평가가 있었다.하이브가 SM을 인수했다고 가정하면 가장 크게 달라질 것은 팬쉽 플랫폼 구도다. 현재 국내 팬쉽 플랫폼은 하이브의 위버스, SM의 디어유(버블) 양강 체제다. NC소프트의 ‘유니버스’는 올해 초 디어유가 IP 계약권 일체를 인수하며 문을 닫았다.엄밀히는 위버스와 버블은 서비스가 완전히 겹치지 않는다. 위버스는 아티스트별 ‘팬덤 활동’에 초점이 맞춰진,반면 버블은 아티스트와의 ‘프라이빗 메시지’ 서비스가 핵심이다. 위버스와 버블에 동시에 입점한 아티스트들도 다수라는 점을 고려하면 이 둘을 완전한 경쟁구도로 보긴 어렵다.다만 하이브가 최근 위버스에서 유료 아티스트 메시지 서비스를 선보일 움직임을 보이며 경쟁 압박이 커졌다. 하이브가 SM을 인수하면 위버스에 SM 아티스트들이 버블에 하이브 아티스트들이 입점하는 방식의 협력이 예상됐다. 상대적으로 위버스에 역량을 집중할 것이란 관측도 나온 바 있다.카카오가 SM을 인수하게 됨에 따라 외형적으로 ‘버블(카카오) vs 위버스(하이브·네이버)’ 경쟁 구도가 불가피해졌다. IP(아티스트)는 한정돼 있으니 양쪽이 욕심을 내기 시작하면 ‘치킨게임’으로    번질 수 있다는 우려가 나온다.카카오와 하이브가 \\'플랫폼 협력\\'을 내건 만큼, 경쟁보다는 시너지에 초점을 맞출 것으로 보인다. 방시혁 하이브 의장이 강조하듯 \\'K팝의 위기\\'를 극복하기 위해선 \\'경쟁보다 뭉치기\\'를 해야한다는 의견도 많다.한 업계 관계자는 “SM과 카카오, 하이브 모두 플랫폼 협력에 대해서 구체적으로 정한 바는 없고 현재 상황을 정리 중인 분위기”라며 “최악의 경우는 현재와 크게 달라지지 않는 것이고 최소한은 SM 아티스트들의 위버스 입점 정도가 예상된다. 하이브도 ‘남는 것’이 있으니 발을 뺐을텐데, 카카오도 플랫폼 주도권을 넘겨줄 수는 없을 테니 어느 수준으로 협력을 할 것인지는 논의를 거쳐야 할 것”이라고 말했다.하이브와 카카오는 극적 합의를 이뤘지만, 이 사안의 ‘시작’인 이수만 전 SM 총괄 프로듀서는 카카오·SM 측과 풀어야 할 매듭이 남아 있다. 이 전 총괄 입장에선 주식을 넘겨 힘을 실어준 의미가 퇴색된 상황이다. 카카오가 부상한 마당에 하이브에 넘기기로 했던 개인 회사 지분은 어떻게 처리할 것인지도 관심사다.이수만 전 총괄은 지난달 법률대리인을 통해 이번달 정기주주총회 제안서를 회사에 제출했다. 올해 주식을 산 하이브는 실질 의결권이 없기 때문에 작년말 기준 주주인 이 전 총괄이 하이브와 조율된 안을 낸 것이다. 제안 사항은 지배구조 개선, 이사의 책임 강화, 주주 권익 제고를 위한 정관 변경 안건 및 이사회 구성의 다양성과 이사회의 전문성투명성 확보를 위한 이사 선임안건 등이다.하이브가 발을 빼면서 이번 주총에서 ‘표대결’은 나타나지 않을 전망이다. 하이브 측에서 추천한 이사진들은 이번 주총에서 모두 사퇴하기로 했다. 다만 이수만 전 총괄은 현재까지는 공식적으로 주주제안을 철회하지 않고 있다. 이 전 총괄은 하이브와 카카오의 협상이 타결된 후 방시혁 의장에게 “이길 수 있었는데 왜 그만하나”라는 반응을 보이기도 했다.하이브는 이수만 전 총괄의 SM 지분을 인수할 때 자회사인 SM브랜드마케팅과 드림메이커의 이 전 총괄 지분도 추후 인수하려고 했다. SM 경영권을 카카오에 내주기로 하면서 해당 회사들의 지분 향방도 모호해졌다. 카카오로선 SM이 SM브랜드마케팅과 드림메이커의 지분을 100% 확보해야 갈등의 소지를 없앨 수 있다. 이 전 총괄이 카카오 측에 지분을 넘길 것인지가 주요 관심사로 떠올랐다.한 IB업계 관계자는    “하이브와 카카오는 인수전 종결 관련해서 합의를 잘 했지만 현재로선 하이브가 이수만 전 총괄의 결정에 영향을 미칠 수 있는 상황은 아니다\"며 \"SM 주인으로 부상한 카카오가 이 전 총괄과 추가 협상에 나서게 될 것으로 본다\"고 말했다.이상은 기자 '"
      ]
     },
     "execution_count": 21,
     "metadata": {},
     "output_type": "execute_result"
    }
   ],
   "source": [
    "# 예시(전처리 전)\n",
    "writer = '인베스트조선'  # 언론사 설정 \n",
    "filtered_df[filtered_df['WRITER']== writer][\"PARSED CONTENT\"].iloc[9]  # 확인"
   ]
  },
  {
   "cell_type": "code",
   "execution_count": 22,
   "id": "8c1cdec3",
   "metadata": {},
   "outputs": [],
   "source": [
    "# 불필요한 내용 삭제 1\n",
    "filtered_df.loc[filtered_df['WRITER'] == writer, 'PARSED CONTENT'] = \\\n",
    "    filtered_df.loc[filtered_df['WRITER'] == writer, 'PARSED CONTENT'].str.replace(\"인베스트조선\", \"\", regex=False)"
   ]
  },
  {
   "cell_type": "code",
   "execution_count": 23,
   "id": "6908c096",
   "metadata": {},
   "outputs": [
    {
     "data": {
      "text/plain": [
       "'하이브의 퇴각으로 SM엔터테인먼트(이하 SM) 인수전이 정리된 가운데 카카오와 하이브의 \\'동맹\\'이 어느 수준으로 이어질지 주목된다. SM의 주인이 누가 되느냐 보다는 \\'팬쉽 플랫폼\\'의 주도권이 어디로 가느냐가 이번 경영권 분쟁의 핵심이었던 만큼 양쪽의 실익 계산이 치열하게 이어질 전망이다. 하이브와 카카오 사이에서 입지가 \\'붕 뜬\\' 이수만 전 SM 총괄 프로듀서가 개인회사 지분 처분, 주주제안 철회 등 문제를 어떻게 정리할지도 관심사다.15일 열린 관훈포럼에서 방시혁 하이브 의장은 \"SM 인수전을 승패로 보지 않는다”며 “우리 미래에 가장 중요한 축인 플랫폼에 관해 카카오와 합의를 끌어내 개인적으로는 아주 만족하고 있다\"고 말했다. 구체적 협력 방안에 관한 질문에는 \"아직은 말씀드릴 수 있는 상황이 아니고 이른 시일 안에 실질적 협력이 되도록 준비하고 있다\"고 답했다.양측의 ‘플랫폼 협업’ 방안은 팬쉽 플랫폼 문제가 핵심일 것으로 관측된다. 애초부터 ‘SM 회사’ 자체는 어느 기업에 인수되어도 크게 달라질 게 없고, 팬쉽 플랫폼을 누가 이끌게 되느냐는 것이 핵심이라는 평가가 있었다.하이브가 SM을 인수했다고 가정하면 가장 크게 달라질 것은 팬쉽 플랫폼 구도다. 현재 국내 팬쉽 플랫폼은 하이브의 위버스, SM의 디어유(버블) 양강 체제다. NC소프트의 ‘유니버스’는 올해 초 디어유가 IP 계약권 일체를 인수하며 문을 닫았다.엄밀히는 위버스와 버블은 서비스가 완전히 겹치지 않는다. 위버스는 아티스트별 ‘팬덤 활동’에 초점이 맞춰진,반면 버블은 아티스트와의 ‘프라이빗 메시지’ 서비스가 핵심이다. 위버스와 버블에 동시에 입점한 아티스트들도 다수라는 점을 고려하면 이 둘을 완전한 경쟁구도로 보긴 어렵다.다만 하이브가 최근 위버스에서 유료 아티스트 메시지 서비스를 선보일 움직임을 보이며 경쟁 압박이 커졌다. 하이브가 SM을 인수하면 위버스에 SM 아티스트들이 버블에 하이브 아티스트들이 입점하는 방식의 협력이 예상됐다. 상대적으로 위버스에 역량을 집중할 것이란 관측도 나온 바 있다.카카오가 SM을 인수하게 됨에 따라 외형적으로 ‘버블(카카오) vs 위버스(하이브·네이버)’ 경쟁 구도가 불가피해졌다. IP(아티스트)는 한정돼 있으니 양쪽이 욕심을 내기 시작하면 ‘치킨게임’으로    번질 수 있다는 우려가 나온다.카카오와 하이브가 \\'플랫폼 협력\\'을 내건 만큼, 경쟁보다는 시너지에 초점을 맞출 것으로 보인다. 방시혁 하이브 의장이 강조하듯 \\'K팝의 위기\\'를 극복하기 위해선 \\'경쟁보다 뭉치기\\'를 해야한다는 의견도 많다.한 업계 관계자는 “SM과 카카오, 하이브 모두 플랫폼 협력에 대해서 구체적으로 정한 바는 없고 현재 상황을 정리 중인 분위기”라며 “최악의 경우는 현재와 크게 달라지지 않는 것이고 최소한은 SM 아티스트들의 위버스 입점 정도가 예상된다. 하이브도 ‘남는 것’이 있으니 발을 뺐을텐데, 카카오도 플랫폼 주도권을 넘겨줄 수는 없을 테니 어느 수준으로 협력을 할 것인지는 논의를 거쳐야 할 것”이라고 말했다.하이브와 카카오는 극적 합의를 이뤘지만, 이 사안의 ‘시작’인 이수만 전 SM 총괄 프로듀서는 카카오·SM 측과 풀어야 할 매듭이 남아 있다. 이 전 총괄 입장에선 주식을 넘겨 힘을 실어준 의미가 퇴색된 상황이다. 카카오가 부상한 마당에 하이브에 넘기기로 했던 개인 회사 지분은 어떻게 처리할 것인지도 관심사다.이수만 전 총괄은 지난달 법률대리인을 통해 이번달 정기주주총회 제안서를 회사에 제출했다. 올해 주식을 산 하이브는 실질 의결권이 없기 때문에 작년말 기준 주주인 이 전 총괄이 하이브와 조율된 안을 낸 것이다. 제안 사항은 지배구조 개선, 이사의 책임 강화, 주주 권익 제고를 위한 정관 변경 안건 및 이사회 구성의 다양성과 이사회의 전문성투명성 확보를 위한 이사 선임안건 등이다.하이브가 발을 빼면서 이번 주총에서 ‘표대결’은 나타나지 않을 전망이다. 하이브 측에서 추천한 이사진들은 이번 주총에서 모두 사퇴하기로 했다. 다만 이수만 전 총괄은 현재까지는 공식적으로 주주제안을 철회하지 않고 있다. 이 전 총괄은 하이브와 카카오의 협상이 타결된 후 방시혁 의장에게 “이길 수 있었는데 왜 그만하나”라는 반응을 보이기도 했다.하이브는 이수만 전 총괄의 SM 지분을 인수할 때 자회사인 SM브랜드마케팅과 드림메이커의 이 전 총괄 지분도 추후 인수하려고 했다. SM 경영권을 카카오에 내주기로 하면서 해당 회사들의 지분 향방도 모호해졌다. 카카오로선 SM이 SM브랜드마케팅과 드림메이커의 지분을 100% 확보해야 갈등의 소지를 없앨 수 있다. 이 전 총괄이 카카오 측에 지분을 넘길 것인지가 주요 관심사로 떠올랐다.한 IB업계 관계자는    “하이브와 카카오는 인수전 종결 관련해서 합의를 잘 했지만 현재로선 하이브가 이수만 전 총괄의 결정에 영향을 미칠 수 있는 상황은 아니다\"며 \"SM 주인으로 부상한 카카오가 이 전 총괄과 추가 협상에 나서게 될 것으로 본다\"고 말했다.이상은 기자 '"
      ]
     },
     "execution_count": 23,
     "metadata": {},
     "output_type": "execute_result"
    }
   ],
   "source": [
    "# 예시(전처리 후)\n",
    "filtered_df[filtered_df['WRITER']== writer][\"PARSED CONTENT\"].iloc[9]"
   ]
  },
  {
   "cell_type": "markdown",
   "id": "c906e03a",
   "metadata": {},
   "source": [
    "## 인포스탁"
   ]
  },
  {
   "cell_type": "code",
   "execution_count": 24,
   "id": "bb8f4a11",
   "metadata": {
    "scrolled": true
   },
   "outputs": [
    {
     "data": {
      "text/plain": [
       "'제목 : 팬엔터테인먼트(068050) 소폭 상승세 +3.07% 기업개요 드라마, 교양/예능프로그램 등의 방송영상물제작 및 드라마OST 등의 음반제작을 주요사업으로 영위하는 업체. 주요작품으로 해를 품은 달, 최고의연인, 동백꽃 필 무렵, 두 번은 없다, 청춘 기록 등이 있음. 신규사업으로 영화제작을 진행하고 있으며, 시나리오 개발 및 웹툰, 소설 등 원작확보를 통해 자제제작 및 공동제작을 준비중.최대주주는 박영석(35.9%)  Update : 2022.12.09        개인/외국인/기관 일별 순매매동향(수량기준, 전일까지 5거래일)일자종가(등락률)거래량개인외국인기관계기타01-124,710 ( -1.46 % )248,326-6,973+3,805+1,803+1,36501-114,780 ( +1.59 % )376,418+47,110+38,006-88,449+3,33301-104,705 ( -5.52 % )903,298+141,923-153,348+19,741-8,31601-094,980 ( -0.99 % )464,110-110,652+64,318+46,334001-065,030 ( -2.52 % )451,369+124,496-54,368-65,848-4,280 공매도 정보(수량 기준, 전일까지 5거래일)일자공매도 거래량업틱룰 적용업틱룰 예외잔고수량매매비중01-12000-0.00%01-1134034-0.01%01-103003000.00%01-09142014200.03%01-06153015300.03%* 업틱룰예외는 해지거래, 차익거래 등 업틱룰의 적용이 면제된 거래를 의미.* 공매도잔고는 보고의무에 따라 당일 기준으로 2일전 내역까지 확인가능.* 매매비중 = 공매도 거래량 / 총 거래량* 출처 : KRX 정보데이터시스템 종목히스토리 ▶ 종목이슈 ☞ 2022-12-14 급등 - 글로벌 OTT 한국 드라마 투자 확대 기대감 등에 영상콘텐츠 테마 상승 속 급등 ☞ 2022-12-09 급등 - 국내 드라마 中 OTT 방영 소식 속 한한령 해제 기대감 등에 영상콘텐츠/엔터테인먼트 테마 상승 속 급등 ☞ 2022-11-23 급등 - 中 OTT시장에 韓영화 서비스 재개 소식 등에 영상콘텐츠/엔터테인먼트 테마 상승 속 급등     이슈&테마 스케줄 2023-01-16 에스엠 여성 유닛 갓 더 비트, 첫 미니음반 발표 예정 2023-01-19 美) 넷플릭스 실적발표(현지시간) 2023-01-20 트와이스 영어 싱글 발매 예정 2023-01-25 르세라핌, 일본서 첫 싱글 발매 예정 2023-01-27 투모로우바이투게더(TXT) 컴백 예정 2023-01-30 NCT 127 컴백 예정 2023-02-01 유튜브 숏츠 광고수익 공유 시행(현지시간) 2023-02-01 美) 메타(舊 페이스북) 실적발표(현지시간) 2023-02-09 스튜디오드래곤 실적발표 예정   관련테마 ▶ 영상콘텐츠   ▶ 엔터테인먼트     ※ 테마와 관련된 상세한 설명과 자료는 증권사 HTS나 인포스탁 홈페이지에서 확인하시길 바랍니다.   Copyright ⓒ True&Live 증시뉴스 점유율1위, 인포스탁() '"
      ]
     },
     "execution_count": 24,
     "metadata": {},
     "output_type": "execute_result"
    }
   ],
   "source": [
    "# 예시(전처리 전)\n",
    "writer = '인포스탁'  # 언론사 설정 \n",
    "filtered_df[filtered_df['WRITER']== writer][\"PARSED CONTENT\"].iloc[15]  # 확인"
   ]
  },
  {
   "cell_type": "code",
   "execution_count": 25,
   "id": "5529a5b8",
   "metadata": {},
   "outputs": [],
   "source": [
    "# 불필요한 내용 삭제 1\n",
    "# 공매도 정보(수량 기준, 이후의 모든 내용 삭제\n",
    "pattern = r'공매도 정보\\(수량 기준.*$'\n",
    "filtered_df.loc[filtered_df['WRITER'] == writer, 'PARSED CONTENT'] = \\\n",
    "    filtered_df.loc[filtered_df['WRITER'] == writer, 'PARSED CONTENT'].apply(lambda text: re.sub(pattern, '', text))\n"
   ]
  },
  {
   "cell_type": "code",
   "execution_count": 26,
   "id": "f320af9f",
   "metadata": {},
   "outputs": [],
   "source": [
    "# 불필요한 내용 삭제 2\n",
    "# 개인/외국인/기관 일별 순매매동향 이후의 모든 내용 삭제\n",
    "\n",
    "pattern = r'개인/외국인/기관 일별 순매매동향.*$'\n",
    "filtered_df.loc[filtered_df['WRITER'] == writer, 'PARSED CONTENT'] = \\\n",
    "    filtered_df.loc[filtered_df['WRITER'] == writer, 'PARSED CONTENT'].apply(lambda text: re.sub(pattern, '', text))\n"
   ]
  },
  {
   "cell_type": "code",
   "execution_count": 27,
   "id": "4eb1f2d0",
   "metadata": {},
   "outputs": [],
   "source": [
    "# 불필요한 내용 삭제 3\n",
    "# Update : 이후의 모든 내용 삭제\n",
    "pattern = r'Update :.*$'\n",
    "filtered_df.loc[filtered_df['WRITER'] == writer, 'PARSED CONTENT'] = \\\n",
    "    filtered_df.loc[filtered_df['WRITER'] == writer, 'PARSED CONTENT'].apply(lambda text: re.sub(pattern, '', text))"
   ]
  },
  {
   "cell_type": "code",
   "execution_count": 28,
   "id": "342e9e76",
   "metadata": {},
   "outputs": [
    {
     "data": {
      "text/plain": [
       "'제목 : 팬엔터테인먼트(068050) 소폭 상승세 +3.07% 기업개요 드라마, 교양/예능프로그램 등의 방송영상물제작 및 드라마OST 등의 음반제작을 주요사업으로 영위하는 업체. 주요작품으로 해를 품은 달, 최고의연인, 동백꽃 필 무렵, 두 번은 없다, 청춘 기록 등이 있음. 신규사업으로 영화제작을 진행하고 있으며, 시나리오 개발 및 웹툰, 소설 등 원작확보를 통해 자제제작 및 공동제작을 준비중.최대주주는 박영석(35.9%)  '"
      ]
     },
     "execution_count": 28,
     "metadata": {},
     "output_type": "execute_result"
    }
   ],
   "source": [
    "# 예시(전처리 후)\n",
    "filtered_df[filtered_df['WRITER']== writer][\"PARSED CONTENT\"].iloc[15]  "
   ]
  },
  {
   "cell_type": "markdown",
   "id": "60bf691b",
   "metadata": {},
   "source": [
    "## 연합뉴스"
   ]
  },
  {
   "cell_type": "code",
   "execution_count": 29,
   "id": "b46e060f",
   "metadata": {},
   "outputs": [
    {
     "data": {
      "text/plain": [
       "'하이브·카카오, SM 쩐의 전쟁…\"끝날 때까지 끝난 게 아니다\"(종합)\\n얼라인 공개매수 12만원 책정에 반발…\"지분 경쟁 속 SM 주가에 긍정적\"_x000D_\\n_x000D_\\n    (서울=연합인포맥스) 장순환 정지서 한상민 기자 = SM엔터테인먼트(이하 에스엠) 경영권 _x000D_\\n분쟁에 하이브가 참전하면서 에스엠과 하이브의 주가가 동반 급등하고 있다._x000D_\\n    하이브는 에스엠 창업자인 이수만 대주주의 지분을 인수하며 최대 주주에 오른 후 소액주_x000D_\\n주들의 공개 매수 의지도 밝힌 만큼 카카오와 본격적인 지분 경쟁으로 향후 주가 상승세는 이_x000D_\\n어질 전망이다._x000D_\\n    10일 연합인포맥스 종목 현재가(화면번호3111)에 따르면 에스엠은 오전 11시 15분 현재 기_x000D_\\n준 전 거래일보다 16.35% 오른 11만4천600원에 거래되고 있다._x000D_\\n    유가증권시장에서 하이브도 8.17% 오른 21만4천500원에, 카카오는 3.81% 내린 6만8천300원_x000D_\\n에 거래 중이다._x000D_\\n    하이브와 카카오는 에스엠 인수로 업계 1위를 놓고 치열한 신경전을 벌이고 있는 만큼 향_x000D_\\n후 치열한 지분 확보 전쟁 가능성이 있다._x000D_\\n    하이브는 현재 업계 1위라는 타이틀과 명성은 엔터 업계에서 강한 영향력을 유지하고 있다_x000D_\\n._x000D_\\n    다만, 카카오엔터테인먼트 상장 시 단숨에 시총 1위를 넘겨줄 가능성이 있어 카카오엔터테_x000D_\\n인먼트를 견제할 수밖에 없는 상황이다._x000D_\\n    이에 하이브는 이날 이수만 전 총괄 프로듀서가 보유한 지분 14.8%를 4천228억원에 인수하_x000D_\\n는 계약을 체결해 에스엠의 단독 1대 주주에 올랐다._x000D_\\n    증권가에서는 하이브가 에스엠 지분 인수를 완료하면 K팝 1군 IP(지식재산권)를 확보한 최_x000D_\\n대 사업자의 지위가 더욱 공고해질 것이라고 보고 있다._x000D_\\n    카카오 역시 지난 7일 2천171억5천200만원을 투자해 에스엠 지분 9.05%를 확보해 SM엔터 _x000D_\\n설립자 이수만에 이어 단숨에 2대 주주가 됐다._x000D_\\n    발행가격은 주당 9만1천원이고 전환가액은 9만2천300원이었다._x000D_\\n    이번 계약을 통해 얻은 지위를 카카오엔터테인먼트에 양도할 수 있다고 밝힌 만큼 사실상 _x000D_\\n카카오엔터테인먼트가 인수자가 될 전망이다._x000D_\\n    양측 다 자본력이 충분한 만큼 향후 본격적인 지분인수 확보 전쟁도 가능한 상황이다._x000D_\\n    카카오엔터테인먼트는 올해 초 사우디아라비아 국부펀드 \\'퍼블릭인베스트먼트펀드\\'(PIF)를_x000D_\\n 위시한 해외 국부펀드로부터 총 1조2천억원의 투자를 유치했다._x000D_\\n    카카오엔터테인먼트는 이번 투자 유치로 확보한 재원을 글로벌 분야에 집중적으로 투자할 _x000D_\\n   예정이라고 밝혔다._x000D_\\n    1조2천억 원 중 절반은 기존 글로벌 사업을 강화하는 운용 자금으로, 나머지 절반은 글로_x000D_\\n벌 경쟁력 강화를 위한 타 법인증권 취득(M&A)자금으로 사용할 계획이다._x000D_\\n    막대한 규모의 자금을 확보한 것으로 알려진 하이브는 더 나아가 소액주주들이 보유한 에_x000D_\\n스엠의 지분 공개매수도 실시한다._x000D_\\n    주당 단가는 12만원으로, 하이브가 이수만 전 총괄 프로듀서가 보유한 에스엠의 지분을 인_x000D_\\n수할 당시 책정한 주당 투자 단가와 같은 금액이다. _x000D_\\n    2대 주주인 카카오와의 지분율 격차가 5%가량밖에 나지 않는 상황이기에, 완전한 경영권 _x000D_\\n인수를 위해 공개매수를 택한 것으로 보인다._x000D_\\n    이에 대해 에스엠의 지배구조 개선을 추진하고 있는 얼라인파트너스자산운용은 12만원으로_x000D_\\n 책정한 공개매수 가격에 대해 터무니없다는 입장을 밝혔다._x000D_\\n    얼라인파트너스는 \"공개매수 가격 12만 원은 에스엠의 3.0 멀티프로듀싱 전략 실행을 가정_x000D_\\n할 때 기대되는 매출과 영업이익 상승 여력, 그리고 비핵심사업, 비영업자산, 내부거래 정리를_x000D_\\n 통한 효율화 업 사이드 감안 시 너무 낮다\"고 지적했다._x000D_\\n    또한, \"하이브가 에스엠의 지분 100%를 보유하지 않게 되면 하이브가 에스엠의 의사결정을_x000D_\\n 통제하는 가운데 에스엠의 일반주주와 하이브 주주들 간에 이해관계 상충 문제가 발생할 가능_x000D_\\n성이 있다\"고 덧붙였다._x000D_\\n    양측의 경영권 분쟁은 단기적으로 에스엠 주가 상승에 긍정적인 영향을 줄 전망이다._x000D_\\n    김하정 다올투자증권 연구원은 \"두 진영 모두 안정적인 경영권 확보를 위한 지분율을 갖지_x000D_\\n 못한 상태라고 판단된다\"며 \"지분 확보 경쟁이 예상되는 만큼 단기 주가에 긍정적인 상황\"이_x000D_\\n라고 전망했다._x000D_\\n    지인해 신한투자증권 연구원은 \"전망하기 쉽지 않은 게 인수전 지분율 싸움에 대해서는 일_x000D_\\n이 끝날 때까지 끝난 게 아닌 것 같다\"고 말했다._x000D_\\n    이어 \"하이브가 에스엠을 사게 되면 알짜인 코스피 엔터주 하이브에 더 많은 수급이 쏠리_x000D_\\n지 않을까 생각한다\"며 \"하이브는 아직 외국인 투자자들도 충분히 받아줄 만한 룸이 있다\"고 _x000D_\\n분석했다._x000D_\\n    지 연구원 \"유일한 하이브의 리스크는 BTS 그룹 전체 매출 감소하면서 내년도에 이익 성장_x000D_\\n시키고 상쇄시킬 거냐였는데 에스엠을 붙이면 모든 리스크가 사라진다\"고 부연했다. _x000D_\\n*그림1*_x000D_\\n\\n    shjang@yna.co.kr_x000D_\\n(끝)\\n\\n_x000D_\\n<저작권자(c) 연합뉴스, 무단 전재-재배포 금지>                        '"
      ]
     },
     "execution_count": 29,
     "metadata": {},
     "output_type": "execute_result"
    }
   ],
   "source": [
    "# 예시(전처리 전)\n",
    "writer = '연합뉴스'  # 언론사 설정 \n",
    "filtered_df[filtered_df['WRITER']== writer][\"PARSED CONTENT\"].iloc[100]  # 확인"
   ]
  },
  {
   "cell_type": "code",
   "execution_count": 30,
   "id": "ad5d3f13",
   "metadata": {},
   "outputs": [],
   "source": [
    "# 불필요한 내용 삭제 1\n",
    "# ┌ 이후 내용 모두 삭제\n",
    "pattern = r'┌.*$'\n",
    "filtered_df.loc[filtered_df['WRITER'] == writer, 'PARSED CONTENT'] = \\\n",
    "    filtered_df.loc[filtered_df['WRITER'] == writer, 'PARSED CONTENT'].apply(lambda text: re.sub(pattern, '', text))"
   ]
  },
  {
   "cell_type": "code",
   "execution_count": 31,
   "id": "492e262d",
   "metadata": {},
   "outputs": [],
   "source": [
    "# 불필요한 내용 삭제 1\n",
    "# (끝) 이후 내용 모두 삭제\n",
    "\n",
    "pattern = r'\\(끝\\).*'\n",
    "filtered_df.loc[filtered_df['WRITER'] == writer, 'PARSED CONTENT'] = \\\n",
    "    filtered_df.loc[filtered_df['WRITER'] == writer, 'PARSED CONTENT'].apply(lambda text: re.sub(pattern, '', text))\n"
   ]
  },
  {
   "cell_type": "code",
   "execution_count": 32,
   "id": "c6180d65",
   "metadata": {},
   "outputs": [],
   "source": [
    "# 불필요한 내용 삭제 2\n",
    "# 기자 = 이전내용 모두 삭제\n",
    "pattern = r'.*기자 ='\n",
    "filtered_df.loc[filtered_df['WRITER'] == writer, 'PARSED CONTENT'] = \\\n",
    "    filtered_df.loc[filtered_df['WRITER'] == writer, 'PARSED CONTENT'].apply(lambda text: re.sub(pattern, '', str(text), flags=re.DOTALL | re.IGNORECASE))\n"
   ]
  },
  {
   "cell_type": "code",
   "execution_count": 33,
   "id": "72b6aa31",
   "metadata": {},
   "outputs": [],
   "source": [
    "# 불필요한 내용 삭제 3\n",
    "# 불필요한 내용 삭제\n",
    "filtered_df.loc[filtered_df['WRITER'] == writer, 'PARSED CONTENT'] = \\\n",
    "    filtered_df.loc[filtered_df['WRITER'] == writer, 'PARSED CONTENT'].str.replace(\"<저작권자(c) 연합뉴스, 무단 전재-재배포 금지>\", \"\", regex=False)\n",
    "\n"
   ]
  },
  {
   "cell_type": "code",
   "execution_count": 34,
   "id": "473142d1",
   "metadata": {},
   "outputs": [
    {
     "data": {
      "text/plain": [
       "\" 그룹 투모로우바이투게더(TXT)가 다섯 번째 미니음반 '이_x000D_\\n름의 장 : 템프테이션(TEMPTATION)'으로 미국 빌보드 메인 앨범 차트 '빌보드 200' 1위에 올랐_x000D_\\n다._x000D_\\n    빌보드는 5일(현지시간) 차트 예고 기사에서 투모로우바이투게더가 '빌보드 200' 정상에 _x000D_\\n올랐다고 전했다. 이는 지난 2019년 3월 이들이 데뷔한 지 3년 11개월 만이다._x000D_\\n    '빌보드 200' 1위를 밟은 한국 가수는 방탄소년단(BTS·2018년), 슈퍼엠(2019년), 스트레_x000D_\\n이 키즈(2022년), 블랙핑크(2022년)에 이어 투모로우바이투게더가 다섯 번째다. _x000D_\\n    방탄소년단과 투모로우바이투게더의 소속사 빅히트뮤직(하이브)은 빌보드 메인 차트에 두 _x000D_\\n팀 이상의 가수를 1위에 올려놓은 유일한 국내 가요 기획사라는 기록도 세웠다._x000D_\\n    tsl@yna.co.kr_x000D_\\n\\n\\n_x000D_\\n                                                                                                                                                                                                                                                                                                                                                                                                                                                                                                                                                                                                                                                                                                                                                                                                                                                                                                                                                                                                                                                                                                                                                                                                                                           \""
      ]
     },
     "execution_count": 34,
     "metadata": {},
     "output_type": "execute_result"
    }
   ],
   "source": [
    "# 예시(전처리 후)\n",
    "filtered_df[filtered_df['WRITER']== writer][\"PARSED CONTENT\"].iloc[70]"
   ]
  },
  {
   "cell_type": "markdown",
   "id": "3c617c57",
   "metadata": {},
   "source": [
    "## 뉴시스"
   ]
  },
  {
   "cell_type": "code",
   "execution_count": 35,
   "id": "982b112a",
   "metadata": {},
   "outputs": [
    {
     "data": {
      "text/plain": [
       "'[서울=뉴시스]이재훈 기자 = 에스엠(SM)엔터테인먼트가 임시 사외이사후보 추천위원회(이하 \\'임시사추위\\')를 구성했다고 25일 밝혔다. \\n\\n사내이사 위원으로 이성수 SM 대표이사가, 외부위원 중 이사회 추천으로 조명현 고려대학교 경영학과 교수가, 외부위원 중 얼라인 측 추천위원으로 이남우 연세대학교 국제학대학원 객원교수가 임명됐다. \\n\\n조 교수는 한국기업지배구조원 원장 및 한국스튜어드십코드 제정위원장을 지낸 기업거버넌스 전문가다. 대한항공, 현대글로비스 등 기업의 사외이사로 활동하고 있다. SM이사회는 글로벌 자문기관을 통해 조 교수를 추천 받아 임시 사추위 위원으로 선임했다. \\n\\n이 객원교수는 뱅크오브아메리카 메릴린치 한국공동대표, 노무라증권 아시아 고객관리총괄 등 국제금융업계에서 일한 금융 및 투자전문가다. 최근에는 한국투자신탁운용, 에이비엘바이오, 한솔홀딩스 등의 기업에서 사외이사로 활약했다. \\n\\n이번 임명은 SM이 지난 22일 이사회에서 얼라인파트너스자산운용 주식회사(이하 얼라인)와 함께 발표한 주주가치 제고 및 거버넌스 개선을 위한 12개 합의사항 중 하나다. 당일 임시사추위를 비롯 주주환원정책과 관련한 3개 의안을 이사 4인 중 사내이사 3인의 찬성, 사외이사 기권으로 결의했다. \\n\\n또한, SM 이사회는 앞으로 3년간 별도 당기순이익의 20% 이상을 주주에게 환원한다는 주주환원정책도 결의했다.\\nSM은 \"이번 주주환원정책의 공시 및 이사회 의결을 통해 다가올 금년 3월 주총에서부터 현금배당 또는 자사주 소각을 통해 주주들에게 회사의 이익을 환원할 계획\"이라고 예고했다. \\n\\n얼라인과  합의 사항 중 가장 중요한 부분 중 하나는 멀티 프로듀싱 체제다. 그간 SM은 약 27년 간 이수만 총괄 프로듀서의 진두지휘(陣頭指揮) 아래 SM컬처유니버스(SMCU·SM Culture Universe)의 세계관을 쌓아왔다. SMCU는 다양한 영웅을 내세운 디즈니의 마블 스튜디오처럼, SM에 속한 각 그룹이 이른바 \\'광야\\'(KWANGYA)라는 활동 공간에서 각자 쌓아온 서사를 펼치거나 서로 교차시키는 걸 가리킨다. 마블의 어벤저스처럼 SM 소속 보이그룹 멤버들과 걸그룹 멤버들이 각각 뭉친 \\'슈퍼엠\\'과 \\'갓 더 비트\\'가 만들어질 수 있는 이유다.\\n\\n그런데 향후 이 프로듀서 외에도 프로듀싱을 이끌 적임자를 섭외하기로 했다. 해당 프로듀서는 이 프로듀서와 병행하면서 프로듀싱을 하게 될 것으로 보인다. 관련 계획을 오는 2월3일 오후 12시에 SM타운 유튜브 채널 및 홈페이지 등을 통해 발표한다. \\n\\n이번 얼라인과 합의 사항 발표로 SM의 주가는 상승 곡선을 그리고 있다. 설 연휴 직전인 지난 20일 주가는 8.2% 상승한 8만3100원으로 마감했다. 이날 오전 9시30분 현재 주가는 8만3900이다.\\n\\n\\n◎공감언론 뉴시스 realpaper7@newsis.com                                                                                                                                                                                                                                                                                                                                                                                                                                                                                                                                                                                                                                                                                                                                                                                                                                                                                                                                                                                                                                                                                                  '"
      ]
     },
     "execution_count": 35,
     "metadata": {},
     "output_type": "execute_result"
    }
   ],
   "source": [
    "# 예시(전처리 전)\n",
    "writer = '뉴시스'  # 언론사 설정 \n",
    "filtered_df[filtered_df['WRITER']== writer][\"PARSED CONTENT\"].iloc[0]  # 확인"
   ]
  },
  {
   "cell_type": "code",
   "execution_count": 36,
   "id": "cd463269",
   "metadata": {},
   "outputs": [],
   "source": [
    "# 불필요한 내용 삭제 1\n",
    "# 기자 =  이전 내용 삭제\n",
    "pattern = r'.*기자\\s='\n",
    "filtered_df.loc[filtered_df['WRITER'] == writer, 'PARSED CONTENT'] = \\\n",
    "    filtered_df.loc[filtered_df['WRITER'] == writer, 'PARSED CONTENT'].apply(lambda text: re.sub(pattern, '', text))"
   ]
  },
  {
   "cell_type": "code",
   "execution_count": 37,
   "id": "20a629f9",
   "metadata": {},
   "outputs": [
    {
     "data": {
      "text/plain": [
       "' 에스엠(SM)엔터테인먼트가 임시 사외이사후보 추천위원회(이하 \\'임시사추위\\')를 구성했다고 25일 밝혔다. \\n\\n사내이사 위원으로 이성수 SM 대표이사가, 외부위원 중 이사회 추천으로 조명현 고려대학교 경영학과 교수가, 외부위원 중 얼라인 측 추천위원으로 이남우 연세대학교 국제학대학원 객원교수가 임명됐다. \\n\\n조 교수는 한국기업지배구조원 원장 및 한국스튜어드십코드 제정위원장을 지낸 기업거버넌스 전문가다. 대한항공, 현대글로비스 등 기업의 사외이사로 활동하고 있다. SM이사회는 글로벌 자문기관을 통해 조 교수를 추천 받아 임시 사추위 위원으로 선임했다. \\n\\n이 객원교수는 뱅크오브아메리카 메릴린치 한국공동대표, 노무라증권 아시아 고객관리총괄 등 국제금융업계에서 일한 금융 및 투자전문가다. 최근에는 한국투자신탁운용, 에이비엘바이오, 한솔홀딩스 등의 기업에서 사외이사로 활약했다. \\n\\n이번 임명은 SM이 지난 22일 이사회에서 얼라인파트너스자산운용 주식회사(이하 얼라인)와 함께 발표한 주주가치 제고 및 거버넌스 개선을 위한 12개 합의사항 중 하나다. 당일 임시사추위를 비롯 주주환원정책과 관련한 3개 의안을 이사 4인 중 사내이사 3인의 찬성, 사외이사 기권으로 결의했다. \\n\\n또한, SM 이사회는 앞으로 3년간 별도 당기순이익의 20% 이상을 주주에게 환원한다는 주주환원정책도 결의했다.\\nSM은 \"이번 주주환원정책의 공시 및 이사회 의결을 통해 다가올 금년 3월 주총에서부터 현금배당 또는 자사주 소각을 통해 주주들에게 회사의 이익을 환원할 계획\"이라고 예고했다. \\n\\n얼라인과  합의 사항 중 가장 중요한 부분 중 하나는 멀티 프로듀싱 체제다. 그간 SM은 약 27년 간 이수만 총괄 프로듀서의 진두지휘(陣頭指揮) 아래 SM컬처유니버스(SMCU·SM Culture Universe)의 세계관을 쌓아왔다. SMCU는 다양한 영웅을 내세운 디즈니의 마블 스튜디오처럼, SM에 속한 각 그룹이 이른바 \\'광야\\'(KWANGYA)라는 활동 공간에서 각자 쌓아온 서사를 펼치거나 서로 교차시키는 걸 가리킨다. 마블의 어벤저스처럼 SM 소속 보이그룹 멤버들과 걸그룹 멤버들이 각각 뭉친 \\'슈퍼엠\\'과 \\'갓 더 비트\\'가 만들어질 수 있는 이유다.\\n\\n그런데 향후 이 프로듀서 외에도 프로듀싱을 이끌 적임자를 섭외하기로 했다. 해당 프로듀서는 이 프로듀서와 병행하면서 프로듀싱을 하게 될 것으로 보인다. 관련 계획을 오는 2월3일 오후 12시에 SM타운 유튜브 채널 및 홈페이지 등을 통해 발표한다. \\n\\n이번 얼라인과 합의 사항 발표로 SM의 주가는 상승 곡선을 그리고 있다. 설 연휴 직전인 지난 20일 주가는 8.2% 상승한 8만3100원으로 마감했다. 이날 오전 9시30분 현재 주가는 8만3900이다.\\n\\n\\n◎공감언론 뉴시스 realpaper7@newsis.com                                                                                                                                                                                                                                                                                                                                                                                                                                                                                                                                                                                                                                                                                                                                                                                                                                                                                                                                                                                                                                                                                                  '"
      ]
     },
     "execution_count": 37,
     "metadata": {},
     "output_type": "execute_result"
    }
   ],
   "source": [
    "filtered_df[filtered_df['WRITER']== writer][\"PARSED CONTENT\"].iloc[0]  # 확인"
   ]
  },
  {
   "cell_type": "code",
   "execution_count": 38,
   "id": "a22f39e0",
   "metadata": {},
   "outputs": [],
   "source": [
    "# 불필요한 내용 삭제 2\n",
    "# ◎이후 내용 삭제\n",
    "\n",
    "pattern = r'◎.*$'\n",
    "filtered_df.loc[filtered_df['WRITER'] == writer, 'PARSED CONTENT'] = \\\n",
    "    filtered_df.loc[filtered_df['WRITER'] == writer, 'PARSED CONTENT'].apply(lambda text: re.sub(pattern, '', text) if isinstance(text, str) else text)\n"
   ]
  },
  {
   "cell_type": "code",
   "execution_count": 39,
   "id": "6fe68f93",
   "metadata": {},
   "outputs": [
    {
     "data": {
      "text/plain": [
       "' 에스엠(SM)엔터테인먼트가 임시 사외이사후보 추천위원회(이하 \\'임시사추위\\')를 구성했다고 25일 밝혔다. \\n\\n사내이사 위원으로 이성수 SM 대표이사가, 외부위원 중 이사회 추천으로 조명현 고려대학교 경영학과 교수가, 외부위원 중 얼라인 측 추천위원으로 이남우 연세대학교 국제학대학원 객원교수가 임명됐다. \\n\\n조 교수는 한국기업지배구조원 원장 및 한국스튜어드십코드 제정위원장을 지낸 기업거버넌스 전문가다. 대한항공, 현대글로비스 등 기업의 사외이사로 활동하고 있다. SM이사회는 글로벌 자문기관을 통해 조 교수를 추천 받아 임시 사추위 위원으로 선임했다. \\n\\n이 객원교수는 뱅크오브아메리카 메릴린치 한국공동대표, 노무라증권 아시아 고객관리총괄 등 국제금융업계에서 일한 금융 및 투자전문가다. 최근에는 한국투자신탁운용, 에이비엘바이오, 한솔홀딩스 등의 기업에서 사외이사로 활약했다. \\n\\n이번 임명은 SM이 지난 22일 이사회에서 얼라인파트너스자산운용 주식회사(이하 얼라인)와 함께 발표한 주주가치 제고 및 거버넌스 개선을 위한 12개 합의사항 중 하나다. 당일 임시사추위를 비롯 주주환원정책과 관련한 3개 의안을 이사 4인 중 사내이사 3인의 찬성, 사외이사 기권으로 결의했다. \\n\\n또한, SM 이사회는 앞으로 3년간 별도 당기순이익의 20% 이상을 주주에게 환원한다는 주주환원정책도 결의했다.\\nSM은 \"이번 주주환원정책의 공시 및 이사회 의결을 통해 다가올 금년 3월 주총에서부터 현금배당 또는 자사주 소각을 통해 주주들에게 회사의 이익을 환원할 계획\"이라고 예고했다. \\n\\n얼라인과  합의 사항 중 가장 중요한 부분 중 하나는 멀티 프로듀싱 체제다. 그간 SM은 약 27년 간 이수만 총괄 프로듀서의 진두지휘(陣頭指揮) 아래 SM컬처유니버스(SMCU·SM Culture Universe)의 세계관을 쌓아왔다. SMCU는 다양한 영웅을 내세운 디즈니의 마블 스튜디오처럼, SM에 속한 각 그룹이 이른바 \\'광야\\'(KWANGYA)라는 활동 공간에서 각자 쌓아온 서사를 펼치거나 서로 교차시키는 걸 가리킨다. 마블의 어벤저스처럼 SM 소속 보이그룹 멤버들과 걸그룹 멤버들이 각각 뭉친 \\'슈퍼엠\\'과 \\'갓 더 비트\\'가 만들어질 수 있는 이유다.\\n\\n그런데 향후 이 프로듀서 외에도 프로듀싱을 이끌 적임자를 섭외하기로 했다. 해당 프로듀서는 이 프로듀서와 병행하면서 프로듀싱을 하게 될 것으로 보인다. 관련 계획을 오는 2월3일 오후 12시에 SM타운 유튜브 채널 및 홈페이지 등을 통해 발표한다. \\n\\n이번 얼라인과 합의 사항 발표로 SM의 주가는 상승 곡선을 그리고 있다. 설 연휴 직전인 지난 20일 주가는 8.2% 상승한 8만3100원으로 마감했다. 이날 오전 9시30분 현재 주가는 8만3900이다.\\n\\n\\n'"
      ]
     },
     "execution_count": 39,
     "metadata": {},
     "output_type": "execute_result"
    }
   ],
   "source": [
    "# 예시(전처리 후)\n",
    "filtered_df[filtered_df['WRITER']== writer][\"PARSED CONTENT\"].iloc[0]"
   ]
  },
  {
   "cell_type": "markdown",
   "id": "90fc0228",
   "metadata": {},
   "source": [
    "## CEO 스코어데일리"
   ]
  },
  {
   "cell_type": "code",
   "execution_count": 40,
   "id": "d5fd5a8d",
   "metadata": {
    "scrolled": true
   },
   "outputs": [
    {
     "data": {
      "text/plain": [
       "'카카오의 올해 ‘비욘드 코리아’ 전략이 연초부터 삐걱거리고 있다. 카카오는 SM엔터테인먼트 인수전에 지원군으로 나서 이 회사 소속 아티스트들의 IP(지식재산)를 확보할 방침이었지만, 그룹 방탄소년단(BTS) 소속사인 하이브가 물량공세에 나서면서 비상등이 켜진 것이다. 13일 관련업계에 따르면 카카오는 지난 7일 SM엔터테인먼트의 지분 9.05%를 2171억원에 취득하기로 했다고 밝혔다. SM이 제3자 배정 유상증자 형태로 발행하는 123만주 규모의 신주를 인수하고, 전환사채 인수를 통해 보통주 전환 기준 114만주를 확보하는 방식이다. 취득 예정일자는 내달 6일이다. 이번 투자가 성사되면 카카오는 SM의 2대 주주로 올라, SM이 확보한 콘텐츠를 활용할 수 있게 된다. 카카오는 이번 투자를 계기로 카카오엔터테인먼트와 SM이 각사의 해외 파트너 등 네트워크를 활용해 글로벌 매니지먼트 사업을 함께 추진하고, 글로벌 오디션을 통해 K-팝 아티스트를 공동 기획하는 등 IP 경쟁력 강화를 위한 협력에도 본격적으로 나설 계획이었다. 배재현 카카오 수석부사장은 지난 10일 진행된 컨퍼런스 콜에서 “웹툰, 웹소설 및 캐릭터 굿즈 사업을 결합해 SM의 IP 사업 활용도를 지금보다 높이겠다”며 “팬플랫폼 사업과 관련해 카카오 아티스트 협력, IT 역량 기반으로 팬플랫폼을 확장할 수 있을 것”이라고 설명한 바 있다. 하지만 카카오의 이같은 계획은 하이브가 SM 창업자인 이수만 전 총괄 프로듀서의 ‘백기사’로 부상하면서 물거품 될 위기를 맞고 있다. 하이브는 지난 10일 이수만 전 총괄 프로듀서가 보유한 지분 14.8%를 4228억원에 인수한다고 전격적으로 발표했다. 취득 예정 일자는 다음달 6일이다.  SM전현직 경영진을 대신해 하이브와카카오가 대리전을 벌이고 있는 형국이다. SM은 지난 9월 말까지만 해도 이수만(18.46%), 국민연금(8.96%), KB자산운용(5.12%), 컴투스(4.2%)등이 지분을 보유하고 있었지만, 하이브가 이수만 전 총괄의 지분 14.8%를 인수하면 단번에 최대주주로 올라서게 된다. 또한 하이브는 다음달 1일까지 SM 소액주주들이 보유한 보통주 지분 25%를 주당 12  만원에 공개 매수하기로 나서면서 보유 지분을 약 40%까지 끌어올리겠다는 계획이다. 공개 매수에 투입해야 하는 자금 규모는 약 7142억원에 달하고, 이 전 총괄 지분까지 합치면 인수 금액은 총 1조1370억원에 달한다. 현 SM 경영진과 손잡고 사실상 SM을 인수하려했던 카카오는 궁지에 몰리게 됐다. SM 일반 주주들을 대상으로 주식 공개매수까지 선언한 하이브와 경쟁하기 위해서는 막대한 투자금이 소요된다. 그렇다고 인수전을 접자니 글로벌 인지도가 높은 SM 소속 아티스트들의 IP를 포기해야 하기 때문이다. 시장에서는 카카오가 하이브와의 정면대결을 회피할 것이란 관측이 우세하다. 최근 사우디 국부펀드와 싱가폴 투자청으로부터 1조2000억원의 투자를 받아 현금은 충분하지만, 지분 경쟁을 하기 위해선 약 1조원 규모의 투자금이 필요한 상황이다. 웹툰, 웹소설, 미디어 등 콘텐츠 사업 전반에서 막대한 투자를 전개하고 있지만, K-콘텐츠 확보를 위해 1조원대의 막대한 투자비를 들이는 것은 부담스러운 대목이다. 여기에, 이 전 총괄이 카카오를 상대로 낸 제3자 유상증자 금지 가처분 신청도 껄끄러운 부문이다. 이 전 총괄프로듀서는 회사의 경영권 분쟁 상황에서 제3자에게 신주나 전환사채를 발행하는 것은 위법이라며 금지 가처분을 신청한 상태다. 카카오는 하이브와 카카오가 SM 인수를 위해 전면전을 벌이고 있는 상황으로 비춰지는 것에 대해 우려스럽다는 입장이다. 이와 관련, 카카오측은 “이번 투자는 경영권 분쟁과 무관하며 추가 지분 확보 계획은 없다”는 기존의 입장을 고수하고 있다. [CEO스코어데일리 / 김동일 기자 / same91@ceoscore.co.kr] '"
      ]
     },
     "execution_count": 40,
     "metadata": {},
     "output_type": "execute_result"
    }
   ],
   "source": [
    "# 예시(전처리 전)\n",
    "writer = 'CEO 스코어데일리'  # 언론사 설정 \n",
    "filtered_df[filtered_df['WRITER']== writer][\"PARSED CONTENT\"].iloc[0]  # 확인"
   ]
  },
  {
   "cell_type": "code",
   "execution_count": 41,
   "id": "450cb5dd",
   "metadata": {},
   "outputs": [],
   "source": [
    "# 불필요한 내용 삭제 1\n",
    "# [CEO스코어데일리 이후내용 삭제 \n",
    "pattern = r'\\[CEO스코어데일리[^\\]]*\\]'\n",
    "filtered_df.loc[filtered_df['WRITER'] == writer, 'PARSED CONTENT'] = \\\n",
    "    filtered_df.loc[filtered_df['WRITER'] == writer, 'PARSED CONTENT'].apply(lambda text: re.sub(pattern, '', text))"
   ]
  },
  {
   "cell_type": "code",
   "execution_count": 42,
   "id": "8aaad88b",
   "metadata": {},
   "outputs": [
    {
     "data": {
      "text/plain": [
       "'카카오의 올해 ‘비욘드 코리아’ 전략이 연초부터 삐걱거리고 있다. 카카오는 SM엔터테인먼트 인수전에 지원군으로 나서 이 회사 소속 아티스트들의 IP(지식재산)를 확보할 방침이었지만, 그룹 방탄소년단(BTS) 소속사인 하이브가 물량공세에 나서면서 비상등이 켜진 것이다. 13일 관련업계에 따르면 카카오는 지난 7일 SM엔터테인먼트의 지분 9.05%를 2171억원에 취득하기로 했다고 밝혔다. SM이 제3자 배정 유상증자 형태로 발행하는 123만주 규모의 신주를 인수하고, 전환사채 인수를 통해 보통주 전환 기준 114만주를 확보하는 방식이다. 취득 예정일자는 내달 6일이다. 이번 투자가 성사되면 카카오는 SM의 2대 주주로 올라, SM이 확보한 콘텐츠를 활용할 수 있게 된다. 카카오는 이번 투자를 계기로 카카오엔터테인먼트와 SM이 각사의 해외 파트너 등 네트워크를 활용해 글로벌 매니지먼트 사업을 함께 추진하고, 글로벌 오디션을 통해 K-팝 아티스트를 공동 기획하는 등 IP 경쟁력 강화를 위한 협력에도 본격적으로 나설 계획이었다. 배재현 카카오 수석부사장은 지난 10일 진행된 컨퍼런스 콜에서 “웹툰, 웹소설 및 캐릭터 굿즈 사업을 결합해 SM의 IP 사업 활용도를 지금보다 높이겠다”며 “팬플랫폼 사업과 관련해 카카오 아티스트 협력, IT 역량 기반으로 팬플랫폼을 확장할 수 있을 것”이라고 설명한 바 있다. 하지만 카카오의 이같은 계획은 하이브가 SM 창업자인 이수만 전 총괄 프로듀서의 ‘백기사’로 부상하면서 물거품 될 위기를 맞고 있다. 하이브는 지난 10일 이수만 전 총괄 프로듀서가 보유한 지분 14.8%를 4228억원에 인수한다고 전격적으로 발표했다. 취득 예정 일자는 다음달 6일이다.  SM전현직 경영진을 대신해 하이브와카카오가 대리전을 벌이고 있는 형국이다. SM은 지난 9월 말까지만 해도 이수만(18.46%), 국민연금(8.96%), KB자산운용(5.12%), 컴투스(4.2%)등이 지분을 보유하고 있었지만, 하이브가 이수만 전 총괄의 지분 14.8%를 인수하면 단번에 최대주주로 올라서게 된다. 또한 하이브는 다음달 1일까지 SM 소액주주들이 보유한 보통주 지분 25%를 주당 12  만원에 공개 매수하기로 나서면서 보유 지분을 약 40%까지 끌어올리겠다는 계획이다. 공개 매수에 투입해야 하는 자금 규모는 약 7142억원에 달하고, 이 전 총괄 지분까지 합치면 인수 금액은 총 1조1370억원에 달한다. 현 SM 경영진과 손잡고 사실상 SM을 인수하려했던 카카오는 궁지에 몰리게 됐다. SM 일반 주주들을 대상으로 주식 공개매수까지 선언한 하이브와 경쟁하기 위해서는 막대한 투자금이 소요된다. 그렇다고 인수전을 접자니 글로벌 인지도가 높은 SM 소속 아티스트들의 IP를 포기해야 하기 때문이다. 시장에서는 카카오가 하이브와의 정면대결을 회피할 것이란 관측이 우세하다. 최근 사우디 국부펀드와 싱가폴 투자청으로부터 1조2000억원의 투자를 받아 현금은 충분하지만, 지분 경쟁을 하기 위해선 약 1조원 규모의 투자금이 필요한 상황이다. 웹툰, 웹소설, 미디어 등 콘텐츠 사업 전반에서 막대한 투자를 전개하고 있지만, K-콘텐츠 확보를 위해 1조원대의 막대한 투자비를 들이는 것은 부담스러운 대목이다. 여기에, 이 전 총괄이 카카오를 상대로 낸 제3자 유상증자 금지 가처분 신청도 껄끄러운 부문이다. 이 전 총괄프로듀서는 회사의 경영권 분쟁 상황에서 제3자에게 신주나 전환사채를 발행하는 것은 위법이라며 금지 가처분을 신청한 상태다. 카카오는 하이브와 카카오가 SM 인수를 위해 전면전을 벌이고 있는 상황으로 비춰지는 것에 대해 우려스럽다는 입장이다. 이와 관련, 카카오측은 “이번 투자는 경영권 분쟁과 무관하며 추가 지분 확보 계획은 없다”는 기존의 입장을 고수하고 있다.  '"
      ]
     },
     "execution_count": 42,
     "metadata": {},
     "output_type": "execute_result"
    }
   ],
   "source": [
    "# 예시(전처리 후)\n",
    "filtered_df[filtered_df['WRITER']== writer][\"PARSED CONTENT\"].iloc[0]"
   ]
  },
  {
   "cell_type": "markdown",
   "id": "56f6cdf7",
   "metadata": {},
   "source": [
    "## 헤럴드경제"
   ]
  },
  {
   "cell_type": "code",
   "execution_count": 43,
   "id": "8aae55b9",
   "metadata": {},
   "outputs": [
    {
     "data": {
      "text/plain": [
       "'새 걸그룹 ‘베이비몬스터’ 실체는\\n지드래곤 등 아티스트 해외공연\\n올 계약 만료 블랙핑크와 재계약\\n더블랙레이블과 협력도 과제양현석 총괄 프로듀서 복귀와 새 걸그룹 ‘베이비몬스터’의 등판으로 새해 첫날 10% 가까운 급등세를 보인 와이지엔터테인먼트 주가가 다시 횡보세로 돌아섰다.6일 오전엔 4% 가까운 급락세를 보였다. 아직 정보가 부족한 걸그룹에 대한 기대감만으로 상승세를 이어가기는 역부족인 것으로 풀이된다. 전문가는 베이비몬스터의 성공과 함께 ▷지드래곤을 비롯한 남은 아티스트의 해외공연 ▷블랙핑크와 재계약 ▷관계사인 더블랙레이블과 지속협력 등이 이어져야 주가가 지속적인 탄력을 받을 수 있을 것으로 보고 있다.새해를 맞아 와이지는 대대적인 ‘세대교체’에 나섰다. 작년 말에는 결별 소식이 줄을 이은 바 있다. 지난달 26일 빅뱅의 태양을 시작으로 27일 빅뱅의 대성이, 30일에는 아이콘 멤버 6인 전원과 배우 강동원이 전속 계약 만료를 알렸다. 하지만 와이지는 새해를 맞아 곧바로 보완책을 제시했다. 지난 1일 공식 유튜브 채널에 공개된 영상에는 회사로 복귀한 양현석 총괄 프로듀서와 새롭게 선보일 걸그룹 베이비몬스터의 모습이 담겼다.“(블랙핑크의) 제니가 여러명 있는 것 같다” 등 호평의 파급력은 컸다. 올해 첫 거래일이었던 지난 2일 와이지는 엔터주 가운데 나홀로 상승하며 9.58%에 달하는 급등세를 보였다.다만 이후 주가는 탄력을 잃었다. 3일 3% 상승세를 이어가는 듯 했으나 다음날 1.4% 반락했고, 5일 횡보세에 이어 6일 오전에는 4% 가까이 급락하고 있다.한 증권사 연구원은 “새 걸그룹에 대한 구체적인 정보는 전혀 없으며 데뷔 시점조차 알려진 게 없다”면서 “향후 대중에게 이들의 매력과 재능을 얼마나 어필하는 지에 따라 장기적인 와이지 주가의 향방이 결정될 것”이라고 말했다.와이지내 가장 존재감이 큰 지드래곤은 회사에 남았지만, 매출 확보와 이익 모멘텀·주가 모멘텀은 각각 별개라는 분석도 나온다. 김현용 현대차증권 연구원은 “빅뱅 멤버 가운데 핵심인 지드래곤으로 매출 손실은 최소화할 수 있지만, 고년차인 아티스트와 정산배분율이 회사에 불리해 매출 대비 이익 모멘텀은 크게 떨어질 수 있다”면서 “국내에서 영향력은 건재하겠지만 주가     모멘텀을 위해서는 대규모 해외 공연 스케줄도 필요하다”고 말했다.올해 계약 만료 예정인 블랙핑크와의 재계약 여부와 더블랙레이블과의 관계 유지도 과제다. 또 다른 빅뱅의 멤버 태양은 더블랙레이블로 이적을 발표했으며, 와이지는 ‘사실 무근’이라고 밝혔지만 블랙핑크 역시 더블랙레이블행을 택했다는 소문이 돌기도 했다.그룹 원타임 출신 프로듀서 테디가 이끌고 있는 더블랙레이블은 2016년 와이지 산하 레이블로 출발했다. 지금은 와이지가 지분을 30%가량 보유하고 있는 관계 회사다. 이적과 상관없이 수장인 테디가 블랙핑크 곡 작업을 책임지고 있는 만큼 와이지 입장에선 더블랙레이블과 협력관계에 문제가 없다는 걸 보여줄 필요가 있다.윤호 기자\\n\\n\\n\\n\\n\\n\\n\\n '"
      ]
     },
     "execution_count": 43,
     "metadata": {},
     "output_type": "execute_result"
    }
   ],
   "source": [
    "# 예시(전처리 전)\n",
    "writer = '헤럴드경제'  # 언론사 설정 \n",
    "filtered_df[filtered_df['WRITER']== writer][\"PARSED CONTENT\"].iloc[1]  # 확인"
   ]
  },
  {
   "cell_type": "code",
   "execution_count": 44,
   "id": "325a5f34",
   "metadata": {},
   "outputs": [],
   "source": [
    "# 불필요한 내용 삭제 1\n",
    "# 기자]  이전 내용 삭제\n",
    "pattern = r'.*기자\\]'\n",
    "filtered_df.loc[filtered_df['WRITER'] == writer, 'PARSED CONTENT'] = \\\n",
    "    filtered_df.loc[filtered_df['WRITER'] == writer, 'PARSED CONTENT'].apply(lambda text: re.sub(pattern, '', text))"
   ]
  },
  {
   "cell_type": "code",
   "execution_count": 45,
   "id": "5ef5207d",
   "metadata": {},
   "outputs": [
    {
     "data": {
      "text/plain": [
       "'새 걸그룹 ‘베이비몬스터’ 실체는\\n지드래곤 등 아티스트 해외공연\\n올 계약 만료 블랙핑크와 재계약\\n더블랙레이블과 협력도 과제양현석 총괄 프로듀서 복귀와 새 걸그룹 ‘베이비몬스터’의 등판으로 새해 첫날 10% 가까운 급등세를 보인 와이지엔터테인먼트 주가가 다시 횡보세로 돌아섰다.6일 오전엔 4% 가까운 급락세를 보였다. 아직 정보가 부족한 걸그룹에 대한 기대감만으로 상승세를 이어가기는 역부족인 것으로 풀이된다. 전문가는 베이비몬스터의 성공과 함께 ▷지드래곤을 비롯한 남은 아티스트의 해외공연 ▷블랙핑크와 재계약 ▷관계사인 더블랙레이블과 지속협력 등이 이어져야 주가가 지속적인 탄력을 받을 수 있을 것으로 보고 있다.새해를 맞아 와이지는 대대적인 ‘세대교체’에 나섰다. 작년 말에는 결별 소식이 줄을 이은 바 있다. 지난달 26일 빅뱅의 태양을 시작으로 27일 빅뱅의 대성이, 30일에는 아이콘 멤버 6인 전원과 배우 강동원이 전속 계약 만료를 알렸다. 하지만 와이지는 새해를 맞아 곧바로 보완책을 제시했다. 지난 1일 공식 유튜브 채널에 공개된 영상에는 회사로 복귀한 양현석 총괄 프로듀서와 새롭게 선보일 걸그룹 베이비몬스터의 모습이 담겼다.“(블랙핑크의) 제니가 여러명 있는 것 같다” 등 호평의 파급력은 컸다. 올해 첫 거래일이었던 지난 2일 와이지는 엔터주 가운데 나홀로 상승하며 9.58%에 달하는 급등세를 보였다.다만 이후 주가는 탄력을 잃었다. 3일 3% 상승세를 이어가는 듯 했으나 다음날 1.4% 반락했고, 5일 횡보세에 이어 6일 오전에는 4% 가까이 급락하고 있다.한 증권사 연구원은 “새 걸그룹에 대한 구체적인 정보는 전혀 없으며 데뷔 시점조차 알려진 게 없다”면서 “향후 대중에게 이들의 매력과 재능을 얼마나 어필하는 지에 따라 장기적인 와이지 주가의 향방이 결정될 것”이라고 말했다.와이지내 가장 존재감이 큰 지드래곤은 회사에 남았지만, 매출 확보와 이익 모멘텀·주가 모멘텀은 각각 별개라는 분석도 나온다. 김현용 현대차증권 연구원은 “빅뱅 멤버 가운데 핵심인 지드래곤으로 매출 손실은 최소화할 수 있지만, 고년차인 아티스트와 정산배분율이 회사에 불리해 매출 대비 이익 모멘텀은 크게 떨어질 수 있다”면서 “국내에서 영향력은 건재하겠지만 주가     모멘텀을 위해서는 대규모 해외 공연 스케줄도 필요하다”고 말했다.올해 계약 만료 예정인 블랙핑크와의 재계약 여부와 더블랙레이블과의 관계 유지도 과제다. 또 다른 빅뱅의 멤버 태양은 더블랙레이블로 이적을 발표했으며, 와이지는 ‘사실 무근’이라고 밝혔지만 블랙핑크 역시 더블랙레이블행을 택했다는 소문이 돌기도 했다.그룹 원타임 출신 프로듀서 테디가 이끌고 있는 더블랙레이블은 2016년 와이지 산하 레이블로 출발했다. 지금은 와이지가 지분을 30%가량 보유하고 있는 관계 회사다. 이적과 상관없이 수장인 테디가 블랙핑크 곡 작업을 책임지고 있는 만큼 와이지 입장에선 더블랙레이블과 협력관계에 문제가 없다는 걸 보여줄 필요가 있다.윤호 기자\\n\\n\\n\\n\\n\\n\\n\\n '"
      ]
     },
     "execution_count": 45,
     "metadata": {},
     "output_type": "execute_result"
    }
   ],
   "source": [
    "# 예시(전처리 후)\n",
    "filtered_df[filtered_df['WRITER']== writer][\"PARSED CONTENT\"].iloc[1]"
   ]
  },
  {
   "cell_type": "markdown",
   "id": "43be659f",
   "metadata": {},
   "source": [
    "## 뉴 프라임경제"
   ]
  },
  {
   "cell_type": "code",
   "execution_count": 46,
   "id": "103b05c3",
   "metadata": {
    "scrolled": true
   },
   "outputs": [
    {
     "data": {
      "text/plain": [
       "'[프라임경제] 한증막은 \\'한\\'주간 \\'증\\'시가 \\'막\\'을 내렸다의 줄임말로 즉 국내증시가 한주동안 어떤 요인으로 상승 또는 하락했는지 이유를 살펴본다.이번 주 한증막은 미국의 긴축 우려다. 지난 16일 코스피 지수는 2451.21에 마감했다. 전주 대비로는 0.7% 하락했다. 코스피가 2400선에서 횡보하고 있다. 이번 주는 에스엠(041510) 인수, 위믹스 재상장 등 개별 업종과 종목에서 이벤트가 열렸다.김석환 미래에셋증권 연구원은 \"국내증시는 미국의 1월 생산자물가지수(PPI) 지수도 예상치를 상회하면서 인플레이션 부담 확대와 연준 위원들의 50bp 금리 인상 발언까지 더해지며 약세로 마감한 미국 증시 여파가 반영됐다\"고 설명했다.이어 \"철강, 건설, 기계 등 시크리컬 업종이 상승했다\"며 \"전날 국내 증시 상승을 이끈 2차전지, 반도체 대형주 전반은 차익실현 매물 출회가 확대됐다\"고 덧붙였다.◆연준, 0.50%p 인상 가능성에 시장 \\'낙담\\'16일(현지시간) 미 노동부는 1월 생산자물가지수(PPI)가 전월보다 0.7%, 전년 동월보다 6.0% 각각 올랐다고 밝혔다. 전월 대비 상승률은 지난해 6월 이후 가장 큰 폭이다. 지난해 12월 0.2% 하락했다가 다시 상승세로 돌아섰다.지난달 PPI는 블룸버그통신이 집계한 전문가 전망치(전월 대비 0.4%·전년 대비 5.4%를 큰 폭 상회했다. 전년 동월 대비로는 상승폭이 12월(6.5%)보다 줄어 7개월 연속 감속했다. 다만 여전히 미 연방준비제도(Fed·연준)의 물가상승률 목표치 2%의 3배에 이른다.로레타 메스터 클리블랜드 연방준비은행 총재는 기자들과 만나 \"이전 회의에서 0.50%p 인상의 강력한 근거를 봤다\"며 향후 회의에서 0.50%p 인상 가능성을 배제하지 않고 있음을 시사했다.◆尹 \"에너지요금 조절·공공요금 동결\"지난 15일 오전 윤 대통령은 용산 대통령실에서 제13차 비상경제민생회의 모두발언에서 \"난방비 부담이 크게 늘어난 가운데, 교통 등 공공요금 인상 계획 소식까지 더해지면서 (서민과 취약계층이) 어려움을 호소하고 있다\"고 지적했다.이어 \"통신·금융 분야는 공공재적 성격이 강하고 과점 형태를 유지하는 정부의 특허 사업\"이라며 \"많이 어려운 서민 가계에 큰 영향을 미치는 만큼 정부 차원의 제도개선 노력과 함께 업계도 물가안정을 위한 고통 분담에 자발적으로 참여할 필요가 있다\"고 당부했다.이는 통신·금융 업계가 정부 인허가에 기반한 과점 체제로 운영되면서 혜택을 누려온 만큼 경제가 어려울 때 공적인 역할을 다해야 한다는 주문이다. 이에 윤 대통령은 공공·에너지 요금, 통신 비용, 금융 비용 등 \\'4대 민생\\' 분야의 지출 부담 경감을 도모하고 취약계층 지원을 강화하겠다고 밝혔다.이같은 소식에 주식시장에서는 은행주와 통신주가 일제히 하락했다. 종목별로 살펴보면 △하나금융지주(086790) 5.44% △kb금융(105560) 4.91% △신한지주(055550) 3.55% △우리금융지주(316140) 3.1% △기업은행(024110) 2.6% △BNK금융지주(138930) 2.31% △DGB금융지주(139130) 1.69% △SK텔레콤(017670) 2.31% △LG유플러스(032640) 2.06% △KT(030200) 0.45% 모두 하락세를 면치 못했다.◆에스엠 관련주 강세 지속…하이브는 \\'울상\\'이번 주 주식시장에서는 에스엠 인수 관련 소식이 가장 뜨겁다. 이에 에스엠 관련주들이 투자자들로부터 큰 주목을 받고 있다.이번 주(13~17일)에만 에스엠은 13.02% 치솟았다. 같은 기간 △SM C&C(048550) 14.47% 등 에스엠 관련주가 대체로 상승했다.반면, 하이브(352820)는 에스엠 주가 강세로 인해 골머리를 앓고 있다. 하이브가 에스엠 주식을 주당 12만원에 공개매수해 지분을 확보하겠다는 계획에 차질이 생겼기 때문이다.당초 하이브는 내달 1일까지 에스엠 발행주식 총수의 25%(595만1826주)를 주당 12만원 가격으로 공개매수하고 이수만 대주주의 지분(14.8%)까지 더해 최대 39.8%를 확보하겠다는 계획이다.그러나 에스엠 주가가 하이브가 제시한 매수가격 12만원을 넘어서면 주주들이 공개매수에 응할 유인이 사라진다.한편, CJ(001040)는 에스엠 인수전에 참여한다는 소식에 주가가 소폭 오름세를 보였다. 다만 CJ가 \"사실무근\"이라고 부인하면서 상승폭을 반납하며 하락 마감했다.◆위믹스 재상장에 위메이드그룹株 상한가16일에는 상장 폐지됐던 위믹스가 재상장한다는 소식에 위메이드(112040) 그룹주가 모두 상한가로 마감했다. 위믹스는 위메이드가 자체 개발한 가상화폐다.암호화폐거래소 코인원은 이날 오후 6시부터 원화마켓에서 위믹스 거래가 가능하다고 공지했다. 지난해 12월 위믹스는 디지털자산거래소공동협의체(DAXA) 소속 거래소인 코인원, 업비트, 빗썸, 코빗에서 상장 폐지됐다.코인원 관계자는 \"위믹스가 제출한 자료와 향후 대응 계획에 대해 면밀하게 검토했다\"며 \"거래지원 종료 시 발생했던 유통량 위반, 정보 제공 및 신뢰 훼손 등의 문제가 해소돼 위믹스의 상장을 결정했다\"고 설명했다.이같은 소식에 이날 종가 기준 위메이드는 전장 대비 1만2600원(29.86%) 치솟은 5만4800원에 장을 마쳤다. 이외에도 △위메이드맥스(101730) 30% △위메이드플레이(123420) 30% 모두 함박웃음을 지었다. 특히 위메이드맥스는 이틀(17일 8.09%) 연속 강세를 보였다.◆테슬라 대규모 리콜 소식에 2차전지 관련주 약세 전환16일(현지시간) 미국 도로교통안전국(NHTSA)은 테슬라의 완전 자율주행(FSD) 소프트웨어 결함으로 36만2000대 리콜을 결정했다. FSD는 신호등과 표지판 등을 식별해 제어하는 보조장치다.테슬라는 리콜 대상 차량의 FSD 소프트웨어 온라인 업데이트를 무료로 진행할 예정이다. 일론 머스크 테슬라 최고경영자(CEO)는 트위터에서 \"무선 업데이트로 해결할 수 있는 문제를 \\'리콜\\'이라 부른 것은 시대착오적이고 잘못됐다\"며 불만을 표했다.이같은 소식에 테슬라는 뉴욕증권거래소에서 전 거래일 대비 5.7% 내린 202.4달러에 거래를 마쳤다. 테슬라 주가가 급락하자 2차전지 업계에 대한 불안이 작용했다는 해석이다.테슬라 대규모 리콜 여파는 국내 2차전지주에도 영향을 끼쳤다. 17일 종가 기준 LG에너지솔루션(373220)은 전장 대비 2.91% 내린 53만3000원에 거래를 마쳤다. △삼성SDI(006400) 4.22% △에코프로비엠(247540) 0.47% 등 국내 대표 2차전지 관련 기업들도 하락 마감했다.\\xa0에코프로비엠의 경우 이달(1~17일) 들어 13거래일 중 12거래일 상승했다. 상승률만 34.4% 수준이다. 다만 전문가들은 그동안 상승했던 국내 2차전지주가 테슬라발 악재로 인해    상승률이 꺾일 수 있다고 전망했다.김지현 키움증권 연구원은 \"테슬라 리콜 보도가 국내 2차전지 투자심리에 미치는 여파를 주의해야 한다\"고 분석했다. '"
      ]
     },
     "execution_count": 46,
     "metadata": {},
     "output_type": "execute_result"
    }
   ],
   "source": [
    "# 예시(전처리 전)\n",
    "writer = '뉴 프라임경제'  # 언론사 설정 \n",
    "filtered_df[filtered_df['WRITER']== writer][\"PARSED CONTENT\"].iloc[0]  # 확인"
   ]
  },
  {
   "cell_type": "code",
   "execution_count": 47,
   "id": "942a389c",
   "metadata": {},
   "outputs": [],
   "source": [
    "# 불필요한 내용 삭제 1\n",
    "filtered_df.loc[filtered_df['WRITER'] == writer, 'PARSED CONTENT'] = \\\n",
    "    filtered_df.loc[filtered_df['WRITER'] == writer, 'PARSED CONTENT'].str.replace(\"[프라임경제]\", \"\", regex=False)"
   ]
  },
  {
   "cell_type": "code",
   "execution_count": 48,
   "id": "e4e43f75",
   "metadata": {},
   "outputs": [
    {
     "data": {
      "text/plain": [
       "' 한증막은 \\'한\\'주간 \\'증\\'시가 \\'막\\'을 내렸다의 줄임말로 즉 국내증시가 한주동안 어떤 요인으로 상승 또는 하락했는지 이유를 살펴본다.이번 주 한증막은 미국의 긴축 우려다. 지난 16일 코스피 지수는 2451.21에 마감했다. 전주 대비로는 0.7% 하락했다. 코스피가 2400선에서 횡보하고 있다. 이번 주는 에스엠(041510) 인수, 위믹스 재상장 등 개별 업종과 종목에서 이벤트가 열렸다.김석환 미래에셋증권 연구원은 \"국내증시는 미국의 1월 생산자물가지수(PPI) 지수도 예상치를 상회하면서 인플레이션 부담 확대와 연준 위원들의 50bp 금리 인상 발언까지 더해지며 약세로 마감한 미국 증시 여파가 반영됐다\"고 설명했다.이어 \"철강, 건설, 기계 등 시크리컬 업종이 상승했다\"며 \"전날 국내 증시 상승을 이끈 2차전지, 반도체 대형주 전반은 차익실현 매물 출회가 확대됐다\"고 덧붙였다.◆연준, 0.50%p 인상 가능성에 시장 \\'낙담\\'16일(현지시간) 미 노동부는 1월 생산자물가지수(PPI)가 전월보다 0.7%, 전년 동월보다 6.0% 각각 올랐다고 밝혔다. 전월 대비 상승률은 지난해 6월 이후 가장 큰 폭이다. 지난해 12월 0.2% 하락했다가 다시 상승세로 돌아섰다.지난달 PPI는 블룸버그통신이 집계한 전문가 전망치(전월 대비 0.4%·전년 대비 5.4%를 큰 폭 상회했다. 전년 동월 대비로는 상승폭이 12월(6.5%)보다 줄어 7개월 연속 감속했다. 다만 여전히 미 연방준비제도(Fed·연준)의 물가상승률 목표치 2%의 3배에 이른다.로레타 메스터 클리블랜드 연방준비은행 총재는 기자들과 만나 \"이전 회의에서 0.50%p 인상의 강력한 근거를 봤다\"며 향후 회의에서 0.50%p 인상 가능성을 배제하지 않고 있음을 시사했다.◆尹 \"에너지요금 조절·공공요금 동결\"지난 15일 오전 윤 대통령은 용산 대통령실에서 제13차 비상경제민생회의 모두발언에서 \"난방비 부담이 크게 늘어난 가운데, 교통 등 공공요금 인상 계획 소식까지 더해지면서 (서민과 취약계층이) 어려움을 호소하고 있다\"고 지적했다.이어 \"통신·금융 분야는 공공재적 성격이 강하고 과점 형태를 유지하는 정부의 특허 사업\"이라며 \"많이 어려운 서민 가계에 큰 영향을 미치는 만큼 정부 차원의 제도개선 노력과 함께 업계도 물가안정을 위한 고통 분담에 자발적으로 참여할 필요가 있다\"고 당부했다.이는 통신·금융 업계가 정부 인허가에 기반한 과점 체제로 운영되면서 혜택을 누려온 만큼 경제가 어려울 때 공적인 역할을 다해야 한다는 주문이다. 이에 윤 대통령은 공공·에너지 요금, 통신 비용, 금융 비용 등 \\'4대 민생\\' 분야의 지출 부담 경감을 도모하고 취약계층 지원을 강화하겠다고 밝혔다.이같은 소식에 주식시장에서는 은행주와 통신주가 일제히 하락했다. 종목별로 살펴보면 △하나금융지주(086790) 5.44% △kb금융(105560) 4.91% △신한지주(055550) 3.55% △우리금융지주(316140) 3.1% △기업은행(024110) 2.6% △BNK금융지주(138930) 2.31% △DGB금융지주(139130) 1.69% △SK텔레콤(017670) 2.31% △LG유플러스(032640) 2.06% △KT(030200) 0.45% 모두 하락세를 면치 못했다.◆에스엠 관련주 강세 지속…하이브는 \\'울상\\'이번 주 주식시장에서는 에스엠 인수 관련 소식이 가장 뜨겁다. 이에 에스엠 관련주들이 투자자들로부터 큰 주목을 받고 있다.이번 주(13~17일)에만 에스엠은 13.02% 치솟았다. 같은 기간 △SM C&C(048550) 14.47% 등 에스엠 관련주가 대체로 상승했다.반면, 하이브(352820)는 에스엠 주가 강세로 인해 골머리를 앓고 있다. 하이브가 에스엠 주식을 주당 12만원에 공개매수해 지분을 확보하겠다는 계획에 차질이 생겼기 때문이다.당초 하이브는 내달 1일까지 에스엠 발행주식 총수의 25%(595만1826주)를 주당 12만원 가격으로 공개매수하고 이수만 대주주의 지분(14.8%)까지 더해 최대 39.8%를 확보하겠다는 계획이다.그러나 에스엠 주가가 하이브가 제시한 매수가격 12만원을 넘어서면 주주들이 공개매수에 응할 유인이 사라진다.한편, CJ(001040)는 에스엠 인수전에 참여한다는 소식에 주가가 소폭 오름세를 보였다. 다만 CJ가 \"사실무근\"이라고 부인하면서 상승폭을 반납하며 하락 마감했다.◆위믹스 재상장에 위메이드그룹株 상한가16일에는 상장 폐지됐던 위믹스가 재상장한다는 소식에 위메이드(112040) 그룹주가 모두 상한가로 마감했다. 위믹스는 위메이드가 자체 개발한 가상화폐다.암호화폐거래소 코인원은 이날 오후 6시부터 원화마켓에서 위믹스 거래가 가능하다고 공지했다. 지난해 12월 위믹스는 디지털자산거래소공동협의체(DAXA) 소속 거래소인 코인원, 업비트, 빗썸, 코빗에서 상장 폐지됐다.코인원 관계자는 \"위믹스가 제출한 자료와 향후 대응 계획에 대해 면밀하게 검토했다\"며 \"거래지원 종료 시 발생했던 유통량 위반, 정보 제공 및 신뢰 훼손 등의 문제가 해소돼 위믹스의 상장을 결정했다\"고 설명했다.이같은 소식에 이날 종가 기준 위메이드는 전장 대비 1만2600원(29.86%) 치솟은 5만4800원에 장을 마쳤다. 이외에도 △위메이드맥스(101730) 30% △위메이드플레이(123420) 30% 모두 함박웃음을 지었다. 특히 위메이드맥스는 이틀(17일 8.09%) 연속 강세를 보였다.◆테슬라 대규모 리콜 소식에 2차전지 관련주 약세 전환16일(현지시간) 미국 도로교통안전국(NHTSA)은 테슬라의 완전 자율주행(FSD) 소프트웨어 결함으로 36만2000대 리콜을 결정했다. FSD는 신호등과 표지판 등을 식별해 제어하는 보조장치다.테슬라는 리콜 대상 차량의 FSD 소프트웨어 온라인 업데이트를 무료로 진행할 예정이다. 일론 머스크 테슬라 최고경영자(CEO)는 트위터에서 \"무선 업데이트로 해결할 수 있는 문제를 \\'리콜\\'이라 부른 것은 시대착오적이고 잘못됐다\"며 불만을 표했다.이같은 소식에 테슬라는 뉴욕증권거래소에서 전 거래일 대비 5.7% 내린 202.4달러에 거래를 마쳤다. 테슬라 주가가 급락하자 2차전지 업계에 대한 불안이 작용했다는 해석이다.테슬라 대규모 리콜 여파는 국내 2차전지주에도 영향을 끼쳤다. 17일 종가 기준 LG에너지솔루션(373220)은 전장 대비 2.91% 내린 53만3000원에 거래를 마쳤다. △삼성SDI(006400) 4.22% △에코프로비엠(247540) 0.47% 등 국내 대표 2차전지 관련 기업들도 하락 마감했다.\\xa0에코프로비엠의 경우 이달(1~17일) 들어 13거래일 중 12거래일 상승했다. 상승률만 34.4% 수준이다. 다만 전문가들은 그동안 상승했던 국내 2차전지주가 테슬라발 악재로 인해    상승률이 꺾일 수 있다고 전망했다.김지현 키움증권 연구원은 \"테슬라 리콜 보도가 국내 2차전지 투자심리에 미치는 여파를 주의해야 한다\"고 분석했다. '"
      ]
     },
     "execution_count": 48,
     "metadata": {},
     "output_type": "execute_result"
    }
   ],
   "source": [
    "# 예시(전처리 후)\n",
    "filtered_df[filtered_df['WRITER']== writer][\"PARSED CONTENT\"].iloc[0]"
   ]
  },
  {
   "cell_type": "markdown",
   "id": "e29166fc",
   "metadata": {},
   "source": [
    "## 뉴스웨이"
   ]
  },
  {
   "cell_type": "code",
   "execution_count": 49,
   "id": "6ce5de47",
   "metadata": {},
   "outputs": [
    {
     "data": {
      "text/plain": [
       "'하이브가 에스엠의 경영권 확보를 위한 지분 인수에 나서면서 에스엠 주가가 12%대 강세를 보이고 있다. \\\\n \\\\n10일 오전 9시15분 기준 에스엠은 전 거래일 대비 12.18%(1만2000원) 오른 11만500원에 거래되고 있다.  \\\\n \\\\n이날 하이브는 이수만 SM 대주주가 보유한 지분 14.8%를 4228억 원에 인수한다고 공시했다. 주당 가격은 12만 원이다. SM 1대 주주인 이수만의 지분율은 18.46%로, 하이브는 이번 거래로 최대주주에 오르게 됐다. \\\\n \\\\n한편 같은 시간 하이브는 전 거래일 대비 3.88%(7700원) 오른 20만6000원에 거래되고 있다. \\\\n\\\\n임주희 기자 ljh@newsway.co.kr\\\\n\\\\n<온라인 경제미디어 뉴스웨이 - 무단전재 & 재배포 금지>                                                                                                                                                                                                                                                                                                                                                                                                                                                                                                                                                                                                                                                                                                                                                                                                                                                                                                                                                                                                                                                                                                                                                                                                                                                                                                                                                                                                                                                                                                                                 '"
      ]
     },
     "execution_count": 49,
     "metadata": {},
     "output_type": "execute_result"
    }
   ],
   "source": [
    "# 예시(전처리 전)\n",
    "writer = '뉴스웨이'  # 언론사 설정 \n",
    "filtered_df[filtered_df['WRITER']== writer][\"PARSED CONTENT\"].iloc[0]  # 확인"
   ]
  },
  {
   "cell_type": "code",
   "execution_count": 50,
   "id": "5df69220",
   "metadata": {},
   "outputs": [],
   "source": [
    "# 불필요한 내용 삭제 1\n",
    "filtered_df.loc[filtered_df['WRITER'] == writer, 'PARSED CONTENT'] = \\\n",
    "    filtered_df.loc[filtered_df['WRITER'] == writer, 'PARSED CONTENT'].str.replace(\"@newsway.co.kr\\n\\n<온라인 경제미디어 뉴스웨이 - 무단전재 & 재배포 금지>\", \"\", regex=False)"
   ]
  },
  {
   "cell_type": "code",
   "execution_count": 51,
   "id": "6effaad3",
   "metadata": {
    "scrolled": true
   },
   "outputs": [
    {
     "data": {
      "text/plain": [
       "'하이브가 에스엠의 경영권 확보를 위한 지분 인수에 나서면서 에스엠 주가가 12%대 강세를 보이고 있다. \\\\n \\\\n10일 오전 9시15분 기준 에스엠은 전 거래일 대비 12.18%(1만2000원) 오른 11만500원에 거래되고 있다.  \\\\n \\\\n이날 하이브는 이수만 SM 대주주가 보유한 지분 14.8%를 4228억 원에 인수한다고 공시했다. 주당 가격은 12만 원이다. SM 1대 주주인 이수만의 지분율은 18.46%로, 하이브는 이번 거래로 최대주주에 오르게 됐다. \\\\n \\\\n한편 같은 시간 하이브는 전 거래일 대비 3.88%(7700원) 오른 20만6000원에 거래되고 있다. \\\\n\\\\n임주희 기자 ljh@newsway.co.kr\\\\n\\\\n<온라인 경제미디어 뉴스웨이 - 무단전재 & 재배포 금지>                                                                                                                                                                                                                                                                                                                                                                                                                                                                                                                                                                                                                                                                                                                                                                                                                                                                                                                                                                                                                                                                                                                                                                                                                                                                                                                                                                                                                                                                                                                                 '"
      ]
     },
     "execution_count": 51,
     "metadata": {},
     "output_type": "execute_result"
    }
   ],
   "source": [
    "# 예시(전처리 후)\n",
    "filtered_df[filtered_df['WRITER']== writer][\"PARSED CONTENT\"].iloc[0]"
   ]
  },
  {
   "cell_type": "markdown",
   "id": "3e51c8b8",
   "metadata": {},
   "source": [
    "## IR 큐더스 "
   ]
  },
  {
   "cell_type": "code",
   "execution_count": 52,
   "id": "dad5e756",
   "metadata": {},
   "outputs": [
    {
     "data": {
      "text/plain": [
       "'[보도자료] 자이언트스텝, ‘2022 앤어워드’ 디지털 미디어＆서비스 부문 최고상 수상\\xa0▶ 디지털 미디어&서비스 부문 최고상인 과기부 장관상 포함 3관왕 달성_x000D_▶ ‘디페스타 XR콘서트’, ‘지구의 시간 전시회’ 등 고도화된 확장 현실 콘텐츠 구현_x000D_\\xa0_x000D_<2023-01-16> 리얼타임 콘텐츠 솔루션 기업 자이언트스텝(289220)이 ‘2022 앤어워드’ 디지털 미디어&서비스 부문 최고상인 과학기술통신부 장관상을 수상했다고 16일 밝혔다. 자이언트스텝은 지난해 앤어워드 2관왕에 이어 올해에는 3관왕을 달성하는 영예를 안게 됐다._x000D__x000D_   _x000D__x000D_자이언트스텝이 제작한 ‘디페스타 XR 콘서트(D′FESTA: XR CONCERT)′ 콘텐츠가 ‘디지털 미디어 & 서비스’ 부문 출품작 중 최고 점수를 획득해 최고상인 과학기술정보통신부 장관상을 수상했다. 이밖에도 ′지구의 시간 전시회′, ′광주미디어아트플랫폼′ 콘텐츠가 ′디지털 미디어 & 서비스’ 정부/공공/지자체 부문 그랑프리와 위너로 각각 선정됐다._x000D__x000D_   _x000D__x000D_최고상 수상작 ‘디페스타 XR콘서트’는 BTS, 트와이스, 세븐틴, NCT127 등 아티스트들의 무대를 확장 현실(XR)로 즐길 수 있게 제작한 콘텐츠이다. 가상 공연장을 제작해 실제 오프라인 콘서트 같은 실황 공연을 연출했으며, 아티스트들의 무대를 실제 공연처럼 느낄 만큼 고도화된 확장 현실 콘텐츠를 제작했다. 또한, 같이 수상한 ′지구의 시간 전시회′, ′광주미디어아트플랫폼′은 몰입감 있는 인터랙티브 미디어아트 콘텐츠를 구현했다는 평을 받고 있다._x000D__x000D_   _x000D__x000D_앤어워드(Awards for New Digital Awards)는 한 해 동안 디지털산업에 기여한 작품들을 공정한 심사를 통해 수상하는 국내 최대의 디지털 분야 어워드 행사로 올해로 16회째를 맞이했다. 한국디지털기업협회가 주관하고 과학기술정보통신부,            문화체육관광부, 한국방송광고진흥공사, 한국인터넷진흥원이 공식 후원하고 있다._x000D__x000D_   _x000D__x000D_자이언트스텝 관계자는 “자이언트스텝이 제작한 확장 현실 콘텐츠가 공신력 있는 앤어워드 수상을 통해 인정받아 기쁘다”라며, “앞으로도 대중에게 신선한 볼거리를 제공할 수 있는 리얼타임 콘텐츠 제작 역량 강화에 더욱 집중할 것”이라고 말했다._x000D__x000D_   _x000D__x000D_한편, 자이언트스텝은 2008년에 설립된 리얼타임 콘텐츠 솔루션 전문 기업이다. AI 기반 버추얼 휴먼 제작, 실시간 XR 콘텐츠, 리얼타임 콘텐츠, 광고 및 영상 VFX 등 크레에이티브 테크 기업으로서 다양한 분야의 사업을 영위하고 있다._x000D__x000D_   _x000D__x000D_\\xa0·  \\xa0자이언트스텝 IR Page에 접속하시면 다양한 투자 정보를 확인할 수 있습니다.\\xa0본 내용은 기업에 대한 이해 증진을 위한 목적으로, 투자 권유를 목적으로 한 것이 아닙니다.투자에 관한 결정은 투자자 본인에게 있으며, 회사는 투자에 관해 일체의 책임을 지지 않습니다.\\xa0 '"
      ]
     },
     "execution_count": 52,
     "metadata": {},
     "output_type": "execute_result"
    }
   ],
   "source": [
    "# 예시(전처리 전)\n",
    "writer = 'IR큐더스'  # 언론사 설정 \n",
    "filtered_df[filtered_df['WRITER']== writer][\"PARSED CONTENT\"].iloc[0]  # 확인"
   ]
  },
  {
   "cell_type": "code",
   "execution_count": 53,
   "id": "94289ba3",
   "metadata": {},
   "outputs": [],
   "source": [
    "# 불필요한 내용 삭제 1\n",
    "filtered_df.loc[filtered_df['WRITER'] == writer, 'PARSED CONTENT'] = \\\n",
    "    filtered_df.loc[filtered_df['WRITER'] == writer, 'PARSED CONTENT'].str.replace(\"본 내용은 기업에 대한 이해 증진을 위한 목적으로, 투자 권유를 목적으로 한 것이 아닙니다.투자에 관한 결정은 투자자 본인에게 있으며, 회사는 투자에 관해 일체의 책임을 지지 않습니다.\", \"\", regex=False)"
   ]
  },
  {
   "cell_type": "code",
   "execution_count": 54,
   "id": "58d14521",
   "metadata": {},
   "outputs": [],
   "source": [
    "# 불필요한 내용 삭제 2\n",
    "filtered_df.loc[filtered_df['WRITER'] == writer, 'PARSED CONTENT'] = \\\n",
    "    filtered_df.loc[filtered_df['WRITER'] == writer, 'PARSED CONTENT'].str.replace(\"Q&A시간 : 10시 ~ 12시\", \"\", regex=False)"
   ]
  },
  {
   "cell_type": "code",
   "execution_count": 55,
   "id": "0c5c4d3c",
   "metadata": {},
   "outputs": [],
   "source": [
    "# 불필요한 내용 삭제 3\n",
    "filtered_df.loc[filtered_df['WRITER'] == writer, 'PARSED CONTENT'] = \\\n",
    "    filtered_df.loc[filtered_df['WRITER'] == writer, 'PARSED CONTENT'].str.replace(\"IR Page에 접속하시면 다양한 투자 정보를 확인할 수 있습니다.\", \"\", regex=False)"
   ]
  },
  {
   "cell_type": "code",
   "execution_count": 56,
   "id": "ef3059eb",
   "metadata": {},
   "outputs": [
    {
     "data": {
      "text/plain": [
       "'[보도자료] 자이언트스텝, ‘2022 앤어워드’ 디지털 미디어＆서비스 부문 최고상 수상\\xa0▶ 디지털 미디어&서비스 부문 최고상인 과기부 장관상 포함 3관왕 달성_x000D_▶ ‘디페스타 XR콘서트’, ‘지구의 시간 전시회’ 등 고도화된 확장 현실 콘텐츠 구현_x000D_\\xa0_x000D_<2023-01-16> 리얼타임 콘텐츠 솔루션 기업 자이언트스텝(289220)이 ‘2022 앤어워드’ 디지털 미디어&서비스 부문 최고상인 과학기술통신부 장관상을 수상했다고 16일 밝혔다. 자이언트스텝은 지난해 앤어워드 2관왕에 이어 올해에는 3관왕을 달성하는 영예를 안게 됐다._x000D__x000D_   _x000D__x000D_자이언트스텝이 제작한 ‘디페스타 XR 콘서트(D′FESTA: XR CONCERT)′ 콘텐츠가 ‘디지털 미디어 & 서비스’ 부문 출품작 중 최고 점수를 획득해 최고상인 과학기술정보통신부 장관상을 수상했다. 이밖에도 ′지구의 시간 전시회′, ′광주미디어아트플랫폼′ 콘텐츠가 ′디지털 미디어 & 서비스’ 정부/공공/지자체 부문 그랑프리와 위너로 각각 선정됐다._x000D__x000D_   _x000D__x000D_최고상 수상작 ‘디페스타 XR콘서트’는 BTS, 트와이스, 세븐틴, NCT127 등 아티스트들의 무대를 확장 현실(XR)로 즐길 수 있게 제작한 콘텐츠이다. 가상 공연장을 제작해 실제 오프라인 콘서트 같은 실황 공연을 연출했으며, 아티스트들의 무대를 실제 공연처럼 느낄 만큼 고도화된 확장 현실 콘텐츠를 제작했다. 또한, 같이 수상한 ′지구의 시간 전시회′, ′광주미디어아트플랫폼′은 몰입감 있는 인터랙티브 미디어아트 콘텐츠를 구현했다는 평을 받고 있다._x000D__x000D_   _x000D__x000D_앤어워드(Awards for New Digital Awards)는 한 해 동안 디지털산업에 기여한 작품들을 공정한 심사를 통해 수상하는 국내 최대의 디지털 분야 어워드 행사로 올해로 16회째를 맞이했다. 한국디지털기업협회가 주관하고 과학기술정보통신부,            문화체육관광부, 한국방송광고진흥공사, 한국인터넷진흥원이 공식 후원하고 있다._x000D__x000D_   _x000D__x000D_자이언트스텝 관계자는 “자이언트스텝이 제작한 확장 현실 콘텐츠가 공신력 있는 앤어워드 수상을 통해 인정받아 기쁘다”라며, “앞으로도 대중에게 신선한 볼거리를 제공할 수 있는 리얼타임 콘텐츠 제작 역량 강화에 더욱 집중할 것”이라고 말했다._x000D__x000D_   _x000D__x000D_한편, 자이언트스텝은 2008년에 설립된 리얼타임 콘텐츠 솔루션 전문 기업이다. AI 기반 버추얼 휴먼 제작, 실시간 XR 콘텐츠, 리얼타임 콘텐츠, 광고 및 영상 VFX 등 크레에이티브 테크 기업으로서 다양한 분야의 사업을 영위하고 있다._x000D__x000D_   _x000D__x000D_\\xa0·  \\xa0자이언트스텝 \\xa0\\xa0 '"
      ]
     },
     "execution_count": 56,
     "metadata": {},
     "output_type": "execute_result"
    }
   ],
   "source": [
    "# 예시(전처리 후)\n",
    "filtered_df[filtered_df['WRITER']== writer][\"PARSED CONTENT\"].iloc[0]"
   ]
  },
  {
   "cell_type": "markdown",
   "id": "108c8b44",
   "metadata": {},
   "source": [
    "## 매일 경제 "
   ]
  },
  {
   "cell_type": "code",
   "execution_count": 57,
   "id": "03f525bb",
   "metadata": {
    "scrolled": true
   },
   "outputs": [
    {
     "data": {
      "text/plain": [
       "'증권사들이 작년 데뷔한 신인 걸그룹 뉴진스의 빌보드 핫100 차트 진입 등을 계기로 하이브의 목표주가를 잇따라 올렸다.하이투자증권은 20일 낸 리포트에서 뉴진스의 글로벌 성과와 위버스 비즈니스모델 고도화 등을 고려해 목표 주가수익비율(PER) 39배를 적용, 하이브의 목표주가를 기존 19만2000천원에서 23만원으로 올렸다. 2018년 기준 엔터테인먼트사 평균 PER은 30배지만 하이브의 기업 가치를 고려하면 더 높은 PER 적용이 필요하다는 분석이다.하이투자증권은 “뉴진스는 국내에서만 아니라 미국, 일본 등 글로벌 주요 음악시장에서 K팝 기준 최소 3위 이상의 성과를 보여주고 있다”며 “뉴진스의 스포티파이 스트리밍 성적은 트와이스를 뛰어넘고 블랙핑크에 근접하는 수준”이라고 설명했다.그러면서 “뉴진스의 스포티파이 청취자 수 성장 추세가 과거 블랙핑크의 성장 패턴을 압축적으로 보여준다”면서 “주요 시장인 미국 등에서 특히 반응이 좋아 블랙핑크보다 이른 시간 안에 블랙핑크 이상의 입지를 구축할 가능성이 높다”고 말했다.메리츠증권도 하이브에 대해 보이그룹 TXT와 세븐틴의 콘서트 규모 확대, 위버스의 구독 모델 도입, 뉴진스의 빠른 성장세 등으로 호실적이 예상된다며 투자의견을 ‘매수’로 유지, 목표주가는 기존 17만원에서 21만원으로 상향했다.이 외에 IBK투자증권(18만원→20만원), 다올투자증권(15만원→23만원), 한화투자증권(18만5000원→20만5000원) 등도 이달 들어 목표가를 높게 조정했다._x000D_\\n_x000D_\\n_x000D_\\n_x000D_\\n                                                                                                                                                                                                                                                                                                                                                                                                                                                                                                                                                                                             '"
      ]
     },
     "execution_count": 57,
     "metadata": {},
     "output_type": "execute_result"
    }
   ],
   "source": [
    "# 예시(전처리 전)\n",
    "writer = '매일경제'  # 언론사 설정 \n",
    "filtered_df[filtered_df['WRITER']== writer][\"PARSED CONTENT\"].iloc[0]  # 확인"
   ]
  },
  {
   "cell_type": "code",
   "execution_count": 58,
   "id": "e9a9010b",
   "metadata": {},
   "outputs": [],
   "source": [
    "# 불필요한 내용 삭제 1\n",
    "# [오거스타  이후내용 삭제 \n",
    "pattern = r'\\[오거스타[^\\]]*\\]'\n",
    "filtered_df.loc[filtered_df['WRITER'] == writer, 'PARSED CONTENT'] = \\\n",
    "    filtered_df.loc[filtered_df['WRITER'] == writer, 'PARSED CONTENT'].apply(lambda text: re.sub(pattern, '', text))"
   ]
  },
  {
   "cell_type": "code",
   "execution_count": 59,
   "id": "16fd30db",
   "metadata": {},
   "outputs": [],
   "source": [
    "# 불필요한 내용 삭제 2\n",
    "# [ⓒ 이후내용 삭제 \n",
    "pattern = r'\\[ⓒ[^\\]]*\\]'\n",
    "filtered_df.loc[filtered_df['WRITER'] == writer, 'PARSED CONTENT'] = \\\n",
    "    filtered_df.loc[filtered_df['WRITER'] == writer, 'PARSED CONTENT'].apply(lambda text: re.sub(pattern, '', text))\n"
   ]
  },
  {
   "cell_type": "code",
   "execution_count": 60,
   "id": "4f1dc8a5",
   "metadata": {},
   "outputs": [
    {
     "data": {
      "text/plain": [
       "'증권사들이 작년 데뷔한 신인 걸그룹 뉴진스의 빌보드 핫100 차트 진입 등을 계기로 하이브의 목표주가를 잇따라 올렸다.하이투자증권은 20일 낸 리포트에서 뉴진스의 글로벌 성과와 위버스 비즈니스모델 고도화 등을 고려해 목표 주가수익비율(PER) 39배를 적용, 하이브의 목표주가를 기존 19만2000천원에서 23만원으로 올렸다. 2018년 기준 엔터테인먼트사 평균 PER은 30배지만 하이브의 기업 가치를 고려하면 더 높은 PER 적용이 필요하다는 분석이다.하이투자증권은 “뉴진스는 국내에서만 아니라 미국, 일본 등 글로벌 주요 음악시장에서 K팝 기준 최소 3위 이상의 성과를 보여주고 있다”며 “뉴진스의 스포티파이 스트리밍 성적은 트와이스를 뛰어넘고 블랙핑크에 근접하는 수준”이라고 설명했다.그러면서 “뉴진스의 스포티파이 청취자 수 성장 추세가 과거 블랙핑크의 성장 패턴을 압축적으로 보여준다”면서 “주요 시장인 미국 등에서 특히 반응이 좋아 블랙핑크보다 이른 시간 안에 블랙핑크 이상의 입지를 구축할 가능성이 높다”고 말했다.메리츠증권도 하이브에 대해 보이그룹 TXT와 세븐틴의 콘서트 규모 확대, 위버스의 구독 모델 도입, 뉴진스의 빠른 성장세 등으로 호실적이 예상된다며 투자의견을 ‘매수’로 유지, 목표주가는 기존 17만원에서 21만원으로 상향했다.이 외에 IBK투자증권(18만원→20만원), 다올투자증권(15만원→23만원), 한화투자증권(18만5000원→20만5000원) 등도 이달 들어 목표가를 높게 조정했다._x000D_\\n_x000D_\\n_x000D_\\n_x000D_\\n                                                                                                                                                                                                                                                                                                                                                                                                                                                                                                                                                                                             '"
      ]
     },
     "execution_count": 60,
     "metadata": {},
     "output_type": "execute_result"
    }
   ],
   "source": [
    "# 예시(전처리 후)\n",
    "filtered_df[filtered_df['WRITER']== writer][\"PARSED CONTENT\"].iloc[0]"
   ]
  },
  {
   "cell_type": "markdown",
   "id": "bd346d3a",
   "metadata": {},
   "source": [
    "## 연합 인포 해외 → 해당 언론사 기사 없음(필터링 과정에서 제거됨)"
   ]
  },
  {
   "cell_type": "markdown",
   "id": "55cc2246",
   "metadata": {},
   "source": [
    "## 한경 WOW 해외 → 해당 언론사 기사 없음(필터링 과정에서 제거됨)"
   ]
  },
  {
   "cell_type": "markdown",
   "id": "906ddfac",
   "metadata": {},
   "source": [
    "## CNBC(AI뉴스) → 해당 언론사 기사 없음(필터링 과정에서 제거됨)\n"
   ]
  },
  {
   "cell_type": "markdown",
   "id": "4addd3c0",
   "metadata": {},
   "source": [
    "## 아시아경제"
   ]
  },
  {
   "cell_type": "code",
   "execution_count": 61,
   "id": "5b79a284",
   "metadata": {
    "scrolled": true
   },
   "outputs": [
    {
     "data": {
      "text/plain": [
       "'[아시아경제 이민지 기자] NH투자증권은 19일 와이지엔터테인먼트에 대해 투자의견 매수와 목표주가 7만7000원을 유지했다. 블랙핑크의 재계약 불확실성이 남아있지만, 신인 걸그룹 론칭과 GD의 솔로 활동이 주가 상승을 끌어낼 것으로 예상했다.\\n\\n와이지엔터테인먼트는 지난해 12월 말 양현석 총괄 관련 이슈가 해소된 이후 사업 전반에 속도가 붙고 있다. 일부 아티스트 라인업을 정리하고 주려 아티스트 중심의 사업 진행에 박차를 가하고 있다. 1월 초에는 신인 걸그룹인 베이비몬스터 론칭 티저가 공개됐고, GD의 경우 직접 본인의 연내 솔로 활동 재개 의지를 밝혔다.\\n이화정 NH투자증권 연구원은 “베이비몬스터의 경우 멤버들의 퍼포먼스 티저 영상이 매주 공개되고 있는데 지금까지 대중 반응은 우호적이다”며 “신인에 GD의 지원사격까지 더해지며 단일 아티스트 의존도가 해소될 것”이라고 설명했다.\\n블랙핑크 재계약 이슈로 주가는 저평가를 받고 있지만, 부정적인 이슈를 미리 고려할 필요성은 없을 것으로 보인다. 블랙핑크의 계약 만기일은 올해 8월이다. 이화정 연구원은 “아티스트와 기업 양쪽의 실익을 고려할 때 재계약이 무난히 진행될 가능성이 높다”며 “과도한 우려는 내려놓을 시점”이라고 분석했다.\\n4분기 예상 매출액은 1455억원, 영업이익은 23억원으로 전년동기대비 각각 64%, 74% 성장할 것으로 추정된다. 블랙핑크 월드투어 관련 티켓과 MD 수익 반영됐기 때문이다. 트레저의 일본투어 관련 수익도 인식될 것으로 예상된다.\\n\\n[관련기사]\\n☞ \\n☞ \\n☞ \\n☞ \\n☞ \\n\\xa0\\xa0\\n\\n이민지 기자 ming@asiae.co.kr\\n<ⓒ경제를 보는 눈, 세계를 보는 창 아시아경제(www.asiae.co.kr) 무단전재 배포금지>\\n                                                                                                                                                                                                                                                                                                                                                                                                                                                                                                                                                                                                                                               '"
      ]
     },
     "execution_count": 61,
     "metadata": {},
     "output_type": "execute_result"
    }
   ],
   "source": [
    "# 예시(전처리 전)\n",
    "writer = '아시아경제'  # 언론사 설정 \n",
    "filtered_df[filtered_df['WRITER']== writer][\"PARSED CONTENT\"].iloc[0]  # 확인"
   ]
  },
  {
   "cell_type": "code",
   "execution_count": 62,
   "id": "b3fcc9ae",
   "metadata": {},
   "outputs": [],
   "source": [
    "# 불필요한 내용 삭제 1\n",
    "# [관련기사] 이후내용 삭제\n",
    "pattern = r'\\[관련기사[^\\]]*\\].*'\n",
    "filtered_df.loc[filtered_df['WRITER'] == writer, 'PARSED CONTENT'] = \\\n",
    "    filtered_df.loc[filtered_df['WRITER'] == writer, 'PARSED CONTENT'].apply(lambda text: re.sub(pattern, '', text, flags=re.DOTALL))\n"
   ]
  },
  {
   "cell_type": "code",
   "execution_count": 63,
   "id": "5dd4617e",
   "metadata": {},
   "outputs": [
    {
     "data": {
      "text/plain": [
       "'[아시아경제 이민지 기자] NH투자증권은 19일 와이지엔터테인먼트에 대해 투자의견 매수와 목표주가 7만7000원을 유지했다. 블랙핑크의 재계약 불확실성이 남아있지만, 신인 걸그룹 론칭과 GD의 솔로 활동이 주가 상승을 끌어낼 것으로 예상했다.\\n\\n와이지엔터테인먼트는 지난해 12월 말 양현석 총괄 관련 이슈가 해소된 이후 사업 전반에 속도가 붙고 있다. 일부 아티스트 라인업을 정리하고 주려 아티스트 중심의 사업 진행에 박차를 가하고 있다. 1월 초에는 신인 걸그룹인 베이비몬스터 론칭 티저가 공개됐고, GD의 경우 직접 본인의 연내 솔로 활동 재개 의지를 밝혔다.\\n이화정 NH투자증권 연구원은 “베이비몬스터의 경우 멤버들의 퍼포먼스 티저 영상이 매주 공개되고 있는데 지금까지 대중 반응은 우호적이다”며 “신인에 GD의 지원사격까지 더해지며 단일 아티스트 의존도가 해소될 것”이라고 설명했다.\\n블랙핑크 재계약 이슈로 주가는 저평가를 받고 있지만, 부정적인 이슈를 미리 고려할 필요성은 없을 것으로 보인다. 블랙핑크의 계약 만기일은 올해 8월이다. 이화정 연구원은 “아티스트와 기업 양쪽의 실익을 고려할 때 재계약이 무난히 진행될 가능성이 높다”며 “과도한 우려는 내려놓을 시점”이라고 분석했다.\\n4분기 예상 매출액은 1455억원, 영업이익은 23억원으로 전년동기대비 각각 64%, 74% 성장할 것으로 추정된다. 블랙핑크 월드투어 관련 티켓과 MD 수익 반영됐기 때문이다. 트레저의 일본투어 관련 수익도 인식될 것으로 예상된다.\\n\\n'"
      ]
     },
     "execution_count": 63,
     "metadata": {},
     "output_type": "execute_result"
    }
   ],
   "source": [
    "# 예시(전처리 후)\n",
    "filtered_df[filtered_df['WRITER']== writer][\"PARSED CONTENT\"].iloc[0]"
   ]
  },
  {
   "cell_type": "markdown",
   "id": "b12c8210",
   "metadata": {},
   "source": [
    "## 컨슈머타임스"
   ]
  },
  {
   "cell_type": "code",
   "execution_count": 64,
   "id": "bac57300",
   "metadata": {
    "scrolled": true
   },
   "outputs": [
    {
     "data": {
      "text/plain": [
       "\"_x000D_\\n_x000D_\\n[사진= 물고기컴퍼니, 빅히트 뮤직, SM엔터테인먼트 제공] _x000D_\\n_x000D_\\n_x000D_\\n_x000D_\\n컨슈머타임스=김동역 기자 | '더팩트 뮤직 어워즈(TMA)'가 'TMA 베스트 뮤직' 부문을 신설했다. \\n_x000D_\\n_x000D_\\n2일부터 16일까지 2주 동안 팬앤스타에서 '더팩트 뮤직 어워즈'의 'TMA 베스트 뮤직 - 겨울' 부문 온라인 사전 투표가 진행된다.\\n_x000D_\\n_x000D_\\n결선 투표는 오는 16일부터 30일까지 2주간 이어진다. \\n_x000D_\\n_x000D_\\n'TMA 베스트 뮤직'은 분기별로 음원을 발매한 아티스트를 대상으로 하는 투표다. 이번에 진행되는 'TMA 베스트 뮤직 - 겨울' 부문에는 2022년 10월부터 12월까지 OST를 제외하고 음원을 발매한 모든 아티스트를 대상으로 투표를 진행한다. \\n_x000D_\\n_x000D_\\n이에 방탄소년단 진RM, 임영웅, 김호중, 장민호, NCT 드림, 스트레이 키즈, 더보이즈, 에이티즈, ITZY, 트레저, 르세라핌, 뉴진스, 강다니엘, 황치열, 마마무, 하이라이트, 엔플라잉, 케플러, 백호, 포레스텔라, 박지훈, 빅톤, 업텐션, 레드벨벳, 보아, 베리베리 등 기간 내 음원을 발매한 다채로운 아티스트가 후보로 올랐다. \\n_x000D_\\n_x000D_\\n투표는 온라인 종합 매체 더팩트가 운영하는 아이돌 전문 종합 서비스 팬앤스타를 통해 진행되며 '일반별'과 '무지개별', 동영상 광고를 시청해 참여하는 '동영상 투표'까지 세 가지 방식으로 투표할 수 있다.\\n\""
      ]
     },
     "execution_count": 64,
     "metadata": {},
     "output_type": "execute_result"
    }
   ],
   "source": [
    "# 예시(전처리 전)\n",
    "writer = '컨슈머타임스'  # 언론사 설정 \n",
    "filtered_df[filtered_df['WRITER']== writer][\"PARSED CONTENT\"].iloc[1]  # 확인"
   ]
  },
  {
   "cell_type": "code",
   "execution_count": 65,
   "id": "61d30675",
   "metadata": {},
   "outputs": [],
   "source": [
    "# 불필요한 내용 삭제 1\n",
    "# 컨슈머타임스= 이전내용 모두삭제\n",
    "pattern = r'.*컨슈머타임스='\n",
    "filtered_df.loc[filtered_df['WRITER'] == writer, 'PARSED CONTENT'] = \\\n",
    "    filtered_df.loc[filtered_df['WRITER'] == writer, 'PARSED CONTENT'].apply(lambda text: re.sub(pattern, '', text, flags=re.DOTALL))\n"
   ]
  },
  {
   "cell_type": "code",
   "execution_count": 66,
   "id": "f60dde06",
   "metadata": {},
   "outputs": [
    {
     "data": {
      "text/plain": [
       "\"김동역 기자 | '더팩트 뮤직 어워즈(TMA)'가 'TMA 베스트 뮤직' 부문을 신설했다. \\n_x000D_\\n_x000D_\\n2일부터 16일까지 2주 동안 팬앤스타에서 '더팩트 뮤직 어워즈'의 'TMA 베스트 뮤직 - 겨울' 부문 온라인 사전 투표가 진행된다.\\n_x000D_\\n_x000D_\\n결선 투표는 오는 16일부터 30일까지 2주간 이어진다. \\n_x000D_\\n_x000D_\\n'TMA 베스트 뮤직'은 분기별로 음원을 발매한 아티스트를 대상으로 하는 투표다. 이번에 진행되는 'TMA 베스트 뮤직 - 겨울' 부문에는 2022년 10월부터 12월까지 OST를 제외하고 음원을 발매한 모든 아티스트를 대상으로 투표를 진행한다. \\n_x000D_\\n_x000D_\\n이에 방탄소년단 진RM, 임영웅, 김호중, 장민호, NCT 드림, 스트레이 키즈, 더보이즈, 에이티즈, ITZY, 트레저, 르세라핌, 뉴진스, 강다니엘, 황치열, 마마무, 하이라이트, 엔플라잉, 케플러, 백호, 포레스텔라, 박지훈, 빅톤, 업텐션, 레드벨벳, 보아, 베리베리 등 기간 내 음원을 발매한 다채로운 아티스트가 후보로 올랐다. \\n_x000D_\\n_x000D_\\n투표는 온라인 종합 매체 더팩트가 운영하는 아이돌 전문 종합 서비스 팬앤스타를 통해 진행되며 '일반별'과 '무지개별', 동영상 광고를 시청해 참여하는 '동영상 투표'까지 세 가지 방식으로 투표할 수 있다.\\n\""
      ]
     },
     "execution_count": 66,
     "metadata": {},
     "output_type": "execute_result"
    }
   ],
   "source": [
    "# 예시(전처리 후)\n",
    "filtered_df[filtered_df['WRITER']== writer][\"PARSED CONTENT\"].iloc[1]"
   ]
  },
  {
   "cell_type": "markdown",
   "id": "1bf91a51",
   "metadata": {},
   "source": [
    "## eDaily"
   ]
  },
  {
   "cell_type": "code",
   "execution_count": 67,
   "id": "c5192d07",
   "metadata": {},
   "outputs": [
    {
     "data": {
      "text/plain": [
       "'- KB증권 “군 입대 BTS에 도전 이어질 것”_x000D_\\n- “스트레이 키즈, 군 이슈 없고 이미 500만장 돌파”_x000D_\\n_x000D_\\n[이데일리 최훈길 기자] 방탄소년단(BTS)을 이을 아이돌 그룹에 스트레이 키즈가 유력하다는 전망이 제기됐다. _x000D_\\n_x000D_\\n이선화 KB증권 애널리스트와 류은애 연구원은 2일 ‘연차별 판매량으로 본 2023 유망주’ 보고서에서 “BTS의 군 입대로 인해 BTS의 완전체 활동이 불가능해지면서 2023년에는 K팝의 역사를 써 내려온 BTS의 기록을 깨려는 보이그룹들의 도전이 이어질 것”이라며 “넥스트 BTS로 가장 유망한 아티스트는 스트레이 키즈”라고 밝혔다. _x000D_\\n_x000D_\\n스트레이 키즈. (사진=이데일리DB)_x000D_\\n_x000D_\\n스트레이 키즈는 지난 10월7일 발매한 미니 앨범 7집 맥시던트(Maxident)로 누적 판매량 300만장을 돌파했다. 단일 앨범 총 판매량이 300만장을 넘은 아티스트는 BTS와 스트레이 키즈가 유일하다. _x000D_\\n_x000D_\\n이 애널리스트는 “스트레이 키즈는 2022년 544만장(11월까지 집계)의 앨범을 판매하면서 BTS 다음으로 앨범을 많이 판매한 아티스트로 등극했다”며 “스트레이 키즈 멤버의 첫 군입대는 2026년으로 군 입대 리스크로부터도 당분간 자유롭다”고 지적했다.  _x000D_\\n_x000D_\\n엔시티 드림(NCT DREAM)이 스트레이 키즈의 뒤를 바짝 쫓고 있다. NCT DREAM은 지난해 누적 앨범 판매량이 409만장을 기록했다. 그룹 투모로우바이투게더(TXT_는 데뷔 3년차에, 엔하이픈은 데뷔 2년차에 200만장 이상의 판매고를 달성했다._x000D_\\n_x000D_\\n이 애널리스트는 “NCT DREAM은 성장 속도가 가파르게 둔화되고 있는 것이 아쉽다”며 “TXT와 엔하이픈은 성장 속도가 놀랍지만, 절대적인 판매량에 있어 스트레이 키즈와 2배 이상 차이가 나 넥스트 BTS가 되기에는 시간이 필요하다”고 밝혔다. 이어 “(군 입대 멤버가 있는) 세븐틴과 NCT 127은 완전체 활동에 불확실성이 생기면서 넥스트 BTS 자리를 차지하기 어려워 보인다”고 내다봤다. _x000D_\\n_x000D_\\n아울러 이 애널리스트는 “2023년에는 블랙핑크가 콘서트 활동에 집중하면서 앨범을 발매하지 않을 것”이라며 “YG엔터테인먼트에서 신인 걸그룹 데뷔가 예정돼 있으며, 하이브와 JYP Ent.에서 글로벌 오디션을 통한 걸그룹 데뷔가 예정돼 있어 새로운 왕좌를 차지하기 위한 4세대 걸그룹들의 치열한 경쟁이 예상된다”고 내다봤다.  _x000D_\\n_x000D_\\n현재 단일 앨범 총판매량이 150만장을 넘어선 걸그룹은 블랙핑크 (Born Pink 250만장), 에스파 (Girls 180만장), 아이브 (After Like 160만장)가 유일하다. 이 애널리스트는 “올해에는 에스파와 아이브가 단일 앨범으로 200만장 이상의 판매고를 올릴 수 있을 것”이라며 “르세라핌과 뉴진스는 미니 2집과 EP 1집이 각각 78만장, 68만장 판매되면서 올해는 밀리언셀러에 등극할 수 있을 것”이라고 전망했다._x000D_\\n_x000D_\\n_x000D_\\n_x000D_\\n_x000D_\\n_x000D_\\n_x000D_\\n_x000D_\\n_x000D_\\n_x000D_\\n_x000D_\\n_x000D_\\n＜ⓒ종합 경제정보 미디어 이데일리 - 무단전재 & 재배포 금지＞_x000D_\\n                                                                                                                                                                                                                                                                                                                  '"
      ]
     },
     "execution_count": 67,
     "metadata": {},
     "output_type": "execute_result"
    }
   ],
   "source": [
    "# 예시(전처리 전)\n",
    "writer = 'eDaily'  # 언론사 설정 \n",
    "filtered_df[filtered_df['WRITER']== writer][\"PARSED CONTENT\"].iloc[0]  # 확인"
   ]
  },
  {
   "cell_type": "code",
   "execution_count": 68,
   "id": "65f35992",
   "metadata": {},
   "outputs": [],
   "source": [
    "# 불필요한 내용 삭제 1\n",
    "# 종합 경제정보 미디어 이데일리  이후내용 삭제 \n",
    "pattern = r'종합 경제정보 미디어 이데일리.*'\n",
    "filtered_df.loc[filtered_df['WRITER'] == writer, 'PARSED CONTENT'] = \\\n",
    "    filtered_df.loc[filtered_df['WRITER'] == writer, 'PARSED CONTENT'].apply(lambda text: re.sub(pattern, '', text) if isinstance(text, str) else text)\n"
   ]
  },
  {
   "cell_type": "code",
   "execution_count": 69,
   "id": "faa402e3",
   "metadata": {},
   "outputs": [
    {
     "data": {
      "text/plain": [
       "'- KB증권 “군 입대 BTS에 도전 이어질 것”_x000D_\\n- “스트레이 키즈, 군 이슈 없고 이미 500만장 돌파”_x000D_\\n_x000D_\\n[이데일리 최훈길 기자] 방탄소년단(BTS)을 이을 아이돌 그룹에 스트레이 키즈가 유력하다는 전망이 제기됐다. _x000D_\\n_x000D_\\n이선화 KB증권 애널리스트와 류은애 연구원은 2일 ‘연차별 판매량으로 본 2023 유망주’ 보고서에서 “BTS의 군 입대로 인해 BTS의 완전체 활동이 불가능해지면서 2023년에는 K팝의 역사를 써 내려온 BTS의 기록을 깨려는 보이그룹들의 도전이 이어질 것”이라며 “넥스트 BTS로 가장 유망한 아티스트는 스트레이 키즈”라고 밝혔다. _x000D_\\n_x000D_\\n스트레이 키즈. (사진=이데일리DB)_x000D_\\n_x000D_\\n스트레이 키즈는 지난 10월7일 발매한 미니 앨범 7집 맥시던트(Maxident)로 누적 판매량 300만장을 돌파했다. 단일 앨범 총 판매량이 300만장을 넘은 아티스트는 BTS와 스트레이 키즈가 유일하다. _x000D_\\n_x000D_\\n이 애널리스트는 “스트레이 키즈는 2022년 544만장(11월까지 집계)의 앨범을 판매하면서 BTS 다음으로 앨범을 많이 판매한 아티스트로 등극했다”며 “스트레이 키즈 멤버의 첫 군입대는 2026년으로 군 입대 리스크로부터도 당분간 자유롭다”고 지적했다.  _x000D_\\n_x000D_\\n엔시티 드림(NCT DREAM)이 스트레이 키즈의 뒤를 바짝 쫓고 있다. NCT DREAM은 지난해 누적 앨범 판매량이 409만장을 기록했다. 그룹 투모로우바이투게더(TXT_는 데뷔 3년차에, 엔하이픈은 데뷔 2년차에 200만장 이상의 판매고를 달성했다._x000D_\\n_x000D_\\n이 애널리스트는 “NCT DREAM은 성장 속도가 가파르게 둔화되고 있는 것이 아쉽다”며 “TXT와 엔하이픈은 성장 속도가 놀랍지만, 절대적인 판매량에 있어 스트레이 키즈와 2배 이상 차이가 나 넥스트 BTS가 되기에는 시간이 필요하다”고 밝혔다. 이어 “(군 입대 멤버가 있는) 세븐틴과 NCT 127은 완전체 활동에 불확실성이 생기면서 넥스트 BTS 자리를 차지하기 어려워 보인다”고 내다봤다. _x000D_\\n_x000D_\\n아울러 이 애널리스트는 “2023년에는 블랙핑크가 콘서트 활동에 집중하면서 앨범을 발매하지 않을 것”이라며 “YG엔터테인먼트에서 신인 걸그룹 데뷔가 예정돼 있으며, 하이브와 JYP Ent.에서 글로벌 오디션을 통한 걸그룹 데뷔가 예정돼 있어 새로운 왕좌를 차지하기 위한 4세대 걸그룹들의 치열한 경쟁이 예상된다”고 내다봤다.  _x000D_\\n_x000D_\\n현재 단일 앨범 총판매량이 150만장을 넘어선 걸그룹은 블랙핑크 (Born Pink 250만장), 에스파 (Girls 180만장), 아이브 (After Like 160만장)가 유일하다. 이 애널리스트는 “올해에는 에스파와 아이브가 단일 앨범으로 200만장 이상의 판매고를 올릴 수 있을 것”이라며 “르세라핌과 뉴진스는 미니 2집과 EP 1집이 각각 78만장, 68만장 판매되면서 올해는 밀리언셀러에 등극할 수 있을 것”이라고 전망했다._x000D_\\n_x000D_\\n_x000D_\\n_x000D_\\n_x000D_\\n_x000D_\\n_x000D_\\n_x000D_\\n_x000D_\\n_x000D_\\n_x000D_\\n_x000D_\\n＜ⓒ\\n                                                                                                                                                                                                                                                                                                                  '"
      ]
     },
     "execution_count": 69,
     "metadata": {},
     "output_type": "execute_result"
    }
   ],
   "source": [
    "# 예시(전처리 후)\n",
    "filtered_df[filtered_df['WRITER']== writer][\"PARSED CONTENT\"].iloc[0]"
   ]
  },
  {
   "cell_type": "markdown",
   "id": "64a72296",
   "metadata": {},
   "source": [
    "## 글로벌이코노믹"
   ]
  },
  {
   "cell_type": "code",
   "execution_count": 70,
   "id": "67321fbb",
   "metadata": {},
   "outputs": [
    {
     "data": {
      "text/plain": [
       "'아르헨티나의 리튬 공장에서 원료를 취급하는 모습. 사진=로이터 통신 중국 전기차 판매 둔화 소식에 애널리스트들과 원자재 전문가들이 리튬 공급 과잉으로 리튬 가격이 급락할 것을 19일(현지 시간) 경고했다.원자재 광부부터 배터리 제조기업 및 자동차 기업에 이르기까지 중국 전기차(EV) 공급망에 포함된 기업들은 EV열풍에 힘입어 주가가 상승했다. 그 중 중국 리튬 채굴자들은 지난해 크게 상승한 리튬 가격으로 순익이 급증하면서 줄줄히 어닝 서프라이즈를 기록했다. 중국의 기존 리튬 채굴 기업인 톈치리튬과 간펑리튬 등은 지난해 리튬 가격 급등으로 순이익이 2020년 대비 각각 29배, 5배 증가했다. 리튬은 전기 및 하이브리드 자동차에 필수적으로 필요한 배터리를 만드는 핵심 소재다. 그러나 리튬 광산은 규모가 큰 편이 드물고 지각 전체에 소량 흩어져 있어 금속 추출이 힘들거나 환경 오염이 심한 경우가 많다. 그러나 리튬 채굴의 높은 수익이 알려지면서 기존 광산기업을 비롯해 배터리 기업, EV기업을 포함해 리튬 채굴과 직접적인 관련이 없는 기업들까지 리튬 채굴에 대규모 투자를 하기 시작했다. 지난해 11월 중국에서만 리튬사업과는 상관이 없는 심양 취화 장신구, 부동산 개발기업인 선디랜드 인베스트먼트 등 4개 기업이 대규모 리튬 채굴 투자를 진행했다. 이러한 대규모 투자를 바탕으로 리튬 가격은 지난해 말부터 하락세로 접어들었다. 국제 리튬 가격은 영국 런던금속거래소(LME)에서 13일 기준 톤당 44만7500위안(약 8240만원)으로 거래돼 6개월 만의 최저치를 기록했다. 전월 평균 대비 14.05% 하락한 값이다. 톤당 58만1500위안을 기록했던 지난해 11월과 비교하면 약 23% 하락했다.애널리스트들은 리튬 채굴에 투자하는 자금이 기하 급수적으로 증가한 것을 감안할 때 리튬 공급이 2023년에 수요를 따라잡고 과잉공급으로 넘어갈 것을       전망하고 있다. 민메탈증권의 애널리스트는 올해 리튬 공급이 전 세계적으로 약 33% 증가했다고 추정했다. 절강 증권의 애널리스트는 올해 신규 리튬 공급의 65%가 6월에서 12월 사이 풀릴 예정이기 때문에 본격적인 리튬 공급 과잉이 2023년 하반기에 나타날 것이라고 전망했다. 중국 6위 배터리 제조기업인 이브에너지의 류진청 최고경영자(CEO)는 지난해 11월 \"2023년에 배터리와 배터리 원자재의 공급 과잉시기가 다가오고 있다\"고 경고했다. 월가 전문가들도 중국이 그동안 후했던 전기차 보조금을 줄이기 시작했고 중국에서 전기차 판매 둔화가 나타나는 것을 볼 때 리튬 가격이 앞으로 급락할 가능성이 크다고 경고하고 있다. 현재 급속한 공급 증가와 EV 및 배터리 수요 둔화 전망이 가격 하락 압력을 가중시킬 것을 예상하는 것이다. 시장 내부자들도 EV 및 하이브리드 자동차 판매는 계속 증가할 것으로 예상하지만 지난해 보다 그 속도가 더딜 것으로 예상한다. 업계 분석가는 \"자동차 제조사들이 신중한 입장 속에 재고를 줄이면서 배터리 구매 속도를 늦추고 있다\"고 말했다.일부 경제 전문가들은 리튬 가격의 추가 8% 하락을 전망하고 있지만 다른 애널리스트들은 이미 공급 과잉 부문이 상당히 가격에 반영됐다고 분석하기도 했다. 리튬 외의 배터리 핵심 광물인 니켈·코발트 등도 하락세를 보이고 있다. 니켈 가격은 연초 대비 약 13% 하락했으며 코발트 역시 전년 평균가 대비 23.63% 떨어졌다.김다정 글로벌이코노믹 기자 2426w@g-enews.com                                                                                                                                                                                                                                                                                                                                                                                                                                                                                                                                                                                                                                                                                                               '"
      ]
     },
     "execution_count": 70,
     "metadata": {},
     "output_type": "execute_result"
    }
   ],
   "source": [
    "# 예시(전처리 전)\n",
    "writer = '글로벌이코노믹'  # 언론사 설정 \n",
    "filtered_df[filtered_df['WRITER']== writer][\"PARSED CONTENT\"].iloc[0]  # 확인"
   ]
  },
  {
   "cell_type": "code",
   "execution_count": 71,
   "id": "83876229",
   "metadata": {},
   "outputs": [],
   "source": [
    "# 불필요한 내용 삭제 1\n",
    "# 글로벌이코노믹 기자 이후내용 삭제 \n",
    "pattern = r'글로벌이코노믹 기자.*'\n",
    "filtered_df.loc[filtered_df['WRITER'] == writer, 'PARSED CONTENT'] = \\\n",
    "    filtered_df.loc[filtered_df['WRITER'] == writer, 'PARSED CONTENT'].apply(lambda text: re.sub(pattern, '', text))\n"
   ]
  },
  {
   "cell_type": "code",
   "execution_count": 72,
   "id": "0c9950de",
   "metadata": {},
   "outputs": [
    {
     "data": {
      "text/plain": [
       "'아르헨티나의 리튬 공장에서 원료를 취급하는 모습. 사진=로이터 통신 중국 전기차 판매 둔화 소식에 애널리스트들과 원자재 전문가들이 리튬 공급 과잉으로 리튬 가격이 급락할 것을 19일(현지 시간) 경고했다.원자재 광부부터 배터리 제조기업 및 자동차 기업에 이르기까지 중국 전기차(EV) 공급망에 포함된 기업들은 EV열풍에 힘입어 주가가 상승했다. 그 중 중국 리튬 채굴자들은 지난해 크게 상승한 리튬 가격으로 순익이 급증하면서 줄줄히 어닝 서프라이즈를 기록했다. 중국의 기존 리튬 채굴 기업인 톈치리튬과 간펑리튬 등은 지난해 리튬 가격 급등으로 순이익이 2020년 대비 각각 29배, 5배 증가했다. 리튬은 전기 및 하이브리드 자동차에 필수적으로 필요한 배터리를 만드는 핵심 소재다. 그러나 리튬 광산은 규모가 큰 편이 드물고 지각 전체에 소량 흩어져 있어 금속 추출이 힘들거나 환경 오염이 심한 경우가 많다. 그러나 리튬 채굴의 높은 수익이 알려지면서 기존 광산기업을 비롯해 배터리 기업, EV기업을 포함해 리튬 채굴과 직접적인 관련이 없는 기업들까지 리튬 채굴에 대규모 투자를 하기 시작했다. 지난해 11월 중국에서만 리튬사업과는 상관이 없는 심양 취화 장신구, 부동산 개발기업인 선디랜드 인베스트먼트 등 4개 기업이 대규모 리튬 채굴 투자를 진행했다. 이러한 대규모 투자를 바탕으로 리튬 가격은 지난해 말부터 하락세로 접어들었다. 국제 리튬 가격은 영국 런던금속거래소(LME)에서 13일 기준 톤당 44만7500위안(약 8240만원)으로 거래돼 6개월 만의 최저치를 기록했다. 전월 평균 대비 14.05% 하락한 값이다. 톤당 58만1500위안을 기록했던 지난해 11월과 비교하면 약 23% 하락했다.애널리스트들은 리튬 채굴에 투자하는 자금이 기하 급수적으로 증가한 것을 감안할 때 리튬 공급이 2023년에 수요를 따라잡고 과잉공급으로 넘어갈 것을       전망하고 있다. 민메탈증권의 애널리스트는 올해 리튬 공급이 전 세계적으로 약 33% 증가했다고 추정했다. 절강 증권의 애널리스트는 올해 신규 리튬 공급의 65%가 6월에서 12월 사이 풀릴 예정이기 때문에 본격적인 리튬 공급 과잉이 2023년 하반기에 나타날 것이라고 전망했다. 중국 6위 배터리 제조기업인 이브에너지의 류진청 최고경영자(CEO)는 지난해 11월 \"2023년에 배터리와 배터리 원자재의 공급 과잉시기가 다가오고 있다\"고 경고했다. 월가 전문가들도 중국이 그동안 후했던 전기차 보조금을 줄이기 시작했고 중국에서 전기차 판매 둔화가 나타나는 것을 볼 때 리튬 가격이 앞으로 급락할 가능성이 크다고 경고하고 있다. 현재 급속한 공급 증가와 EV 및 배터리 수요 둔화 전망이 가격 하락 압력을 가중시킬 것을 예상하는 것이다. 시장 내부자들도 EV 및 하이브리드 자동차 판매는 계속 증가할 것으로 예상하지만 지난해 보다 그 속도가 더딜 것으로 예상한다. 업계 분석가는 \"자동차 제조사들이 신중한 입장 속에 재고를 줄이면서 배터리 구매 속도를 늦추고 있다\"고 말했다.일부 경제 전문가들은 리튬 가격의 추가 8% 하락을 전망하고 있지만 다른 애널리스트들은 이미 공급 과잉 부문이 상당히 가격에 반영됐다고 분석하기도 했다. 리튬 외의 배터리 핵심 광물인 니켈·코발트 등도 하락세를 보이고 있다. 니켈 가격은 연초 대비 약 13% 하락했으며 코발트 역시 전년 평균가 대비 23.63% 떨어졌다.김다정 '"
      ]
     },
     "execution_count": 72,
     "metadata": {},
     "output_type": "execute_result"
    }
   ],
   "source": [
    "# 예시(전처리 후)\n",
    "filtered_df[filtered_df['WRITER']== writer][\"PARSED CONTENT\"].iloc[0]"
   ]
  },
  {
   "cell_type": "markdown",
   "id": "e6450e44",
   "metadata": {},
   "source": [
    "## 데이터투자"
   ]
  },
  {
   "cell_type": "code",
   "execution_count": 73,
   "id": "72515fa4",
   "metadata": {},
   "outputs": [
    {
     "data": {
      "text/plain": [
       "'\"에스엠, NCT DREAM과 에스파 성장 지속\"-교보證\"목표가 15%↑ 12만원 제시\"-교보證  교보증권은 9일 에스엠에 대한 투자의견을 매수, 목표주가를 12만원으로 제시했다. 이날 제시한 목표주가는 이전에 교보증권이 제시한 목표주가 10만4000원 대비 15% 높은 수준이다.교보증권 박성국 애널리스트가 작성한 에스엠 리포트 주요내용은 아래와 같다.▶ EXO 백현과 샤이니 태민 전역으로 활동 라인업 최대▶ NCT DREAM과 에스파 성장 지속▶ 4Q22 Preview▶ FY23 Preview: 영업이익 YoY +60.4% 예상, Top-picks로 새롭게 제시권희진 데이터투자 기자 news@datatooza.com추천 콘텐츠이 컨텐츠는 투자 참고용으로 이를 근거로 한 투자 손실에 대해 책임을 지지 않습니다.<저작권자 ©데이터투자(www.datatooza.com), 무단전재 및 재배포금지>                                                                                    '"
      ]
     },
     "execution_count": 73,
     "metadata": {},
     "output_type": "execute_result"
    }
   ],
   "source": [
    "# 예시(전처리 전)\n",
    "writer = '데이터투자'  # 언론사 설정 \n",
    "filtered_df[filtered_df['WRITER']== writer][\"PARSED CONTENT\"].iloc[0]  # 확인"
   ]
  },
  {
   "cell_type": "code",
   "execution_count": 74,
   "id": "20a8b3af",
   "metadata": {},
   "outputs": [],
   "source": [
    "# 불필요한 내용 삭제 1\n",
    "# 데이터투자 기자 이후내용 삭제 \n",
    "pattern = r'데이터투자 기자.*'\n",
    "filtered_df.loc[filtered_df['WRITER'] == writer, 'PARSED CONTENT'] = \\\n",
    "    filtered_df.loc[filtered_df['WRITER'] == writer, 'PARSED CONTENT'].apply(lambda text: re.sub(pattern, '', text))\n"
   ]
  },
  {
   "cell_type": "code",
   "execution_count": 75,
   "id": "0ca6728d",
   "metadata": {},
   "outputs": [
    {
     "data": {
      "text/plain": [
       "'\"에스엠, NCT DREAM과 에스파 성장 지속\"-교보證\"목표가 15%↑ 12만원 제시\"-교보證  교보증권은 9일 에스엠에 대한 투자의견을 매수, 목표주가를 12만원으로 제시했다. 이날 제시한 목표주가는 이전에 교보증권이 제시한 목표주가 10만4000원 대비 15% 높은 수준이다.교보증권 박성국 애널리스트가 작성한 에스엠 리포트 주요내용은 아래와 같다.▶ EXO 백현과 샤이니 태민 전역으로 활동 라인업 최대▶ NCT DREAM과 에스파 성장 지속▶ 4Q22 Preview▶ FY23 Preview: 영업이익 YoY +60.4% 예상, Top-picks로 새롭게 제시권희진 '"
      ]
     },
     "execution_count": 75,
     "metadata": {},
     "output_type": "execute_result"
    }
   ],
   "source": [
    "# 예시(전처리 후)\n",
    "filtered_df[filtered_df['WRITER']== writer][\"PARSED CONTENT\"].iloc[0]"
   ]
  },
  {
   "cell_type": "markdown",
   "id": "0fc4e1dd",
   "metadata": {},
   "source": [
    "## 뉴스핌 → 별도의 전처리 사항 없음"
   ]
  },
  {
   "cell_type": "code",
   "execution_count": 76,
   "id": "ad03f878",
   "metadata": {
    "scrolled": true
   },
   "outputs": [
    {
     "data": {
      "text/plain": [
       "'[서울=뉴스핌] 이지은 기자 = 한류로 시작했던 K팝의 시장이 전 세계로 이어지고 있다. 그룹 방탄소년단과 블랙핑크, 그리고 4세대 그룹이 해외에서 명성을 떨치면서 지난해 음반 수출액 또한 사상 최고치를 경신한 가운데 중동지역에서 급물살을 타고 있는 K팝 인기가 한몫을 한 것으로 나타났다.\\n◆ \\'빅3\\' 시장에 쏠린 시장…중동 지역 치고 올라오나\\n그룹 방탄소년단과 블랙핑크, 스트레이키즈 등이 미국 빌보드 차트에서 호성적을 거두면서 음반 수출액 역시 지난해 사상 최고치를 경신했다. 지난해 한국 음반을 가장 많이 수입해 간 국가는 일본으로 8574만9000달러(약 1065억원)을 기록했다. 이어 중국이 5132만6000달러(약 637억원), 미국 3887만7000달러(약 483억원) 등이 뒤따랐다.\\n음반 수출 대상국 톱10에는 대만, 네덜란드, 태국, 홍콩, 독일, 인도네시아, 프랑스가 이름을 올렸다. K팝이 전 세계적으로 인기를 끌고 있지만, 음반 수출 지역은 여전히 일본, 중국, 미국 \\'빅3\\'에 쏠려 있는 상황이다.\\n세 국가의 비중은 2021년 71.7%에서 지난해 75.5%로 3.8%P 상승했다. 특히 중국의 경우 \\'한한령(한류 제한령)\\'으로 K팝 스타들의 현지 공연이 막혔지만 수출액은 꾸준히 늘고 있는 추세이다.\\n특히, 중동에서도 K팝 인기가 급물살을 타고 있다. 한국국제교류재단은 2021년 12월 기준으로 세계 한류 팬 1억5660만명 소위 \\'메나(MENA)\\'로 불리는 북아프리카·중동 지역 한류 팬이 10년 사이 130배 폭증한 것으로 집계했다.\\n실제 지난해 9월 30일 사우디아라비아 수도 리야드 시티에서 열린 CJ ENM의 \\'KCON\\'에서는 4일간 2만명의 관객이 운집됐다. 해당 콘서트가 중동 지역에서 열린 것은 2016년 8000석 규모의 아랍에미리트(UAE) 공연 이후 두 번째이다.\\n사우디에서 K팝의 인기가 거세지면서 그룹 블랙핑크도 오는 20일 사우디아라비아 리야드에서 콘서트를 개최한다. 또 한류스타의 배출지로 불린 SM엔터테인먼트의 이수만 총괄 프로듀서도 사우디 문화부 장관과 꾸준한 환담을 통해 K팝을 확장시키고 있다.\\n실제 SM은 사우디아라비아에서 SM글로벌의 콘서트 브랜드인 SM타운 라이브 개최를 협의 중이다. 또 사우디아라비아 제작사와 협업을 통한 영상 콘텐츠와 페스티벌 이벤트 제작, 연중 계속되는 음악 행사와 페스티벌을 개최할 수 있는 베뉴(타운) 조성 등 SM과 사우디아라비아가 함께 진행할 문화 산업 프로젝트 추진을 계획하고 있다.\\n박희아 대중음악평론가는 \"개인적으로 국가 분위기를 생각했을 때 우리나라 아티스트가 가지고 있는 자유로운 느낌과 최근에 들어 세련된 느낌에 대한 동경이 커져서 K팝에 대한 인기가 점차 높아진다고 생각한다\"고 설명했다.\\n이어 \"우리나라 아티스트가 곡으로 전달하는 희망적인 메시지도 크게 작용하지만, 첫 째로 중요한 것은 트렌디함에 열광한다고 생각한다. 일본도 한국을 트렌디하게 받아들이는 분위기인데, 중동 지역도 마찬가지\"라며 \"앞으로 해당 국가에서 K팝 시장은 계속 커질 수 있다고 본다. 임영웅도 미국에서 공연을 앞두고 있는데 K팝이 아이돌 시장에서 그치지 않을 거라고 생각한다. 흐름을 봤을 때는 포레스텔라같은 팀에게도 관심이 갈 수 있는 양상이 될 거라고 생각한다\"고 내다봤다.\\n◆ 韓 음반 수출액 3000억원 육박…대형 그룹 두각\\n지난 16일 관세청 수출입 무역통계에 따르면 작년 음반 수출액은 2억311만3000달러(한화 약 2896억원)으로 전년 대비 5.6%가 증가했다. 우리나라 음반 수출액은 2017년 처음으로 4천만 달러를 넘긴 이래 매년 성장을 거듭해 2020년과 2021년에는 각각 1억달러와 2억달러를 돌파한 바 있다.\\n특히 2020년 이후에는 코로나19가 전 세계를 휩쓸면서 K팝 공연이 멈춰 공연 수익은 줄어들었지만, 음반 수익은 증가했다.\\n지난해 수출과 내수 소비량이 합산된 연간 음반 차트를 살펴보면 그룹 방탄소년단과 스트레이키즈, 세븐틴 등 대형 그룹과 4세대 걸그룹이 두각을 드러냈다. 써클차트(구 가온차트) 연간 앨범차트에서 방탄소년단은 \\'프루프(Proof)\\'로 348만장을 판매하면서 한 해 가장 많이 팔린 앨범으로 기록됐다.\\n이어 스트레이키즈 \\'맥시던트(MAXIDENT)\\'가 318만장, 세븐틴 \\'페이스 더 선(Face The Sun)\\'이 287만장, 블랙핑크 \\'본 핑크(BORN PINK)\\'는 252만장의 판매고를 올렸다. 또 4세대 걸그룹 중 아이브는 싱글 \\'애프터 라이크(After Like)\\'로 165만장을 판매하면서 연간 차트 10위를 기록했다.\\n가요 관계자는 \"일본은 여전히 K팝의 가장 큰 시장으로 불린다. 이후 BTS가 미국 시장을 개척한 만큼 미국에서도 K팝이 급부상했다. 아직까지 K팝이 일본과 미국, 중국에서 사랑을 받고 있지만 사우디와 인도에서도 급물살을 탄 만큼, 음반 수출뿐 아니라 가수들의 활동 규모가 더 큰 폭으로 증가하지 않을까 싶다\"고 전했다.\\nalice09@newspim.com\\n'"
      ]
     },
     "execution_count": 76,
     "metadata": {},
     "output_type": "execute_result"
    }
   ],
   "source": [
    "# 예시(전처리 전)\n",
    "writer = '뉴스핌'  # 언론사 설정 \n",
    "filtered_df[filtered_df['WRITER']== writer][\"PARSED CONTENT\"].iloc[0]  # 확인"
   ]
  },
  {
   "cell_type": "markdown",
   "id": "13e3d580",
   "metadata": {},
   "source": [
    "- 삭제할 내용 없음"
   ]
  },
  {
   "cell_type": "markdown",
   "id": "6383d4bb",
   "metadata": {},
   "source": [
    "## 조선경제"
   ]
  },
  {
   "cell_type": "code",
   "execution_count": 77,
   "id": "0d13d1a7",
   "metadata": {
    "scrolled": true
   },
   "outputs": [
    {
     "data": {
      "text/plain": [
       "'YG엔터테인먼트(와이지엔터테인먼트) 수장 양현석 총괄 프로듀서(PD)가 3년여 만에 공식 복귀했다. 블랙핑크 지수, 빅뱅 지드래곤 등 대형 아티스트가 활동을 예고했고, 베일에 감춰져 있던 신인 걸그룹도 공개됐다. YG는 그간 부실한 라인업과 높은 블랙핑크 의존도가 문제로 지적돼 왔는데, 라인업 강화와 함께 실적이 한층 개선될 것으로 전망된다.6일 관련 업계와 법조계에 따르면 ‘버닝썬 사건’과 전 소속 가수 비아이(본명 김한빈) 마약 수사 무마 의혹 등으로 2019년 대표 직함을 내려놓은 양 PD가 최근 법원으로부터 무죄 판결을 받았다. 마약 수사 무마 의혹과 관련해, 양 PD는 비아이의 마약 구매 사실을 경찰에 진술한 A씨를 협박한 혐의를 받았는데 1심 재판부는 양 PD가 A씨를 압박한 것은 사실이지만 A씨의 진술에 신빙성이 없다고 봤다.앞서 양 PD는 버닝썬 사건 관련 성매매 알선 혐의에 대해서도 증거 불충분을 이유로 무혐의 판결이 내려진 바 있다. 다만 불법 원정도박 혐의는 인정돼 벌금형을 선고받았다.\\\\n\\\\n잇단 논란으로 일선에서 물러났던 양 PD는 지난달 말 마약 수사 무마 의혹 1심 판결이 나온 뒤 열흘 만인 새해 첫 날, YG 공식 유튜브 채널에 공개된 영상을 통해 모습을 드러냈다. 양 PD는 “신사옥에서 처음으로 발표하게 되는 그룹”이라며 7인조 신인 걸그룹 ‘베이비몬스터’를 소개했다. 그는 “지난 4년간 월말평가를 통해 저를 놀래켰던 것처럼 세상을 놀래킬 스타가 됐으면 좋겠다는 희망사항이 있다”고 말했다. 양 PD가 아티스트 활동과 관련해 공식적으로 발언을 한 건 3년 6개월 만이다. 양 PD는 향후 신인 발굴과 육성에 전념할 계획인 것으로 알려졌다.베이비몬스터 데뷔 예고와 동시에 대형 아티스트 컴백도 줄줄이 예고됐다. 블랙핑크 멤버 지수가 제니, 로제, 리사에 이어 솔로 데뷔에 나선다. YG는 “지수가 현재 솔로 앨범 녹음에 박차를 가하고 있다. 월드투어 일정을 진행하고 있는 가운데 음반 재킷 사진 촬영까지 끝마치고 틈틈이 음악 작업에 매진해 왔다”며 “곧 좋은 소식을 들고 찾아뵐 것”이라고 전했다.빅뱅 멤버 지드래곤도 지난 1일 유튜브 영상을 통해 올해 컴백을 예고했다. 지드래곤은 지난해 “팬 여러분과 만나거나 무대로     찾아뵙지 못해서 개인적으로 아쉬움이 많았다”며 “(2023년엔) 여러 가지 다양한 활동을 통해 찾아뵐 예정이다. 앨범도 준비 중”이라고 말했다. 지드래곤의 솔로 활동은 2017년 이후 6년 만이다.‘더블랙레이블’로 최근 이적한 태양도 이달 13일 방탄소년단(BTS) 지민과 협업한 신곡을 공개한다. 더블랙레이블은 YG 프로듀서 테디가 수장으로 있는 YG의 관계회사다. YG 산하 레이블로 출발했다. 현재 YG가 지분 30%가량을 보유하고 있다.\\\\n\\\\n그룹 아이콘, 빅뱅 대성, 배우 강동원 등 아티스트가 잇따라 YG를 떠났지만, 양 PD 복귀와 함께 컴백 라인업이 강화되면서 YG 주가는 연일 상승세다. 지난 연말까지만 해도 4만3000대였던 주가는 양 PD 복귀와 아티스트 컴백 소식이 연달아 전해지며 1거래일 만에 10%넘게 급등해 4만8000원대를 유지하고 있다.업계는 2년 만의 블랙핑크 완전체 컴백으로 지난해 4분기 호실적이 예상되는 YG가 라인업 강화로 2023년에도 성장세를 이어갈 것으로 봤다. 증권가에 따르면 YG는 지난해 4분기 연결 기준 매출액 1480억원, 영업이익 208억원을 기록할 것으로 전망된다. 각각 전년 동기 대비 66.3%, 664.5% 증가한 수치다. 블랙핑크가 지난해 9월 2년 만에 완전체로 컴백해 활동을 시작했고 최근 월드투어를 시작하면서 실적이 개선될 것으로 보인다. 블랙핑크는 지난해 4분기 국내에서 2회, 미국에서 14회, 유럽에서 9회 공연을 열어 50만명의 관객을 끌어모았다.올해 상반기에는 블랙핑크가 월드투어 공연 24회를 더 앞두고 있다. 이환욱 IBK투자증권 연구원은 “하반기는 블랙핑크의 재계약 시즌으로 불확실성 존재하지만 상반기 베이비몬스터 데뷔가 예정돼 기대감이 높은 상황”이라며 “지드래곤 등 기타 라인업의 높은 활동성이 기대되는 해”라고 말했다. 증권가는 YG가 올해 연결 매출액 4890억원, 영업이익 630억원을 기록하며 지난해 연간 실적 추정치를 각각 18%, 37%가량 웃돌 것으로 전망했다.\\\\n\\\\n이은영 기자 eunyoung@chosunbiz.com\\\\n\\\\nCopyrights ⓒ ChosunBiz.com\\\\n                                                                                                                                                                             '"
      ]
     },
     "execution_count": 77,
     "metadata": {},
     "output_type": "execute_result"
    }
   ],
   "source": [
    "# 예시(전처리 전)\n",
    "writer = '조선경제'  # 언론사 설정 \n",
    "filtered_df[filtered_df['WRITER']== writer][\"PARSED CONTENT\"].iloc[0]  # 확인"
   ]
  },
  {
   "cell_type": "code",
   "execution_count": 78,
   "id": "9b695df5",
   "metadata": {},
   "outputs": [],
   "source": [
    "# 불필요한 내용 삭제\n",
    "pattern = r'@chosun.*$'\n",
    "filtered_df.loc[filtered_df['WRITER'] == writer, 'PARSED CONTENT'] = \\\n",
    "    filtered_df.loc[filtered_df['WRITER'] == writer, 'PARSED CONTENT'].apply(lambda text: re.sub(pattern, '', text) if isinstance(text, str) else text)"
   ]
  },
  {
   "cell_type": "code",
   "execution_count": 79,
   "id": "4750986e",
   "metadata": {},
   "outputs": [
    {
     "data": {
      "text/plain": [
       "'YG엔터테인먼트(와이지엔터테인먼트) 수장 양현석 총괄 프로듀서(PD)가 3년여 만에 공식 복귀했다. 블랙핑크 지수, 빅뱅 지드래곤 등 대형 아티스트가 활동을 예고했고, 베일에 감춰져 있던 신인 걸그룹도 공개됐다. YG는 그간 부실한 라인업과 높은 블랙핑크 의존도가 문제로 지적돼 왔는데, 라인업 강화와 함께 실적이 한층 개선될 것으로 전망된다.6일 관련 업계와 법조계에 따르면 ‘버닝썬 사건’과 전 소속 가수 비아이(본명 김한빈) 마약 수사 무마 의혹 등으로 2019년 대표 직함을 내려놓은 양 PD가 최근 법원으로부터 무죄 판결을 받았다. 마약 수사 무마 의혹과 관련해, 양 PD는 비아이의 마약 구매 사실을 경찰에 진술한 A씨를 협박한 혐의를 받았는데 1심 재판부는 양 PD가 A씨를 압박한 것은 사실이지만 A씨의 진술에 신빙성이 없다고 봤다.앞서 양 PD는 버닝썬 사건 관련 성매매 알선 혐의에 대해서도 증거 불충분을 이유로 무혐의 판결이 내려진 바 있다. 다만 불법 원정도박 혐의는 인정돼 벌금형을 선고받았다.\\\\n\\\\n잇단 논란으로 일선에서 물러났던 양 PD는 지난달 말 마약 수사 무마 의혹 1심 판결이 나온 뒤 열흘 만인 새해 첫 날, YG 공식 유튜브 채널에 공개된 영상을 통해 모습을 드러냈다. 양 PD는 “신사옥에서 처음으로 발표하게 되는 그룹”이라며 7인조 신인 걸그룹 ‘베이비몬스터’를 소개했다. 그는 “지난 4년간 월말평가를 통해 저를 놀래켰던 것처럼 세상을 놀래킬 스타가 됐으면 좋겠다는 희망사항이 있다”고 말했다. 양 PD가 아티스트 활동과 관련해 공식적으로 발언을 한 건 3년 6개월 만이다. 양 PD는 향후 신인 발굴과 육성에 전념할 계획인 것으로 알려졌다.베이비몬스터 데뷔 예고와 동시에 대형 아티스트 컴백도 줄줄이 예고됐다. 블랙핑크 멤버 지수가 제니, 로제, 리사에 이어 솔로 데뷔에 나선다. YG는 “지수가 현재 솔로 앨범 녹음에 박차를 가하고 있다. 월드투어 일정을 진행하고 있는 가운데 음반 재킷 사진 촬영까지 끝마치고 틈틈이 음악 작업에 매진해 왔다”며 “곧 좋은 소식을 들고 찾아뵐 것”이라고 전했다.빅뱅 멤버 지드래곤도 지난 1일 유튜브 영상을 통해 올해 컴백을 예고했다. 지드래곤은 지난해 “팬 여러분과 만나거나 무대로     찾아뵙지 못해서 개인적으로 아쉬움이 많았다”며 “(2023년엔) 여러 가지 다양한 활동을 통해 찾아뵐 예정이다. 앨범도 준비 중”이라고 말했다. 지드래곤의 솔로 활동은 2017년 이후 6년 만이다.‘더블랙레이블’로 최근 이적한 태양도 이달 13일 방탄소년단(BTS) 지민과 협업한 신곡을 공개한다. 더블랙레이블은 YG 프로듀서 테디가 수장으로 있는 YG의 관계회사다. YG 산하 레이블로 출발했다. 현재 YG가 지분 30%가량을 보유하고 있다.\\\\n\\\\n그룹 아이콘, 빅뱅 대성, 배우 강동원 등 아티스트가 잇따라 YG를 떠났지만, 양 PD 복귀와 함께 컴백 라인업이 강화되면서 YG 주가는 연일 상승세다. 지난 연말까지만 해도 4만3000대였던 주가는 양 PD 복귀와 아티스트 컴백 소식이 연달아 전해지며 1거래일 만에 10%넘게 급등해 4만8000원대를 유지하고 있다.업계는 2년 만의 블랙핑크 완전체 컴백으로 지난해 4분기 호실적이 예상되는 YG가 라인업 강화로 2023년에도 성장세를 이어갈 것으로 봤다. 증권가에 따르면 YG는 지난해 4분기 연결 기준 매출액 1480억원, 영업이익 208억원을 기록할 것으로 전망된다. 각각 전년 동기 대비 66.3%, 664.5% 증가한 수치다. 블랙핑크가 지난해 9월 2년 만에 완전체로 컴백해 활동을 시작했고 최근 월드투어를 시작하면서 실적이 개선될 것으로 보인다. 블랙핑크는 지난해 4분기 국내에서 2회, 미국에서 14회, 유럽에서 9회 공연을 열어 50만명의 관객을 끌어모았다.올해 상반기에는 블랙핑크가 월드투어 공연 24회를 더 앞두고 있다. 이환욱 IBK투자증권 연구원은 “하반기는 블랙핑크의 재계약 시즌으로 불확실성 존재하지만 상반기 베이비몬스터 데뷔가 예정돼 기대감이 높은 상황”이라며 “지드래곤 등 기타 라인업의 높은 활동성이 기대되는 해”라고 말했다. 증권가는 YG가 올해 연결 매출액 4890억원, 영업이익 630억원을 기록하며 지난해 연간 실적 추정치를 각각 18%, 37%가량 웃돌 것으로 전망했다.\\\\n\\\\n이은영 기자 eunyoung'"
      ]
     },
     "execution_count": 79,
     "metadata": {},
     "output_type": "execute_result"
    }
   ],
   "source": [
    "# 예시(전처리 후)\n",
    "filtered_df[filtered_df['WRITER']== writer][\"PARSED CONTENT\"].iloc[0]"
   ]
  },
  {
   "cell_type": "markdown",
   "id": "44765a18",
   "metadata": {},
   "source": [
    "## 한경뉴스"
   ]
  },
  {
   "cell_type": "code",
   "execution_count": 80,
   "id": "30fff0a8",
   "metadata": {},
   "outputs": [
    {
     "data": {
      "text/plain": [
       "'\\\\n\\n\\\\n[ 최세영 기자 ] 국내 대형 연예기획사의 올해 콘서트 관객 수가 코로나19 이전보다 대폭 증가할 것이란 분석이 나왔다. 조정 과정을 거치던 대형 엔터주 주가도 실적 기대에 힘입어 최근 반등했다.\\n9일 교보증권에 따르면 올해 국내 대형 엔터 4사(하이브, JYP엔터테인먼트, 에스엠, YG엔터테인먼트)의 콘서트 관객 수는 총 723만 명에 육박할 전망이다. 지난해 추정치(418만 명) 대비 72.9% 늘어난 수치다. 코로나19 이전인 2019년 관객 수(533만 명)와 비교해도 35.6% 많다.\\n에스엠의 콘서트 관객 수가 가장 가파르게 늘어날 것으로 기대되고 있다. 이 회사의 올해 콘서트 예상 관객 수는 229만 명으로 전년보다 두 배 이상 증가할 전망이다. 전년 대비 영업이익 증가율도 엔터 4사 가운데 가장 높은 60.4%를 기록할 것이란 관측이다.\\n박성국 교보증권 연구원은 “매출과 수익성에 크게 기여할 수 있는 돔 공연이 올해 다수 계획돼 있다”며 “올해 활동 예정인 국내 아티스트 중 블랙핑크, 트와이스, 슈퍼주니어 등 11개 그룹의 돔 투어가 가능하다”고 했다.\\n증권가에선 콘서트 본격 재개 등의 영향으로 올해 대형 엔터 기업 실적이 뛸 것으로 보고 있다. 금융정보업체 에프앤가이드에 따르면 국내 대형 엔터 4사의 올해 합산 매출과 영업이익 예상치는 각각 3조4762억원, 5247억원이다. 전년(3조2417억원, 4837억원)보다 늘어난 수치다.\\n지난달 말 하락하던 주가도 최근 다시 올랐다. 하이브 주가는 이날 3.27% 상승했다. 한 주간(1월 2~9일) 수익률은 2.4%다. 에스엠과 YG엔터 주가도 한 주간 각각 1.5%, 1.6% 올랐다. JYP엔터 주가는 지난 3거래일 연속 떨어지다가 이날 4% 가까이 뛰었다.\\n최세영 기자\\nⓒ 한국경제 & \\n, 무단전재 및 재배포 금지\\\\n                                                                                                                                                                                                                                                                                                                                                                                                                                                                                                                                                                                                                                                                                                                                                                                                                                                                                                                                                                                                                                                                                                                                                                                                                                                                                                                                                                                                                                                                 \\n'"
      ]
     },
     "execution_count": 80,
     "metadata": {},
     "output_type": "execute_result"
    }
   ],
   "source": [
    "# 예시(전처리 전)\n",
    "writer = '한경뉴스'  # 언론사 설정 \n",
    "filtered_df[filtered_df['WRITER']== writer][\"PARSED CONTENT\"].iloc[1]  # 확인"
   ]
  },
  {
   "cell_type": "code",
   "execution_count": 81,
   "id": "f6bdd43a",
   "metadata": {},
   "outputs": [],
   "source": [
    "# 불필요한 내용 삭제 1\n",
    "# ⓒ 이후내용 모두삭제\n",
    "pattern = r'ⓒ.*'\n",
    "filtered_df.loc[filtered_df['WRITER'] == writer, 'PARSED CONTENT'] = \\\n",
    "    filtered_df.loc[filtered_df['WRITER'] == writer, 'PARSED CONTENT'].apply(lambda text: re.sub(pattern, '', str(text), flags=re.DOTALL | re.IGNORECASE))\n"
   ]
  },
  {
   "cell_type": "code",
   "execution_count": 82,
   "id": "c55fcfde",
   "metadata": {},
   "outputs": [],
   "source": [
    "# 불필요한 내용 삭제 2\n",
    "# 기자 ] 이전 내용 모두삭제\n",
    "pattern = r'.*기자\\s?]'\n",
    "filtered_df.loc[filtered_df['WRITER'] == writer, 'PARSED CONTENT'] = \\\n",
    "    filtered_df.loc[filtered_df['WRITER'] == writer, 'PARSED CONTENT'].apply(lambda text: re.sub(pattern, '', str(text), flags=re.DOTALL | re.IGNORECASE))\n"
   ]
  },
  {
   "cell_type": "code",
   "execution_count": 83,
   "id": "d75268e1",
   "metadata": {},
   "outputs": [
    {
     "data": {
      "text/plain": [
       "' 국내 대형 연예기획사의 올해 콘서트 관객 수가 코로나19 이전보다 대폭 증가할 것이란 분석이 나왔다. 조정 과정을 거치던 대형 엔터주 주가도 실적 기대에 힘입어 최근 반등했다.\\n9일 교보증권에 따르면 올해 국내 대형 엔터 4사(하이브, JYP엔터테인먼트, 에스엠, YG엔터테인먼트)의 콘서트 관객 수는 총 723만 명에 육박할 전망이다. 지난해 추정치(418만 명) 대비 72.9% 늘어난 수치다. 코로나19 이전인 2019년 관객 수(533만 명)와 비교해도 35.6% 많다.\\n에스엠의 콘서트 관객 수가 가장 가파르게 늘어날 것으로 기대되고 있다. 이 회사의 올해 콘서트 예상 관객 수는 229만 명으로 전년보다 두 배 이상 증가할 전망이다. 전년 대비 영업이익 증가율도 엔터 4사 가운데 가장 높은 60.4%를 기록할 것이란 관측이다.\\n박성국 교보증권 연구원은 “매출과 수익성에 크게 기여할 수 있는 돔 공연이 올해 다수 계획돼 있다”며 “올해 활동 예정인 국내 아티스트 중 블랙핑크, 트와이스, 슈퍼주니어 등 11개 그룹의 돔 투어가 가능하다”고 했다.\\n증권가에선 콘서트 본격 재개 등의 영향으로 올해 대형 엔터 기업 실적이 뛸 것으로 보고 있다. 금융정보업체 에프앤가이드에 따르면 국내 대형 엔터 4사의 올해 합산 매출과 영업이익 예상치는 각각 3조4762억원, 5247억원이다. 전년(3조2417억원, 4837억원)보다 늘어난 수치다.\\n지난달 말 하락하던 주가도 최근 다시 올랐다. 하이브 주가는 이날 3.27% 상승했다. 한 주간(1월 2~9일) 수익률은 2.4%다. 에스엠과 YG엔터 주가도 한 주간 각각 1.5%, 1.6% 올랐다. JYP엔터 주가는 지난 3거래일 연속 떨어지다가 이날 4% 가까이 뛰었다.\\n최세영 기자\\n'"
      ]
     },
     "execution_count": 83,
     "metadata": {},
     "output_type": "execute_result"
    }
   ],
   "source": [
    "# 예시(전처리 후)\n",
    "filtered_df[filtered_df['WRITER']== writer][\"PARSED CONTENT\"].iloc[1]"
   ]
  },
  {
   "cell_type": "markdown",
   "id": "577a5296",
   "metadata": {},
   "source": [
    "## 서울경제 → 별도의 전처리 사항 없음"
   ]
  },
  {
   "cell_type": "markdown",
   "id": "87bb377b",
   "metadata": {},
   "source": [
    "## 파이낸셜 포인트"
   ]
  },
  {
   "cell_type": "code",
   "execution_count": 84,
   "id": "f55bdf5a",
   "metadata": {},
   "outputs": [
    {
     "data": {
      "text/plain": [
       "'교보증권에서 9일 와이지엔터테인먼트(122870)에 대해 \"연초부터 열일 중\"라며 투자의견을 \\'BUY\\'로 제시하였고, 아울러 목표주가로는 64,000원을 내놓았다. 교보증권 박성국 애널리스트가 동종목에 대하여 이번에 제시한 \\'BUY\\'의견은 교보증권의 직전 매매의견에서 큰 변화없이 그대로 유지되는 것이고  전년도말의 매매의견을 기준으로  볼때도 역시 \\'매수\\'의견이 계속 유지되고 있는 상태이다. 그리고 최근 분기내 발표된 전체 증권사 리포트의 컨센서스와 비교를 해볼 경우에 오늘 발표된 투자의견은 전체의견에 수렴하고 있어, 이번 의견은 시장의 평균적인 기대감이 객관적으로 표현된 것으로 분석되고 있다. 또한 전일 종가 기준으로 볼때 동종목의 현주가는 이번에 제시된 목표가 대비 29%의 저평가 요인이 존재한다는 해석이 제시되고 있다. \\n\\n◆ Report briefing교보증권에서 와이지엔터테인먼트(122870)에 대해 \"23년 1월 신인 걸그룹 \\'베이비몬스터\\' 론칭 공식화, 지수 솔로 앨범 발매, GD 컴백 예고 통해 아이콘 계약해지 및 위너 입대로 우려되던 One IP 리스크 해소. 빅뱅은 K-POP 아티스트 가운데 중국 QQ뮤직 팔로워 수 1위(1,392만)로 2위 블랙핑크의 두 배 이상. GD 실물앨범 발매시 22년 2분기 \\'봄여름가을겨울\\' 음원 정산금액 이상 수익창출 기대.\"라고 분석했다.  또한 교보증권에서 \"22년 4분기 매출액 1,320억원(YoY +48.4%), 영업이익 222억원(YoY +67.6%)으로 컨센서스 대비 매출 하회, 영업이익 부합 전망. 23년 매출액 4,823억원(YoY +21.1%), 영업이익 647억원(YoY +21.8%) 전망.\"라고 밝혔다. \\n◆ Report statistics교보증권의 동종목에 대한 최근 3개월 동안의 투자의견은 전체적으로 큰 변화없이 유지되고 있다. \\n\\n오늘 교보증권에서 발표된 \\'BUY\\'의견 및 목표주가 64,000원은 전체의견에 수렴하면서 시장의 평균적인 기대감이 비교적 객관적으로 표현된 것으로 풀이되며 목표가평균 대비 2.5%정도 미달하고 있는 것으로 집계되었다.  참고로 최근에 목표주가를 가장 공격적으로 제시한 키움증권은 투자의견 \\'BUY(유지)\\'에 목표주가 78,000원을 제일 보수적인      의견을 제시한 메리츠증권은 투자의견 \\'BUY(신규)\\'에 목표주가 58,000원을 제시한 바 있다. \\n[교보증권 투자의견 추이]\\n- 2023.01.09 목표가 64,000 투자의견 BUY\\n- 2022.11.11 목표가 70,000 투자의견 BUY(유지)\\n[전체 증권사 최근 리포트]\\n- 2023.01.09 목표가 64,000 투자의견 BUY 교보증권\\n- 2023.01.09 목표가 65,000 투자의견 BUY 하이투자증권\\n- 2023.01.04 목표가 60,000 투자의견 BUY(신규) IBK투자증권\\n- 2022.12.08 목표가 65,000 투자의견 BUY(유지) 한국투자증권\\nhtml\\n_x000D_\\n\\n \\nⓒ 씽크풀, 무단 전재 및 재배포 금지                                                                                                                                                                                                                                                                                                                                                                                                                                                                                                                                                                                                                                                                                                                                                                                                                                                                                                                                                                                                                                                                                                                                                                                                                                                                                                                                                                                                                                                                                                                                  \\n'"
      ]
     },
     "execution_count": 84,
     "metadata": {},
     "output_type": "execute_result"
    }
   ],
   "source": [
    "# 예시(전처리 전)\n",
    "writer = '파이낸셜 포인트'  # 언론사 설정 \n",
    "filtered_df[filtered_df['WRITER']== writer][\"PARSED CONTENT\"].iloc[0]  # 확인"
   ]
  },
  {
   "cell_type": "code",
   "execution_count": 85,
   "id": "7ebfe5ad",
   "metadata": {},
   "outputs": [],
   "source": [
    "# 불필요한 내용 삭제 1\n",
    "# 투자의견 추이] 이후 내용 삭제\n",
    "\n",
    "pattern = r'투자의견 추이\\].*'\n",
    "filtered_df.loc[filtered_df['WRITER'] == writer, 'PARSED CONTENT'] = \\\n",
    "    filtered_df.loc[filtered_df['WRITER'] == writer, 'PARSED CONTENT'].apply(lambda text: re.sub(pattern, '', str(text), flags=re.DOTALL | re.IGNORECASE))\n"
   ]
  },
  {
   "cell_type": "code",
   "execution_count": 86,
   "id": "fcd432c4",
   "metadata": {},
   "outputs": [],
   "source": [
    "# 불필요한 내용 삭제 2\n",
    "# [전체 증권사 최근 리포트] 이후 내용 삭제\n",
    "pattern = r'\\[전체 증권사 최근 리포트\\].*'\n",
    "filtered_df.loc[filtered_df['WRITER'] == writer, 'PARSED CONTENT'] = \\\n",
    "    filtered_df.loc[filtered_df['WRITER'] == writer, 'PARSED CONTENT'].apply(lambda text: re.sub(pattern, '', str(text), flags=re.DOTALL | re.IGNORECASE))\n"
   ]
  },
  {
   "cell_type": "code",
   "execution_count": 87,
   "id": "d978c97d",
   "metadata": {},
   "outputs": [
    {
     "data": {
      "text/plain": [
       "'교보증권에서 9일 와이지엔터테인먼트(122870)에 대해 \"연초부터 열일 중\"라며 투자의견을 \\'BUY\\'로 제시하였고, 아울러 목표주가로는 64,000원을 내놓았다. 교보증권 박성국 애널리스트가 동종목에 대하여 이번에 제시한 \\'BUY\\'의견은 교보증권의 직전 매매의견에서 큰 변화없이 그대로 유지되는 것이고  전년도말의 매매의견을 기준으로  볼때도 역시 \\'매수\\'의견이 계속 유지되고 있는 상태이다. 그리고 최근 분기내 발표된 전체 증권사 리포트의 컨센서스와 비교를 해볼 경우에 오늘 발표된 투자의견은 전체의견에 수렴하고 있어, 이번 의견은 시장의 평균적인 기대감이 객관적으로 표현된 것으로 분석되고 있다. 또한 전일 종가 기준으로 볼때 동종목의 현주가는 이번에 제시된 목표가 대비 29%의 저평가 요인이 존재한다는 해석이 제시되고 있다. \\n\\n◆ Report briefing교보증권에서 와이지엔터테인먼트(122870)에 대해 \"23년 1월 신인 걸그룹 \\'베이비몬스터\\' 론칭 공식화, 지수 솔로 앨범 발매, GD 컴백 예고 통해 아이콘 계약해지 및 위너 입대로 우려되던 One IP 리스크 해소. 빅뱅은 K-POP 아티스트 가운데 중국 QQ뮤직 팔로워 수 1위(1,392만)로 2위 블랙핑크의 두 배 이상. GD 실물앨범 발매시 22년 2분기 \\'봄여름가을겨울\\' 음원 정산금액 이상 수익창출 기대.\"라고 분석했다.  또한 교보증권에서 \"22년 4분기 매출액 1,320억원(YoY +48.4%), 영업이익 222억원(YoY +67.6%)으로 컨센서스 대비 매출 하회, 영업이익 부합 전망. 23년 매출액 4,823억원(YoY +21.1%), 영업이익 647억원(YoY +21.8%) 전망.\"라고 밝혔다. \\n◆ Report statistics교보증권의 동종목에 대한 최근 3개월 동안의 투자의견은 전체적으로 큰 변화없이 유지되고 있다. \\n\\n오늘 교보증권에서 발표된 \\'BUY\\'의견 및 목표주가 64,000원은 전체의견에 수렴하면서 시장의 평균적인 기대감이 비교적 객관적으로 표현된 것으로 풀이되며 목표가평균 대비 2.5%정도 미달하고 있는 것으로 집계되었다.  참고로 최근에 목표주가를 가장 공격적으로 제시한 키움증권은 투자의견 \\'BUY(유지)\\'에 목표주가 78,000원을 제일 보수적인      의견을 제시한 메리츠증권은 투자의견 \\'BUY(신규)\\'에 목표주가 58,000원을 제시한 바 있다. \\n[교보증권 '"
      ]
     },
     "execution_count": 87,
     "metadata": {},
     "output_type": "execute_result"
    }
   ],
   "source": [
    "# 예시(전처리 후)\n",
    "filtered_df[filtered_df['WRITER']== writer][\"PARSED CONTENT\"].iloc[0]"
   ]
  },
  {
   "cell_type": "markdown",
   "id": "9db54cbe",
   "metadata": {},
   "source": [
    "## NSP, NSP통신"
   ]
  },
  {
   "cell_type": "code",
   "execution_count": 88,
   "id": "6b8914b5",
   "metadata": {
    "scrolled": true
   },
   "outputs": [
    {
     "data": {
      "text/plain": [
       "'\\n(서울=NSP통신) 류수운 기자 = 그룹 엔시티 드림(NCT DREAM)이 써클차트(구. 가온차트) 리테일(소매점) 월간 앨범 순위에서 정상에 올랐다.\\n_x000D_\\n\\n_x000D_\\n써클차트가 2일 공개한 2022년 12월 리테일 앨범차트에 따르면 엔시티 드림의 겨울 스페셜 미니앨범 ‘Candy’(캔디)가 집계 기준이 되는 한 달 동안 가장 많은 81만4336장의 판매량으로 1위를 차지했다.\\n_x000D_\\n\\n_x000D_\\n앨범 ‘Candy’는 지난 1996년 그룹 에이치오티(H.O.T.)가 발표한 ‘Candy’를 엔시티 드림만의 색깔로 재해석한 동명의 타이틀 곡을 포함해 총 6곡으로 구성돼 있다.\\n\\n\\n\\n2~5위는 ▲있지(ITZY) ‘CHESHIRE’(체셔) (33만5686장) ▲레드벨벳(Red Velvet) ‘The ReVe Festival 2022 - Birthday’(더 리브 페스티벌 2022 - 버스데이) (23만109장) ▲알엠(RM) ‘Indigo’(인디고) (21만8388장) ▲알엠 ‘Indigo (Weverse)’ (16만6913장) 순으로 랭크됐다.\\n_x000D_\\n\\n_x000D_\\n한편 이날 함께 발표된 53주차(12.25~31) 리테일 앨범차트 1위 역시 엔시티 드림 ‘Candy’가 차지하면서 2주 연속 정상을 지켰다. 집계 기간 중 구랍 27일 오후 5시에 가장 많은 판매량을 나타냈다.\\n_x000D_\\n\\n_x000D_\\n이 기간 일간 리테일 앨범차트에서는 △25, 27일 엔시티 드림 ‘Candy’ △26, 29, 31일 에스엠타운(SMTOWN) ‘2022 Winter SMTOWN : SMCU PALACE’(2022 윈터 에스엠타운 : SMCU 팰리스) △28일 웨이션브이(WayV) ‘Phantom’(팬텀) △30일 에이티즈(ATEEZ) ‘SPIN OFF : FROM THE WITNESS’(스핀 오프 : 프롬 더 위트니스)가 각각 정상에 올랐다.\\n\\n\\n\\nNSP통신 류수운 기자 swryu64@nspna.com\\n_x000D_\\n저작권자ⓒ 한국의 경제뉴스통신사 NSP통신·NSP TV. 무단전재-재배포 금지.                                                                                                                                                                                                                                                                                                                                                                                                                                                     \\n'"
      ]
     },
     "execution_count": 88,
     "metadata": {},
     "output_type": "execute_result"
    }
   ],
   "source": [
    "# 예시(전처리 전)\n",
    "writer = ['NSP','NSP통신']  # 언론사 설정 \n",
    "filtered_df[filtered_df['WRITER'].isin(writer)][\"PARSED CONTENT\"].iloc[0]  # 확인"
   ]
  },
  {
   "cell_type": "code",
   "execution_count": 89,
   "id": "589b825b",
   "metadata": {},
   "outputs": [],
   "source": [
    "# 불필요한 내용 삭제 1\n",
    "filtered_df.loc[filtered_df['WRITER'].isin(writer), 'PARSED CONTENT'] = \\\n",
    "    filtered_df.loc[filtered_df['WRITER'].isin(writer), 'PARSED CONTENT'].str.replace(\"ⓒ 한국의 경제뉴스통신사 NSP통신·NSP TV. 무단전재-재배포 금지.\", \"\", regex=False)"
   ]
  },
  {
   "cell_type": "code",
   "execution_count": 90,
   "id": "8056ea5d",
   "metadata": {},
   "outputs": [],
   "source": [
    "# 불필요한 내용 삭제 2\n",
    "# 기자 =이전 내용 모두 삭제\n",
    "pattern = r'.*기자\\s?='\n",
    "filtered_df.loc[filtered_df['WRITER'].isin(writer), 'PARSED CONTENT'] = \\\n",
    "    filtered_df.loc[filtered_df['WRITER'].isin(writer), 'PARSED CONTENT'].apply(lambda text: re.sub(pattern, '', str(text), flags=re.DOTALL | re.IGNORECASE))\n"
   ]
  },
  {
   "cell_type": "code",
   "execution_count": 91,
   "id": "53dd1965",
   "metadata": {},
   "outputs": [
    {
     "data": {
      "text/plain": [
       "' 그룹 엔시티 드림(NCT DREAM)이 써클차트(구. 가온차트) 리테일(소매점) 월간 앨범 순위에서 정상에 올랐다.\\n_x000D_\\n\\n_x000D_\\n써클차트가 2일 공개한 2022년 12월 리테일 앨범차트에 따르면 엔시티 드림의 겨울 스페셜 미니앨범 ‘Candy’(캔디)가 집계 기준이 되는 한 달 동안 가장 많은 81만4336장의 판매량으로 1위를 차지했다.\\n_x000D_\\n\\n_x000D_\\n앨범 ‘Candy’는 지난 1996년 그룹 에이치오티(H.O.T.)가 발표한 ‘Candy’를 엔시티 드림만의 색깔로 재해석한 동명의 타이틀 곡을 포함해 총 6곡으로 구성돼 있다.\\n\\n\\n\\n2~5위는 ▲있지(ITZY) ‘CHESHIRE’(체셔) (33만5686장) ▲레드벨벳(Red Velvet) ‘The ReVe Festival 2022 - Birthday’(더 리브 페스티벌 2022 - 버스데이) (23만109장) ▲알엠(RM) ‘Indigo’(인디고) (21만8388장) ▲알엠 ‘Indigo (Weverse)’ (16만6913장) 순으로 랭크됐다.\\n_x000D_\\n\\n_x000D_\\n한편 이날 함께 발표된 53주차(12.25~31) 리테일 앨범차트 1위 역시 엔시티 드림 ‘Candy’가 차지하면서 2주 연속 정상을 지켰다. 집계 기간 중 구랍 27일 오후 5시에 가장 많은 판매량을 나타냈다.\\n_x000D_\\n\\n_x000D_\\n이 기간 일간 리테일 앨범차트에서는 △25, 27일 엔시티 드림 ‘Candy’ △26, 29, 31일 에스엠타운(SMTOWN) ‘2022 Winter SMTOWN : SMCU PALACE’(2022 윈터 에스엠타운 : SMCU 팰리스) △28일 웨이션브이(WayV) ‘Phantom’(팬텀) △30일 에이티즈(ATEEZ) ‘SPIN OFF : FROM THE WITNESS’(스핀 오프 : 프롬 더 위트니스)가 각각 정상에 올랐다.\\n\\n\\n\\nNSP통신 류수운 기자 swryu64@nspna.com\\n_x000D_\\n저작권자                                                                                                                                                                                                                                                                                                                                                                                                                                                     \\n'"
      ]
     },
     "execution_count": 91,
     "metadata": {},
     "output_type": "execute_result"
    }
   ],
   "source": [
    "# 예시(전처리 후)\n",
    "filtered_df[filtered_df['WRITER'].isin(writer)][\"PARSED CONTENT\"].iloc[0]"
   ]
  },
  {
   "cell_type": "markdown",
   "id": "a2a4562a",
   "metadata": {},
   "source": [
    "##  이투데이"
   ]
  },
  {
   "cell_type": "code",
   "execution_count": 92,
   "id": "2cd3ea6f",
   "metadata": {},
   "outputs": [
    {
     "data": {
      "text/plain": [
       "'[이투데이/손민지 기자()]\\n\\n메리츠증권이 하이브에 대해 올해 IP 다각화가 성공해 호실적을 기록할 것으로 전망했다. 투자의견은 ‘매수’ 유지, 목표주가는 기존 17만 원에서 21만 원으로 상향조정했다. 전 거래일 기준 종가는 18만8000원이다.\\n\\n20일 정지수 메리츠증권 연구원은 “하이브의 2022년 4분기 연결 실적은 매출액은 4342억 원, 영업이익은 509억 원으로 컨센서스(시장 전망치)를 하회할 전망”이라며 “엔하이픈, TXT의 콘서트 모객 규모가 작았고, 10월 BTS의 부산 무료 콘서트 개최 등으로 공연 관련 수익성이 대체로 부진했다”고 분석했다.\\n\\n이어 “지난 12월 일본에서 데뷔한 신인 그룹(&TEAM) 관련 제작원가 증가도 4분기 수익성 부진의 원인으로 파악된다”고 덧붙였다.\\n\\n다만 정 연구원은 “2023년 1분기에는 1월 TXT, 3월 세븐틴 유닛 앨범 등 총 3~4개의 앨범 실적이 반영되며, 엔하이픈과 TXT의 월드투어 실적은 대부분은 2023년 2분기에 인식될 전망”이라며 “엔하이픈과 TXT는 2023년 콘서트 모객 규모를 2배 가까이 확대함으로써 외형과 이익이 모두 성장할 전망”이라고 했다.\\n\\n또 그는 “위버스는 2023년 2분기부터 구독 모델 도입을 도입할 예정”이라며 “2023년 연결 매출액과 영업이익은 각각 1조8144억 원, 2273억 원을 전망한다”고 봤다.\\n\\n이어 “뉴진스 ‘Ditto’(디토)는 최근 빌보드 ‘핫 100’ 차트에 진입하며 4세대 K팝 아티스트 중 가장 빠른 성장세를 보인다”며 “2023년에는 BTS 공백에도 불구하고 기존 지식재산권(IP)에 신규 IP 3팀이 추가될 예정”이라고 덧붙였다.[종목기사]    ●     ●     ● [오늘의 핫클릭]    ●    ●    ●    ●    ●    ●    ●  이투데이(www.etoday.co.kr), 무단전재 및 수집, 재배포금지 '"
      ]
     },
     "execution_count": 92,
     "metadata": {},
     "output_type": "execute_result"
    }
   ],
   "source": [
    "# 예시(전처리 전)\n",
    "writer = '이투데이'  # 언론사 설정 \n",
    "filtered_df[filtered_df['WRITER']== writer][\"PARSED CONTENT\"].iloc[0]  # 확인"
   ]
  },
  {
   "cell_type": "code",
   "execution_count": 93,
   "id": "96eed406",
   "metadata": {},
   "outputs": [],
   "source": [
    "# 불필요한 내용 삭제 1\n",
    "#기자()]이전내용 모두 삭제\n",
    "pattern = r'.*기자\\s?\\(\\)]'\n",
    "filtered_df.loc[filtered_df['WRITER']==writer, 'PARSED CONTENT'] = \\\n",
    "    filtered_df.loc[filtered_df['WRITER']==writer, 'PARSED CONTENT'].apply(lambda text: re.sub(pattern, '', str(text), flags=re.DOTALL | re.IGNORECASE))\n"
   ]
  },
  {
   "cell_type": "code",
   "execution_count": 94,
   "id": "88ae4d6d",
   "metadata": {},
   "outputs": [],
   "source": [
    "# 불필요한 내용 삭제 2\n",
    "# [오늘의 핫클릭] 이후내용 모두 삭제\n",
    "pattern = r'\\[오늘의 핫클릭\\].*$'\n",
    "filtered_df.loc[filtered_df['WRITER']==writer, 'PARSED CONTENT'] = \\\n",
    "    filtered_df.loc[filtered_df['WRITER']==writer, 'PARSED CONTENT'].apply(lambda text: re.sub(pattern, '', str(text), flags=re.DOTALL | re.IGNORECASE))\n"
   ]
  },
  {
   "cell_type": "code",
   "execution_count": 95,
   "id": "9802f6e1",
   "metadata": {},
   "outputs": [],
   "source": [
    "# 불필요한 내용 삭제 3\n",
    "# [종목기사] 이후내용 모두 삭제\n",
    "pattern = r'\\[종목기사\\].*$'\n",
    "filtered_df.loc[filtered_df['WRITER']==writer, 'PARSED CONTENT'] = \\\n",
    "    filtered_df.loc[filtered_df['WRITER']==writer,  'PARSED CONTENT'].apply(lambda text: re.sub(pattern, '', str(text), flags=re.DOTALL | re.IGNORECASE))"
   ]
  },
  {
   "cell_type": "code",
   "execution_count": 96,
   "id": "0b949351",
   "metadata": {},
   "outputs": [
    {
     "data": {
      "text/plain": [
       "'\\n\\n메리츠증권이 하이브에 대해 올해 IP 다각화가 성공해 호실적을 기록할 것으로 전망했다. 투자의견은 ‘매수’ 유지, 목표주가는 기존 17만 원에서 21만 원으로 상향조정했다. 전 거래일 기준 종가는 18만8000원이다.\\n\\n20일 정지수 메리츠증권 연구원은 “하이브의 2022년 4분기 연결 실적은 매출액은 4342억 원, 영업이익은 509억 원으로 컨센서스(시장 전망치)를 하회할 전망”이라며 “엔하이픈, TXT의 콘서트 모객 규모가 작았고, 10월 BTS의 부산 무료 콘서트 개최 등으로 공연 관련 수익성이 대체로 부진했다”고 분석했다.\\n\\n이어 “지난 12월 일본에서 데뷔한 신인 그룹(&TEAM) 관련 제작원가 증가도 4분기 수익성 부진의 원인으로 파악된다”고 덧붙였다.\\n\\n다만 정 연구원은 “2023년 1분기에는 1월 TXT, 3월 세븐틴 유닛 앨범 등 총 3~4개의 앨범 실적이 반영되며, 엔하이픈과 TXT의 월드투어 실적은 대부분은 2023년 2분기에 인식될 전망”이라며 “엔하이픈과 TXT는 2023년 콘서트 모객 규모를 2배 가까이 확대함으로써 외형과 이익이 모두 성장할 전망”이라고 했다.\\n\\n또 그는 “위버스는 2023년 2분기부터 구독 모델 도입을 도입할 예정”이라며 “2023년 연결 매출액과 영업이익은 각각 1조8144억 원, 2273억 원을 전망한다”고 봤다.\\n\\n이어 “뉴진스 ‘Ditto’(디토)는 최근 빌보드 ‘핫 100’ 차트에 진입하며 4세대 K팝 아티스트 중 가장 빠른 성장세를 보인다”며 “2023년에는 BTS 공백에도 불구하고 기존 지식재산권(IP)에 신규 IP 3팀이 추가될 예정”이라고 덧붙였다.'"
      ]
     },
     "execution_count": 96,
     "metadata": {},
     "output_type": "execute_result"
    }
   ],
   "source": [
    "# 예시(전처리 후)\n",
    "filtered_df[filtered_df['WRITER']== writer][\"PARSED CONTENT\"].iloc[0]"
   ]
  },
  {
   "cell_type": "markdown",
   "id": "3d6c37e5",
   "metadata": {},
   "source": [
    "## 파이낸셜뉴스"
   ]
  },
  {
   "cell_type": "code",
   "execution_count": 97,
   "id": "8f256081",
   "metadata": {},
   "outputs": [
    {
     "data": {
      "text/plain": [
       "\"그룹 몬스타엑스(MONSTA X)와 CIX(씨아이엑스)가 한터차트 1월 3주 주간차트 정상에 등극했다.\\n세계 유일의 실시간 음악차트인 한터차트는 오늘(16일) 오전 10시, 2022년 1월 3주 차 주간 월드차트, 음반차트, 그리고 인증차트를 발표했다.\\n음반, 음원, 인증, SNS, 미디어 등 케이팝 아티스트의 글로벌 데이터를 바탕으로 발표되는 월드차트는 종합차트의 의미를 갖는다. 몬스타엑스는 1월 3주 주간 월드차트에서 1만7087.71점의 월드 지수로 1위를 차지했다. 이어 주간 월드차트에서 2위는 방탄소년단, 3위는 NCT 드림이 차트에 올랐다.\\n한터차트의 차트 기준인 '음반 지수'로 선정된 지난주 음반차트 1위는 37만2257.28점(주간 음반 판매량 32만6503장)을 기록한 몬스타엑스의 'REASON' 앨범이었다. 몬스타엑스는 컴백과 동시에 월드차트에 이어 음반차트까지 점령했다.\\n이어 2위는 SF9의 'THE PIECE OF9', 3위는 문빈&산하의 'INCENSE', 4위는 웨이션브이의 'Phantom', 5위는 슈퍼주니어의 'The Road' 앨범이 차례로 차트인 했다. \\n6위는 뉴진스의 'OMG', 7위는 레드벨벳의 'The ReVe Festival 2022 - Birthday', 8위는 뉴진스의 'New Jeans', 9위는 엔시티 드림의 'Candy', 10위는 르세라핌의 'ANTIFRAGILE' 앨범 순이었다. \\n주간 인증차트 1위는 CIX의 ''OK' Episode 1 : OK Not' 앨범이었다. CIX는 5개월 전에 발매했던 해당 앨범으로 1위에 오르며 글로벌 인기를 입증했다.\\n이어서 2위는 NCT 드림의 'Candy', 3위는 이펙스의 '사랑의 서 Chapter 1. Puppy Love', 4위는 문빈&산하의 'INCENSE', 5위는 스트레이 키즈의 'MAXIDENT', 6위는 RM의 'Indigo', 7위는 세븐틴의 'Face the Sun', 8위는 원호의 'Bittersweet', 9위는 웨이션브이의 'Phantom', 10위는 에이티즈의 'SPIN OFF : FROM THE WITNESS' 앨범이었다.\\n한터차트의 1월 3주 차 주간 차트 집계 기간은 지난 9일부터 15일까지다. 월드차트는 케이팝 아티스트의 글로벌 데이터를 바탕으로 발표되고, 음반차트는 전 세계 음반 판매량을 바탕으로 한 음반 지수를 기준으로 순위가 발표된다. 인증차트는 해외 팬들의 정품 앨범 인증량을 기준으로 한다.\\n각 앨범 차트 성적 및 판매량에 대한 더 자세한 내용은 모바일 '후즈팬(Whosfan)' 앱과 한터차트 홈페이지를 통해 확인할 수 있다. \\njisoomovie@fnnews.com 박지수 기자 사진=한터차트\\n※ 저작권자 ⓒ 파이낸셜뉴스. 무단 전재-재배포 금지\\n \\n\""
      ]
     },
     "execution_count": 97,
     "metadata": {},
     "output_type": "execute_result"
    }
   ],
   "source": [
    "# 예시(전처리 전)\n",
    "writer = '파이낸셜뉴스'  # 언론사 설정 \n",
    "filtered_df[filtered_df['WRITER']== writer][\"PARSED CONTENT\"].iloc[0]  # 확인"
   ]
  },
  {
   "cell_type": "code",
   "execution_count": 98,
   "id": "878a838e",
   "metadata": {},
   "outputs": [],
   "source": [
    "# 불필요한 내용 삭제 1\n",
    "# 기자】 이전내용 모두 삭제\n",
    "pattern = r'.*기자\\s?】'\n",
    "filtered_df.loc[filtered_df['WRITER']==writer, 'PARSED CONTENT'] = \\\n",
    "    filtered_df.loc[filtered_df['WRITER']==writer, 'PARSED CONTENT'].apply(lambda text: re.sub(pattern, '', str(text), flags=re.DOTALL | re.IGNORECASE))\n"
   ]
  },
  {
   "cell_type": "code",
   "execution_count": 99,
   "id": "584c856b",
   "metadata": {},
   "outputs": [],
   "source": [
    "# 불필요한 내용 삭제 2\n",
    "# 저작권자 ⓒ 파이낸셜뉴스 이후내용 모두삭제\n",
    "\n",
    "pattern = r'저작권자 ⓒ 파이낸셜뉴스.*'\n",
    "filtered_df.loc[filtered_df['WRITER'] == writer, 'PARSED CONTENT'] = \\\n",
    "    filtered_df.loc[filtered_df['WRITER'] == writer, 'PARSED CONTENT'].apply(lambda text: re.sub(pattern, '', str(text), flags=re.DOTALL | re.IGNORECASE))\n"
   ]
  },
  {
   "cell_type": "code",
   "execution_count": 100,
   "id": "e285aae3",
   "metadata": {},
   "outputs": [],
   "source": [
    "# 불필요한 내용 삭제 3\n",
    "# [파이낸셜뉴스] 삭제\n",
    "filtered_df.loc[filtered_df['WRITER'] == writer, 'PARSED CONTENT'] = \\\n",
    "    filtered_df.loc[filtered_df['WRITER'] == writer, 'PARSED CONTENT'].str.replace(\"[파이낸셜뉴스]\", \"\", regex=False)"
   ]
  },
  {
   "cell_type": "code",
   "execution_count": 101,
   "id": "77e992c1",
   "metadata": {},
   "outputs": [
    {
     "data": {
      "text/plain": [
       "'\\xa0올해 엔터주들의 전망이 밝다. 코로나19라는 긴 터널을 지나, 본격적으로 아티스트들이 국내외 팬들과 만날 기회가 많아져서다. 올해 신인그룹들도 대거 데뷔를 앞두고 있어 실적 개선 및 주가 상승에 대한 기대를 모으고 있다. \\n\\xa019일 한국거래소에 따르면 올들어 엔터테인먼트 종목들의 주가가 대부분 오름세다. \\n\\xa0큐브엔터의 경우 올들어서만 주가가 34.3% 뛰었다. 올해 영업이익이 두배 증가할 것이라는 전망과 (여자)아이들의 월드투어 성공이 기대돼서다. \\n\\xa0와이지엔터테인먼트도 20%, 하이브도 8.4%의 주가상승률을 나타냈다. 지난해 다 떨어지는 와중에서도 주가가 올랐던 에스엠(0.1%)과 JYP Ent(-1.3%)만 약보합세를 보이고 있다. \\n\\xa0지난해 한해동안 하이브(-50.5%), 큐브엔터(-34.7%), 와이지(-22.1%) 등은 주가가 큰폭으로 떨어진 반면 JYP Ent 주가는 33.7%, 에스엠의 경우 4.2% 오른 바 있다. \\n\\xa0증권사들은 올해 본격적으로 엔터주에 대한 비중 확대 의견을 제시하고 있다. \\n\\xa0박성국 교보증권 연구원은 \"엔터 업종의 올해 첫 번째 키워드는 콘서트 온기 재개\"라고 꼽으며 \"엔터 4사(큐브엔터 제외)의 올해 합산 콘서트 관객수는 코로나 이전인 2019년 대비 35.6% 증가할 것\"으로 예상했다. \\n\\xa0최근 중국의 한한령 완화 기조도 긍정적이다. 실제로 중국향 앨범수출금액은 최근 7년새 800.5% 증가하며 중국 내 K-POP 확산은 지속되고 있다는 판단이다. \\n\\xa0박 연구원은 \"두 번째 키워드는 신인그룹 데뷔\"라며 \"엔터 4사의 올해 데뷔예정 신인그룹은 총 12개팀으로, 과거 어느 때보다 많다. 대형기획사 신인그룹의 앨범판매량이 증가하면서 수익화 시기가 앞당겨졌고, 신인그룹 론칭에 대한 리스크가 과거 대비 감소했기 때문\"이라고 풀이했다. \\n\\xa0박수영 한화투자증권 연구원도 \"올해 존재들의 성장에 주목해야 한다\"며 괄목할만한 존재들의 성장 대표 사례로는 스트레이키즈(JYP Ent)와 뉴진스(하이브)를 꼽았다. 박 연구원은 \"스트레이키즈는 데뷔 4년차에 앨범 판매고 750만장을 기록하며 BTS가 5년차에 냈던 성과를 이뤄낼 수 있을 전망\"이라며 \"뉴진스는 2번째 앨범만에 영국 오피셜 싱글 차트에 진입했으며, 미국 빌보드 핫100 차트 진입도 목전에 두고 있다\"고 소개했다. \\n올해 실적도 대부분 큰폭으로 증가할 것으로 보인다. \\n\\xa0금융정보업체 에프앤가이드에 따르면 에스엠의 올해 영업이익 컨센서스는 1206억원으로, 지난해 대비 37.3% 증가할 전망이다. JYP Ent도 같은 기간 24.77% 증가한 1256억원이, 와이지엔터테인먼트도 33.49% 증가한 692억원이 예상된다. 큐브엔터의 경우 영업이익이 지난해 보다 두배 이상(126.57%) 증가한 156억원이 기대되는 상황이다. 다만 하이브의 경우, 올해 영업이익이 BTS 부재 등으로 인해 지난해 대비 11.30% 감소한 2121억원이 추정된다. \\n\\xa0증권사들마다 저울질을 통해 최선호주를 제시하고 나섰다. \\n\\xa0교보증권은 최선호주로 JYP Ent를 유지하고 에스엠을 새롭게 제시했다. 박 연구원은 \"JYP Ent의 경우 돔 투어 가능 아티스트들이 3개팀으로, 모든 아티스트들의 팬덤 확장이 지속되고 있으며 최소 2024년까지 주요 아티스트 재계약 및 군입대 불확실성이 존재하지 않고, 올해 신인그룹 4개팀이 데뷔 예정이기 때문\"이라고 설명했다. 이어 \"에스엠에 대해서는 EXO 백현, 샤이니 태민의 전역과 신규 그룹 2개팀 데뷔로 주요 엔터사 가운데 최대 활동 라인업을 갖춘다\"며 \"콘서트 온기 재개와 텐트폴 작품     방영 통한 연결 자회사 실적개선으로 엔터사 가운데 가장 높은 영업이익 증가율이 예상된다\"고 설명했다. \\n\\xa0한화투자증권은 JYP Ent를 업종 내 최선호주로, 하이브를 차선호주로 꼽았다. JYP Ent의 경우 신인 배출 및 양성 시스템 안정성을 갖췄다는 점에서, 하이브의 경우 4세대 지식재산권(IP)의 성장, 위버스 구독 모델 도입 등을 이유로 들었다. \\n※ '"
      ]
     },
     "execution_count": 101,
     "metadata": {},
     "output_type": "execute_result"
    }
   ],
   "source": [
    "# 예시(전처리 후)\n",
    "filtered_df[filtered_df['WRITER']== writer][\"PARSED CONTENT\"].iloc[10]"
   ]
  },
  {
   "cell_type": "markdown",
   "id": "f43fc2be",
   "metadata": {},
   "source": [
    "## 머니투데이 방송"
   ]
  },
  {
   "cell_type": "code",
   "execution_count": 102,
   "id": "6c29f722",
   "metadata": {},
   "outputs": [
    {
     "data": {
      "text/plain": [
       "'NH투자증권은 17일 하이브에 대해 BTS 단체 활동 부재에도 강한 신인과 기대되는 신사업이 기대된다고 분석했다. 투자의견은 매수를, 목표주가는 25만원을 유지했다. 이화정 NH투자증권 연구원은 기업분석보고서를 통해 \"하이브의 지난해 4분기 연결기준 실적은 매출액 4008억원, 영업이익 504억원을 기록해 시장 기대치를 소폭 하회할 것\"이라 밝혔다. 그는 \"지난 2021년 BTS LA투어와 달리 세븐틴 아시아 투어의 경우 도시 이동이 잦고, 회당 모객이 적어 수익성이 낮았다\"라면서도 \"진 솔로(100만장), RM 솔로(75만장), 르세라핌 미니(75만장) 및 세븐틴 일본(100만장)과 같은 신보 판매 호조에 주목해야 한다\"고 설명했다. 이 연구원은 \"BTS 순차적 군입대로 단체 활동 부재에도 BTS의 멤버별 솔로 활동이 공백을 메꾸고 있고 지난해 데뷔한 3팀(르세라핌, 뉴진스, &팀)이 모두 흥행에 성공해 BTS 외 라인업도 흥행 지속 중\"이라고 평가했다. 이어 \"뉴진스가 데뷔 반년만에 신곡 \\'Ditto\\'를 통해 빌보드 메인 싱글차트 Hot 100에 진입할 것으로 예상된다\"며 \"블랙핑크의 미국 내 대중 인지도가 불어나기 시작한 시발점이 2018년 \\'뚜두뚜두\\' Hot 100 진입이었음을 고려하면 눈여겨볼 만하다\"고 덧붙였다. 플랫폼 부문에서는 \"브이라이브 통합 완료로 외부 입점 아티스트 및 이용자 유의미하게 성장 중이고 지난해 12월 뉴진스 전용 플랫폼 \\'포닝\\'으로 테스트를 마친 월별 구독 서비스의 경우 올해 2분기 위버스 플랫폼 전체에도 적용될 전망\"이라고 분석했다. 이상현 머니투데이방송 MTN 기자[머니투데이방송 이상현 기자]<저작권자 ⓒ \\'부자되는 좋은습관 대한민국 경제채널 MTN\\'>[MTN 인기기사][MTN 핫이슈기사] '"
      ]
     },
     "execution_count": 102,
     "metadata": {},
     "output_type": "execute_result"
    }
   ],
   "source": [
    "# 예시(전처리 전)\n",
    "writer = '머니투데이방송'  # 언론사 설정 \n",
    "filtered_df[filtered_df['WRITER']== writer][\"PARSED CONTENT\"].iloc[0]  # 확인"
   ]
  },
  {
   "cell_type": "code",
   "execution_count": 103,
   "id": "cccc6c5a",
   "metadata": {},
   "outputs": [],
   "source": [
    "# 불필요한 내용 삭제 1\n",
    "# 머니투데이방송 MTN 기자 이후내용 모두삭제\n",
    "pattern = r'머니투데이방송 MTN 기자.*'\n",
    "filtered_df.loc[filtered_df['WRITER'] == writer, 'PARSED CONTENT'] = \\\n",
    "    filtered_df.loc[filtered_df['WRITER'] == writer, 'PARSED CONTENT'].apply(lambda text: re.sub(pattern, '', str(text), flags=re.DOTALL | re.IGNORECASE))\n"
   ]
  },
  {
   "cell_type": "code",
   "execution_count": 104,
   "id": "cb3abf3c",
   "metadata": {
    "scrolled": false
   },
   "outputs": [
    {
     "data": {
      "text/plain": [
       "'NH투자증권은 17일 하이브에 대해 BTS 단체 활동 부재에도 강한 신인과 기대되는 신사업이 기대된다고 분석했다. 투자의견은 매수를, 목표주가는 25만원을 유지했다. 이화정 NH투자증권 연구원은 기업분석보고서를 통해 \"하이브의 지난해 4분기 연결기준 실적은 매출액 4008억원, 영업이익 504억원을 기록해 시장 기대치를 소폭 하회할 것\"이라 밝혔다. 그는 \"지난 2021년 BTS LA투어와 달리 세븐틴 아시아 투어의 경우 도시 이동이 잦고, 회당 모객이 적어 수익성이 낮았다\"라면서도 \"진 솔로(100만장), RM 솔로(75만장), 르세라핌 미니(75만장) 및 세븐틴 일본(100만장)과 같은 신보 판매 호조에 주목해야 한다\"고 설명했다. 이 연구원은 \"BTS 순차적 군입대로 단체 활동 부재에도 BTS의 멤버별 솔로 활동이 공백을 메꾸고 있고 지난해 데뷔한 3팀(르세라핌, 뉴진스, &팀)이 모두 흥행에 성공해 BTS 외 라인업도 흥행 지속 중\"이라고 평가했다. 이어 \"뉴진스가 데뷔 반년만에 신곡 \\'Ditto\\'를 통해 빌보드 메인 싱글차트 Hot 100에 진입할 것으로 예상된다\"며 \"블랙핑크의 미국 내 대중 인지도가 불어나기 시작한 시발점이 2018년 \\'뚜두뚜두\\' Hot 100 진입이었음을 고려하면 눈여겨볼 만하다\"고 덧붙였다. 플랫폼 부문에서는 \"브이라이브 통합 완료로 외부 입점 아티스트 및 이용자 유의미하게 성장 중이고 지난해 12월 뉴진스 전용 플랫폼 \\'포닝\\'으로 테스트를 마친 월별 구독 서비스의 경우 올해 2분기 위버스 플랫폼 전체에도 적용될 전망\"이라고 분석했다. 이상현 '"
      ]
     },
     "execution_count": 104,
     "metadata": {},
     "output_type": "execute_result"
    }
   ],
   "source": [
    "# 예시(전처리 후)\n",
    "filtered_df[filtered_df['WRITER']== writer][\"PARSED CONTENT\"].iloc[0]"
   ]
  },
  {
   "cell_type": "markdown",
   "id": "2d22ac94",
   "metadata": {},
   "source": [
    "# 공통 전처리"
   ]
  },
  {
   "cell_type": "markdown",
   "id": "6ddd7389",
   "metadata": {},
   "source": [
    "- 모든 언론사들에서 공통적으로 포함하고 있는 전처리 사항을 다음과 같이 처리함 "
   ]
  },
  {
   "cell_type": "code",
   "execution_count": 105,
   "id": "970ac9fa",
   "metadata": {},
   "outputs": [],
   "source": [
    "# _x000D_ 삭제\n",
    "filtered_df['PARSED CONTENT'] = \\\n",
    "    filtered_df['PARSED CONTENT'].str.replace(\"_x000D_\", \"\", regex=False)"
   ]
  },
  {
   "cell_type": "code",
   "execution_count": 106,
   "id": "9fab0b94",
   "metadata": {},
   "outputs": [],
   "source": [
    "# \\xa0 삭제\n",
    "filtered_df['PARSED CONTENT'] = \\\n",
    "    filtered_df['PARSED CONTENT'].str.replace(\"\\xa0\", \"\", regex=False)"
   ]
  },
  {
   "cell_type": "code",
   "execution_count": 107,
   "id": "cb281341",
   "metadata": {},
   "outputs": [],
   "source": [
    "# r_start 삭제\n",
    "filtered_df['PARSED CONTENT'] = \\\n",
    "    filtered_df['PARSED CONTENT'].str.replace(\"r_start\", \"\", regex=False)"
   ]
  },
  {
   "cell_type": "code",
   "execution_count": 108,
   "id": "6febe48e",
   "metadata": {},
   "outputs": [],
   "source": [
    "# \\n 삭제\n",
    "filtered_df['PARSED CONTENT'] = \\\n",
    "    filtered_df['PARSED CONTENT'].str.replace(\"\\n\", \"\", regex=False)"
   ]
  },
  {
   "cell_type": "code",
   "execution_count": 109,
   "id": "4bf243c3",
   "metadata": {},
   "outputs": [],
   "source": [
    "# \\r 삭제\n",
    "filtered_df['PARSED CONTENT'] = \\\n",
    "    filtered_df['PARSED CONTENT'].str.replace(\"\\r\", \"\", regex=False)"
   ]
  },
  {
   "cell_type": "code",
   "execution_count": 110,
   "id": "eb97ed09",
   "metadata": {},
   "outputs": [],
   "source": [
    "# _ 삭제\n",
    "filtered_df['PARSED CONTENT'] = \\\n",
    "    filtered_df['PARSED CONTENT'].str.replace(\"_\", \"\", regex=False)"
   ]
  },
  {
   "cell_type": "code",
   "execution_count": 111,
   "id": "676d340d",
   "metadata": {},
   "outputs": [],
   "source": [
    "# \\ 삭제\n",
    "filtered_df['PARSED CONTENT'] = filtered_df['PARSED CONTENT'].str.replace(\"\\\\\", \"\", regex=False)"
   ]
  },
  {
   "cell_type": "code",
   "execution_count": 112,
   "id": "f6434a9b",
   "metadata": {},
   "outputs": [],
   "source": [
    "# / 삭제\n",
    "filtered_df['PARSED CONTENT'] = filtered_df['PARSED CONTENT'].str.replace(\"/\", \"\", regex=False)"
   ]
  },
  {
   "cell_type": "code",
   "execution_count": 113,
   "id": "c4049fd7",
   "metadata": {
    "scrolled": true
   },
   "outputs": [
    {
     "data": {
      "text/html": [
       "<div>\n",
       "<style scoped>\n",
       "    .dataframe tbody tr th:only-of-type {\n",
       "        vertical-align: middle;\n",
       "    }\n",
       "\n",
       "    .dataframe tbody tr th {\n",
       "        vertical-align: top;\n",
       "    }\n",
       "\n",
       "    .dataframe thead th {\n",
       "        text-align: right;\n",
       "    }\n",
       "</style>\n",
       "<table border=\"1\" class=\"dataframe\">\n",
       "  <thead>\n",
       "    <tr style=\"text-align: right;\">\n",
       "      <th></th>\n",
       "      <th>NEWS_YM</th>\n",
       "      <th>DATE_TIME</th>\n",
       "      <th>WRITER</th>\n",
       "      <th>SUBCATEGORY</th>\n",
       "      <th>TITLE</th>\n",
       "      <th>IMPORTANCE</th>\n",
       "      <th>ITEM_NAME</th>\n",
       "      <th>TAG_LIST</th>\n",
       "      <th>PARSED CONTENT</th>\n",
       "    </tr>\n",
       "  </thead>\n",
       "  <tbody>\n",
       "    <tr>\n",
       "      <th>4</th>\n",
       "      <td>202301</td>\n",
       "      <td>20230102_084347</td>\n",
       "      <td>eDaily</td>\n",
       "      <td>사회</td>\n",
       "      <td>BTS 자리 넘본다…유망주는 스트레이 키즈-KB</td>\n",
       "      <td>67.91</td>\n",
       "      <td>NaN</td>\n",
       "      <td>BTS| 판매량| NCT| 넥스트| 엔하이픈| 블랙핑크| 에스파| 아이브</td>\n",
       "      <td>- KB증권 “군 입대 BTS에 도전 이어질 것”- “스트레이 키즈, 군 이슈 없고...</td>\n",
       "    </tr>\n",
       "    <tr>\n",
       "      <th>7</th>\n",
       "      <td>202301</td>\n",
       "      <td>20230104_082655</td>\n",
       "      <td>eDaily</td>\n",
       "      <td>경제</td>\n",
       "      <td>BTS 군입대에도 K팝 주가 선방 전망-IBK</td>\n",
       "      <td>67.81</td>\n",
       "      <td>NaN</td>\n",
       "      <td>판매량| 방탄소년단| BTS| 개별| 공연| 글로벌</td>\n",
       "      <td>- 이환욱 “K팝 앨범 판매 증가, 하이브 주가 상향”[이데일리 최훈길 기자] 방탄...</td>\n",
       "    </tr>\n",
       "    <tr>\n",
       "      <th>9</th>\n",
       "      <td>202301</td>\n",
       "      <td>20230102_100838</td>\n",
       "      <td>eDaily</td>\n",
       "      <td>기술</td>\n",
       "      <td>[특징주]와이지엔터, 베이비몬스터 데뷔 예고에 6%대↑</td>\n",
       "      <td>68.31</td>\n",
       "      <td>와이지엔터테인먼트</td>\n",
       "      <td>블랙핑크</td>\n",
       "      <td>[이데일리 이정현 기자] 신인 걸그룹 공개를 예고한 와이지엔터테인먼트(122870)...</td>\n",
       "    </tr>\n",
       "    <tr>\n",
       "      <th>18</th>\n",
       "      <td>202301</td>\n",
       "      <td>20230119_063002</td>\n",
       "      <td>eDaily</td>\n",
       "      <td>경제</td>\n",
       "      <td>BTS·블랙핑크에 뉴진스까지..K-스타 인기 올라탄 명품</td>\n",
       "      <td>50.47</td>\n",
       "      <td>NaN</td>\n",
       "      <td>블랙핑크| 명품| BTS| 글로벌| 콘텐츠| 방탄소년단| 빅뱅</td>\n",
       "      <td>- 디올은 지민 발렌티노는 슈가 앰버서더 발탁- 뉴진스 하니·혜인도 구찌·루이비통과...</td>\n",
       "    </tr>\n",
       "    <tr>\n",
       "      <th>20</th>\n",
       "      <td>202301</td>\n",
       "      <td>20230116_132720</td>\n",
       "      <td>eDaily</td>\n",
       "      <td>기술</td>\n",
       "      <td>자이언트스텝, '2022 앤어워드' 디지털 미디어·서비스 부문 장관상 수상</td>\n",
       "      <td>44.42</td>\n",
       "      <td>자이언트스텝</td>\n",
       "      <td>디지털| 미디어| 콘텐츠</td>\n",
       "      <td>- 올해 3관왕…\"콘텐츠 제작 역량 강화에 집중할 것\"[이데일리 이용성 기자] 리얼...</td>\n",
       "    </tr>\n",
       "    <tr>\n",
       "      <th>...</th>\n",
       "      <td>...</td>\n",
       "      <td>...</td>\n",
       "      <td>...</td>\n",
       "      <td>...</td>\n",
       "      <td>...</td>\n",
       "      <td>...</td>\n",
       "      <td>...</td>\n",
       "      <td>...</td>\n",
       "      <td>...</td>\n",
       "    </tr>\n",
       "    <tr>\n",
       "      <th>16156</th>\n",
       "      <td>202306</td>\n",
       "      <td>20230601_163720</td>\n",
       "      <td>한경뉴스</td>\n",
       "      <td>경제</td>\n",
       "      <td>NH아문디 'K-pop ETF' 수익률 43%…엔터 ETF 1위</td>\n",
       "      <td>10.99</td>\n",
       "      <td>NaN</td>\n",
       "      <td>미디어| 엔터테인먼트| 글로벌</td>\n",
       "      <td>NH아문디자산운용의 K팝 테마 상장지수펀드(ETF)인 'HANARO Fn K-POP...</td>\n",
       "    </tr>\n",
       "    <tr>\n",
       "      <th>16159</th>\n",
       "      <td>202306</td>\n",
       "      <td>20230605_185336</td>\n",
       "      <td>한경뉴스</td>\n",
       "      <td>사회</td>\n",
       "      <td>K팝 아이돌의 정석…홀로선 태연, 1만8000명 모았다[리뷰]</td>\n",
       "      <td>21.48</td>\n",
       "      <td>NaN</td>\n",
       "      <td>공연| 소녀시대| 코로나19</td>\n",
       "      <td>10년 넘게 최고의 자리를 지키는 데는 그만한 이유가 있었다. 홀로 무대에 섰을 때...</td>\n",
       "    </tr>\n",
       "    <tr>\n",
       "      <th>16160</th>\n",
       "      <td>202306</td>\n",
       "      <td>20230606_174433</td>\n",
       "      <td>한경뉴스</td>\n",
       "      <td>기술</td>\n",
       "      <td>다음 K테마는 무엇이냐…\"엔터·식품·의료기기 주목\"</td>\n",
       "      <td>12.57</td>\n",
       "      <td>하이브|JYP Ent.|에스엠|와이지엔터테인먼트|농심|덴티움|제이시스메디칼|엔씨소프...</td>\n",
       "      <td>식품| 의료기기| 게임| 미디어| 중국| 산업| 엔터테인먼트| 콘텐츠| 유튜브| 미...</td>\n",
       "      <td>올 들어 증시가 배터리와 반도체 등 일부 테마를 중심으로 순환매 조짐을 보이면서 ...</td>\n",
       "    </tr>\n",
       "    <tr>\n",
       "      <th>16166</th>\n",
       "      <td>202306</td>\n",
       "      <td>20230612_143036</td>\n",
       "      <td>한경뉴스</td>\n",
       "      <td>경제</td>\n",
       "      <td>당일 증권사 관심 종목 - SK하이닉스 , 하이브 등</td>\n",
       "      <td>13.73</td>\n",
       "      <td>NaN</td>\n",
       "      <td>증권사| 환경</td>\n",
       "      <td>빅데이터를 기반으로 투자 이슈를 분석하는 한경라씨로에 따르면 06월 12일 2시 3...</td>\n",
       "    </tr>\n",
       "    <tr>\n",
       "      <th>16174</th>\n",
       "      <td>202306</td>\n",
       "      <td>20230620_195449</td>\n",
       "      <td>한경뉴스</td>\n",
       "      <td>경제</td>\n",
       "      <td>\"관심도 없었는데\"…SNS서 유행하더니 너도나도 '댄스 챌린지' [이슈+]</td>\n",
       "      <td>24.73</td>\n",
       "      <td>NaN</td>\n",
       "      <td>유튜브| SNS| 유행| 콘텐츠| 문화| 음원| 디지털</td>\n",
       "      <td>'댄스 챌린지' 영상을 촬영하는 취미가 생겼다는 직장인 고모 씨(26)는 \"시간 날...</td>\n",
       "    </tr>\n",
       "  </tbody>\n",
       "</table>\n",
       "<p>3571 rows × 9 columns</p>\n",
       "</div>"
      ],
      "text/plain": [
       "       NEWS_YM        DATE_TIME  WRITER SUBCATEGORY  \\\n",
       "4       202301  20230102_084347  eDaily          사회   \n",
       "7       202301  20230104_082655  eDaily          경제   \n",
       "9       202301  20230102_100838  eDaily          기술   \n",
       "18      202301  20230119_063002  eDaily          경제   \n",
       "20      202301  20230116_132720  eDaily          기술   \n",
       "...        ...              ...     ...         ...   \n",
       "16156   202306  20230601_163720    한경뉴스          경제   \n",
       "16159   202306  20230605_185336    한경뉴스          사회   \n",
       "16160   202306  20230606_174433    한경뉴스          기술   \n",
       "16166   202306  20230612_143036    한경뉴스          경제   \n",
       "16174   202306  20230620_195449    한경뉴스          경제   \n",
       "\n",
       "                                           TITLE  IMPORTANCE  \\\n",
       "4                     BTS 자리 넘본다…유망주는 스트레이 키즈-KB       67.91   \n",
       "7                      BTS 군입대에도 K팝 주가 선방 전망-IBK       67.81   \n",
       "9                 [특징주]와이지엔터, 베이비몬스터 데뷔 예고에 6%대↑       68.31   \n",
       "18               BTS·블랙핑크에 뉴진스까지..K-스타 인기 올라탄 명품       50.47   \n",
       "20     자이언트스텝, '2022 앤어워드' 디지털 미디어·서비스 부문 장관상 수상       44.42   \n",
       "...                                          ...         ...   \n",
       "16156        NH아문디 'K-pop ETF' 수익률 43%…엔터 ETF 1위       10.99   \n",
       "16159         K팝 아이돌의 정석…홀로선 태연, 1만8000명 모았다[리뷰]       21.48   \n",
       "16160               다음 K테마는 무엇이냐…\"엔터·식품·의료기기 주목\"       12.57   \n",
       "16166              당일 증권사 관심 종목 - SK하이닉스 , 하이브 등       13.73   \n",
       "16174  \"관심도 없었는데\"…SNS서 유행하더니 너도나도 '댄스 챌린지' [이슈+]       24.73   \n",
       "\n",
       "                                               ITEM_NAME  \\\n",
       "4                                                    NaN   \n",
       "7                                                    NaN   \n",
       "9                                              와이지엔터테인먼트   \n",
       "18                                                   NaN   \n",
       "20                                                자이언트스텝   \n",
       "...                                                  ...   \n",
       "16156                                                NaN   \n",
       "16159                                                NaN   \n",
       "16160  하이브|JYP Ent.|에스엠|와이지엔터테인먼트|농심|덴티움|제이시스메디칼|엔씨소프...   \n",
       "16166                                                NaN   \n",
       "16174                                                NaN   \n",
       "\n",
       "                                                TAG_LIST  \\\n",
       "4               BTS| 판매량| NCT| 넥스트| 엔하이픈| 블랙핑크| 에스파| 아이브   \n",
       "7                           판매량| 방탄소년단| BTS| 개별| 공연| 글로벌   \n",
       "9                                                   블랙핑크   \n",
       "18                    블랙핑크| 명품| BTS| 글로벌| 콘텐츠| 방탄소년단| 빅뱅   \n",
       "20                                         디지털| 미디어| 콘텐츠   \n",
       "...                                                  ...   \n",
       "16156                                   미디어| 엔터테인먼트| 글로벌   \n",
       "16159                                    공연| 소녀시대| 코로나19   \n",
       "16160  식품| 의료기기| 게임| 미디어| 중국| 산업| 엔터테인먼트| 콘텐츠| 유튜브| 미...   \n",
       "16166                                            증권사| 환경   \n",
       "16174                     유튜브| SNS| 유행| 콘텐츠| 문화| 음원| 디지털   \n",
       "\n",
       "                                          PARSED CONTENT  \n",
       "4      - KB증권 “군 입대 BTS에 도전 이어질 것”- “스트레이 키즈, 군 이슈 없고...  \n",
       "7      - 이환욱 “K팝 앨범 판매 증가, 하이브 주가 상향”[이데일리 최훈길 기자] 방탄...  \n",
       "9      [이데일리 이정현 기자] 신인 걸그룹 공개를 예고한 와이지엔터테인먼트(122870)...  \n",
       "18     - 디올은 지민 발렌티노는 슈가 앰버서더 발탁- 뉴진스 하니·혜인도 구찌·루이비통과...  \n",
       "20     - 올해 3관왕…\"콘텐츠 제작 역량 강화에 집중할 것\"[이데일리 이용성 기자] 리얼...  \n",
       "...                                                  ...  \n",
       "16156  NH아문디자산운용의 K팝 테마 상장지수펀드(ETF)인 'HANARO Fn K-POP...  \n",
       "16159  10년 넘게 최고의 자리를 지키는 데는 그만한 이유가 있었다. 홀로 무대에 섰을 때...  \n",
       "16160   올 들어 증시가 배터리와 반도체 등 일부 테마를 중심으로 순환매 조짐을 보이면서 ...  \n",
       "16166  빅데이터를 기반으로 투자 이슈를 분석하는 한경라씨로에 따르면 06월 12일 2시 3...  \n",
       "16174  '댄스 챌린지' 영상을 촬영하는 취미가 생겼다는 직장인 고모 씨(26)는 \"시간 날...  \n",
       "\n",
       "[3571 rows x 9 columns]"
      ]
     },
     "execution_count": 113,
     "metadata": {},
     "output_type": "execute_result"
    }
   ],
   "source": [
    "# 전처리 결과 확인 \n",
    "filtered_df"
   ]
  },
  {
   "cell_type": "markdown",
   "id": "f9f69b28",
   "metadata": {},
   "source": [
    "# 3차 키워드 필터링\n",
    "- 태그 제거하기 전 K-POP 엔터테인먼트 관련 키워드로 1차 필터링을 진행, HTML의 태그가 제거된 뉴스 본문에 대하여 2차 필터링을 진행하였음\n",
    "- 언론사별로 전처리가 끝난 데이터에 대해 3차 필터링을 진행하여 관련성이 높은 기사만 추출하도록 함 \n",
    "- 2가지 기준을 사용하여 추출함 \n",
    "    - 1. PARSED CONTENT 변수를 기준으로 \n",
    "    - 2. TITLE, ITEM_NAME, TAG_LIST 변수를 기준으로 "
   ]
  },
  {
   "cell_type": "markdown",
   "id": "73c06754",
   "metadata": {},
   "source": [
    "## (1) PARSED CONTENT변수를 기준으로"
   ]
  },
  {
   "cell_type": "code",
   "execution_count": 114,
   "id": "6d54d957",
   "metadata": {},
   "outputs": [],
   "source": [
    "keywords = [\n",
    "    '방시혁','하이브','에스엠','이수만','와이지','양현석','제이와이피','박진영',\n",
    "    \n",
    "    '뉴진스','방탄소년단','르세라핌',\n",
    "    '세븐틴','투모로우바이투게더',\n",
    "    '프로미스나인','나나','이현','미드낫','엔하이픈',\n",
    "    '백호','강동호','황민현','예하나','성연','지코',\n",
    "    '앤팀','히라테 유리나','보이넥스트도어',\n",
    "    \n",
    "    '블랙핑크','트레저','악뮤','악동뮤지션',\n",
    "    '위너','지디','권지용',\n",
    "    '젝스키스',\n",
    "    \n",
    "    '트와이스','엔믹스', '데이식스',\n",
    "    'itzy','채령','류진','유나','예지'\n",
    "    \n",
    "    '스트레이키즈','투피엠','보이스토리',\n",
    "    '야오천','니지유','엑스디너리 히어로즈',\n",
    "    'boa',\n",
    "    '에스파',\n",
    "    '엑소',\n",
    "    \n",
    "    '샤이니','엔시티','엔시티 127','엔시티 드림',    \n",
    "    '동방신기','슈퍼주니어','소녀시대','엑소'\n",
    "    '레드벨벳','웨이션브이','슈퍼엠',\n",
    "    '갓더비트','갓 더 비트','라이즈'\n",
    "\n",
    "]\n",
    "\n",
    "# 특정 단어 목록을 정규식 패턴으로 변환\n",
    "keywords_pattern = '|'.join(keywords)\n",
    "\n",
    "# 'PARSED CONTENT' 열에서 정규식 패턴을 검색하여 추출\n",
    "filtered_df = filtered_df[filtered_df['PARSED CONTENT'].str.contains(keywords_pattern, flags=re.IGNORECASE, regex=True)]\n",
    "\n",
    "# 특정 키워드가 3번 이상 포함된 행만 남기기\n",
    "filtered_df = filtered_df[filtered_df['PARSED CONTENT'].apply(lambda text: sum(1 for keyword in keywords if keyword.lower() in text.lower()) >= 3)]\n"
   ]
  },
  {
   "cell_type": "code",
   "execution_count": 115,
   "id": "e2fc9084",
   "metadata": {
    "scrolled": false
   },
   "outputs": [
    {
     "name": "stdout",
     "output_type": "stream",
     "text": [
      "<class 'pandas.core.frame.DataFrame'>\n",
      "Int64Index: 3189 entries, 4 to 16174\n",
      "Data columns (total 9 columns):\n",
      " #   Column          Non-Null Count  Dtype  \n",
      "---  ------          --------------  -----  \n",
      " 0   NEWS_YM         3189 non-null   int64  \n",
      " 1   DATE_TIME       3189 non-null   object \n",
      " 2   WRITER          3189 non-null   object \n",
      " 3   SUBCATEGORY     3189 non-null   object \n",
      " 4   TITLE           3189 non-null   object \n",
      " 5   IMPORTANCE      3189 non-null   float64\n",
      " 6   ITEM_NAME       1654 non-null   object \n",
      " 7   TAG_LIST        2424 non-null   object \n",
      " 8   PARSED CONTENT  3189 non-null   object \n",
      "dtypes: float64(1), int64(1), object(7)\n",
      "memory usage: 249.1+ KB\n"
     ]
    }
   ],
   "source": [
    "# 필터링 결과 확인\n",
    "filtered_df.info()"
   ]
  },
  {
   "cell_type": "markdown",
   "id": "7b8fc7b3",
   "metadata": {},
   "source": [
    "## TITLE, ITEM_NAME, TAG_LIST를 기준으로 \n",
    "- 아래의 키워드를 ‘TITLE’ 에 포함, “또는” ‘ITEM_NAME’ 이나 ‘TAG_LIST’에 포함하는 행만 추출 "
   ]
  },
  {
   "cell_type": "code",
   "execution_count": 116,
   "id": "e23dda6a",
   "metadata": {},
   "outputs": [],
   "source": [
    "keywords = [\n",
    "    '엔터','데뷔','아이돌','걸그룹','보이그룹','기획사','스트리밍','엔터주','빌보드','K팝','음반','음원차트','한류',\n",
    "    '아티스트','콘서트','멜론','빅4','앨범','팬미팅','K-팝','MV','엔터업계','엔터사','엔터계','K-POP','K콘텐츠',\n",
    "    \n",
    "    'HYBE', 'Hybe','hybe','하이브 엔터','하이브','방시혁','위버스','민희진'\n",
    "    '방탄소년단','BTS','지민','뷔', '지민','RM','제이홉','슈가','정국','전정국'\n",
    "    '뉴진스','하니','민지','혜인','해린','다니엘'\n",
    "    'TXT','투모로우바이투게더',\n",
    "    '르세라핌','허윤진','사쿠라','은채','채원','카즈하',\n",
    "    '세븐틴','지코','엔하이픈','부석순',\n",
    "    '프로미스나인','나나','이현','미드낫',\n",
    "    '백호','강동호','황민현','예하나','성연',\n",
    "    '앤팀','히라테 유리나','보이넥스트도어',\n",
    "    \n",
    "    'SM','Sm','sm''SM엔터','SM C&C','에스엠','이수만','디어유'\n",
    "    '보아',\n",
    "    'NCT','엔시티',\n",
    "    '엑소','찬열','세훈','수호','첸','시우민','디오','백현','카이'\n",
    "    '에스파','윈터','카리나','닝닝','지젤',\n",
    "    '샤이니','민호','키','태민','온유'\n",
    "    '슈퍼주니어',\n",
    "    '동방신기','유노윤호','최강창민'\n",
    "    '소녀시대','윤아','태연','서현','티파니','소녀시대 수영','서현'\n",
    "    '레드벨벳','아이린','슬기','예리','조이','웬디'\n",
    "    '웨이션브이',\n",
    "    '슈퍼엠',\n",
    "    '갓더비트','갓 더 비트',\n",
    "    '라이즈',\n",
    "    \n",
    "    'YG','와이지','와이지엔터','YG엔터','와이지엔터테인먼트','YG PLUS','양현석',\n",
    "    '베이비몬스터','블랙핑크','리사','지드래곤','제니','트레저','악뮤','AKMU','악동뮤지션',\n",
    "    '위너','지디','권지용','GD'\n",
    "    '젝스키스',\n",
    "\n",
    "    'JYP','박진영','JYP Ent.','트와이스','스트레이 키즈','스트레이키즈','스키즈','있지',\n",
    "    '엔믹스', '데이식스','DAY6','itzy','채령','류진','유나','예지', '스트레이키즈',\n",
    "    '투피엠','보이스토리','야오천','니지유','엑스디너리 히어로즈'\n",
    "]\n",
    "\n",
    "# 특정 단어 목록을 정규식 패턴으로 변환\n",
    "keywords_pattern = '|'.join(keywords)\n",
    "\n",
    "# 'TITLE', 'ITEM_NAME', 'TAG_LIST' 열에서 정규식 패턴을 검색하여 추출\n",
    "filtered_df = filtered_df[\n",
    "    (filtered_df['TITLE'].str.contains(keywords_pattern, flags=re.IGNORECASE, regex=True)) |\n",
    "    (filtered_df['ITEM_NAME'].str.contains(keywords_pattern, flags=re.IGNORECASE, regex=True)) |\n",
    "    (filtered_df['TAG_LIST'].str.contains(keywords_pattern, flags=re.IGNORECASE, regex=True))\n",
    "]\n",
    "  "
   ]
  },
  {
   "cell_type": "code",
   "execution_count": 117,
   "id": "249432f6",
   "metadata": {},
   "outputs": [
    {
     "name": "stdout",
     "output_type": "stream",
     "text": [
      "<class 'pandas.core.frame.DataFrame'>\n",
      "Int64Index: 2939 entries, 4 to 16166\n",
      "Data columns (total 9 columns):\n",
      " #   Column          Non-Null Count  Dtype  \n",
      "---  ------          --------------  -----  \n",
      " 0   NEWS_YM         2939 non-null   int64  \n",
      " 1   DATE_TIME       2939 non-null   object \n",
      " 2   WRITER          2939 non-null   object \n",
      " 3   SUBCATEGORY     2939 non-null   object \n",
      " 4   TITLE           2939 non-null   object \n",
      " 5   IMPORTANCE      2939 non-null   float64\n",
      " 6   ITEM_NAME       1597 non-null   object \n",
      " 7   TAG_LIST        2257 non-null   object \n",
      " 8   PARSED CONTENT  2939 non-null   object \n",
      "dtypes: float64(1), int64(1), object(7)\n",
      "memory usage: 229.6+ KB\n"
     ]
    }
   ],
   "source": [
    "# 필터링 결과 확인 \n",
    "filtered_df.info()"
   ]
  },
  {
   "cell_type": "markdown",
   "id": "932fb86f",
   "metadata": {},
   "source": [
    "# 중복된 행 제거 "
   ]
  },
  {
   "cell_type": "code",
   "execution_count": 118,
   "id": "df2d9588",
   "metadata": {},
   "outputs": [],
   "source": [
    "filtered_df = filtered_df.drop_duplicates(subset=['WRITER', 'DATE_TIME', 'TITLE'])"
   ]
  },
  {
   "cell_type": "code",
   "execution_count": 119,
   "id": "01553ef4",
   "metadata": {},
   "outputs": [
    {
     "name": "stdout",
     "output_type": "stream",
     "text": [
      "<class 'pandas.core.frame.DataFrame'>\n",
      "Int64Index: 2939 entries, 4 to 16166\n",
      "Data columns (total 9 columns):\n",
      " #   Column          Non-Null Count  Dtype  \n",
      "---  ------          --------------  -----  \n",
      " 0   NEWS_YM         2939 non-null   int64  \n",
      " 1   DATE_TIME       2939 non-null   object \n",
      " 2   WRITER          2939 non-null   object \n",
      " 3   SUBCATEGORY     2939 non-null   object \n",
      " 4   TITLE           2939 non-null   object \n",
      " 5   IMPORTANCE      2939 non-null   float64\n",
      " 6   ITEM_NAME       1597 non-null   object \n",
      " 7   TAG_LIST        2257 non-null   object \n",
      " 8   PARSED CONTENT  2939 non-null   object \n",
      "dtypes: float64(1), int64(1), object(7)\n",
      "memory usage: 229.6+ KB\n"
     ]
    }
   ],
   "source": [
    "filtered_df.info()"
   ]
  },
  {
   "cell_type": "markdown",
   "id": "54a7594f",
   "metadata": {},
   "source": [
    "# 파일 저장 "
   ]
  },
  {
   "cell_type": "code",
   "execution_count": 120,
   "id": "63432e72",
   "metadata": {},
   "outputs": [],
   "source": [
    "# filtered_df 엑셀 파일로 저장 \n",
    "file_path = '../../../data/News/news_preprocessed.xlsx'  \n",
    "filtered_df.to_excel(file_path, index=False)"
   ]
  },
  {
   "cell_type": "markdown",
   "id": "57212aca",
   "metadata": {},
   "source": [
    "*****파일명: news_preprocessed.xlsx*****"
   ]
  }
 ],
 "metadata": {
  "kernelspec": {
   "display_name": "Python 3 (ipykernel)",
   "language": "python",
   "name": "python3"
  },
  "language_info": {
   "codemirror_mode": {
    "name": "ipython",
    "version": 3
   },
   "file_extension": ".py",
   "mimetype": "text/x-python",
   "name": "python",
   "nbconvert_exporter": "python",
   "pygments_lexer": "ipython3",
   "version": "3.9.12"
  },
  "toc": {
   "base_numbering": 1,
   "nav_menu": {},
   "number_sections": true,
   "sideBar": true,
   "skip_h1_title": false,
   "title_cell": "Table of Contents",
   "title_sidebar": "Contents",
   "toc_cell": false,
   "toc_position": {
    "height": "calc(100% - 180px)",
    "left": "10px",
    "top": "150px",
    "width": "165px"
   },
   "toc_section_display": true,
   "toc_window_display": true
  }
 },
 "nbformat": 4,
 "nbformat_minor": 5
}
