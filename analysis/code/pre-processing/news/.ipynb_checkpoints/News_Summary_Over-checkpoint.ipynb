{
 "cells": [
  {
   "cell_type": "markdown",
   "id": "92017836",
   "metadata": {},
   "source": [
    "# 데이터, 패키지 로드"
   ]
  },
  {
   "cell_type": "code",
   "execution_count": 1,
   "id": "f9afdc27",
   "metadata": {},
   "outputs": [],
   "source": [
    "# 패키지\n",
    "import pandas as pd \n",
    "import matplotlib.pyplot as plt\n",
    "import sys # clova summary\n",
    "import requests # clova summary\n",
    "import json # clova summary"
   ]
  },
  {
   "cell_type": "code",
   "execution_count": 2,
   "id": "66629132",
   "metadata": {
    "scrolled": true
   },
   "outputs": [
    {
     "data": {
      "text/html": [
       "<div>\n",
       "<style scoped>\n",
       "    .dataframe tbody tr th:only-of-type {\n",
       "        vertical-align: middle;\n",
       "    }\n",
       "\n",
       "    .dataframe tbody tr th {\n",
       "        vertical-align: top;\n",
       "    }\n",
       "\n",
       "    .dataframe thead th {\n",
       "        text-align: right;\n",
       "    }\n",
       "</style>\n",
       "<table border=\"1\" class=\"dataframe\">\n",
       "  <thead>\n",
       "    <tr style=\"text-align: right;\">\n",
       "      <th></th>\n",
       "      <th>NEWS_YM</th>\n",
       "      <th>DATE_TIME</th>\n",
       "      <th>WRITER</th>\n",
       "      <th>SUBCATEGORY</th>\n",
       "      <th>TITLE</th>\n",
       "      <th>IMPORTANCE</th>\n",
       "      <th>ITEM_NAME</th>\n",
       "      <th>TAG_LIST</th>\n",
       "      <th>PARSED CONTENT</th>\n",
       "    </tr>\n",
       "  </thead>\n",
       "  <tbody>\n",
       "    <tr>\n",
       "      <th>0</th>\n",
       "      <td>202301</td>\n",
       "      <td>20230102_084347</td>\n",
       "      <td>eDaily</td>\n",
       "      <td>사회</td>\n",
       "      <td>BTS 자리 넘본다…유망주는 스트레이 키즈-KB</td>\n",
       "      <td>67.91</td>\n",
       "      <td>NaN</td>\n",
       "      <td>BTS| 판매량| NCT| 넥스트| 엔하이픈| 블랙핑크| 에스파| 아이브</td>\n",
       "      <td>- KB증권 “군 입대 BTS에 도전 이어질 것”- “스트레이 키즈, 군 이슈 없고...</td>\n",
       "    </tr>\n",
       "    <tr>\n",
       "      <th>1</th>\n",
       "      <td>202301</td>\n",
       "      <td>20230104_082655</td>\n",
       "      <td>eDaily</td>\n",
       "      <td>경제</td>\n",
       "      <td>BTS 군입대에도 K팝 주가 선방 전망-IBK</td>\n",
       "      <td>67.81</td>\n",
       "      <td>NaN</td>\n",
       "      <td>판매량| 방탄소년단| BTS| 개별| 공연| 글로벌</td>\n",
       "      <td>- 이환욱 “K팝 앨범 판매 증가, 하이브 주가 상향”[이데일리 최훈길 기자] 방탄...</td>\n",
       "    </tr>\n",
       "    <tr>\n",
       "      <th>2</th>\n",
       "      <td>202301</td>\n",
       "      <td>20230102_100838</td>\n",
       "      <td>eDaily</td>\n",
       "      <td>기술</td>\n",
       "      <td>[특징주]와이지엔터, 베이비몬스터 데뷔 예고에 6%대↑</td>\n",
       "      <td>68.31</td>\n",
       "      <td>와이지엔터테인먼트</td>\n",
       "      <td>블랙핑크</td>\n",
       "      <td>[이데일리 이정현 기자] 신인 걸그룹 공개를 예고한 와이지엔터테인먼트(122870)...</td>\n",
       "    </tr>\n",
       "    <tr>\n",
       "      <th>3</th>\n",
       "      <td>202301</td>\n",
       "      <td>20230119_063002</td>\n",
       "      <td>eDaily</td>\n",
       "      <td>경제</td>\n",
       "      <td>BTS·블랙핑크에 뉴진스까지..K-스타 인기 올라탄 명품</td>\n",
       "      <td>50.47</td>\n",
       "      <td>NaN</td>\n",
       "      <td>블랙핑크| 명품| BTS| 글로벌| 콘텐츠| 방탄소년단| 빅뱅</td>\n",
       "      <td>- 디올은 지민 발렌티노는 슈가 앰버서더 발탁- 뉴진스 하니·혜인도 구찌·루이비통과...</td>\n",
       "    </tr>\n",
       "    <tr>\n",
       "      <th>4</th>\n",
       "      <td>202301</td>\n",
       "      <td>20230118_101709</td>\n",
       "      <td>eDaily</td>\n",
       "      <td>사회</td>\n",
       "      <td>지니뮤직 '케이팝탐사대' \"솔로가 기대되는 아이돌 멤버는?\"</td>\n",
       "      <td>45.72</td>\n",
       "      <td>NaN</td>\n",
       "      <td>블랙핑크| 스테이씨| 콘텐츠| 트와이스| 가사</td>\n",
       "      <td>- 지니뮤직 오리지널 오디오 콘텐츠 케이팝 탐사대[이데일리 정다슬 기자] 지니뮤직 ...</td>\n",
       "    </tr>\n",
       "  </tbody>\n",
       "</table>\n",
       "</div>"
      ],
      "text/plain": [
       "   NEWS_YM        DATE_TIME  WRITER SUBCATEGORY  \\\n",
       "0   202301  20230102_084347  eDaily          사회   \n",
       "1   202301  20230104_082655  eDaily          경제   \n",
       "2   202301  20230102_100838  eDaily          기술   \n",
       "3   202301  20230119_063002  eDaily          경제   \n",
       "4   202301  20230118_101709  eDaily          사회   \n",
       "\n",
       "                               TITLE  IMPORTANCE  ITEM_NAME  \\\n",
       "0         BTS 자리 넘본다…유망주는 스트레이 키즈-KB       67.91        NaN   \n",
       "1          BTS 군입대에도 K팝 주가 선방 전망-IBK       67.81        NaN   \n",
       "2     [특징주]와이지엔터, 베이비몬스터 데뷔 예고에 6%대↑       68.31  와이지엔터테인먼트   \n",
       "3    BTS·블랙핑크에 뉴진스까지..K-스타 인기 올라탄 명품       50.47        NaN   \n",
       "4  지니뮤직 '케이팝탐사대' \"솔로가 기대되는 아이돌 멤버는?\"       45.72        NaN   \n",
       "\n",
       "                                   TAG_LIST  \\\n",
       "0  BTS| 판매량| NCT| 넥스트| 엔하이픈| 블랙핑크| 에스파| 아이브   \n",
       "1              판매량| 방탄소년단| BTS| 개별| 공연| 글로벌   \n",
       "2                                      블랙핑크   \n",
       "3        블랙핑크| 명품| BTS| 글로벌| 콘텐츠| 방탄소년단| 빅뱅   \n",
       "4                 블랙핑크| 스테이씨| 콘텐츠| 트와이스| 가사   \n",
       "\n",
       "                                      PARSED CONTENT  \n",
       "0  - KB증권 “군 입대 BTS에 도전 이어질 것”- “스트레이 키즈, 군 이슈 없고...  \n",
       "1  - 이환욱 “K팝 앨범 판매 증가, 하이브 주가 상향”[이데일리 최훈길 기자] 방탄...  \n",
       "2  [이데일리 이정현 기자] 신인 걸그룹 공개를 예고한 와이지엔터테인먼트(122870)...  \n",
       "3  - 디올은 지민 발렌티노는 슈가 앰버서더 발탁- 뉴진스 하니·혜인도 구찌·루이비통과...  \n",
       "4  - 지니뮤직 오리지널 오디오 콘텐츠 케이팝 탐사대[이데일리 정다슬 기자] 지니뮤직 ...  "
      ]
     },
     "execution_count": 2,
     "metadata": {},
     "output_type": "execute_result"
    }
   ],
   "source": [
    "# 데이터 로드 \n",
    "news = pd.read_excel(\"../../../data/News/news_preprocessed.xlsx\") # 파싱, 전처리, 3차 필터링 완료한 뉴스 데이터\n",
    "news.head() # 확인 "
   ]
  },
  {
   "cell_type": "markdown",
   "id": "827f1ea7",
   "metadata": {},
   "source": [
    "# 글자수를 기준으로 데이터 분할"
   ]
  },
  {
   "cell_type": "markdown",
   "id": "34dedb39",
   "metadata": {},
   "source": [
    "- CLOVA SUMMARY 는 본문+제목의 길이 합이 2000자 이내여야 실행됨\n",
    "- 2000자를 기준으로 서로 다른 데이터프레임에 저장 "
   ]
  },
  {
   "cell_type": "code",
   "execution_count": 3,
   "id": "d66ee09e",
   "metadata": {},
   "outputs": [],
   "source": [
    "# 제목+본문 글자수 변수(LENGTH_SUM)를 추가 \n",
    "news['LENGTH_SUM'] = news['TITLE'].str.len() + news['PARSED CONTENT'].str.len()"
   ]
  },
  {
   "cell_type": "code",
   "execution_count": 4,
   "id": "0862c08a",
   "metadata": {},
   "outputs": [],
   "source": [
    "# 2000을 기준으로 서로 다른 데이터프레임에 저장 \n",
    "news_over = news[news['LENGTH_SUM'] >= 2000]\n",
    "news_under = news[news['LENGTH_SUM'] < 2000]"
   ]
  },
  {
   "cell_type": "markdown",
   "id": "e08dde36",
   "metadata": {},
   "source": [
    "# news_over CLOVA SUMMARY"
   ]
  },
  {
   "cell_type": "markdown",
   "id": "6ff71fb3",
   "metadata": {},
   "source": [
    "- **제목+본문 2000자 이상에 대해 요약문 생성**\n",
    "    - 제목 + 본문이 2000자 이상인 경우 CLOVA SUMMARY 가 실행되지 않으므로, 다른 요약문 생성 모듈을 사용하여 2000자 이내로 축소시켜야함 \n",
    "    - 이에 본 조는 한글 요약문 생성이 가능한 *****summa***** 를 사용하여 2000자 이내의 요약문을 생성하였음"
   ]
  },
  {
   "cell_type": "code",
   "execution_count": 5,
   "id": "5cb64030",
   "metadata": {},
   "outputs": [],
   "source": [
    "# summa 설치\n",
    "# pip install summa"
   ]
  },
  {
   "cell_type": "code",
   "execution_count": 6,
   "id": "a8c7208e",
   "metadata": {},
   "outputs": [],
   "source": [
    "# news_over 의 복사본 tmp 생성\n",
    "tmp = news_over.copy()"
   ]
  },
  {
   "cell_type": "code",
   "execution_count": 7,
   "id": "e2bb0140",
   "metadata": {},
   "outputs": [],
   "source": [
    "# 1950 이내 요약문 생성 함수\n",
    "\n",
    "from summa.summarizer import summarize\n",
    "\n",
    "def generate_summary(row, target_length=1950, step=50):\n",
    "    parsed_content = row['PARSED CONTENT']\n",
    "    summary = summarize(parsed_content, ratio=0.3)  # Example summarization with ratio=0.4\n",
    "\n",
    "    # 요약문의 길이가 지정한 길이보다 크면서 step 단위로 요약문을 축소\n",
    "    while len(summary) > target_length:\n",
    "        summary = summarize(parsed_content, ratio=0.2 - step / 100)\n",
    "        step += 5  # 한 번에 더 많이 줄이려면 step을 크게 조절\n",
    "\n",
    "    return summary"
   ]
  },
  {
   "cell_type": "code",
   "execution_count": 8,
   "id": "390ed30e",
   "metadata": {},
   "outputs": [],
   "source": [
    "# 요약본 생성 \n",
    "tmp['SUMMARY'] = tmp.apply(generate_summary, axis=1)"
   ]
  },
  {
   "cell_type": "code",
   "execution_count": 9,
   "id": "76d92931",
   "metadata": {
    "scrolled": false
   },
   "outputs": [
    {
     "data": {
      "image/png": "[encoded data removed]",
      "text/plain": [
       "<Figure size 432x288 with 1 Axes>"
      ]
     },
     "metadata": {
      "needs_background": "light"
     },
     "output_type": "display_data"
    }
   ],
   "source": [
    "# 요약본 길이 변수 추가 \n",
    "tmp['LENGTH_SUMMARY'] = tmp['SUMMARY'].str.len() +tmp['TITLE'].str.len()\n",
    "\n",
    "# 요약본+제목 길이 히스토그램 그리기\n",
    "plt.hist(tmp['LENGTH_SUMMARY'], bins=20, edgecolor='k')\n",
    "plt.xlabel('Summary Length')\n",
    "plt.ylabel('Frequency')\n",
    "plt.title('Distribution of LENGTH_SUMMARY')\n",
    "plt.show()"
   ]
  },
  {
   "cell_type": "markdown",
   "id": "182e5cd3",
   "metadata": {},
   "source": [
    "## 생성된 요약문의 길이가 0인 기사 확인 후 저장\n",
    "- 최대 글자수를 지정하여 요약문을 생성할 경우, 글자수가 0인(결측인) 요약문이 소량 발생함\n",
    "- 이러한 요약문의 경우 삭제해도 무방하지만, 본 조는 데이터의 손실을 최소화하기 위하여 수작업으로 요약문을 만들었음\n",
    "    - 1) summa 로 생성한 요약문 데이터를 아래와 같이 엑셀 파일로 저장\n",
    "        - 엑셀 파일명 : news_summary_over_with0.xlsx\n",
    "    - 2) 엑셀 파일에서 요약문의 길이가 0인 기사는 파싱+전처리한 기사 원문 데이터를 이용하여 직접 요약문을 만들고 저장함\n",
    "        - 엑셀 파일명 : news_summary_over.xlsx"
   ]
  },
  {
   "cell_type": "code",
   "execution_count": 10,
   "id": "a7190f10",
   "metadata": {
    "scrolled": true
   },
   "outputs": [
    {
     "name": "stdout",
     "output_type": "stream",
     "text": [
      "생성된 요약문의 길이가 0(결측치)인 기사의 수:  28\n"
     ]
    }
   ],
   "source": [
    "print('생성된 요약문의 길이가 0(결측치)인 기사의 수: ', tmp[tmp['SUMMARY'].str.len() == 0]['LENGTH_SUMMARY'].count())"
   ]
  },
  {
   "cell_type": "markdown",
   "id": "271162ca",
   "metadata": {},
   "source": [
    "### 엑셀파일로 데이터 저장 "
   ]
  },
  {
   "cell_type": "code",
   "execution_count": 11,
   "id": "45ac3a80",
   "metadata": {},
   "outputs": [],
   "source": [
    "# 데이터 저장\n",
    "file_path = '../../../data/News/news_summary_over_with0.xlsx'  \n",
    "tmp.to_excel(file_path, index=False)"
   ]
  }
 ],
 "metadata": {
  "kernelspec": {
   "display_name": "Python 3 (ipykernel)",
   "language": "python",
   "name": "python3"
  },
  "language_info": {
   "codemirror_mode": {
    "name": "ipython",
    "version": 3
   },
   "file_extension": ".py",
   "mimetype": "text/x-python",
   "name": "python",
   "nbconvert_exporter": "python",
   "pygments_lexer": "ipython3",
   "version": "3.9.12"
  },
  "toc": {
   "base_numbering": 1,
   "nav_menu": {},
   "number_sections": true,
   "sideBar": true,
   "skip_h1_title": false,
   "title_cell": "Table of Contents",
   "title_sidebar": "Contents",
   "toc_cell": false,
   "toc_position": {
    "height": "calc(100% - 180px)",
    "left": "10px",
    "top": "150px",
    "width": "288px"
   },
   "toc_section_display": true,
   "toc_window_display": true
  }
 },
 "nbformat": 4,
 "nbformat_minor": 5
}
