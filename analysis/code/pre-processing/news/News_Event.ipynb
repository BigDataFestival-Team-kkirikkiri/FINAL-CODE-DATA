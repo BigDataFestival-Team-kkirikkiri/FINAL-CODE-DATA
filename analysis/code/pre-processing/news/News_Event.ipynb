{
 "cells": [
  {
   "cell_type": "markdown",
   "id": "7019e1a7",
   "metadata": {},
   "source": [
    "# 파일 소개 \n",
    "* **파일 내용: 회사별로 분류한 뉴스 데이터 중 HYBE 의 데이터를 이용하여 이벤트 변수를 생성하고자 함**\n",
    "* **1)** ***'이벤트성 '*** **키워드를 새롭게 지정**\n",
    "* **2) 이벤트성 키워드를 포함하는 뉴스 기사만 필터링** \n",
    "* **3) 필터링을 거친 뉴스 기사에 대한 감정 지수(기존에 구해둔 것)을 이용**"
   ]
  },
  {
   "cell_type": "markdown",
   "id": "6884a023",
   "metadata": {},
   "source": [
    "# 데이터 및 패키지 로드 "
   ]
  },
  {
   "cell_type": "code",
   "execution_count": 1,
   "id": "5e365686",
   "metadata": {},
   "outputs": [],
   "source": [
    "# 패키지 로드 \n",
    "import pandas as pd \n",
    "import sys # clova sentiment\n",
    "import requests # clova sentiment\n",
    "import json # clova sentiment\n",
    "import numpy as np"
   ]
  },
  {
   "cell_type": "code",
   "execution_count": 2,
   "id": "6a640af1",
   "metadata": {},
   "outputs": [],
   "source": [
    "# 데이터 로드 \n",
    "news_hybe = pd.read_excel(\"../../../data/News/news_classified_hybe.xlsx\")\n",
    "news_sm = pd.read_excel(\"../../../data/News/news_classified_sm.xlsx\")\n",
    "news_yg = pd.read_excel(\"../../../data/News/news_classified_yg.xlsx\")\n",
    "news_jyp = pd.read_excel(\"../../../data/News/news_classified_jyp.xlsx\")"
   ]
  },
  {
   "cell_type": "markdown",
   "id": "08464f81",
   "metadata": {},
   "source": [
    "# 이벤트 변수 생성"
   ]
  },
  {
   "cell_type": "markdown",
   "id": "99671aba",
   "metadata": {},
   "source": [
    "## 이벤트 키워드 지정"
   ]
  },
  {
   "cell_type": "code",
   "execution_count": 3,
   "id": "b7253230",
   "metadata": {},
   "outputs": [],
   "source": [
    "event = ['컴백', '데뷔', '신곡','신인', '콘서트', '매진', '페스티벌', '축제', '발매' ,'합병','인수']"
   ]
  },
  {
   "cell_type": "markdown",
   "id": "68c5f778",
   "metadata": {},
   "source": [
    "### 이벤트 키워드 포함하고, COMPANY 변수가 각 회사명인 뉴스 기사만 필터링"
   ]
  },
  {
   "cell_type": "code",
   "execution_count": 4,
   "id": "8e7569a7",
   "metadata": {
    "scrolled": true
   },
   "outputs": [],
   "source": [
    "filtered_news_hybe = news_hybe[(news_hybe['TITLE'].str.contains('|'.join(event))&(news_hybe['COMPANY']=='HYBE'))]\n",
    "filtered_news_sm = news_sm[(news_sm['TITLE'].str.contains('|'.join(event))&(news_sm['COMPANY']=='SM'))]\n",
    "filtered_news_yg = news_yg[(news_yg['TITLE'].str.contains('|'.join(event))&(news_yg['COMPANY']=='YG'))]\n",
    "filtered_news_jyp = news_jyp[(news_jyp['TITLE'].str.contains('|'.join(event))&(news_jyp['COMPANY']=='JYP'))]"
   ]
  },
  {
   "cell_type": "markdown",
   "id": "42445012",
   "metadata": {},
   "source": [
    "### 날짜별로 감정지수 변수 값 총합 구하기"
   ]
  },
  {
   "cell_type": "code",
   "execution_count": 5,
   "id": "e2765aa2",
   "metadata": {},
   "outputs": [],
   "source": [
    "# 'DATE_NEW'를 기준으로 그룹화하여 'SENTIMENT'의 합 계산\n",
    "hybe_df = filtered_news_hybe.groupby('DATE_NEW').agg({'SENTIMENT': 'sum', 'DAY': 'first'}).reset_index()\n",
    "sm_df = filtered_news_sm.groupby('DATE_NEW').agg({'SENTIMENT': 'sum', 'DAY': 'first'}).reset_index()\n",
    "yg_df = filtered_news_yg.groupby('DATE_NEW').agg({'SENTIMENT': 'sum', 'DAY': 'first'}).reset_index()\n",
    "jyp_df = filtered_news_jyp.groupby('DATE_NEW').agg({'SENTIMENT': 'sum', 'DAY': 'first'}).reset_index()\n",
    "\n",
    "# 열 이름 변경\n",
    "hybe_df = hybe_df.rename(columns={'DATE_NEW': 'DATE', 'SENTIMENT': 'SENTIMENT_SUM', 'DAY': 'DAY'})\n",
    "sm_df = sm_df.rename(columns={'DATE_NEW': 'DATE', 'SENTIMENT': 'SENTIMENT_SUM', 'DAY': 'DAY'})\n",
    "yg_df = yg_df.rename(columns={'DATE_NEW': 'DATE', 'SENTIMENT': 'SENTIMENT_SUM', 'DAY': 'DAY'})\n",
    "jyp_df = jyp_df.rename(columns={'DATE_NEW': 'DATE', 'SENTIMENT': 'SENTIMENT_SUM', 'DAY': 'DAY'})"
   ]
  },
  {
   "cell_type": "markdown",
   "id": "92941c67",
   "metadata": {},
   "source": [
    "### 월요일의 감정지수 변수는 3으로 나눠주기 "
   ]
  },
  {
   "cell_type": "code",
   "execution_count": 6,
   "id": "0b5ac586",
   "metadata": {},
   "outputs": [
    {
     "name": "stderr",
     "output_type": "stream",
     "text": [
      "/var/folders/4t/dyhc70gd7zjdwxdh7x7f77240000gn/T/ipykernel_14984/158477371.py:3: SettingWithCopyWarning: \n",
      "A value is trying to be set on a copy of a slice from a DataFrame\n",
      "\n",
      "See the caveats in the documentation: https://pandas.pydata.org/pandas-docs/stable/user_guide/indexing.html#returning-a-view-versus-a-copy\n",
      "  hybe_df['SENTIMENT_SUM'].iloc[i] = (hybe_df['SENTIMENT_SUM'].iloc[i])/3\n",
      "/var/folders/4t/dyhc70gd7zjdwxdh7x7f77240000gn/T/ipykernel_14984/158477371.py:7: SettingWithCopyWarning: \n",
      "A value is trying to be set on a copy of a slice from a DataFrame\n",
      "\n",
      "See the caveats in the documentation: https://pandas.pydata.org/pandas-docs/stable/user_guide/indexing.html#returning-a-view-versus-a-copy\n",
      "  sm_df['SENTIMENT_SUM'].iloc[i] = (sm_df['SENTIMENT_SUM'].iloc[i])/3\n",
      "/var/folders/4t/dyhc70gd7zjdwxdh7x7f77240000gn/T/ipykernel_14984/158477371.py:11: SettingWithCopyWarning: \n",
      "A value is trying to be set on a copy of a slice from a DataFrame\n",
      "\n",
      "See the caveats in the documentation: https://pandas.pydata.org/pandas-docs/stable/user_guide/indexing.html#returning-a-view-versus-a-copy\n",
      "  yg_df['SENTIMENT_SUM'].iloc[i] = (yg_df['SENTIMENT_SUM'].iloc[i])/3\n",
      "/var/folders/4t/dyhc70gd7zjdwxdh7x7f77240000gn/T/ipykernel_14984/158477371.py:15: SettingWithCopyWarning: \n",
      "A value is trying to be set on a copy of a slice from a DataFrame\n",
      "\n",
      "See the caveats in the documentation: https://pandas.pydata.org/pandas-docs/stable/user_guide/indexing.html#returning-a-view-versus-a-copy\n",
      "  jyp_df['SENTIMENT_SUM'].iloc[i] = (jyp_df['SENTIMENT_SUM'].iloc[i])/3\n"
     ]
    }
   ],
   "source": [
    "for i in range(len(hybe_df)):\n",
    "    if hybe_df['DAY'].iloc[i] == '월':\n",
    "        hybe_df['SENTIMENT_SUM'].iloc[i] = (hybe_df['SENTIMENT_SUM'].iloc[i])/3\n",
    "        \n",
    "for i in range(len(sm_df)):\n",
    "    if sm_df['DAY'].iloc[i] == '월':\n",
    "        sm_df['SENTIMENT_SUM'].iloc[i] = (sm_df['SENTIMENT_SUM'].iloc[i])/3\n",
    "        \n",
    "for i in range(len(yg_df)):\n",
    "    if yg_df['DAY'].iloc[i] == '월':\n",
    "        yg_df['SENTIMENT_SUM'].iloc[i] = (yg_df['SENTIMENT_SUM'].iloc[i])/3\n",
    "        \n",
    "for i in range(len(jyp_df)):\n",
    "    if jyp_df['DAY'].iloc[i] == '월':\n",
    "        jyp_df['SENTIMENT_SUM'].iloc[i] = (jyp_df['SENTIMENT_SUM'].iloc[i])/3"
   ]
  },
  {
   "cell_type": "markdown",
   "id": "ad31663d",
   "metadata": {},
   "source": [
    "# 엑셀 파일로 저장"
   ]
  },
  {
   "cell_type": "code",
   "execution_count": 7,
   "id": "25856a21",
   "metadata": {},
   "outputs": [],
   "source": [
    "# 엑셀 파일로 저장 \n",
    "excel_filename = '../../../data/News/event_hybe.xlsx'\n",
    "hybe_df.to_excel(excel_filename, index=False)"
   ]
  },
  {
   "cell_type": "code",
   "execution_count": 8,
   "id": "c629e9db",
   "metadata": {},
   "outputs": [],
   "source": [
    "# 엑셀 파일로 저장 \n",
    "excel_filename = '../../../data/News/event_sm.xlsx'\n",
    "sm_df.to_excel(excel_filename, index=False)"
   ]
  },
  {
   "cell_type": "code",
   "execution_count": 9,
   "id": "3c68cce1",
   "metadata": {},
   "outputs": [],
   "source": [
    "# 엑셀 파일로 저장 \n",
    "excel_filename = '../../../data/News/event_yg.xlsx'\n",
    "yg_df.to_excel(excel_filename, index=False)"
   ]
  },
  {
   "cell_type": "code",
   "execution_count": 10,
   "id": "0bc0d23e",
   "metadata": {},
   "outputs": [],
   "source": [
    "# 엑셀 파일로 저장 \n",
    "excel_filename = '../../../data/News/event_jyp.xlsx'\n",
    "jyp_df.to_excel(excel_filename, index=False)"
   ]
  },
  {
   "cell_type": "code",
   "execution_count": 11,
   "id": "44160433",
   "metadata": {},
   "outputs": [
    {
     "name": "stdout",
     "output_type": "stream",
     "text": [
      "-----------HYBE----------\n",
      "<class 'pandas.core.frame.DataFrame'>\n",
      "RangeIndex: 55 entries, 0 to 54\n",
      "Data columns (total 3 columns):\n",
      " #   Column         Non-Null Count  Dtype         \n",
      "---  ------         --------------  -----         \n",
      " 0   DATE           55 non-null     datetime64[ns]\n",
      " 1   SENTIMENT_SUM  55 non-null     float64       \n",
      " 2   DAY            55 non-null     object        \n",
      "dtypes: datetime64[ns](1), float64(1), object(1)\n",
      "memory usage: 1.4+ KB\n",
      "None\n",
      "-----------SM----------\n",
      "<class 'pandas.core.frame.DataFrame'>\n",
      "RangeIndex: 42 entries, 0 to 41\n",
      "Data columns (total 3 columns):\n",
      " #   Column         Non-Null Count  Dtype         \n",
      "---  ------         --------------  -----         \n",
      " 0   DATE           42 non-null     datetime64[ns]\n",
      " 1   SENTIMENT_SUM  42 non-null     float64       \n",
      " 2   DAY            42 non-null     object        \n",
      "dtypes: datetime64[ns](1), float64(1), object(1)\n",
      "memory usage: 1.1+ KB\n",
      "None\n",
      "-----------YG----------\n",
      "<class 'pandas.core.frame.DataFrame'>\n",
      "RangeIndex: 17 entries, 0 to 16\n",
      "Data columns (total 3 columns):\n",
      " #   Column         Non-Null Count  Dtype         \n",
      "---  ------         --------------  -----         \n",
      " 0   DATE           17 non-null     datetime64[ns]\n",
      " 1   SENTIMENT_SUM  17 non-null     float64       \n",
      " 2   DAY            17 non-null     object        \n",
      "dtypes: datetime64[ns](1), float64(1), object(1)\n",
      "memory usage: 536.0+ bytes\n",
      "None\n",
      "-----------JYP----------\n",
      "<class 'pandas.core.frame.DataFrame'>\n",
      "RangeIndex: 9 entries, 0 to 8\n",
      "Data columns (total 3 columns):\n",
      " #   Column         Non-Null Count  Dtype         \n",
      "---  ------         --------------  -----         \n",
      " 0   DATE           9 non-null      datetime64[ns]\n",
      " 1   SENTIMENT_SUM  9 non-null      float64       \n",
      " 2   DAY            9 non-null      object        \n",
      "dtypes: datetime64[ns](1), float64(1), object(1)\n",
      "memory usage: 344.0+ bytes\n",
      "None\n"
     ]
    }
   ],
   "source": [
    "print('-----------HYBE----------')\n",
    "print(hybe_df.info())\n",
    "print('-----------SM----------')\n",
    "print(sm_df.info())\n",
    "print('-----------YG----------')\n",
    "print(yg_df.info())\n",
    "print('-----------JYP----------')\n",
    "print(jyp_df.info())"
   ]
  }
 ],
 "metadata": {
  "kernelspec": {
   "display_name": "Python 3 (ipykernel)",
   "language": "python",
   "name": "python3"
  },
  "language_info": {
   "codemirror_mode": {
    "name": "ipython",
    "version": 3
   },
   "file_extension": ".py",
   "mimetype": "text/x-python",
   "name": "python",
   "nbconvert_exporter": "python",
   "pygments_lexer": "ipython3",
   "version": "3.9.12"
  },
  "toc": {
   "base_numbering": 1,
   "nav_menu": {},
   "number_sections": true,
   "sideBar": true,
   "skip_h1_title": false,
   "title_cell": "Table of Contents",
   "title_sidebar": "Contents",
   "toc_cell": false,
   "toc_position": {
    "height": "calc(100% - 180px)",
    "left": "10px",
    "top": "150px",
    "width": "320px"
   },
   "toc_section_display": true,
   "toc_window_display": true
  }
 },
 "nbformat": 4,
 "nbformat_minor": 5
}
