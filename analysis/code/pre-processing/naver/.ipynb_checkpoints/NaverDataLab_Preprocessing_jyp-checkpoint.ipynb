{
 "cells": [
  {
   "cell_type": "markdown",
   "id": "03e3a00c",
   "metadata": {},
   "source": [
    "## 데이터 로드"
   ]
  },
  {
   "cell_type": "code",
   "execution_count": 1,
   "id": "9e2ec69f",
   "metadata": {},
   "outputs": [],
   "source": [
    "import pandas as pd\n",
    "\n",
    "naver_jyp = pd.read_csv('../../../data/Naver/naver_jyp.csv')"
   ]
  },
  {
   "cell_type": "code",
   "execution_count": 2,
   "id": "19a93dce",
   "metadata": {
    "scrolled": false
   },
   "outputs": [
    {
     "data": {
      "text/html": [
       "<div>\n",
       "<style scoped>\n",
       "    .dataframe tbody tr th:only-of-type {\n",
       "        vertical-align: middle;\n",
       "    }\n",
       "\n",
       "    .dataframe tbody tr th {\n",
       "        vertical-align: top;\n",
       "    }\n",
       "\n",
       "    .dataframe thead th {\n",
       "        text-align: right;\n",
       "    }\n",
       "</style>\n",
       "<table border=\"1\" class=\"dataframe\">\n",
       "  <thead>\n",
       "    <tr style=\"text-align: right;\">\n",
       "      <th></th>\n",
       "      <th>period</th>\n",
       "      <th>ratio</th>\n",
       "      <th>title</th>\n",
       "    </tr>\n",
       "  </thead>\n",
       "  <tbody>\n",
       "    <tr>\n",
       "      <th>0</th>\n",
       "      <td>2023-01-01</td>\n",
       "      <td>9.80470</td>\n",
       "      <td>JYP</td>\n",
       "    </tr>\n",
       "    <tr>\n",
       "      <th>1</th>\n",
       "      <td>2023-01-02</td>\n",
       "      <td>11.63279</td>\n",
       "      <td>JYP</td>\n",
       "    </tr>\n",
       "    <tr>\n",
       "      <th>2</th>\n",
       "      <td>2023-01-03</td>\n",
       "      <td>11.41989</td>\n",
       "      <td>JYP</td>\n",
       "    </tr>\n",
       "    <tr>\n",
       "      <th>3</th>\n",
       "      <td>2023-01-04</td>\n",
       "      <td>11.24957</td>\n",
       "      <td>JYP</td>\n",
       "    </tr>\n",
       "    <tr>\n",
       "      <th>4</th>\n",
       "      <td>2023-01-05</td>\n",
       "      <td>10.17940</td>\n",
       "      <td>JYP</td>\n",
       "    </tr>\n",
       "  </tbody>\n",
       "</table>\n",
       "</div>"
      ],
      "text/plain": [
       "       period     ratio title\n",
       "0  2023-01-01   9.80470   JYP\n",
       "1  2023-01-02  11.63279   JYP\n",
       "2  2023-01-03  11.41989   JYP\n",
       "3  2023-01-04  11.24957   JYP\n",
       "4  2023-01-05  10.17940   JYP"
      ]
     },
     "execution_count": 2,
     "metadata": {},
     "output_type": "execute_result"
    }
   ],
   "source": [
    "naver_jyp.head()"
   ]
  },
  {
   "cell_type": "markdown",
   "id": "cc42bceb",
   "metadata": {},
   "source": [
    "## period 변수 변환\n",
    "- datetime 형식으로 변환 \n",
    "- 변수명 'date'로 변경"
   ]
  },
  {
   "cell_type": "code",
   "execution_count": 3,
   "id": "ee1263d8",
   "metadata": {
    "scrolled": true
   },
   "outputs": [
    {
     "data": {
      "text/html": [
       "<div>\n",
       "<style scoped>\n",
       "    .dataframe tbody tr th:only-of-type {\n",
       "        vertical-align: middle;\n",
       "    }\n",
       "\n",
       "    .dataframe tbody tr th {\n",
       "        vertical-align: top;\n",
       "    }\n",
       "\n",
       "    .dataframe thead th {\n",
       "        text-align: right;\n",
       "    }\n",
       "</style>\n",
       "<table border=\"1\" class=\"dataframe\">\n",
       "  <thead>\n",
       "    <tr style=\"text-align: right;\">\n",
       "      <th></th>\n",
       "      <th>date</th>\n",
       "      <th>ratio</th>\n",
       "      <th>title</th>\n",
       "    </tr>\n",
       "  </thead>\n",
       "  <tbody>\n",
       "    <tr>\n",
       "      <th>0</th>\n",
       "      <td>2023-01-01</td>\n",
       "      <td>9.80470</td>\n",
       "      <td>JYP</td>\n",
       "    </tr>\n",
       "    <tr>\n",
       "      <th>1</th>\n",
       "      <td>2023-01-02</td>\n",
       "      <td>11.63279</td>\n",
       "      <td>JYP</td>\n",
       "    </tr>\n",
       "    <tr>\n",
       "      <th>2</th>\n",
       "      <td>2023-01-03</td>\n",
       "      <td>11.41989</td>\n",
       "      <td>JYP</td>\n",
       "    </tr>\n",
       "    <tr>\n",
       "      <th>3</th>\n",
       "      <td>2023-01-04</td>\n",
       "      <td>11.24957</td>\n",
       "      <td>JYP</td>\n",
       "    </tr>\n",
       "    <tr>\n",
       "      <th>4</th>\n",
       "      <td>2023-01-05</td>\n",
       "      <td>10.17940</td>\n",
       "      <td>JYP</td>\n",
       "    </tr>\n",
       "  </tbody>\n",
       "</table>\n",
       "</div>"
      ],
      "text/plain": [
       "        date     ratio title\n",
       "0 2023-01-01   9.80470   JYP\n",
       "1 2023-01-02  11.63279   JYP\n",
       "2 2023-01-03  11.41989   JYP\n",
       "3 2023-01-04  11.24957   JYP\n",
       "4 2023-01-05  10.17940   JYP"
      ]
     },
     "execution_count": 3,
     "metadata": {},
     "output_type": "execute_result"
    }
   ],
   "source": [
    "# 변수명 변경\n",
    "naver_jyp.rename(columns={'period': 'date'}, inplace=True)\n",
    "\n",
    "# 변수 형식 변경\n",
    "naver_jyp['date'] = pd.to_datetime(naver_jyp['date'])\n",
    "naver_jyp.head() # 확인 "
   ]
  },
  {
   "cell_type": "markdown",
   "id": "d7609547",
   "metadata": {},
   "source": [
    "## title 변수에 따라 데이터프레임 분할 "
   ]
  },
  {
   "cell_type": "markdown",
   "id": "fb3c9257",
   "metadata": {},
   "source": [
    "- 이 검색량 데이터의 그룹은 5개이다. \n",
    "- 'JYP', 'STRAYKIDS', 'TWICE', 'NMIXX', 'DAY6'"
   ]
  },
  {
   "cell_type": "code",
   "execution_count": 4,
   "id": "a8645aca",
   "metadata": {
    "scrolled": true
   },
   "outputs": [
    {
     "data": {
      "text/plain": [
       "array(['JYP', 'STRAYKIDS', 'TWICE', 'NMIXX', 'DAY6'], dtype=object)"
      ]
     },
     "execution_count": 4,
     "metadata": {},
     "output_type": "execute_result"
    }
   ],
   "source": [
    "naver_jyp['title'].unique()"
   ]
  },
  {
   "cell_type": "code",
   "execution_count": 5,
   "id": "c5f84ec1",
   "metadata": {},
   "outputs": [],
   "source": [
    "df1 = naver_jyp[naver_jyp['title'] == 'JYP']\n",
    "df2 = naver_jyp[naver_jyp['title'] == 'STRAYKIDS']\n",
    "df3 = naver_jyp[naver_jyp['title'] == 'TWICE']\n",
    "df4 = naver_jyp[naver_jyp['title'] == 'NMIXX']\n",
    "df5 = naver_jyp[naver_jyp['title'] == 'DAY6']"
   ]
  },
  {
   "cell_type": "code",
   "execution_count": 6,
   "id": "b91dcc53",
   "metadata": {},
   "outputs": [
    {
     "data": {
      "text/html": [
       "<div>\n",
       "<style scoped>\n",
       "    .dataframe tbody tr th:only-of-type {\n",
       "        vertical-align: middle;\n",
       "    }\n",
       "\n",
       "    .dataframe tbody tr th {\n",
       "        vertical-align: top;\n",
       "    }\n",
       "\n",
       "    .dataframe thead th {\n",
       "        text-align: right;\n",
       "    }\n",
       "</style>\n",
       "<table border=\"1\" class=\"dataframe\">\n",
       "  <thead>\n",
       "    <tr style=\"text-align: right;\">\n",
       "      <th></th>\n",
       "      <th>date</th>\n",
       "      <th>ratio</th>\n",
       "      <th>title</th>\n",
       "    </tr>\n",
       "  </thead>\n",
       "  <tbody>\n",
       "    <tr>\n",
       "      <th>0</th>\n",
       "      <td>2023-01-01</td>\n",
       "      <td>9.80470</td>\n",
       "      <td>JYP</td>\n",
       "    </tr>\n",
       "    <tr>\n",
       "      <th>1</th>\n",
       "      <td>2023-01-02</td>\n",
       "      <td>11.63279</td>\n",
       "      <td>JYP</td>\n",
       "    </tr>\n",
       "    <tr>\n",
       "      <th>2</th>\n",
       "      <td>2023-01-03</td>\n",
       "      <td>11.41989</td>\n",
       "      <td>JYP</td>\n",
       "    </tr>\n",
       "    <tr>\n",
       "      <th>3</th>\n",
       "      <td>2023-01-04</td>\n",
       "      <td>11.24957</td>\n",
       "      <td>JYP</td>\n",
       "    </tr>\n",
       "    <tr>\n",
       "      <th>4</th>\n",
       "      <td>2023-01-05</td>\n",
       "      <td>10.17940</td>\n",
       "      <td>JYP</td>\n",
       "    </tr>\n",
       "  </tbody>\n",
       "</table>\n",
       "</div>"
      ],
      "text/plain": [
       "        date     ratio title\n",
       "0 2023-01-01   9.80470   JYP\n",
       "1 2023-01-02  11.63279   JYP\n",
       "2 2023-01-03  11.41989   JYP\n",
       "3 2023-01-04  11.24957   JYP\n",
       "4 2023-01-05  10.17940   JYP"
      ]
     },
     "execution_count": 6,
     "metadata": {},
     "output_type": "execute_result"
    }
   ],
   "source": [
    "df1.head()"
   ]
  },
  {
   "cell_type": "code",
   "execution_count": 7,
   "id": "b2059d80",
   "metadata": {
    "scrolled": true
   },
   "outputs": [
    {
     "data": {
      "text/html": [
       "<div>\n",
       "<style scoped>\n",
       "    .dataframe tbody tr th:only-of-type {\n",
       "        vertical-align: middle;\n",
       "    }\n",
       "\n",
       "    .dataframe tbody tr th {\n",
       "        vertical-align: top;\n",
       "    }\n",
       "\n",
       "    .dataframe thead th {\n",
       "        text-align: right;\n",
       "    }\n",
       "</style>\n",
       "<table border=\"1\" class=\"dataframe\">\n",
       "  <thead>\n",
       "    <tr style=\"text-align: right;\">\n",
       "      <th></th>\n",
       "      <th>date</th>\n",
       "      <th>ratio</th>\n",
       "      <th>title</th>\n",
       "    </tr>\n",
       "  </thead>\n",
       "  <tbody>\n",
       "    <tr>\n",
       "      <th>181</th>\n",
       "      <td>2023-01-01</td>\n",
       "      <td>76.16384</td>\n",
       "      <td>STRAYKIDS</td>\n",
       "    </tr>\n",
       "    <tr>\n",
       "      <th>182</th>\n",
       "      <td>2023-01-02</td>\n",
       "      <td>25.10503</td>\n",
       "      <td>STRAYKIDS</td>\n",
       "    </tr>\n",
       "    <tr>\n",
       "      <th>183</th>\n",
       "      <td>2023-01-03</td>\n",
       "      <td>20.54047</td>\n",
       "      <td>STRAYKIDS</td>\n",
       "    </tr>\n",
       "    <tr>\n",
       "      <th>184</th>\n",
       "      <td>2023-01-04</td>\n",
       "      <td>19.83365</td>\n",
       "      <td>STRAYKIDS</td>\n",
       "    </tr>\n",
       "    <tr>\n",
       "      <th>185</th>\n",
       "      <td>2023-01-05</td>\n",
       "      <td>21.39491</td>\n",
       "      <td>STRAYKIDS</td>\n",
       "    </tr>\n",
       "  </tbody>\n",
       "</table>\n",
       "</div>"
      ],
      "text/plain": [
       "          date     ratio      title\n",
       "181 2023-01-01  76.16384  STRAYKIDS\n",
       "182 2023-01-02  25.10503  STRAYKIDS\n",
       "183 2023-01-03  20.54047  STRAYKIDS\n",
       "184 2023-01-04  19.83365  STRAYKIDS\n",
       "185 2023-01-05  21.39491  STRAYKIDS"
      ]
     },
     "execution_count": 7,
     "metadata": {},
     "output_type": "execute_result"
    }
   ],
   "source": [
    "df2.head()"
   ]
  },
  {
   "cell_type": "code",
   "execution_count": 8,
   "id": "56c1c5f5",
   "metadata": {},
   "outputs": [],
   "source": [
    "# 인덱스를 0부터 시작하는 정수로 리셋\n",
    "df1.reset_index(drop=True, inplace=True)\n",
    "df2.reset_index(drop=True, inplace=True)\n",
    "df3.reset_index(drop=True, inplace=True)\n",
    "df4.reset_index(drop=True, inplace=True)\n",
    "df5.reset_index(drop=True, inplace=True)"
   ]
  },
  {
   "cell_type": "markdown",
   "id": "442baf7c",
   "metadata": {},
   "source": [
    "## 날짜별 검색량 총합 구하기"
   ]
  },
  {
   "cell_type": "code",
   "execution_count": 9,
   "id": "650c6c80",
   "metadata": {},
   "outputs": [],
   "source": [
    "merged_df = pd.DataFrame()"
   ]
  },
  {
   "cell_type": "code",
   "execution_count": 10,
   "id": "aa134b59",
   "metadata": {},
   "outputs": [],
   "source": [
    "merged_df['date'] = df1['date']"
   ]
  },
  {
   "cell_type": "code",
   "execution_count": 11,
   "id": "0e480bd6",
   "metadata": {},
   "outputs": [],
   "source": [
    "merged_df['ratio_sum'] = df1['ratio']+df2['ratio']+df3['ratio']+df4['ratio']+df5['ratio']"
   ]
  },
  {
   "cell_type": "code",
   "execution_count": 12,
   "id": "d531daa0",
   "metadata": {},
   "outputs": [
    {
     "data": {
      "text/html": [
       "<div>\n",
       "<style scoped>\n",
       "    .dataframe tbody tr th:only-of-type {\n",
       "        vertical-align: middle;\n",
       "    }\n",
       "\n",
       "    .dataframe tbody tr th {\n",
       "        vertical-align: top;\n",
       "    }\n",
       "\n",
       "    .dataframe thead th {\n",
       "        text-align: right;\n",
       "    }\n",
       "</style>\n",
       "<table border=\"1\" class=\"dataframe\">\n",
       "  <thead>\n",
       "    <tr style=\"text-align: right;\">\n",
       "      <th></th>\n",
       "      <th>date</th>\n",
       "      <th>ratio_sum</th>\n",
       "    </tr>\n",
       "  </thead>\n",
       "  <tbody>\n",
       "    <tr>\n",
       "      <th>0</th>\n",
       "      <td>2023-01-01</td>\n",
       "      <td>185.23899</td>\n",
       "    </tr>\n",
       "    <tr>\n",
       "      <th>1</th>\n",
       "      <td>2023-01-02</td>\n",
       "      <td>91.75938</td>\n",
       "    </tr>\n",
       "    <tr>\n",
       "      <th>2</th>\n",
       "      <td>2023-01-03</td>\n",
       "      <td>85.53988</td>\n",
       "    </tr>\n",
       "    <tr>\n",
       "      <th>3</th>\n",
       "      <td>2023-01-04</td>\n",
       "      <td>82.35776</td>\n",
       "    </tr>\n",
       "    <tr>\n",
       "      <th>4</th>\n",
       "      <td>2023-01-05</td>\n",
       "      <td>86.81160</td>\n",
       "    </tr>\n",
       "    <tr>\n",
       "      <th>...</th>\n",
       "      <td>...</td>\n",
       "      <td>...</td>\n",
       "    </tr>\n",
       "    <tr>\n",
       "      <th>176</th>\n",
       "      <td>2023-06-26</td>\n",
       "      <td>86.26091</td>\n",
       "    </tr>\n",
       "    <tr>\n",
       "      <th>177</th>\n",
       "      <td>2023-06-27</td>\n",
       "      <td>88.10603</td>\n",
       "    </tr>\n",
       "    <tr>\n",
       "      <th>178</th>\n",
       "      <td>2023-06-28</td>\n",
       "      <td>95.75902</td>\n",
       "    </tr>\n",
       "    <tr>\n",
       "      <th>179</th>\n",
       "      <td>2023-06-29</td>\n",
       "      <td>90.97308</td>\n",
       "    </tr>\n",
       "    <tr>\n",
       "      <th>180</th>\n",
       "      <td>2023-06-30</td>\n",
       "      <td>93.72655</td>\n",
       "    </tr>\n",
       "  </tbody>\n",
       "</table>\n",
       "<p>181 rows × 2 columns</p>\n",
       "</div>"
      ],
      "text/plain": [
       "          date  ratio_sum\n",
       "0   2023-01-01  185.23899\n",
       "1   2023-01-02   91.75938\n",
       "2   2023-01-03   85.53988\n",
       "3   2023-01-04   82.35776\n",
       "4   2023-01-05   86.81160\n",
       "..         ...        ...\n",
       "176 2023-06-26   86.26091\n",
       "177 2023-06-27   88.10603\n",
       "178 2023-06-28   95.75902\n",
       "179 2023-06-29   90.97308\n",
       "180 2023-06-30   93.72655\n",
       "\n",
       "[181 rows x 2 columns]"
      ]
     },
     "execution_count": 12,
     "metadata": {},
     "output_type": "execute_result"
    }
   ],
   "source": [
    "merged_df"
   ]
  },
  {
   "cell_type": "code",
   "execution_count": 13,
   "id": "610d4fd3",
   "metadata": {},
   "outputs": [],
   "source": [
    "# csv 파일로 저장 \n",
    "merged_df.to_csv('../../../data/Naver/naver_preprocessed_jyp.csv',index = False)"
   ]
  }
 ],
 "metadata": {
  "kernelspec": {
   "display_name": "Python 3 (ipykernel)",
   "language": "python",
   "name": "python3"
  },
  "language_info": {
   "codemirror_mode": {
    "name": "ipython",
    "version": 3
   },
   "file_extension": ".py",
   "mimetype": "text/x-python",
   "name": "python",
   "nbconvert_exporter": "python",
   "pygments_lexer": "ipython3",
   "version": "3.9.12"
  },
  "toc": {
   "base_numbering": 1,
   "nav_menu": {},
   "number_sections": true,
   "sideBar": true,
   "skip_h1_title": false,
   "title_cell": "Table of Contents",
   "title_sidebar": "Contents",
   "toc_cell": false,
   "toc_position": {},
   "toc_section_display": true,
   "toc_window_display": false
  }
 },
 "nbformat": 4,
 "nbformat_minor": 5
}
