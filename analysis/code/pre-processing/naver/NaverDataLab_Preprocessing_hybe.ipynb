{
 "cells": [
  {
   "cell_type": "markdown",
   "id": "acfce990",
   "metadata": {},
   "source": [
    "## 데이터 로드"
   ]
  },
  {
   "cell_type": "code",
   "execution_count": 1,
   "id": "a7860de7",
   "metadata": {},
   "outputs": [],
   "source": [
    "import pandas as pd\n",
    "\n",
    "naver_hybe = pd.read_csv('../../../data/Naver/naver_hybe.csv')"
   ]
  },
  {
   "cell_type": "code",
   "execution_count": 2,
   "id": "df200075",
   "metadata": {
    "scrolled": true
   },
   "outputs": [
    {
     "data": {
      "text/html": [
       "<div>\n",
       "<style scoped>\n",
       "    .dataframe tbody tr th:only-of-type {\n",
       "        vertical-align: middle;\n",
       "    }\n",
       "\n",
       "    .dataframe tbody tr th {\n",
       "        vertical-align: top;\n",
       "    }\n",
       "\n",
       "    .dataframe thead th {\n",
       "        text-align: right;\n",
       "    }\n",
       "</style>\n",
       "<table border=\"1\" class=\"dataframe\">\n",
       "  <thead>\n",
       "    <tr style=\"text-align: right;\">\n",
       "      <th></th>\n",
       "      <th>period</th>\n",
       "      <th>ratio</th>\n",
       "      <th>title</th>\n",
       "    </tr>\n",
       "  </thead>\n",
       "  <tbody>\n",
       "    <tr>\n",
       "      <th>0</th>\n",
       "      <td>2023-01-01</td>\n",
       "      <td>1.83979</td>\n",
       "      <td>HYBE</td>\n",
       "    </tr>\n",
       "    <tr>\n",
       "      <th>1</th>\n",
       "      <td>2023-01-02</td>\n",
       "      <td>3.94693</td>\n",
       "      <td>HYBE</td>\n",
       "    </tr>\n",
       "    <tr>\n",
       "      <th>2</th>\n",
       "      <td>2023-01-03</td>\n",
       "      <td>5.50590</td>\n",
       "      <td>HYBE</td>\n",
       "    </tr>\n",
       "    <tr>\n",
       "      <th>3</th>\n",
       "      <td>2023-01-04</td>\n",
       "      <td>4.28409</td>\n",
       "      <td>HYBE</td>\n",
       "    </tr>\n",
       "    <tr>\n",
       "      <th>4</th>\n",
       "      <td>2023-01-05</td>\n",
       "      <td>3.62391</td>\n",
       "      <td>HYBE</td>\n",
       "    </tr>\n",
       "  </tbody>\n",
       "</table>\n",
       "</div>"
      ],
      "text/plain": [
       "       period    ratio title\n",
       "0  2023-01-01  1.83979  HYBE\n",
       "1  2023-01-02  3.94693  HYBE\n",
       "2  2023-01-03  5.50590  HYBE\n",
       "3  2023-01-04  4.28409  HYBE\n",
       "4  2023-01-05  3.62391  HYBE"
      ]
     },
     "execution_count": 2,
     "metadata": {},
     "output_type": "execute_result"
    }
   ],
   "source": [
    "naver_hybe.head()"
   ]
  },
  {
   "cell_type": "markdown",
   "id": "9150b437",
   "metadata": {},
   "source": [
    "## period 변수 변환\n",
    "- datetime 형식으로 변환 \n",
    "- 변수명 'date'로 변경"
   ]
  },
  {
   "cell_type": "code",
   "execution_count": 3,
   "id": "683ece07",
   "metadata": {
    "scrolled": true
   },
   "outputs": [
    {
     "data": {
      "text/html": [
       "<div>\n",
       "<style scoped>\n",
       "    .dataframe tbody tr th:only-of-type {\n",
       "        vertical-align: middle;\n",
       "    }\n",
       "\n",
       "    .dataframe tbody tr th {\n",
       "        vertical-align: top;\n",
       "    }\n",
       "\n",
       "    .dataframe thead th {\n",
       "        text-align: right;\n",
       "    }\n",
       "</style>\n",
       "<table border=\"1\" class=\"dataframe\">\n",
       "  <thead>\n",
       "    <tr style=\"text-align: right;\">\n",
       "      <th></th>\n",
       "      <th>date</th>\n",
       "      <th>ratio</th>\n",
       "      <th>title</th>\n",
       "    </tr>\n",
       "  </thead>\n",
       "  <tbody>\n",
       "    <tr>\n",
       "      <th>0</th>\n",
       "      <td>2023-01-01</td>\n",
       "      <td>1.83979</td>\n",
       "      <td>HYBE</td>\n",
       "    </tr>\n",
       "    <tr>\n",
       "      <th>1</th>\n",
       "      <td>2023-01-02</td>\n",
       "      <td>3.94693</td>\n",
       "      <td>HYBE</td>\n",
       "    </tr>\n",
       "    <tr>\n",
       "      <th>2</th>\n",
       "      <td>2023-01-03</td>\n",
       "      <td>5.50590</td>\n",
       "      <td>HYBE</td>\n",
       "    </tr>\n",
       "    <tr>\n",
       "      <th>3</th>\n",
       "      <td>2023-01-04</td>\n",
       "      <td>4.28409</td>\n",
       "      <td>HYBE</td>\n",
       "    </tr>\n",
       "    <tr>\n",
       "      <th>4</th>\n",
       "      <td>2023-01-05</td>\n",
       "      <td>3.62391</td>\n",
       "      <td>HYBE</td>\n",
       "    </tr>\n",
       "  </tbody>\n",
       "</table>\n",
       "</div>"
      ],
      "text/plain": [
       "        date    ratio title\n",
       "0 2023-01-01  1.83979  HYBE\n",
       "1 2023-01-02  3.94693  HYBE\n",
       "2 2023-01-03  5.50590  HYBE\n",
       "3 2023-01-04  4.28409  HYBE\n",
       "4 2023-01-05  3.62391  HYBE"
      ]
     },
     "execution_count": 3,
     "metadata": {},
     "output_type": "execute_result"
    }
   ],
   "source": [
    "# 변수명 변경\n",
    "naver_hybe.rename(columns={'period': 'date'}, inplace=True)\n",
    "\n",
    "# 변수 형식 변경\n",
    "naver_hybe['date'] = pd.to_datetime(naver_hybe['date'])\n",
    "naver_hybe.head() # 확인 "
   ]
  },
  {
   "cell_type": "markdown",
   "id": "ab0a9270",
   "metadata": {},
   "source": [
    "## title 변수에 따라 데이터프레임 분할 "
   ]
  },
  {
   "cell_type": "markdown",
   "id": "fa22c09d",
   "metadata": {},
   "source": [
    "- 이 검색량 데이터의 그룹은 5개이다. \n",
    "- 'HYBE', 'NEWJEANS', 'BTS', 'LESSERAFIM', 'SEVENTEEN'"
   ]
  },
  {
   "cell_type": "code",
   "execution_count": 4,
   "id": "e33e41a9",
   "metadata": {
    "scrolled": true
   },
   "outputs": [
    {
     "data": {
      "text/plain": [
       "array(['HYBE', 'NEWJEANS', 'BTS', 'LESSERAFIM', 'SEVENTEEN'], dtype=object)"
      ]
     },
     "execution_count": 4,
     "metadata": {},
     "output_type": "execute_result"
    }
   ],
   "source": [
    "naver_hybe['title'].unique()"
   ]
  },
  {
   "cell_type": "code",
   "execution_count": 5,
   "id": "246ce42a",
   "metadata": {},
   "outputs": [],
   "source": [
    "df1 = naver_hybe[naver_hybe['title'] == 'HYBE']\n",
    "df2 = naver_hybe[naver_hybe['title'] == 'NEWJEANS']\n",
    "df3 = naver_hybe[naver_hybe['title'] == 'BTS']\n",
    "df4 = naver_hybe[naver_hybe['title'] == 'LESSERAFIM']\n",
    "df5 = naver_hybe[naver_hybe['title'] == 'SEVENTEEN']"
   ]
  },
  {
   "cell_type": "code",
   "execution_count": 6,
   "id": "754951da",
   "metadata": {},
   "outputs": [
    {
     "data": {
      "text/html": [
       "<div>\n",
       "<style scoped>\n",
       "    .dataframe tbody tr th:only-of-type {\n",
       "        vertical-align: middle;\n",
       "    }\n",
       "\n",
       "    .dataframe tbody tr th {\n",
       "        vertical-align: top;\n",
       "    }\n",
       "\n",
       "    .dataframe thead th {\n",
       "        text-align: right;\n",
       "    }\n",
       "</style>\n",
       "<table border=\"1\" class=\"dataframe\">\n",
       "  <thead>\n",
       "    <tr style=\"text-align: right;\">\n",
       "      <th></th>\n",
       "      <th>date</th>\n",
       "      <th>ratio</th>\n",
       "      <th>title</th>\n",
       "    </tr>\n",
       "  </thead>\n",
       "  <tbody>\n",
       "    <tr>\n",
       "      <th>0</th>\n",
       "      <td>2023-01-01</td>\n",
       "      <td>1.83979</td>\n",
       "      <td>HYBE</td>\n",
       "    </tr>\n",
       "    <tr>\n",
       "      <th>1</th>\n",
       "      <td>2023-01-02</td>\n",
       "      <td>3.94693</td>\n",
       "      <td>HYBE</td>\n",
       "    </tr>\n",
       "    <tr>\n",
       "      <th>2</th>\n",
       "      <td>2023-01-03</td>\n",
       "      <td>5.50590</td>\n",
       "      <td>HYBE</td>\n",
       "    </tr>\n",
       "    <tr>\n",
       "      <th>3</th>\n",
       "      <td>2023-01-04</td>\n",
       "      <td>4.28409</td>\n",
       "      <td>HYBE</td>\n",
       "    </tr>\n",
       "    <tr>\n",
       "      <th>4</th>\n",
       "      <td>2023-01-05</td>\n",
       "      <td>3.62391</td>\n",
       "      <td>HYBE</td>\n",
       "    </tr>\n",
       "  </tbody>\n",
       "</table>\n",
       "</div>"
      ],
      "text/plain": [
       "        date    ratio title\n",
       "0 2023-01-01  1.83979  HYBE\n",
       "1 2023-01-02  3.94693  HYBE\n",
       "2 2023-01-03  5.50590  HYBE\n",
       "3 2023-01-04  4.28409  HYBE\n",
       "4 2023-01-05  3.62391  HYBE"
      ]
     },
     "execution_count": 6,
     "metadata": {},
     "output_type": "execute_result"
    }
   ],
   "source": [
    "df1.head()"
   ]
  },
  {
   "cell_type": "code",
   "execution_count": 7,
   "id": "a6c120ef",
   "metadata": {},
   "outputs": [],
   "source": [
    "# 인덱스를 0부터 시작하는 정수로 리셋\n",
    "df1.reset_index(drop=True, inplace=True)\n",
    "df2.reset_index(drop=True, inplace=True)\n",
    "df3.reset_index(drop=True, inplace=True)\n",
    "df4.reset_index(drop=True, inplace=True)\n",
    "df5.reset_index(drop=True, inplace=True)"
   ]
  },
  {
   "cell_type": "markdown",
   "id": "c1648cdd",
   "metadata": {},
   "source": [
    "## 날짜별 검색량 총합 구하기"
   ]
  },
  {
   "cell_type": "code",
   "execution_count": 8,
   "id": "dcfd7bdf",
   "metadata": {},
   "outputs": [],
   "source": [
    "merged_df = pd.DataFrame()"
   ]
  },
  {
   "cell_type": "code",
   "execution_count": 9,
   "id": "bb82b7d9",
   "metadata": {},
   "outputs": [],
   "source": [
    "merged_df['date'] = df1['date']"
   ]
  },
  {
   "cell_type": "code",
   "execution_count": 10,
   "id": "6cd75cba",
   "metadata": {},
   "outputs": [],
   "source": [
    "merged_df['ratio_sum'] = df1['ratio']+df2['ratio']+df3['ratio']+df4['ratio']+df5['ratio']"
   ]
  },
  {
   "cell_type": "code",
   "execution_count": 11,
   "id": "c0fab797",
   "metadata": {
    "scrolled": false
   },
   "outputs": [
    {
     "data": {
      "text/html": [
       "<div>\n",
       "<style scoped>\n",
       "    .dataframe tbody tr th:only-of-type {\n",
       "        vertical-align: middle;\n",
       "    }\n",
       "\n",
       "    .dataframe tbody tr th {\n",
       "        vertical-align: top;\n",
       "    }\n",
       "\n",
       "    .dataframe thead th {\n",
       "        text-align: right;\n",
       "    }\n",
       "</style>\n",
       "<table border=\"1\" class=\"dataframe\">\n",
       "  <thead>\n",
       "    <tr style=\"text-align: right;\">\n",
       "      <th></th>\n",
       "      <th>date</th>\n",
       "      <th>ratio_sum</th>\n",
       "    </tr>\n",
       "  </thead>\n",
       "  <tbody>\n",
       "    <tr>\n",
       "      <th>0</th>\n",
       "      <td>2023-01-01</td>\n",
       "      <td>50.67710</td>\n",
       "    </tr>\n",
       "    <tr>\n",
       "      <th>1</th>\n",
       "      <td>2023-01-02</td>\n",
       "      <td>61.60318</td>\n",
       "    </tr>\n",
       "    <tr>\n",
       "      <th>2</th>\n",
       "      <td>2023-01-03</td>\n",
       "      <td>64.10628</td>\n",
       "    </tr>\n",
       "    <tr>\n",
       "      <th>3</th>\n",
       "      <td>2023-01-04</td>\n",
       "      <td>58.39454</td>\n",
       "    </tr>\n",
       "    <tr>\n",
       "      <th>4</th>\n",
       "      <td>2023-01-05</td>\n",
       "      <td>56.27729</td>\n",
       "    </tr>\n",
       "    <tr>\n",
       "      <th>...</th>\n",
       "      <td>...</td>\n",
       "      <td>...</td>\n",
       "    </tr>\n",
       "    <tr>\n",
       "      <th>176</th>\n",
       "      <td>2023-06-26</td>\n",
       "      <td>28.49275</td>\n",
       "    </tr>\n",
       "    <tr>\n",
       "      <th>177</th>\n",
       "      <td>2023-06-27</td>\n",
       "      <td>29.96373</td>\n",
       "    </tr>\n",
       "    <tr>\n",
       "      <th>178</th>\n",
       "      <td>2023-06-28</td>\n",
       "      <td>31.50002</td>\n",
       "    </tr>\n",
       "    <tr>\n",
       "      <th>179</th>\n",
       "      <td>2023-06-29</td>\n",
       "      <td>29.66024</td>\n",
       "    </tr>\n",
       "    <tr>\n",
       "      <th>180</th>\n",
       "      <td>2023-06-30</td>\n",
       "      <td>32.49894</td>\n",
       "    </tr>\n",
       "  </tbody>\n",
       "</table>\n",
       "<p>181 rows × 2 columns</p>\n",
       "</div>"
      ],
      "text/plain": [
       "          date  ratio_sum\n",
       "0   2023-01-01   50.67710\n",
       "1   2023-01-02   61.60318\n",
       "2   2023-01-03   64.10628\n",
       "3   2023-01-04   58.39454\n",
       "4   2023-01-05   56.27729\n",
       "..         ...        ...\n",
       "176 2023-06-26   28.49275\n",
       "177 2023-06-27   29.96373\n",
       "178 2023-06-28   31.50002\n",
       "179 2023-06-29   29.66024\n",
       "180 2023-06-30   32.49894\n",
       "\n",
       "[181 rows x 2 columns]"
      ]
     },
     "execution_count": 11,
     "metadata": {},
     "output_type": "execute_result"
    }
   ],
   "source": [
    "merged_df"
   ]
  },
  {
   "cell_type": "code",
   "execution_count": 12,
   "id": "bff6b03f",
   "metadata": {},
   "outputs": [],
   "source": [
    "# csv 파일로 저장 \n",
    "merged_df.to_csv('../../../data/Naver/naver_preprocessed_hybe.csv',index = False)"
   ]
  }
 ],
 "metadata": {
  "kernelspec": {
   "display_name": "Python 3 (ipykernel)",
   "language": "python",
   "name": "python3"
  },
  "language_info": {
   "codemirror_mode": {
    "name": "ipython",
    "version": 3
   },
   "file_extension": ".py",
   "mimetype": "text/x-python",
   "name": "python",
   "nbconvert_exporter": "python",
   "pygments_lexer": "ipython3",
   "version": "3.9.12"
  },
  "toc": {
   "base_numbering": 1,
   "nav_menu": {},
   "number_sections": true,
   "sideBar": true,
   "skip_h1_title": false,
   "title_cell": "Table of Contents",
   "title_sidebar": "Contents",
   "toc_cell": false,
   "toc_position": {},
   "toc_section_display": true,
   "toc_window_display": false
  }
 },
 "nbformat": 4,
 "nbformat_minor": 5
}
