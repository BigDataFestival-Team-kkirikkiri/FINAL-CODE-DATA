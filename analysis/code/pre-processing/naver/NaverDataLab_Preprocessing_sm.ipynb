{
 "cells": [
  {
   "cell_type": "markdown",
   "id": "03e3a00c",
   "metadata": {},
   "source": [
    "## 데이터 로드"
   ]
  },
  {
   "cell_type": "code",
   "execution_count": 1,
   "id": "9e2ec69f",
   "metadata": {},
   "outputs": [],
   "source": [
    "import pandas as pd\n",
    "\n",
    "naver_sm = pd.read_csv('../../../data/Naver/naver_sm.csv')"
   ]
  },
  {
   "cell_type": "code",
   "execution_count": 2,
   "id": "19a93dce",
   "metadata": {
    "scrolled": false
   },
   "outputs": [
    {
     "data": {
      "text/html": [
       "<div>\n",
       "<style scoped>\n",
       "    .dataframe tbody tr th:only-of-type {\n",
       "        vertical-align: middle;\n",
       "    }\n",
       "\n",
       "    .dataframe tbody tr th {\n",
       "        vertical-align: top;\n",
       "    }\n",
       "\n",
       "    .dataframe thead th {\n",
       "        text-align: right;\n",
       "    }\n",
       "</style>\n",
       "<table border=\"1\" class=\"dataframe\">\n",
       "  <thead>\n",
       "    <tr style=\"text-align: right;\">\n",
       "      <th></th>\n",
       "      <th>period</th>\n",
       "      <th>ratio</th>\n",
       "      <th>title</th>\n",
       "    </tr>\n",
       "  </thead>\n",
       "  <tbody>\n",
       "    <tr>\n",
       "      <th>0</th>\n",
       "      <td>2023-01-01</td>\n",
       "      <td>1.68370</td>\n",
       "      <td>SM</td>\n",
       "    </tr>\n",
       "    <tr>\n",
       "      <th>1</th>\n",
       "      <td>2023-01-02</td>\n",
       "      <td>2.39784</td>\n",
       "      <td>SM</td>\n",
       "    </tr>\n",
       "    <tr>\n",
       "      <th>2</th>\n",
       "      <td>2023-01-03</td>\n",
       "      <td>2.24258</td>\n",
       "      <td>SM</td>\n",
       "    </tr>\n",
       "    <tr>\n",
       "      <th>3</th>\n",
       "      <td>2023-01-04</td>\n",
       "      <td>2.51012</td>\n",
       "      <td>SM</td>\n",
       "    </tr>\n",
       "    <tr>\n",
       "      <th>4</th>\n",
       "      <td>2023-01-05</td>\n",
       "      <td>2.11987</td>\n",
       "      <td>SM</td>\n",
       "    </tr>\n",
       "  </tbody>\n",
       "</table>\n",
       "</div>"
      ],
      "text/plain": [
       "       period    ratio title\n",
       "0  2023-01-01  1.68370    SM\n",
       "1  2023-01-02  2.39784    SM\n",
       "2  2023-01-03  2.24258    SM\n",
       "3  2023-01-04  2.51012    SM\n",
       "4  2023-01-05  2.11987    SM"
      ]
     },
     "execution_count": 2,
     "metadata": {},
     "output_type": "execute_result"
    }
   ],
   "source": [
    "naver_sm.head()"
   ]
  },
  {
   "cell_type": "markdown",
   "id": "cc42bceb",
   "metadata": {},
   "source": [
    "## period 변수 변환\n",
    "- datetime 형식으로 변환 \n",
    "- 변수명 'date'로 변경"
   ]
  },
  {
   "cell_type": "code",
   "execution_count": 3,
   "id": "ee1263d8",
   "metadata": {
    "scrolled": true
   },
   "outputs": [
    {
     "data": {
      "text/html": [
       "<div>\n",
       "<style scoped>\n",
       "    .dataframe tbody tr th:only-of-type {\n",
       "        vertical-align: middle;\n",
       "    }\n",
       "\n",
       "    .dataframe tbody tr th {\n",
       "        vertical-align: top;\n",
       "    }\n",
       "\n",
       "    .dataframe thead th {\n",
       "        text-align: right;\n",
       "    }\n",
       "</style>\n",
       "<table border=\"1\" class=\"dataframe\">\n",
       "  <thead>\n",
       "    <tr style=\"text-align: right;\">\n",
       "      <th></th>\n",
       "      <th>date</th>\n",
       "      <th>ratio</th>\n",
       "      <th>title</th>\n",
       "    </tr>\n",
       "  </thead>\n",
       "  <tbody>\n",
       "    <tr>\n",
       "      <th>0</th>\n",
       "      <td>2023-01-01</td>\n",
       "      <td>1.68370</td>\n",
       "      <td>SM</td>\n",
       "    </tr>\n",
       "    <tr>\n",
       "      <th>1</th>\n",
       "      <td>2023-01-02</td>\n",
       "      <td>2.39784</td>\n",
       "      <td>SM</td>\n",
       "    </tr>\n",
       "    <tr>\n",
       "      <th>2</th>\n",
       "      <td>2023-01-03</td>\n",
       "      <td>2.24258</td>\n",
       "      <td>SM</td>\n",
       "    </tr>\n",
       "    <tr>\n",
       "      <th>3</th>\n",
       "      <td>2023-01-04</td>\n",
       "      <td>2.51012</td>\n",
       "      <td>SM</td>\n",
       "    </tr>\n",
       "    <tr>\n",
       "      <th>4</th>\n",
       "      <td>2023-01-05</td>\n",
       "      <td>2.11987</td>\n",
       "      <td>SM</td>\n",
       "    </tr>\n",
       "  </tbody>\n",
       "</table>\n",
       "</div>"
      ],
      "text/plain": [
       "        date    ratio title\n",
       "0 2023-01-01  1.68370    SM\n",
       "1 2023-01-02  2.39784    SM\n",
       "2 2023-01-03  2.24258    SM\n",
       "3 2023-01-04  2.51012    SM\n",
       "4 2023-01-05  2.11987    SM"
      ]
     },
     "execution_count": 3,
     "metadata": {},
     "output_type": "execute_result"
    }
   ],
   "source": [
    "# 변수명 변경\n",
    "naver_sm.rename(columns={'period': 'date'}, inplace=True)\n",
    "\n",
    "# 변수 형식 변경\n",
    "naver_sm['date'] = pd.to_datetime(naver_sm['date'])\n",
    "naver_sm.head() # 확인 "
   ]
  },
  {
   "cell_type": "markdown",
   "id": "d7609547",
   "metadata": {},
   "source": [
    "## title 변수에 따라 데이터프레임 분할 "
   ]
  },
  {
   "cell_type": "markdown",
   "id": "fb3c9257",
   "metadata": {},
   "source": [
    "- 이 검색량 데이터의 그룹은 5개이다. \n",
    "- 'SM', 'AESPA', 'NCT', 'EXO', 'BOA'"
   ]
  },
  {
   "cell_type": "code",
   "execution_count": 4,
   "id": "a8645aca",
   "metadata": {
    "scrolled": true
   },
   "outputs": [
    {
     "data": {
      "text/plain": [
       "array(['SM', 'AESPA', 'NCT', 'EXO', 'BOA'], dtype=object)"
      ]
     },
     "execution_count": 4,
     "metadata": {},
     "output_type": "execute_result"
    }
   ],
   "source": [
    "naver_sm['title'].unique()"
   ]
  },
  {
   "cell_type": "code",
   "execution_count": 5,
   "id": "c5f84ec1",
   "metadata": {},
   "outputs": [],
   "source": [
    "df1 = naver_sm[naver_sm['title'] == 'SM']\n",
    "df2 = naver_sm[naver_sm['title'] == 'AESPA']\n",
    "df3 = naver_sm[naver_sm['title'] == 'NCT']\n",
    "df4 = naver_sm[naver_sm['title'] == 'EXO']\n",
    "df5 = naver_sm[naver_sm['title'] == 'BOA']"
   ]
  },
  {
   "cell_type": "code",
   "execution_count": 6,
   "id": "b91dcc53",
   "metadata": {},
   "outputs": [
    {
     "data": {
      "text/html": [
       "<div>\n",
       "<style scoped>\n",
       "    .dataframe tbody tr th:only-of-type {\n",
       "        vertical-align: middle;\n",
       "    }\n",
       "\n",
       "    .dataframe tbody tr th {\n",
       "        vertical-align: top;\n",
       "    }\n",
       "\n",
       "    .dataframe thead th {\n",
       "        text-align: right;\n",
       "    }\n",
       "</style>\n",
       "<table border=\"1\" class=\"dataframe\">\n",
       "  <thead>\n",
       "    <tr style=\"text-align: right;\">\n",
       "      <th></th>\n",
       "      <th>date</th>\n",
       "      <th>ratio</th>\n",
       "      <th>title</th>\n",
       "    </tr>\n",
       "  </thead>\n",
       "  <tbody>\n",
       "    <tr>\n",
       "      <th>0</th>\n",
       "      <td>2023-01-01</td>\n",
       "      <td>1.68370</td>\n",
       "      <td>SM</td>\n",
       "    </tr>\n",
       "    <tr>\n",
       "      <th>1</th>\n",
       "      <td>2023-01-02</td>\n",
       "      <td>2.39784</td>\n",
       "      <td>SM</td>\n",
       "    </tr>\n",
       "    <tr>\n",
       "      <th>2</th>\n",
       "      <td>2023-01-03</td>\n",
       "      <td>2.24258</td>\n",
       "      <td>SM</td>\n",
       "    </tr>\n",
       "    <tr>\n",
       "      <th>3</th>\n",
       "      <td>2023-01-04</td>\n",
       "      <td>2.51012</td>\n",
       "      <td>SM</td>\n",
       "    </tr>\n",
       "    <tr>\n",
       "      <th>4</th>\n",
       "      <td>2023-01-05</td>\n",
       "      <td>2.11987</td>\n",
       "      <td>SM</td>\n",
       "    </tr>\n",
       "  </tbody>\n",
       "</table>\n",
       "</div>"
      ],
      "text/plain": [
       "        date    ratio title\n",
       "0 2023-01-01  1.68370    SM\n",
       "1 2023-01-02  2.39784    SM\n",
       "2 2023-01-03  2.24258    SM\n",
       "3 2023-01-04  2.51012    SM\n",
       "4 2023-01-05  2.11987    SM"
      ]
     },
     "execution_count": 6,
     "metadata": {},
     "output_type": "execute_result"
    }
   ],
   "source": [
    "df1.head()"
   ]
  },
  {
   "cell_type": "code",
   "execution_count": 7,
   "id": "b2059d80",
   "metadata": {
    "scrolled": true
   },
   "outputs": [
    {
     "data": {
      "text/html": [
       "<div>\n",
       "<style scoped>\n",
       "    .dataframe tbody tr th:only-of-type {\n",
       "        vertical-align: middle;\n",
       "    }\n",
       "\n",
       "    .dataframe tbody tr th {\n",
       "        vertical-align: top;\n",
       "    }\n",
       "\n",
       "    .dataframe thead th {\n",
       "        text-align: right;\n",
       "    }\n",
       "</style>\n",
       "<table border=\"1\" class=\"dataframe\">\n",
       "  <thead>\n",
       "    <tr style=\"text-align: right;\">\n",
       "      <th></th>\n",
       "      <th>date</th>\n",
       "      <th>ratio</th>\n",
       "      <th>title</th>\n",
       "    </tr>\n",
       "  </thead>\n",
       "  <tbody>\n",
       "    <tr>\n",
       "      <th>181</th>\n",
       "      <td>2023-01-01</td>\n",
       "      <td>6.65344</td>\n",
       "      <td>AESPA</td>\n",
       "    </tr>\n",
       "    <tr>\n",
       "      <th>182</th>\n",
       "      <td>2023-01-02</td>\n",
       "      <td>4.45844</td>\n",
       "      <td>AESPA</td>\n",
       "    </tr>\n",
       "    <tr>\n",
       "      <th>183</th>\n",
       "      <td>2023-01-03</td>\n",
       "      <td>4.34074</td>\n",
       "      <td>AESPA</td>\n",
       "    </tr>\n",
       "    <tr>\n",
       "      <th>184</th>\n",
       "      <td>2023-01-04</td>\n",
       "      <td>4.08113</td>\n",
       "      <td>AESPA</td>\n",
       "    </tr>\n",
       "    <tr>\n",
       "      <th>185</th>\n",
       "      <td>2023-01-05</td>\n",
       "      <td>4.23932</td>\n",
       "      <td>AESPA</td>\n",
       "    </tr>\n",
       "  </tbody>\n",
       "</table>\n",
       "</div>"
      ],
      "text/plain": [
       "          date    ratio  title\n",
       "181 2023-01-01  6.65344  AESPA\n",
       "182 2023-01-02  4.45844  AESPA\n",
       "183 2023-01-03  4.34074  AESPA\n",
       "184 2023-01-04  4.08113  AESPA\n",
       "185 2023-01-05  4.23932  AESPA"
      ]
     },
     "execution_count": 7,
     "metadata": {},
     "output_type": "execute_result"
    }
   ],
   "source": [
    "df2.head()"
   ]
  },
  {
   "cell_type": "code",
   "execution_count": 8,
   "id": "56c1c5f5",
   "metadata": {},
   "outputs": [],
   "source": [
    "# 인덱스를 0부터 시작하는 정수로 리셋\n",
    "df1.reset_index(drop=True, inplace=True)\n",
    "df2.reset_index(drop=True, inplace=True)\n",
    "df3.reset_index(drop=True, inplace=True)\n",
    "df4.reset_index(drop=True, inplace=True)\n",
    "df5.reset_index(drop=True, inplace=True)"
   ]
  },
  {
   "cell_type": "markdown",
   "id": "442baf7c",
   "metadata": {},
   "source": [
    "## 날짜별 검색량 총합 구하기"
   ]
  },
  {
   "cell_type": "code",
   "execution_count": 9,
   "id": "650c6c80",
   "metadata": {},
   "outputs": [],
   "source": [
    "merged_df = pd.DataFrame()"
   ]
  },
  {
   "cell_type": "code",
   "execution_count": 10,
   "id": "aa134b59",
   "metadata": {},
   "outputs": [],
   "source": [
    "merged_df['date'] = df1['date']"
   ]
  },
  {
   "cell_type": "code",
   "execution_count": 11,
   "id": "0e480bd6",
   "metadata": {},
   "outputs": [],
   "source": [
    "merged_df['ratio_sum'] = df1['ratio']+df2['ratio']+df3['ratio']+df4['ratio']+df5['ratio']"
   ]
  },
  {
   "cell_type": "code",
   "execution_count": 12,
   "id": "d531daa0",
   "metadata": {},
   "outputs": [
    {
     "data": {
      "text/html": [
       "<div>\n",
       "<style scoped>\n",
       "    .dataframe tbody tr th:only-of-type {\n",
       "        vertical-align: middle;\n",
       "    }\n",
       "\n",
       "    .dataframe tbody tr th {\n",
       "        vertical-align: top;\n",
       "    }\n",
       "\n",
       "    .dataframe thead th {\n",
       "        text-align: right;\n",
       "    }\n",
       "</style>\n",
       "<table border=\"1\" class=\"dataframe\">\n",
       "  <thead>\n",
       "    <tr style=\"text-align: right;\">\n",
       "      <th></th>\n",
       "      <th>date</th>\n",
       "      <th>ratio_sum</th>\n",
       "    </tr>\n",
       "  </thead>\n",
       "  <tbody>\n",
       "    <tr>\n",
       "      <th>0</th>\n",
       "      <td>2023-01-01</td>\n",
       "      <td>24.96469</td>\n",
       "    </tr>\n",
       "    <tr>\n",
       "      <th>1</th>\n",
       "      <td>2023-01-02</td>\n",
       "      <td>15.04776</td>\n",
       "    </tr>\n",
       "    <tr>\n",
       "      <th>2</th>\n",
       "      <td>2023-01-03</td>\n",
       "      <td>14.15332</td>\n",
       "    </tr>\n",
       "    <tr>\n",
       "      <th>3</th>\n",
       "      <td>2023-01-04</td>\n",
       "      <td>14.04271</td>\n",
       "    </tr>\n",
       "    <tr>\n",
       "      <th>4</th>\n",
       "      <td>2023-01-05</td>\n",
       "      <td>13.70464</td>\n",
       "    </tr>\n",
       "    <tr>\n",
       "      <th>...</th>\n",
       "      <td>...</td>\n",
       "      <td>...</td>\n",
       "    </tr>\n",
       "    <tr>\n",
       "      <th>176</th>\n",
       "      <td>2023-06-26</td>\n",
       "      <td>16.99526</td>\n",
       "    </tr>\n",
       "    <tr>\n",
       "      <th>177</th>\n",
       "      <td>2023-06-27</td>\n",
       "      <td>14.64082</td>\n",
       "    </tr>\n",
       "    <tr>\n",
       "      <th>178</th>\n",
       "      <td>2023-06-28</td>\n",
       "      <td>15.29111</td>\n",
       "    </tr>\n",
       "    <tr>\n",
       "      <th>179</th>\n",
       "      <td>2023-06-29</td>\n",
       "      <td>15.00185</td>\n",
       "    </tr>\n",
       "    <tr>\n",
       "      <th>180</th>\n",
       "      <td>2023-06-30</td>\n",
       "      <td>16.08035</td>\n",
       "    </tr>\n",
       "  </tbody>\n",
       "</table>\n",
       "<p>181 rows × 2 columns</p>\n",
       "</div>"
      ],
      "text/plain": [
       "          date  ratio_sum\n",
       "0   2023-01-01   24.96469\n",
       "1   2023-01-02   15.04776\n",
       "2   2023-01-03   14.15332\n",
       "3   2023-01-04   14.04271\n",
       "4   2023-01-05   13.70464\n",
       "..         ...        ...\n",
       "176 2023-06-26   16.99526\n",
       "177 2023-06-27   14.64082\n",
       "178 2023-06-28   15.29111\n",
       "179 2023-06-29   15.00185\n",
       "180 2023-06-30   16.08035\n",
       "\n",
       "[181 rows x 2 columns]"
      ]
     },
     "execution_count": 12,
     "metadata": {},
     "output_type": "execute_result"
    }
   ],
   "source": [
    "merged_df"
   ]
  },
  {
   "cell_type": "code",
   "execution_count": 13,
   "id": "11077e78",
   "metadata": {},
   "outputs": [],
   "source": [
    "# csv 파일로 저장 \n",
    "merged_df.to_csv('../../../data/Naver/naver_preprocessed_sm.csv',index = False)"
   ]
  }
 ],
 "metadata": {
  "kernelspec": {
   "display_name": "Python 3 (ipykernel)",
   "language": "python",
   "name": "python3"
  },
  "language_info": {
   "codemirror_mode": {
    "name": "ipython",
    "version": 3
   },
   "file_extension": ".py",
   "mimetype": "text/x-python",
   "name": "python",
   "nbconvert_exporter": "python",
   "pygments_lexer": "ipython3",
   "version": "3.9.12"
  },
  "toc": {
   "base_numbering": 1,
   "nav_menu": {},
   "number_sections": true,
   "sideBar": true,
   "skip_h1_title": false,
   "title_cell": "Table of Contents",
   "title_sidebar": "Contents",
   "toc_cell": false,
   "toc_position": {},
   "toc_section_display": true,
   "toc_window_display": false
  }
 },
 "nbformat": 4,
 "nbformat_minor": 5
}
